{
 "cells": [
  {
   "cell_type": "code",
   "execution_count": 11,
   "metadata": {},
   "outputs": [],
   "source": [
    "import pandas as pd\n",
    "import numpy as np\n",
    "\n",
    "import matplotlib.pyplot as plt"
   ]
  },
  {
   "cell_type": "code",
   "execution_count": 12,
   "metadata": {},
   "outputs": [],
   "source": [
    "%matplotlib inline\n",
    "plt.style.use('ggplot')\n",
    "# font = {'weight': 'bold',\n",
    "#         'size':   16}\n",
    "# plt.rc('font', **font)"
   ]
  },
  {
   "cell_type": "code",
   "execution_count": 3,
   "metadata": {},
   "outputs": [],
   "source": [
    "df_courses = pd.read_csv('data/courses.csv')"
   ]
  },
  {
   "cell_type": "code",
   "execution_count": 4,
   "metadata": {},
   "outputs": [],
   "source": [
    "df_assessments = pd.read_csv('data/assessments.csv')"
   ]
  },
  {
   "cell_type": "code",
   "execution_count": 5,
   "metadata": {},
   "outputs": [],
   "source": [
    "df_vle = pd.read_csv('data/vle.csv')"
   ]
  },
  {
   "cell_type": "code",
   "execution_count": 6,
   "metadata": {},
   "outputs": [],
   "source": [
    "df_studentInfo = pd.read_csv('data/studentInfo.csv')"
   ]
  },
  {
   "cell_type": "code",
   "execution_count": 7,
   "metadata": {},
   "outputs": [],
   "source": [
    "df_studentRegistration = pd.read_csv('data/studentRegistration.csv')"
   ]
  },
  {
   "cell_type": "code",
   "execution_count": 8,
   "metadata": {},
   "outputs": [],
   "source": [
    "df_studentAssessment = pd.read_csv('data/studentAssessment.csv')"
   ]
  },
  {
   "cell_type": "code",
   "execution_count": 9,
   "metadata": {},
   "outputs": [],
   "source": [
    "df_studentVle = pd.read_csv('data/studentVle.csv')"
   ]
  },
  {
   "cell_type": "markdown",
   "metadata": {},
   "source": [
    "## Initial Approach\n",
    "Since the schema contains 7 data frames, I want to look into each of them one-by-one to get a better understanding of them to then be able to make hypothesis and generate ideas of what data frame I need to build ahead of any modeling. I also want to hone in on the dependent variable(s) I want to end up creating prediction models for.\n",
    "\n",
    "I've listed each raw Data Frame below and the questions I had after reading the documentation (https://analyse.kmi.open.ac.uk/open_dataset)"
   ]
  },
  {
   "cell_type": "markdown",
   "metadata": {},
   "source": [
    "### 1 - Courses \n",
    "* How many modules are there?\n",
    "* How many presentations per module?\n",
    "* What is the relationship b/w modules and presentations\n",
    "* What the average length of each presentation? Is it unique to the presentation or to the module?\n",
    "* What is the detail behind the CCC, EEE, and GGG modules they mention in the description"
   ]
  },
  {
   "cell_type": "markdown",
   "metadata": {},
   "source": [
    "### 2 - Assessments\n",
    "* How many assessments are there per presentation?\n",
    "* Are there always the same assessments per module?\n",
    "* Does the Date - i.e. number of days from the start of the module-presentation till the final presentation date tell us the length of each module-presentation?\n",
    "* What weights add up to 100% per each module-presentation? Is the Final Exam 100% and then TMA+CMA = 100%?"
   ]
  },
  {
   "cell_type": "markdown",
   "metadata": {},
   "source": [
    "### 3 - VLE\n",
    "* Does the number of total VLE belong to a presentation or to a module?\n",
    "* How many different types of VLEs are there per module-presentation?\n",
    "* What is the **activity type** field contain. Descripton says it's the, \"role associated with the module materials.\""
   ]
  },
  {
   "cell_type": "markdown",
   "metadata": {},
   "source": [
    "### 4 - studentInfo\n",
    "* Do students have multiple rows in this DF depending on each module-presentation they've participated in?\n",
    "* How many Final Scores are there per student?\n",
    "* Is there any correlation between the 6 demographic vars (gender, region, highest_education, imd_band, age_band, disability) and Final Scores?\n",
    "* Is there any correlation b/w the num_previous_attempts and studied_credits and Final Scores?\n",
    "* Could there be any leakage in the data with students who previously took the module-presentation?"
   ]
  },
  {
   "cell_type": "markdown",
   "metadata": {},
   "source": [
    "### 5 - studentRegistration\n",
    "* What is the avg number of days to register per student?\n",
    "* How many students unregistered from a module-presentation?\n",
    "* What is the % of registered/Total Registrations and also unregistered/Total Registrations?"
   ]
  },
  {
   "cell_type": "markdown",
   "metadata": {},
   "source": [
    "### 6 - studentAssessment\n",
    "* How many on-time vs. late submissions are there?\n",
    "* What is the average score split by on-time and late submissions?\n",
    "* What % of assessments are \"banked\" i.e. if the assessment result was transferred from a previous presentation/\n",
    "* What pct is Num Fails (<40 Score) to total Assessments"
   ]
  },
  {
   "cell_type": "markdown",
   "metadata": {},
   "source": [
    "### 7 - studentVle\n",
    "* Can students have multiple rows per a singular Vle due to tracking their interaction with it by day?\n",
    "* How many clicks are there per Student per VLE\n",
    "* How many clicks per student per day are there per VLE\n",
    "* Plot Usage vs. Date"
   ]
  },
  {
   "cell_type": "code",
   "execution_count": null,
   "metadata": {},
   "outputs": [],
   "source": []
  },
  {
   "cell_type": "code",
   "execution_count": null,
   "metadata": {},
   "outputs": [],
   "source": []
  }
 ],
 "metadata": {
  "kernelspec": {
   "display_name": "Python 3",
   "language": "python",
   "name": "python3"
  },
  "language_info": {
   "codemirror_mode": {
    "name": "ipython",
    "version": 3
   },
   "file_extension": ".py",
   "mimetype": "text/x-python",
   "name": "python",
   "nbconvert_exporter": "python",
   "pygments_lexer": "ipython3",
   "version": "3.7.4"
  }
 },
 "nbformat": 4,
 "nbformat_minor": 2
}
