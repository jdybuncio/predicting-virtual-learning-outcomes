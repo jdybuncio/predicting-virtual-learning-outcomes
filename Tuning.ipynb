{
 "cells": [
  {
   "cell_type": "code",
   "execution_count": 1,
   "metadata": {},
   "outputs": [],
   "source": [
    "import pandas as pd\n",
    "import numpy as np\n",
    "import seaborn as sns\n",
    "import matplotlib.pyplot as plt"
   ]
  },
  {
   "cell_type": "code",
   "execution_count": 2,
   "metadata": {},
   "outputs": [],
   "source": [
    "%matplotlib inline\n",
    "plt.style.use('ggplot')"
   ]
  },
  {
   "cell_type": "code",
   "execution_count": 3,
   "metadata": {},
   "outputs": [],
   "source": [
    "from sklearn.linear_model import LogisticRegression\n",
    "from sklearn.model_selection import KFold, train_test_split, cross_val_score, GridSearchCV\n",
    "from sklearn.metrics import accuracy_score, precision_score, recall_score, confusion_matrix, roc_curve, auc, f1_score, roc_auc_score, r2_score\n",
    "from sklearn.ensemble import RandomForestClassifier, GradientBoostingClassifier\n",
    "from pprint import pprint"
   ]
  },
  {
   "cell_type": "code",
   "execution_count": 61,
   "metadata": {},
   "outputs": [],
   "source": [
    "from statsmodels.discrete.discrete_model import Logit\n",
    "from statsmodels.tools import add_constant"
   ]
  },
  {
   "cell_type": "markdown",
   "metadata": {},
   "source": [
    "### Functions"
   ]
  },
  {
   "cell_type": "code",
   "execution_count": 45,
   "metadata": {},
   "outputs": [],
   "source": [
    "def modelfit(classifier, X_train,y_train, performCV=True, printFeatureImportance=True, cv_folds=5):\n",
    "    #Fit the algorithm on the data\n",
    "    classifier.fit(X_train, y_train)\n",
    "        \n",
    "    #Predict training set:\n",
    "    predictions = classifier.predict(X_train)\n",
    "    predprob = classifier.predict_proba(X_train)[:,1]\n",
    "    \n",
    "    #Perform cross-validation:\n",
    "    if performCV:\n",
    "        cv_score = cross_val_score(classifier, X_train, y_train, cv=cv_folds, scoring='roc_auc')\n",
    "    \n",
    "    #Print model report:\n",
    "    print(\"\\nModel Report\")\n",
    "    print(\"Recall (Train) : %.4g\" % recall_score(y_train, predictions))\n",
    "    print(\"AUC Score (Train): %f\" % roc_auc_score(y_train, predprob))\n",
    "    \n",
    "#     print(\"Accuracy (Test) : %.4g\" % metrics.accuracy_score(y_train, predictions))\n",
    "#     print(\"AUC Score (Test): %f\" % metrics.roc_auc_score(y_train, predprob))\n",
    "    \n",
    "    if performCV:\n",
    "        print(\"CV Score : Mean - %.7g | Std - %.7g | Min - %.7g | Max - %.7g\" % (np.mean(cv_score),np.std(cv_score),np.min(cv_score),np.max(cv_score)))\n",
    "        \n",
    "    #Print Feature Importance:\n",
    "    if printFeatureImportance:\n",
    "        feat_imp = pd.Series(classifier.feature_importances_, X_train.columns).sort_values(ascending=False)\n",
    "        feat_imp.plot(kind='bar', title='Feature Importances')\n",
    "        plt.ylabel('Feature Importance Score')"
   ]
  },
  {
   "cell_type": "code",
   "execution_count": 5,
   "metadata": {},
   "outputs": [],
   "source": [
    "def get_scores(classifier, X_train, X_test, y_train, y_test, color = 'navy', **kwargs):\n",
    "    model = classifier(**kwargs)\n",
    "    model.fit(X_train, y_train)\n",
    "    y_predict = model.predict(X_test)\n",
    "    y_predict_train = model.predict(X_train)\n",
    "    y_probas = model.predict_proba(X_test)\n",
    "    \n",
    "    fpr, tpr, thresholds = roc_curve(y_test, y_probas[:,1]) #take probas of positive class\n",
    "    \n",
    "    train_acc = accuracy_score(y_train, y_predict_train)\n",
    "    test_acc = accuracy_score(y_test, y_predict)\n",
    "    pre = precision_score(y_test, y_predict)\n",
    "    re = recall_score(y_test, y_predict)\n",
    "   \n",
    "    roc_auc = auc(fpr, tpr)\n",
    "    \n",
    "    model_name = type(model).__name__\n",
    "    \n",
    "    lw = 2\n",
    "    plt.plot(fpr, tpr, color=color,\n",
    "             lw=lw, label='{0} - AUC = {1:0.2f}'.format(model_name, roc_auc)\n",
    "            )\n",
    "    \n",
    "    plt.plot([0, 1], [0, 1], color='navy', lw=lw, linestyle='--')\n",
    "    plt.xlim([0.0, 1.0])\n",
    "    plt.ylim([0.0, 1.05])\n",
    "    plt.xlabel('False Positive Rate')\n",
    "    plt.ylabel('True Positive Rate')\n",
    "    plt.title('ROC-AUC')\n",
    "    plt.legend(loc=\"lower right\")\n",
    "    plt.show()\n",
    "    \n",
    "     \n",
    "    if model_name == 'RandomForestClassifier':\n",
    "        oob = model.oob_score_\n",
    "        return 'Train Accuracy: {0:0.2f}. Test Accuracy: {1:0.2f}. OOB: {2:0.2f}. Precision: {3:0.2f}. Recall: {4:0.2f}. AUC: {5:0.2f}'.format(train_acc, test_acc, oob, pre, re, roc_auc)    \n",
    "    \n",
    "    else:\n",
    "        return 'Train Accuracy: {0:0.2f}. Test Accuracy: {1:0.2f}. Precision: {2:0.2f}. Recall: {3:0.2f}. AUC: {4:0.2f}'.format(train_acc, test_acc, pre, re, roc_auc)\n",
    "           \n"
   ]
  },
  {
   "cell_type": "code",
   "execution_count": 6,
   "metadata": {},
   "outputs": [],
   "source": [
    "def feature_importance(classifier, X_train, X_test, y_train, y_test, color ='red', **kwargs):\n",
    "    model = classifier(**kwargs)\n",
    "    model.fit(X_train, y_train)\n",
    "    \n",
    "    importances = model.feature_importances_\n",
    "    indices = np.argsort(importances)[::-1]\n",
    "    \n",
    "    cols = []\n",
    "    values = []\n",
    "    for f in range(25):\n",
    "\n",
    "        idx = indices[f]\n",
    "        col = X_train.columns[idx]\n",
    "        value = importances[idx]\n",
    "        cols.append(col)\n",
    "        values.append(value)\n",
    "   \n",
    "    model_name = type(model).__name__\n",
    "\n",
    "    fig, ax = plt.subplots()\n",
    "    y_pos = np.arange(len(cols))\n",
    "    ax.barh(y_pos, values,\n",
    "            color=color, align=\"center\")\n",
    "    ax.set_yticks(y_pos)\n",
    "    ax.set_yticklabels(cols)\n",
    "    ax.invert_yaxis()  # labels read top-to-bottom\n",
    "    ax.set_xlabel('Feature Importance')\n",
    "    ax.set_title('{0} - Top 25 features'.format(model_name))\n",
    "\n",
    "    plt.show()"
   ]
  },
  {
   "cell_type": "code",
   "execution_count": 7,
   "metadata": {},
   "outputs": [],
   "source": [
    "df = pd.read_csv('data/presentation_outcomes_dataset_for_modeling.csv',index_col =0)"
   ]
  },
  {
   "cell_type": "code",
   "execution_count": 8,
   "metadata": {},
   "outputs": [],
   "source": [
    "click_cols = ['all_click_dataplus',\n",
    "'all_click_dualpane',\n",
    "'all_click_externalquiz',\n",
    "'all_click_folder',\n",
    "'all_click_forumng',\n",
    "'all_click_glossary',\n",
    "'all_click_homepage',\n",
    "'all_click_htmlactivity',\n",
    "'all_click_oucollaborate',\n",
    "'all_click_oucontent',\n",
    "'all_click_ouelluminate',\n",
    "'all_click_ouwiki',\n",
    "'all_click_page',\n",
    "'all_click_questionnaire',\n",
    "'all_click_quiz',\n",
    "'all_click_repeatactivity',\n",
    "'all_click_resource',\n",
    "'all_click_sharedsubpage',\n",
    "'all_click_subpage',\n",
    "'all_click_url',\n",
    "'all_click_total_num_vle_actions']\n",
    "              "
   ]
  },
  {
   "cell_type": "code",
   "execution_count": 9,
   "metadata": {},
   "outputs": [],
   "source": [
    "df = df.drop(click_cols,axis = 1)"
   ]
  },
  {
   "cell_type": "code",
   "execution_count": null,
   "metadata": {},
   "outputs": [],
   "source": []
  },
  {
   "cell_type": "code",
   "execution_count": 10,
   "metadata": {},
   "outputs": [],
   "source": [
    "str_cols = '''early_days_dataplus\n",
    "early_days_dualpane\n",
    "early_days_externalquiz\n",
    "early_days_forumng\n",
    "early_days_glossary\n",
    "early_days_homepage\n",
    "early_days_htmlactivity\n",
    "early_days_oucollaborate\n",
    "early_days_oucontent\n",
    "early_days_ouelluminate\n",
    "early_days_ouwiki\n",
    "early_days_page\n",
    "early_days_questionnaire\n",
    "early_days_quiz\n",
    "early_days_resource\n",
    "early_days_sharedsubpage\n",
    "early_days_subpage\n",
    "early_days_url\n",
    "early_days_total_num_vle_days\n",
    "early_click_dataplus\n",
    "early_click_dualpane\n",
    "early_click_externalquiz\n",
    "early_click_forumng\n",
    "early_click_glossary\n",
    "early_click_homepage\n",
    "early_click_htmlactivity\n",
    "early_click_oucollaborate\n",
    "early_click_oucontent\n",
    "early_click_ouelluminate\n",
    "early_click_ouwiki\n",
    "early_click_page\n",
    "early_click_questionnaire\n",
    "early_click_quiz\n",
    "early_click_resource\n",
    "early_click_sharedsubpage\n",
    "early_click_subpage\n",
    "early_click_url\n",
    "early_click_total_num_vle_actions\n",
    "'''\n",
    "str_cols = str_cols.split('\\n')\n",
    "str_cols.remove('')"
   ]
  },
  {
   "cell_type": "code",
   "execution_count": 220,
   "metadata": {},
   "outputs": [
    {
     "data": {
      "text/plain": [
       "['early_days_dataplus',\n",
       " 'early_days_dualpane',\n",
       " 'early_days_externalquiz',\n",
       " 'early_days_forumng',\n",
       " 'early_days_glossary',\n",
       " 'early_days_homepage',\n",
       " 'early_days_htmlactivity',\n",
       " 'early_days_oucollaborate',\n",
       " 'early_days_oucontent',\n",
       " 'early_days_ouelluminate',\n",
       " 'early_days_ouwiki',\n",
       " 'early_days_page',\n",
       " 'early_days_questionnaire',\n",
       " 'early_days_quiz',\n",
       " 'early_days_resource',\n",
       " 'early_days_sharedsubpage',\n",
       " 'early_days_subpage',\n",
       " 'early_days_url',\n",
       " 'early_days_total_num_vle_days',\n",
       " 'early_click_dataplus',\n",
       " 'early_click_dualpane',\n",
       " 'early_click_externalquiz',\n",
       " 'early_click_forumng',\n",
       " 'early_click_glossary',\n",
       " 'early_click_homepage',\n",
       " 'early_click_htmlactivity',\n",
       " 'early_click_oucollaborate',\n",
       " 'early_click_oucontent',\n",
       " 'early_click_ouelluminate',\n",
       " 'early_click_ouwiki',\n",
       " 'early_click_page',\n",
       " 'early_click_questionnaire',\n",
       " 'early_click_quiz',\n",
       " 'early_click_resource',\n",
       " 'early_click_sharedsubpage',\n",
       " 'early_click_subpage',\n",
       " 'early_click_url',\n",
       " 'early_click_total_num_vle_actions']"
      ]
     },
     "execution_count": 220,
     "metadata": {},
     "output_type": "execute_result"
    }
   ],
   "source": [
    "str_cols"
   ]
  },
  {
   "cell_type": "code",
   "execution_count": 11,
   "metadata": {},
   "outputs": [],
   "source": [
    "df_no_w = df.drop(str_cols,axis = 1)"
   ]
  },
  {
   "cell_type": "markdown",
   "metadata": {},
   "source": [
    "# Modeling - Predicting for students who are registered as of Day 0"
   ]
  },
  {
   "cell_type": "code",
   "execution_count": 12,
   "metadata": {},
   "outputs": [],
   "source": [
    "df_no_w = df_no_w[(df_no_w.date_unregistration>=0) | (df_no_w.date_unregistration.isna())]"
   ]
  },
  {
   "cell_type": "markdown",
   "metadata": {},
   "source": [
    "### Train Test Split - use aggressive amount for Test since sample size is >30k"
   ]
  },
  {
   "cell_type": "code",
   "execution_count": 13,
   "metadata": {},
   "outputs": [
    {
     "data": {
      "text/plain": [
       "(29915, 81)"
      ]
     },
     "execution_count": 13,
     "metadata": {},
     "output_type": "execute_result"
    }
   ],
   "source": [
    "df_no_w.shape"
   ]
  },
  {
   "cell_type": "code",
   "execution_count": 14,
   "metadata": {},
   "outputs": [],
   "source": [
    "df_no_w = df_no_w.drop(['final_result', 'code_module', 'code_presentation', 'id_student', 'courses_date_time'], axis = 1)"
   ]
  },
  {
   "cell_type": "code",
   "execution_count": 15,
   "metadata": {},
   "outputs": [
    {
     "data": {
      "text/html": [
       "<div>\n",
       "<style scoped>\n",
       "    .dataframe tbody tr th:only-of-type {\n",
       "        vertical-align: middle;\n",
       "    }\n",
       "\n",
       "    .dataframe tbody tr th {\n",
       "        vertical-align: top;\n",
       "    }\n",
       "\n",
       "    .dataframe thead th {\n",
       "        text-align: right;\n",
       "    }\n",
       "</style>\n",
       "<table border=\"1\" class=\"dataframe\">\n",
       "  <thead>\n",
       "    <tr style=\"text-align: right;\">\n",
       "      <th></th>\n",
       "      <th>gender</th>\n",
       "      <th>region</th>\n",
       "      <th>highest_education</th>\n",
       "      <th>imd_band</th>\n",
       "      <th>age_band</th>\n",
       "      <th>num_of_prev_attempts</th>\n",
       "      <th>studied_credits</th>\n",
       "      <th>disability</th>\n",
       "      <th>module_presentation</th>\n",
       "      <th>final_result_edit</th>\n",
       "      <th>...</th>\n",
       "      <th>before_days_ouelluminate</th>\n",
       "      <th>before_days_ouwiki</th>\n",
       "      <th>before_days_page</th>\n",
       "      <th>before_days_questionnaire</th>\n",
       "      <th>before_days_quiz</th>\n",
       "      <th>before_days_resource</th>\n",
       "      <th>before_days_sharedsubpage</th>\n",
       "      <th>before_days_subpage</th>\n",
       "      <th>before_days_url</th>\n",
       "      <th>before_days_total_num_vle_days</th>\n",
       "    </tr>\n",
       "  </thead>\n",
       "  <tbody>\n",
       "    <tr>\n",
       "      <td>0</td>\n",
       "      <td>M</td>\n",
       "      <td>East Anglian Region</td>\n",
       "      <td>HE Qualification</td>\n",
       "      <td>90-100%</td>\n",
       "      <td>55&lt;=</td>\n",
       "      <td>0</td>\n",
       "      <td>240</td>\n",
       "      <td>N</td>\n",
       "      <td>AAA-2013J</td>\n",
       "      <td>Pass</td>\n",
       "      <td>...</td>\n",
       "      <td>0.0</td>\n",
       "      <td>0.0</td>\n",
       "      <td>0.0</td>\n",
       "      <td>0.0</td>\n",
       "      <td>0.0</td>\n",
       "      <td>0.0</td>\n",
       "      <td>0.0</td>\n",
       "      <td>1.0</td>\n",
       "      <td>0.0</td>\n",
       "      <td>10.0</td>\n",
       "    </tr>\n",
       "    <tr>\n",
       "      <td>1</td>\n",
       "      <td>F</td>\n",
       "      <td>Scotland</td>\n",
       "      <td>HE Qualification</td>\n",
       "      <td>20-30%</td>\n",
       "      <td>35-55</td>\n",
       "      <td>0</td>\n",
       "      <td>60</td>\n",
       "      <td>N</td>\n",
       "      <td>AAA-2013J</td>\n",
       "      <td>Pass</td>\n",
       "      <td>...</td>\n",
       "      <td>0.0</td>\n",
       "      <td>0.0</td>\n",
       "      <td>0.0</td>\n",
       "      <td>0.0</td>\n",
       "      <td>0.0</td>\n",
       "      <td>5.0</td>\n",
       "      <td>0.0</td>\n",
       "      <td>9.0</td>\n",
       "      <td>5.0</td>\n",
       "      <td>44.0</td>\n",
       "    </tr>\n",
       "    <tr>\n",
       "      <td>2</td>\n",
       "      <td>F</td>\n",
       "      <td>North Western Region</td>\n",
       "      <td>A Level or Equivalent</td>\n",
       "      <td>30-40%</td>\n",
       "      <td>35-55</td>\n",
       "      <td>0</td>\n",
       "      <td>60</td>\n",
       "      <td>Y</td>\n",
       "      <td>AAA-2013J</td>\n",
       "      <td>Fail</td>\n",
       "      <td>...</td>\n",
       "      <td>0.0</td>\n",
       "      <td>0.0</td>\n",
       "      <td>0.0</td>\n",
       "      <td>0.0</td>\n",
       "      <td>0.0</td>\n",
       "      <td>4.0</td>\n",
       "      <td>0.0</td>\n",
       "      <td>6.0</td>\n",
       "      <td>1.0</td>\n",
       "      <td>29.0</td>\n",
       "    </tr>\n",
       "    <tr>\n",
       "      <td>3</td>\n",
       "      <td>F</td>\n",
       "      <td>South East Region</td>\n",
       "      <td>A Level or Equivalent</td>\n",
       "      <td>50-60%</td>\n",
       "      <td>35-55</td>\n",
       "      <td>0</td>\n",
       "      <td>60</td>\n",
       "      <td>N</td>\n",
       "      <td>AAA-2013J</td>\n",
       "      <td>Pass</td>\n",
       "      <td>...</td>\n",
       "      <td>0.0</td>\n",
       "      <td>0.0</td>\n",
       "      <td>0.0</td>\n",
       "      <td>0.0</td>\n",
       "      <td>0.0</td>\n",
       "      <td>5.0</td>\n",
       "      <td>0.0</td>\n",
       "      <td>6.0</td>\n",
       "      <td>3.0</td>\n",
       "      <td>33.0</td>\n",
       "    </tr>\n",
       "    <tr>\n",
       "      <td>4</td>\n",
       "      <td>F</td>\n",
       "      <td>West Midlands Region</td>\n",
       "      <td>Lower Than A Level</td>\n",
       "      <td>50-60%</td>\n",
       "      <td>0-35</td>\n",
       "      <td>0</td>\n",
       "      <td>60</td>\n",
       "      <td>N</td>\n",
       "      <td>AAA-2013J</td>\n",
       "      <td>Pass</td>\n",
       "      <td>...</td>\n",
       "      <td>0.0</td>\n",
       "      <td>0.0</td>\n",
       "      <td>0.0</td>\n",
       "      <td>0.0</td>\n",
       "      <td>0.0</td>\n",
       "      <td>7.0</td>\n",
       "      <td>0.0</td>\n",
       "      <td>10.0</td>\n",
       "      <td>2.0</td>\n",
       "      <td>58.0</td>\n",
       "    </tr>\n",
       "    <tr>\n",
       "      <td>...</td>\n",
       "      <td>...</td>\n",
       "      <td>...</td>\n",
       "      <td>...</td>\n",
       "      <td>...</td>\n",
       "      <td>...</td>\n",
       "      <td>...</td>\n",
       "      <td>...</td>\n",
       "      <td>...</td>\n",
       "      <td>...</td>\n",
       "      <td>...</td>\n",
       "      <td>...</td>\n",
       "      <td>...</td>\n",
       "      <td>...</td>\n",
       "      <td>...</td>\n",
       "      <td>...</td>\n",
       "      <td>...</td>\n",
       "      <td>...</td>\n",
       "      <td>...</td>\n",
       "      <td>...</td>\n",
       "      <td>...</td>\n",
       "      <td>...</td>\n",
       "    </tr>\n",
       "    <tr>\n",
       "      <td>32588</td>\n",
       "      <td>F</td>\n",
       "      <td>Wales</td>\n",
       "      <td>Lower Than A Level</td>\n",
       "      <td>10-20</td>\n",
       "      <td>0-35</td>\n",
       "      <td>0</td>\n",
       "      <td>30</td>\n",
       "      <td>N</td>\n",
       "      <td>GGG-2014J</td>\n",
       "      <td>Fail</td>\n",
       "      <td>...</td>\n",
       "      <td>0.0</td>\n",
       "      <td>0.0</td>\n",
       "      <td>0.0</td>\n",
       "      <td>0.0</td>\n",
       "      <td>0.0</td>\n",
       "      <td>0.0</td>\n",
       "      <td>0.0</td>\n",
       "      <td>0.0</td>\n",
       "      <td>0.0</td>\n",
       "      <td>1.0</td>\n",
       "    </tr>\n",
       "    <tr>\n",
       "      <td>32589</td>\n",
       "      <td>F</td>\n",
       "      <td>East Anglian Region</td>\n",
       "      <td>Lower Than A Level</td>\n",
       "      <td>40-50%</td>\n",
       "      <td>35-55</td>\n",
       "      <td>0</td>\n",
       "      <td>30</td>\n",
       "      <td>N</td>\n",
       "      <td>GGG-2014J</td>\n",
       "      <td>Pass</td>\n",
       "      <td>...</td>\n",
       "      <td>NaN</td>\n",
       "      <td>NaN</td>\n",
       "      <td>NaN</td>\n",
       "      <td>NaN</td>\n",
       "      <td>NaN</td>\n",
       "      <td>NaN</td>\n",
       "      <td>NaN</td>\n",
       "      <td>NaN</td>\n",
       "      <td>NaN</td>\n",
       "      <td>NaN</td>\n",
       "    </tr>\n",
       "    <tr>\n",
       "      <td>32590</td>\n",
       "      <td>F</td>\n",
       "      <td>South Region</td>\n",
       "      <td>A Level or Equivalent</td>\n",
       "      <td>20-30%</td>\n",
       "      <td>0-35</td>\n",
       "      <td>0</td>\n",
       "      <td>30</td>\n",
       "      <td>Y</td>\n",
       "      <td>GGG-2014J</td>\n",
       "      <td>Pass</td>\n",
       "      <td>...</td>\n",
       "      <td>0.0</td>\n",
       "      <td>0.0</td>\n",
       "      <td>0.0</td>\n",
       "      <td>0.0</td>\n",
       "      <td>1.0</td>\n",
       "      <td>3.0</td>\n",
       "      <td>0.0</td>\n",
       "      <td>1.0</td>\n",
       "      <td>0.0</td>\n",
       "      <td>7.0</td>\n",
       "    </tr>\n",
       "    <tr>\n",
       "      <td>32591</td>\n",
       "      <td>F</td>\n",
       "      <td>South East Region</td>\n",
       "      <td>Lower Than A Level</td>\n",
       "      <td>90-100%</td>\n",
       "      <td>35-55</td>\n",
       "      <td>0</td>\n",
       "      <td>30</td>\n",
       "      <td>N</td>\n",
       "      <td>GGG-2014J</td>\n",
       "      <td>Fail</td>\n",
       "      <td>...</td>\n",
       "      <td>0.0</td>\n",
       "      <td>0.0</td>\n",
       "      <td>0.0</td>\n",
       "      <td>0.0</td>\n",
       "      <td>0.0</td>\n",
       "      <td>7.0</td>\n",
       "      <td>0.0</td>\n",
       "      <td>2.0</td>\n",
       "      <td>0.0</td>\n",
       "      <td>17.0</td>\n",
       "    </tr>\n",
       "    <tr>\n",
       "      <td>32592</td>\n",
       "      <td>F</td>\n",
       "      <td>Yorkshire Region</td>\n",
       "      <td>HE Qualification</td>\n",
       "      <td>50-60%</td>\n",
       "      <td>35-55</td>\n",
       "      <td>0</td>\n",
       "      <td>30</td>\n",
       "      <td>N</td>\n",
       "      <td>GGG-2014J</td>\n",
       "      <td>Pass</td>\n",
       "      <td>...</td>\n",
       "      <td>0.0</td>\n",
       "      <td>0.0</td>\n",
       "      <td>0.0</td>\n",
       "      <td>0.0</td>\n",
       "      <td>1.0</td>\n",
       "      <td>4.0</td>\n",
       "      <td>0.0</td>\n",
       "      <td>4.0</td>\n",
       "      <td>0.0</td>\n",
       "      <td>30.0</td>\n",
       "    </tr>\n",
       "  </tbody>\n",
       "</table>\n",
       "<p>29915 rows × 76 columns</p>\n",
       "</div>"
      ],
      "text/plain": [
       "      gender                region      highest_education imd_band age_band  \\\n",
       "0          M   East Anglian Region       HE Qualification  90-100%     55<=   \n",
       "1          F              Scotland       HE Qualification   20-30%    35-55   \n",
       "2          F  North Western Region  A Level or Equivalent   30-40%    35-55   \n",
       "3          F     South East Region  A Level or Equivalent   50-60%    35-55   \n",
       "4          F  West Midlands Region     Lower Than A Level   50-60%     0-35   \n",
       "...      ...                   ...                    ...      ...      ...   \n",
       "32588      F                 Wales     Lower Than A Level    10-20     0-35   \n",
       "32589      F   East Anglian Region     Lower Than A Level   40-50%    35-55   \n",
       "32590      F          South Region  A Level or Equivalent   20-30%     0-35   \n",
       "32591      F     South East Region     Lower Than A Level  90-100%    35-55   \n",
       "32592      F      Yorkshire Region       HE Qualification   50-60%    35-55   \n",
       "\n",
       "       num_of_prev_attempts  studied_credits disability module_presentation  \\\n",
       "0                         0              240          N           AAA-2013J   \n",
       "1                         0               60          N           AAA-2013J   \n",
       "2                         0               60          Y           AAA-2013J   \n",
       "3                         0               60          N           AAA-2013J   \n",
       "4                         0               60          N           AAA-2013J   \n",
       "...                     ...              ...        ...                 ...   \n",
       "32588                     0               30          N           GGG-2014J   \n",
       "32589                     0               30          N           GGG-2014J   \n",
       "32590                     0               30          Y           GGG-2014J   \n",
       "32591                     0               30          N           GGG-2014J   \n",
       "32592                     0               30          N           GGG-2014J   \n",
       "\n",
       "      final_result_edit  ...  before_days_ouelluminate  before_days_ouwiki  \\\n",
       "0                  Pass  ...                       0.0                 0.0   \n",
       "1                  Pass  ...                       0.0                 0.0   \n",
       "2                  Fail  ...                       0.0                 0.0   \n",
       "3                  Pass  ...                       0.0                 0.0   \n",
       "4                  Pass  ...                       0.0                 0.0   \n",
       "...                 ...  ...                       ...                 ...   \n",
       "32588              Fail  ...                       0.0                 0.0   \n",
       "32589              Pass  ...                       NaN                 NaN   \n",
       "32590              Pass  ...                       0.0                 0.0   \n",
       "32591              Fail  ...                       0.0                 0.0   \n",
       "32592              Pass  ...                       0.0                 0.0   \n",
       "\n",
       "       before_days_page  before_days_questionnaire  before_days_quiz  \\\n",
       "0                   0.0                        0.0               0.0   \n",
       "1                   0.0                        0.0               0.0   \n",
       "2                   0.0                        0.0               0.0   \n",
       "3                   0.0                        0.0               0.0   \n",
       "4                   0.0                        0.0               0.0   \n",
       "...                 ...                        ...               ...   \n",
       "32588               0.0                        0.0               0.0   \n",
       "32589               NaN                        NaN               NaN   \n",
       "32590               0.0                        0.0               1.0   \n",
       "32591               0.0                        0.0               0.0   \n",
       "32592               0.0                        0.0               1.0   \n",
       "\n",
       "       before_days_resource  before_days_sharedsubpage  before_days_subpage  \\\n",
       "0                       0.0                        0.0                  1.0   \n",
       "1                       5.0                        0.0                  9.0   \n",
       "2                       4.0                        0.0                  6.0   \n",
       "3                       5.0                        0.0                  6.0   \n",
       "4                       7.0                        0.0                 10.0   \n",
       "...                     ...                        ...                  ...   \n",
       "32588                   0.0                        0.0                  0.0   \n",
       "32589                   NaN                        NaN                  NaN   \n",
       "32590                   3.0                        0.0                  1.0   \n",
       "32591                   7.0                        0.0                  2.0   \n",
       "32592                   4.0                        0.0                  4.0   \n",
       "\n",
       "       before_days_url  before_days_total_num_vle_days  \n",
       "0                  0.0                            10.0  \n",
       "1                  5.0                            44.0  \n",
       "2                  1.0                            29.0  \n",
       "3                  3.0                            33.0  \n",
       "4                  2.0                            58.0  \n",
       "...                ...                             ...  \n",
       "32588              0.0                             1.0  \n",
       "32589              NaN                             NaN  \n",
       "32590              0.0                             7.0  \n",
       "32591              0.0                            17.0  \n",
       "32592              0.0                            30.0  \n",
       "\n",
       "[29915 rows x 76 columns]"
      ]
     },
     "execution_count": 15,
     "metadata": {},
     "output_type": "execute_result"
    }
   ],
   "source": [
    "df_no_w"
   ]
  },
  {
   "cell_type": "code",
   "execution_count": 16,
   "metadata": {},
   "outputs": [
    {
     "data": {
      "text/plain": [
       "array(['55<=', '35-55', '0-35'], dtype=object)"
      ]
     },
     "execution_count": 16,
     "metadata": {},
     "output_type": "execute_result"
    }
   ],
   "source": [
    "df_no_w.age_band.unique()"
   ]
  },
  {
   "cell_type": "code",
   "execution_count": 17,
   "metadata": {},
   "outputs": [],
   "source": [
    "df_no_w[\"highest_education\"] = df_no_w[\"highest_education\"].map({np.nan: 0, 'No Formal quals': 1, \"Lower Than A Level\": 2,\n",
    "                                                            \"A Level or Equivalent\": 3, 'HE Qualification': 4, 'Post Graduate Qualification': 5}).astype(int)"
   ]
  },
  {
   "cell_type": "code",
   "execution_count": 18,
   "metadata": {},
   "outputs": [],
   "source": [
    "df_no_w[\"imd_band\"] = df_no_w[\"imd_band\"].map({'0': 0, '0-10%': 1, '10-20': 2,\n",
    "                                            '20-30%': 3, '30-40%': 4, '40-50%': 5,\n",
    "                                            '50-60%': 6, '60-70%': 7, '70-80%': 8,\n",
    "                                            '80-90%': 9, '90-100%': 10\n",
    "                                              }).astype(int)"
   ]
  },
  {
   "cell_type": "code",
   "execution_count": 19,
   "metadata": {},
   "outputs": [],
   "source": [
    "df_no_w[\"age_band\"] = df_no_w[\"age_band\"].map({'0-35': 0, '35-55': 1, '55<=': 2\n",
    "                                              }).astype(int)"
   ]
  },
  {
   "cell_type": "code",
   "execution_count": 20,
   "metadata": {},
   "outputs": [],
   "source": [
    "df_no_w[\"disability\"]= df_no_w[\"disability\"].map({'Y': 1, 'N': 0\n",
    "                                              }).astype(int)"
   ]
  },
  {
   "cell_type": "code",
   "execution_count": 21,
   "metadata": {},
   "outputs": [],
   "source": [
    "df_no_w[\"gender\"]= df_no_w[\"gender\"].map({'M': 1, 'F': 0\n",
    "                                              }).astype(int)"
   ]
  },
  {
   "cell_type": "code",
   "execution_count": 22,
   "metadata": {},
   "outputs": [],
   "source": [
    "df_no_w[\"final_result_edit\"]= df_no_w[\"final_result_edit\"].map({'Fail': 1, 'Pass': 0\n",
    "                                              }).astype(int)"
   ]
  },
  {
   "cell_type": "code",
   "execution_count": 23,
   "metadata": {},
   "outputs": [],
   "source": [
    "df_no_w.rename(columns = {'final_result_edit' : 'fail_flag'}, inplace = True)"
   ]
  },
  {
   "cell_type": "code",
   "execution_count": 24,
   "metadata": {},
   "outputs": [
    {
     "name": "stdout",
     "output_type": "stream",
     "text": [
      "<class 'pandas.core.frame.DataFrame'>\n",
      "Int64Index: 29915 entries, 0 to 32592\n",
      "Data columns (total 76 columns):\n",
      "gender                                29915 non-null int64\n",
      "region                                29915 non-null object\n",
      "highest_education                     29915 non-null int64\n",
      "imd_band                              29915 non-null int64\n",
      "age_band                              29915 non-null int64\n",
      "num_of_prev_attempts                  29915 non-null int64\n",
      "studied_credits                       29915 non-null int64\n",
      "disability                            29915 non-null int64\n",
      "module_presentation                   29915 non-null object\n",
      "fail_flag                             29915 non-null int64\n",
      "courses_module_presentation_length    29915 non-null int64\n",
      "num_assessments                       29915 non-null int64\n",
      "num_tma_assessments                   29915 non-null int64\n",
      "num_cma_assessments                   29915 non-null int64\n",
      "num_exam_assessments                  29915 non-null int64\n",
      "vle_dataplus                          29915 non-null float64\n",
      "vle_dualpane                          29915 non-null float64\n",
      "vle_externalquiz                      29915 non-null float64\n",
      "vle_folder                            29915 non-null float64\n",
      "vle_forumng                           29915 non-null float64\n",
      "vle_glossary                          29915 non-null float64\n",
      "vle_homepage                          29915 non-null float64\n",
      "vle_htmlactivity                      29915 non-null float64\n",
      "vle_oucollaborate                     29915 non-null float64\n",
      "vle_oucontent                         29915 non-null float64\n",
      "vle_ouelluminate                      29915 non-null float64\n",
      "vle_ouwiki                            29915 non-null float64\n",
      "vle_page                              29915 non-null float64\n",
      "vle_questionnaire                     29915 non-null float64\n",
      "vle_quiz                              29915 non-null float64\n",
      "vle_repeatactivity                    29915 non-null float64\n",
      "vle_resource                          29915 non-null float64\n",
      "vle_sharedsubpage                     29915 non-null float64\n",
      "vle_subpage                           29915 non-null float64\n",
      "vle_url                               29915 non-null float64\n",
      "vle_total_num_vle                     29915 non-null float64\n",
      "date_registration                     29905 non-null float64\n",
      "date_unregistration                   7394 non-null float64\n",
      "before_click_dataplus                 19387 non-null float64\n",
      "before_click_dualpane                 19387 non-null float64\n",
      "before_click_externalquiz             19387 non-null float64\n",
      "before_click_forumng                  19387 non-null float64\n",
      "before_click_glossary                 19387 non-null float64\n",
      "before_click_homepage                 19387 non-null float64\n",
      "before_click_htmlactivity             19387 non-null float64\n",
      "before_click_oucollaborate            19387 non-null float64\n",
      "before_click_oucontent                19387 non-null float64\n",
      "before_click_ouelluminate             19387 non-null float64\n",
      "before_click_ouwiki                   19387 non-null float64\n",
      "before_click_page                     19387 non-null float64\n",
      "before_click_questionnaire            19387 non-null float64\n",
      "before_click_quiz                     19387 non-null float64\n",
      "before_click_resource                 19387 non-null float64\n",
      "before_click_sharedsubpage            19387 non-null float64\n",
      "before_click_subpage                  19387 non-null float64\n",
      "before_click_url                      19387 non-null float64\n",
      "before_click_total_num_vle_actions    19387 non-null float64\n",
      "before_days_dataplus                  23370 non-null float64\n",
      "before_days_dualpane                  23370 non-null float64\n",
      "before_days_externalquiz              23370 non-null float64\n",
      "before_days_forumng                   23370 non-null float64\n",
      "before_days_glossary                  23370 non-null float64\n",
      "before_days_homepage                  23370 non-null float64\n",
      "before_days_htmlactivity              23370 non-null float64\n",
      "before_days_oucollaborate             23370 non-null float64\n",
      "before_days_oucontent                 23370 non-null float64\n",
      "before_days_ouelluminate              23370 non-null float64\n",
      "before_days_ouwiki                    23370 non-null float64\n",
      "before_days_page                      23370 non-null float64\n",
      "before_days_questionnaire             23370 non-null float64\n",
      "before_days_quiz                      23370 non-null float64\n",
      "before_days_resource                  23370 non-null float64\n",
      "before_days_sharedsubpage             23370 non-null float64\n",
      "before_days_subpage                   23370 non-null float64\n",
      "before_days_url                       23370 non-null float64\n",
      "before_days_total_num_vle_days        23370 non-null float64\n",
      "dtypes: float64(61), int64(13), object(2)\n",
      "memory usage: 17.6+ MB\n"
     ]
    }
   ],
   "source": [
    "df_no_w.info()\n"
   ]
  },
  {
   "cell_type": "code",
   "execution_count": null,
   "metadata": {},
   "outputs": [],
   "source": []
  },
  {
   "cell_type": "code",
   "execution_count": 25,
   "metadata": {},
   "outputs": [],
   "source": [
    "df_no_w = pd.get_dummies(df_no_w)"
   ]
  },
  {
   "cell_type": "code",
   "execution_count": 26,
   "metadata": {},
   "outputs": [
    {
     "data": {
      "text/plain": [
       "'\\nregion_East Anglian Region\\nregion_East Midlands Region\\nregion_Ireland\\nregion_London Region\\nregion_North Region\\nregion_North Western Region\\nregion_Scotland\\nregion_South East Region\\nregion_South Region\\nregion_South West Region\\nregion_Wales\\nregion_West Midlands Region\\nregion_Yorkshire Region\\n\\nmodule_presentation_AAA-2013J\\nmodule_presentation_AAA-2014J\\nmodule_presentation_BBB-2013B\\nmodule_presentation_BBB-2013J\\nmodule_presentation_BBB-2014B\\nmodule_presentation_BBB-2014J\\nmodule_presentation_CCC-2014B\\nmodule_presentation_CCC-2014J\\nmodule_presentation_DDD-2013B\\nmodule_presentation_DDD-2013J\\nmodule_presentation_DDD-2014B\\nmodule_presentation_DDD-2014J\\nmodule_presentation_EEE-2013J\\nmodule_presentation_EEE-2014B\\nmodule_presentation_EEE-2014J\\nmodule_presentation_FFF-2013B\\nmodule_presentation_FFF-2013J\\nmodule_presentation_FFF-2014B\\nmodule_presentation_FFF-2014J\\nmodule_presentation_GGG-2013J\\nmodule_presentation_GGG-2014B\\nmodule_presentation_GGG-2014J'"
      ]
     },
     "execution_count": 26,
     "metadata": {},
     "output_type": "execute_result"
    }
   ],
   "source": [
    "# Dummy Vars\n",
    "'''\n",
    "region_East Anglian Region\n",
    "region_East Midlands Region\n",
    "region_Ireland\n",
    "region_London Region\n",
    "region_North Region\n",
    "region_North Western Region\n",
    "region_Scotland\n",
    "region_South East Region\n",
    "region_South Region\n",
    "region_South West Region\n",
    "region_Wales\n",
    "region_West Midlands Region\n",
    "region_Yorkshire Region\n",
    "\n",
    "module_presentation_AAA-2013J\n",
    "module_presentation_AAA-2014J\n",
    "module_presentation_BBB-2013B\n",
    "module_presentation_BBB-2013J\n",
    "module_presentation_BBB-2014B\n",
    "module_presentation_BBB-2014J\n",
    "module_presentation_CCC-2014B\n",
    "module_presentation_CCC-2014J\n",
    "module_presentation_DDD-2013B\n",
    "module_presentation_DDD-2013J\n",
    "module_presentation_DDD-2014B\n",
    "module_presentation_DDD-2014J\n",
    "module_presentation_EEE-2013J\n",
    "module_presentation_EEE-2014B\n",
    "module_presentation_EEE-2014J\n",
    "module_presentation_FFF-2013B\n",
    "module_presentation_FFF-2013J\n",
    "module_presentation_FFF-2014B\n",
    "module_presentation_FFF-2014J\n",
    "module_presentation_GGG-2013J\n",
    "module_presentation_GGG-2014B\n",
    "module_presentation_GGG-2014J'''"
   ]
  },
  {
   "cell_type": "code",
   "execution_count": 27,
   "metadata": {},
   "outputs": [],
   "source": [
    "df_no_w = df_no_w.drop(['date_unregistration'],axis = 1)\n",
    "y = df_no_w.pop('fail_flag')\n",
    "X = df_no_w\n",
    "X = X.fillna(0)"
   ]
  },
  {
   "cell_type": "code",
   "execution_count": 28,
   "metadata": {},
   "outputs": [],
   "source": [
    "X_exclude_one_dummy = X.drop(['module_presentation_AAA-2013J','module_presentation_AAA-2014J','region_London Region'], axis = 1)"
   ]
  },
  {
   "cell_type": "code",
   "execution_count": 135,
   "metadata": {},
   "outputs": [
    {
     "data": {
      "text/plain": [
       "0    0.51429\n",
       "1    0.48571\n",
       "Name: fail_flag, dtype: float64"
      ]
     },
     "execution_count": 135,
     "metadata": {},
     "output_type": "execute_result"
    }
   ],
   "source": [
    "y.value_counts() / len(y)\n"
   ]
  },
  {
   "cell_type": "code",
   "execution_count": 227,
   "metadata": {},
   "outputs": [],
   "source": [
    "### Testing at EOD\n",
    "\n",
    "# df = pd.read_csv('data/dataset_for_modeling_day_zero.csv',index_col =0)\n",
    "df = pd.read_csv('data/dataset_for_modeling_day_twelve.csv',index_col =0)\n",
    "\n",
    "y = df.pop('fail_flag')\n",
    "X = df\n",
    "X = X.fillna(0)"
   ]
  },
  {
   "cell_type": "code",
   "execution_count": null,
   "metadata": {},
   "outputs": [],
   "source": []
  },
  {
   "cell_type": "code",
   "execution_count": null,
   "metadata": {},
   "outputs": [],
   "source": []
  },
  {
   "cell_type": "code",
   "execution_count": 223,
   "metadata": {},
   "outputs": [],
   "source": [
    "X_train, X_test, y_train, y_test = train_test_split(X, y, shuffle = True, test_size = 0.25, random_state = 42)"
   ]
  },
  {
   "cell_type": "code",
   "execution_count": 30,
   "metadata": {},
   "outputs": [],
   "source": [
    "X_train_l, X_test_l, y_train_l, y_test_l = train_test_split(X_exclude_one_dummy, y, shuffle = True, test_size = 0.25, random_state = 42)"
   ]
  },
  {
   "cell_type": "code",
   "execution_count": 31,
   "metadata": {},
   "outputs": [
    {
     "data": {
      "text/plain": [
       "(22436, 107)"
      ]
     },
     "execution_count": 31,
     "metadata": {},
     "output_type": "execute_result"
    }
   ],
   "source": [
    "X_train.shape"
   ]
  },
  {
   "cell_type": "code",
   "execution_count": 32,
   "metadata": {},
   "outputs": [
    {
     "data": {
      "text/plain": [
       "(22436, 104)"
      ]
     },
     "execution_count": 32,
     "metadata": {},
     "output_type": "execute_result"
    }
   ],
   "source": [
    "X_train_l.shape"
   ]
  },
  {
   "cell_type": "code",
   "execution_count": null,
   "metadata": {},
   "outputs": [],
   "source": []
  },
  {
   "cell_type": "code",
   "execution_count": 33,
   "metadata": {},
   "outputs": [],
   "source": [
    "model_l = LogisticRegression()"
   ]
  },
  {
   "cell_type": "code",
   "execution_count": 46,
   "metadata": {},
   "outputs": [
    {
     "name": "stderr",
     "output_type": "stream",
     "text": [
      "/Users/jaimeadybuncio/opt/anaconda3/lib/python3.7/site-packages/sklearn/linear_model/logistic.py:432: FutureWarning: Default solver will be changed to 'lbfgs' in 0.22. Specify a solver to silence this warning.\n",
      "  FutureWarning)\n",
      "/Users/jaimeadybuncio/opt/anaconda3/lib/python3.7/site-packages/sklearn/linear_model/logistic.py:432: FutureWarning: Default solver will be changed to 'lbfgs' in 0.22. Specify a solver to silence this warning.\n",
      "  FutureWarning)\n",
      "/Users/jaimeadybuncio/opt/anaconda3/lib/python3.7/site-packages/sklearn/linear_model/logistic.py:432: FutureWarning: Default solver will be changed to 'lbfgs' in 0.22. Specify a solver to silence this warning.\n",
      "  FutureWarning)\n",
      "/Users/jaimeadybuncio/opt/anaconda3/lib/python3.7/site-packages/sklearn/linear_model/logistic.py:432: FutureWarning: Default solver will be changed to 'lbfgs' in 0.22. Specify a solver to silence this warning.\n",
      "  FutureWarning)\n",
      "/Users/jaimeadybuncio/opt/anaconda3/lib/python3.7/site-packages/sklearn/svm/base.py:929: ConvergenceWarning: Liblinear failed to converge, increase the number of iterations.\n",
      "  \"the number of iterations.\", ConvergenceWarning)\n",
      "/Users/jaimeadybuncio/opt/anaconda3/lib/python3.7/site-packages/sklearn/linear_model/logistic.py:432: FutureWarning: Default solver will be changed to 'lbfgs' in 0.22. Specify a solver to silence this warning.\n",
      "  FutureWarning)\n",
      "/Users/jaimeadybuncio/opt/anaconda3/lib/python3.7/site-packages/sklearn/linear_model/logistic.py:432: FutureWarning: Default solver will be changed to 'lbfgs' in 0.22. Specify a solver to silence this warning.\n",
      "  FutureWarning)\n"
     ]
    },
    {
     "name": "stdout",
     "output_type": "stream",
     "text": [
      "\n",
      "Model Report\n",
      "Recall (Train) : 0.6552\n",
      "AUC Score (Train): 0.749422\n",
      "CV Score : Mean - 0.7448053 | Std - 0.003579652 | Min - 0.7378733 | Max - 0.747903\n"
     ]
    }
   ],
   "source": [
    "modelfit(model_l, X_train_l,y_train_l, performCV=True, printFeatureImportance=False, cv_folds=5);"
   ]
  },
  {
   "cell_type": "code",
   "execution_count": 56,
   "metadata": {},
   "outputs": [],
   "source": [
    "logit_cols = \"\"\"gender\n",
    "highest_education\n",
    "imd_band\n",
    "age_band\"\"\"\n",
    "\n",
    "# num_of_prev_attempts\n",
    "# studied_credits\n",
    "# disability"
   ]
  },
  {
   "cell_type": "code",
   "execution_count": 59,
   "metadata": {},
   "outputs": [],
   "source": [
    "logit_cols = logit_cols.split('\\n')"
   ]
  },
  {
   "cell_type": "code",
   "execution_count": 103,
   "metadata": {},
   "outputs": [],
   "source": [
    "logit_cols_2 = \"\"\"gender\n",
    "highest_education\n",
    "imd_band\n",
    "age_band\n",
    "num_of_prev_attempts\n",
    "studied_credits\n",
    "disability\"\"\"\n",
    "logit_cols_2 = logit_cols_2.split('\\n')"
   ]
  },
  {
   "cell_type": "code",
   "execution_count": null,
   "metadata": {},
   "outputs": [],
   "source": []
  },
  {
   "cell_type": "code",
   "execution_count": null,
   "metadata": {},
   "outputs": [],
   "source": []
  },
  {
   "cell_type": "code",
   "execution_count": null,
   "metadata": {},
   "outputs": [],
   "source": []
  },
  {
   "cell_type": "code",
   "execution_count": null,
   "metadata": {},
   "outputs": [],
   "source": []
  },
  {
   "cell_type": "code",
   "execution_count": 63,
   "metadata": {},
   "outputs": [
    {
     "name": "stdout",
     "output_type": "stream",
     "text": [
      "Optimization terminated successfully.\n",
      "         Current function value: 0.674785\n",
      "         Iterations 4\n"
     ]
    }
   ],
   "source": [
    "X_l = X_train_l[logit_cols].values\n",
    "X_const_l = add_constant(X_l, prepend=True)\n",
    "y_l = y_train_l.values\n",
    "\n",
    "logit_model = Logit(y_l, X_const_l).fit()"
   ]
  },
  {
   "cell_type": "code",
   "execution_count": 95,
   "metadata": {},
   "outputs": [
    {
     "data": {
      "text/html": [
       "<table class=\"simpletable\">\n",
       "<caption>Logit Regression Results</caption>\n",
       "<tr>\n",
       "  <th>Dep. Variable:</th>       <td>Fail_Flag</td>    <th>  No. Observations:  </th>   <td> 22436</td>  \n",
       "</tr>\n",
       "<tr>\n",
       "  <th>Model:</th>                 <td>Logit</td>      <th>  Df Residuals:      </th>   <td> 22431</td>  \n",
       "</tr>\n",
       "<tr>\n",
       "  <th>Method:</th>                 <td>MLE</td>       <th>  Df Model:          </th>   <td>     4</td>  \n",
       "</tr>\n",
       "<tr>\n",
       "  <th>Date:</th>            <td>Thu, 14 May 2020</td> <th>  Pseudo R-squ.:     </th>   <td>0.02588</td> \n",
       "</tr>\n",
       "<tr>\n",
       "  <th>Time:</th>                <td>17:21:02</td>     <th>  Log-Likelihood:    </th>  <td> -15139.</td> \n",
       "</tr>\n",
       "<tr>\n",
       "  <th>converged:</th>             <td>True</td>       <th>  LL-Null:           </th>  <td> -15542.</td> \n",
       "</tr>\n",
       "<tr>\n",
       "  <th>Covariance Type:</th>     <td>nonrobust</td>    <th>  LLR p-value:       </th> <td>9.086e-173</td>\n",
       "</tr>\n",
       "</table>\n",
       "<table class=\"simpletable\">\n",
       "<tr>\n",
       "          <td></td>             <th>coef</th>     <th>std err</th>      <th>z</th>      <th>P>|z|</th>  <th>[0.025</th>    <th>0.975]</th>  \n",
       "</tr>\n",
       "<tr>\n",
       "  <th>const</th>             <td>    1.2803</td> <td>    0.057</td> <td>   22.352</td> <td> 0.000</td> <td>    1.168</td> <td>    1.393</td>\n",
       "</tr>\n",
       "<tr>\n",
       "  <th>gender</th>            <td>    0.1926</td> <td>    0.027</td> <td>    7.011</td> <td> 0.000</td> <td>    0.139</td> <td>    0.246</td>\n",
       "</tr>\n",
       "<tr>\n",
       "  <th>highest_education</th> <td>   -0.3906</td> <td>    0.019</td> <td>  -20.939</td> <td> 0.000</td> <td>   -0.427</td> <td>   -0.354</td>\n",
       "</tr>\n",
       "<tr>\n",
       "  <th>imd_band</th>          <td>   -0.0606</td> <td>    0.005</td> <td>  -12.889</td> <td> 0.000</td> <td>   -0.070</td> <td>   -0.051</td>\n",
       "</tr>\n",
       "<tr>\n",
       "  <th>age_band</th>          <td>   -0.2334</td> <td>    0.029</td> <td>   -8.045</td> <td> 0.000</td> <td>   -0.290</td> <td>   -0.177</td>\n",
       "</tr>\n",
       "</table>"
      ],
      "text/plain": [
       "<class 'statsmodels.iolib.summary.Summary'>\n",
       "\"\"\"\n",
       "                           Logit Regression Results                           \n",
       "==============================================================================\n",
       "Dep. Variable:              Fail_Flag   No. Observations:                22436\n",
       "Model:                          Logit   Df Residuals:                    22431\n",
       "Method:                           MLE   Df Model:                            4\n",
       "Date:                Thu, 14 May 2020   Pseudo R-squ.:                 0.02588\n",
       "Time:                        17:21:02   Log-Likelihood:                -15139.\n",
       "converged:                       True   LL-Null:                       -15542.\n",
       "Covariance Type:            nonrobust   LLR p-value:                9.086e-173\n",
       "=====================================================================================\n",
       "                        coef    std err          z      P>|z|      [0.025      0.975]\n",
       "-------------------------------------------------------------------------------------\n",
       "const                 1.2803      0.057     22.352      0.000       1.168       1.393\n",
       "gender                0.1926      0.027      7.011      0.000       0.139       0.246\n",
       "highest_education    -0.3906      0.019    -20.939      0.000      -0.427      -0.354\n",
       "imd_band             -0.0606      0.005    -12.889      0.000      -0.070      -0.051\n",
       "age_band             -0.2334      0.029     -8.045      0.000      -0.290      -0.177\n",
       "=====================================================================================\n",
       "\"\"\""
      ]
     },
     "execution_count": 95,
     "metadata": {},
     "output_type": "execute_result"
    }
   ],
   "source": [
    "logit_model.summary(yname = 'Fail_Flag', xname =  ['const'] + list(X_train_l[logit_cols].columns) \\\n",
    "                   )\n"
   ]
  },
  {
   "cell_type": "code",
   "execution_count": 104,
   "metadata": {},
   "outputs": [
    {
     "name": "stdout",
     "output_type": "stream",
     "text": [
      "Optimization terminated successfully.\n",
      "         Current function value: 0.665216\n",
      "         Iterations 5\n"
     ]
    }
   ],
   "source": [
    "X_l = X_train_l[logit_cols_2].values\n",
    "X_const_l = add_constant(X_l, prepend=True)\n",
    "y_l = y_train_l.values\n",
    "\n",
    "logit_model = Logit(y_l, X_const_l).fit()"
   ]
  },
  {
   "cell_type": "code",
   "execution_count": 105,
   "metadata": {},
   "outputs": [
    {
     "data": {
      "text/html": [
       "<table class=\"simpletable\">\n",
       "<caption>Logit Regression Results</caption>\n",
       "<tr>\n",
       "  <th>Dep. Variable:</th>       <td>Fail_Flag</td>    <th>  No. Observations:  </th>   <td> 22436</td>  \n",
       "</tr>\n",
       "<tr>\n",
       "  <th>Model:</th>                 <td>Logit</td>      <th>  Df Residuals:      </th>   <td> 22428</td>  \n",
       "</tr>\n",
       "<tr>\n",
       "  <th>Method:</th>                 <td>MLE</td>       <th>  Df Model:          </th>   <td>     7</td>  \n",
       "</tr>\n",
       "<tr>\n",
       "  <th>Date:</th>            <td>Thu, 14 May 2020</td> <th>  Pseudo R-squ.:     </th>   <td>0.03969</td> \n",
       "</tr>\n",
       "<tr>\n",
       "  <th>Time:</th>                <td>17:30:21</td>     <th>  Log-Likelihood:    </th>  <td> -14925.</td> \n",
       "</tr>\n",
       "<tr>\n",
       "  <th>converged:</th>             <td>True</td>       <th>  LL-Null:           </th>  <td> -15542.</td> \n",
       "</tr>\n",
       "<tr>\n",
       "  <th>Covariance Type:</th>     <td>nonrobust</td>    <th>  LLR p-value:       </th> <td>3.688e-262</td>\n",
       "</tr>\n",
       "</table>\n",
       "<table class=\"simpletable\">\n",
       "<tr>\n",
       "            <td></td>              <th>coef</th>     <th>std err</th>      <th>z</th>      <th>P>|z|</th>  <th>[0.025</th>    <th>0.975]</th>  \n",
       "</tr>\n",
       "<tr>\n",
       "  <th>const</th>                <td>    0.8260</td> <td>    0.064</td> <td>   12.927</td> <td> 0.000</td> <td>    0.701</td> <td>    0.951</td>\n",
       "</tr>\n",
       "<tr>\n",
       "  <th>gender</th>               <td>    0.1998</td> <td>    0.028</td> <td>    7.197</td> <td> 0.000</td> <td>    0.145</td> <td>    0.254</td>\n",
       "</tr>\n",
       "<tr>\n",
       "  <th>highest_education</th>    <td>   -0.3872</td> <td>    0.019</td> <td>  -20.492</td> <td> 0.000</td> <td>   -0.424</td> <td>   -0.350</td>\n",
       "</tr>\n",
       "<tr>\n",
       "  <th>imd_band</th>             <td>   -0.0573</td> <td>    0.005</td> <td>  -12.071</td> <td> 0.000</td> <td>   -0.067</td> <td>   -0.048</td>\n",
       "</tr>\n",
       "<tr>\n",
       "  <th>age_band</th>             <td>   -0.2085</td> <td>    0.029</td> <td>   -7.088</td> <td> 0.000</td> <td>   -0.266</td> <td>   -0.151</td>\n",
       "</tr>\n",
       "<tr>\n",
       "  <th>num_of_prev_attempts</th> <td>    0.4142</td> <td>    0.032</td> <td>   12.863</td> <td> 0.000</td> <td>    0.351</td> <td>    0.477</td>\n",
       "</tr>\n",
       "<tr>\n",
       "  <th>studied_credits</th>      <td>    0.0042</td> <td>    0.000</td> <td>   11.518</td> <td> 0.000</td> <td>    0.004</td> <td>    0.005</td>\n",
       "</tr>\n",
       "<tr>\n",
       "  <th>disability</th>           <td>    0.2631</td> <td>    0.047</td> <td>    5.558</td> <td> 0.000</td> <td>    0.170</td> <td>    0.356</td>\n",
       "</tr>\n",
       "</table>"
      ],
      "text/plain": [
       "<class 'statsmodels.iolib.summary.Summary'>\n",
       "\"\"\"\n",
       "                           Logit Regression Results                           \n",
       "==============================================================================\n",
       "Dep. Variable:              Fail_Flag   No. Observations:                22436\n",
       "Model:                          Logit   Df Residuals:                    22428\n",
       "Method:                           MLE   Df Model:                            7\n",
       "Date:                Thu, 14 May 2020   Pseudo R-squ.:                 0.03969\n",
       "Time:                        17:30:21   Log-Likelihood:                -14925.\n",
       "converged:                       True   LL-Null:                       -15542.\n",
       "Covariance Type:            nonrobust   LLR p-value:                3.688e-262\n",
       "========================================================================================\n",
       "                           coef    std err          z      P>|z|      [0.025      0.975]\n",
       "----------------------------------------------------------------------------------------\n",
       "const                    0.8260      0.064     12.927      0.000       0.701       0.951\n",
       "gender                   0.1998      0.028      7.197      0.000       0.145       0.254\n",
       "highest_education       -0.3872      0.019    -20.492      0.000      -0.424      -0.350\n",
       "imd_band                -0.0573      0.005    -12.071      0.000      -0.067      -0.048\n",
       "age_band                -0.2085      0.029     -7.088      0.000      -0.266      -0.151\n",
       "num_of_prev_attempts     0.4142      0.032     12.863      0.000       0.351       0.477\n",
       "studied_credits          0.0042      0.000     11.518      0.000       0.004       0.005\n",
       "disability               0.2631      0.047      5.558      0.000       0.170       0.356\n",
       "========================================================================================\n",
       "\"\"\""
      ]
     },
     "execution_count": 105,
     "metadata": {},
     "output_type": "execute_result"
    }
   ],
   "source": [
    "logit_model.summary(yname = 'Fail_Flag', xname =  ['const'] + list(X_train_l[logit_cols_2].columns) \\\n",
    "                   )\n"
   ]
  },
  {
   "cell_type": "code",
   "execution_count": 106,
   "metadata": {},
   "outputs": [],
   "source": [
    "logit_cols_3 = \"\"\"gender\n",
    "highest_education\n",
    "imd_band\n",
    "age_band\n",
    "num_of_prev_attempts\n",
    "studied_credits\n",
    "disability\n",
    "date_registration\"\"\"\n",
    "logit_cols_3 = logit_cols_3.split('\\n')"
   ]
  },
  {
   "cell_type": "code",
   "execution_count": 107,
   "metadata": {},
   "outputs": [
    {
     "name": "stdout",
     "output_type": "stream",
     "text": [
      "Optimization terminated successfully.\n",
      "         Current function value: 0.665157\n",
      "         Iterations 5\n"
     ]
    },
    {
     "data": {
      "text/html": [
       "<table class=\"simpletable\">\n",
       "<caption>Logit Regression Results</caption>\n",
       "<tr>\n",
       "  <th>Dep. Variable:</th>       <td>Fail_Flag</td>    <th>  No. Observations:  </th>   <td> 22436</td>  \n",
       "</tr>\n",
       "<tr>\n",
       "  <th>Model:</th>                 <td>Logit</td>      <th>  Df Residuals:      </th>   <td> 22427</td>  \n",
       "</tr>\n",
       "<tr>\n",
       "  <th>Method:</th>                 <td>MLE</td>       <th>  Df Model:          </th>   <td>     8</td>  \n",
       "</tr>\n",
       "<tr>\n",
       "  <th>Date:</th>            <td>Thu, 14 May 2020</td> <th>  Pseudo R-squ.:     </th>   <td>0.03977</td> \n",
       "</tr>\n",
       "<tr>\n",
       "  <th>Time:</th>                <td>17:32:24</td>     <th>  Log-Likelihood:    </th>  <td> -14923.</td> \n",
       "</tr>\n",
       "<tr>\n",
       "  <th>converged:</th>             <td>True</td>       <th>  LL-Null:           </th>  <td> -15542.</td> \n",
       "</tr>\n",
       "<tr>\n",
       "  <th>Covariance Type:</th>     <td>nonrobust</td>    <th>  LLR p-value:       </th> <td>1.357e-261</td>\n",
       "</tr>\n",
       "</table>\n",
       "<table class=\"simpletable\">\n",
       "<tr>\n",
       "            <td></td>              <th>coef</th>     <th>std err</th>      <th>z</th>      <th>P>|z|</th>  <th>[0.025</th>    <th>0.975]</th>  \n",
       "</tr>\n",
       "<tr>\n",
       "  <th>const</th>                <td>    0.8586</td> <td>    0.067</td> <td>   12.818</td> <td> 0.000</td> <td>    0.727</td> <td>    0.990</td>\n",
       "</tr>\n",
       "<tr>\n",
       "  <th>gender</th>               <td>    0.2008</td> <td>    0.028</td> <td>    7.232</td> <td> 0.000</td> <td>    0.146</td> <td>    0.255</td>\n",
       "</tr>\n",
       "<tr>\n",
       "  <th>highest_education</th>    <td>   -0.3887</td> <td>    0.019</td> <td>  -20.545</td> <td> 0.000</td> <td>   -0.426</td> <td>   -0.352</td>\n",
       "</tr>\n",
       "<tr>\n",
       "  <th>imd_band</th>             <td>   -0.0573</td> <td>    0.005</td> <td>  -12.073</td> <td> 0.000</td> <td>   -0.067</td> <td>   -0.048</td>\n",
       "</tr>\n",
       "<tr>\n",
       "  <th>age_band</th>             <td>   -0.2097</td> <td>    0.029</td> <td>   -7.126</td> <td> 0.000</td> <td>   -0.267</td> <td>   -0.152</td>\n",
       "</tr>\n",
       "<tr>\n",
       "  <th>num_of_prev_attempts</th> <td>    0.4148</td> <td>    0.032</td> <td>   12.878</td> <td> 0.000</td> <td>    0.352</td> <td>    0.478</td>\n",
       "</tr>\n",
       "<tr>\n",
       "  <th>studied_credits</th>      <td>    0.0043</td> <td>    0.000</td> <td>   11.587</td> <td> 0.000</td> <td>    0.004</td> <td>    0.005</td>\n",
       "</tr>\n",
       "<tr>\n",
       "  <th>disability</th>           <td>    0.2633</td> <td>    0.047</td> <td>    5.561</td> <td> 0.000</td> <td>    0.170</td> <td>    0.356</td>\n",
       "</tr>\n",
       "<tr>\n",
       "  <th>date_registration</th>    <td>    0.0005</td> <td>    0.000</td> <td>    1.628</td> <td> 0.104</td> <td>-9.57e-05</td> <td>    0.001</td>\n",
       "</tr>\n",
       "</table>"
      ],
      "text/plain": [
       "<class 'statsmodels.iolib.summary.Summary'>\n",
       "\"\"\"\n",
       "                           Logit Regression Results                           \n",
       "==============================================================================\n",
       "Dep. Variable:              Fail_Flag   No. Observations:                22436\n",
       "Model:                          Logit   Df Residuals:                    22427\n",
       "Method:                           MLE   Df Model:                            8\n",
       "Date:                Thu, 14 May 2020   Pseudo R-squ.:                 0.03977\n",
       "Time:                        17:32:24   Log-Likelihood:                -14923.\n",
       "converged:                       True   LL-Null:                       -15542.\n",
       "Covariance Type:            nonrobust   LLR p-value:                1.357e-261\n",
       "========================================================================================\n",
       "                           coef    std err          z      P>|z|      [0.025      0.975]\n",
       "----------------------------------------------------------------------------------------\n",
       "const                    0.8586      0.067     12.818      0.000       0.727       0.990\n",
       "gender                   0.2008      0.028      7.232      0.000       0.146       0.255\n",
       "highest_education       -0.3887      0.019    -20.545      0.000      -0.426      -0.352\n",
       "imd_band                -0.0573      0.005    -12.073      0.000      -0.067      -0.048\n",
       "age_band                -0.2097      0.029     -7.126      0.000      -0.267      -0.152\n",
       "num_of_prev_attempts     0.4148      0.032     12.878      0.000       0.352       0.478\n",
       "studied_credits          0.0043      0.000     11.587      0.000       0.004       0.005\n",
       "disability               0.2633      0.047      5.561      0.000       0.170       0.356\n",
       "date_registration        0.0005      0.000      1.628      0.104   -9.57e-05       0.001\n",
       "========================================================================================\n",
       "\"\"\""
      ]
     },
     "execution_count": 107,
     "metadata": {},
     "output_type": "execute_result"
    }
   ],
   "source": [
    "X_l = X_train_l[logit_cols_3].values\n",
    "X_const_l = add_constant(X_l, prepend=True)\n",
    "y_l = y_train_l.values\n",
    "\n",
    "logit_model = Logit(y_l, X_const_l).fit()\n",
    "logit_model.summary(yname = 'Fail_Flag', xname =  ['const'] + list(X_train_l[logit_cols_3].columns) \\\n",
    "                   )\n"
   ]
  },
  {
   "cell_type": "code",
   "execution_count": 118,
   "metadata": {},
   "outputs": [
    {
     "name": "stdout",
     "output_type": "stream",
     "text": [
      "Optimization terminated successfully.\n",
      "         Current function value: 0.656476\n",
      "         Iterations 5\n"
     ]
    },
    {
     "data": {
      "text/html": [
       "<table class=\"simpletable\">\n",
       "<caption>Logit Regression Results</caption>\n",
       "<tr>\n",
       "  <th>Dep. Variable:</th>       <td>Fail_Flag</td>    <th>  No. Observations:  </th>  <td> 22436</td> \n",
       "</tr>\n",
       "<tr>\n",
       "  <th>Model:</th>                 <td>Logit</td>      <th>  Df Residuals:      </th>  <td> 22412</td> \n",
       "</tr>\n",
       "<tr>\n",
       "  <th>Method:</th>                 <td>MLE</td>       <th>  Df Model:          </th>  <td>    23</td> \n",
       "</tr>\n",
       "<tr>\n",
       "  <th>Date:</th>            <td>Thu, 14 May 2020</td> <th>  Pseudo R-squ.:     </th>  <td>0.05231</td>\n",
       "</tr>\n",
       "<tr>\n",
       "  <th>Time:</th>                <td>17:35:55</td>     <th>  Log-Likelihood:    </th> <td> -14729.</td>\n",
       "</tr>\n",
       "<tr>\n",
       "  <th>converged:</th>             <td>True</td>       <th>  LL-Null:           </th> <td> -15542.</td>\n",
       "</tr>\n",
       "<tr>\n",
       "  <th>Covariance Type:</th>     <td>nonrobust</td>    <th>  LLR p-value:       </th>  <td> 0.000</td> \n",
       "</tr>\n",
       "</table>\n",
       "<table class=\"simpletable\">\n",
       "<tr>\n",
       "               <td></td>                  <th>coef</th>     <th>std err</th>      <th>z</th>      <th>P>|z|</th>  <th>[0.025</th>    <th>0.975]</th>  \n",
       "</tr>\n",
       "<tr>\n",
       "  <th>const</th>                       <td>   -0.3853</td> <td>    0.130</td> <td>   -2.960</td> <td> 0.003</td> <td>   -0.640</td> <td>   -0.130</td>\n",
       "</tr>\n",
       "<tr>\n",
       "  <th>gender</th>                      <td>    0.1754</td> <td>    0.029</td> <td>    6.140</td> <td> 0.000</td> <td>    0.119</td> <td>    0.231</td>\n",
       "</tr>\n",
       "<tr>\n",
       "  <th>highest_education</th>           <td>   -0.4403</td> <td>    0.020</td> <td>  -22.318</td> <td> 0.000</td> <td>   -0.479</td> <td>   -0.402</td>\n",
       "</tr>\n",
       "<tr>\n",
       "  <th>imd_band</th>                    <td>   -0.0572</td> <td>    0.005</td> <td>  -10.987</td> <td> 0.000</td> <td>   -0.067</td> <td>   -0.047</td>\n",
       "</tr>\n",
       "<tr>\n",
       "  <th>age_band</th>                    <td>   -0.2119</td> <td>    0.030</td> <td>   -7.127</td> <td> 0.000</td> <td>   -0.270</td> <td>   -0.154</td>\n",
       "</tr>\n",
       "<tr>\n",
       "  <th>num_of_prev_attempts</th>        <td>    0.4236</td> <td>    0.033</td> <td>   12.968</td> <td> 0.000</td> <td>    0.360</td> <td>    0.488</td>\n",
       "</tr>\n",
       "<tr>\n",
       "  <th>studied_credits</th>             <td>    0.0033</td> <td>    0.000</td> <td>    8.530</td> <td> 0.000</td> <td>    0.003</td> <td>    0.004</td>\n",
       "</tr>\n",
       "<tr>\n",
       "  <th>disability</th>                  <td>    0.2657</td> <td>    0.048</td> <td>    5.533</td> <td> 0.000</td> <td>    0.172</td> <td>    0.360</td>\n",
       "</tr>\n",
       "<tr>\n",
       "  <th>date_registration</th>           <td>    0.0009</td> <td>    0.000</td> <td>    2.888</td> <td> 0.004</td> <td>    0.000</td> <td>    0.001</td>\n",
       "</tr>\n",
       "<tr>\n",
       "  <th>num_assessments</th>             <td>    0.7473</td> <td>    0.046</td> <td>   16.269</td> <td> 0.000</td> <td>    0.657</td> <td>    0.837</td>\n",
       "</tr>\n",
       "<tr>\n",
       "  <th>num_tma_assessments</th>         <td>   -0.5859</td> <td>    0.042</td> <td>  -13.910</td> <td> 0.000</td> <td>   -0.668</td> <td>   -0.503</td>\n",
       "</tr>\n",
       "<tr>\n",
       "  <th>num_cma_assessments</th>         <td>   -0.7453</td> <td>    0.046</td> <td>  -16.139</td> <td> 0.000</td> <td>   -0.836</td> <td>   -0.655</td>\n",
       "</tr>\n",
       "<tr>\n",
       "  <th>region_East Anglian Region</th>  <td>   -0.2291</td> <td>    0.063</td> <td>   -3.623</td> <td> 0.000</td> <td>   -0.353</td> <td>   -0.105</td>\n",
       "</tr>\n",
       "<tr>\n",
       "  <th>region_East Midlands Region</th> <td>   -0.1071</td> <td>    0.068</td> <td>   -1.566</td> <td> 0.117</td> <td>   -0.241</td> <td>    0.027</td>\n",
       "</tr>\n",
       "<tr>\n",
       "  <th>region_Ireland</th>              <td>   -0.4051</td> <td>    0.084</td> <td>   -4.805</td> <td> 0.000</td> <td>   -0.570</td> <td>   -0.240</td>\n",
       "</tr>\n",
       "<tr>\n",
       "  <th>region_North Region</th>         <td>   -0.4866</td> <td>    0.074</td> <td>   -6.598</td> <td> 0.000</td> <td>   -0.631</td> <td>   -0.342</td>\n",
       "</tr>\n",
       "<tr>\n",
       "  <th>region_North Western Region</th> <td>    0.0226</td> <td>    0.064</td> <td>    0.350</td> <td> 0.726</td> <td>   -0.104</td> <td>    0.149</td>\n",
       "</tr>\n",
       "<tr>\n",
       "  <th>region_Scotland</th>             <td>   -0.0349</td> <td>    0.062</td> <td>   -0.563</td> <td> 0.573</td> <td>   -0.156</td> <td>    0.087</td>\n",
       "</tr>\n",
       "<tr>\n",
       "  <th>region_South East Region</th>    <td>   -0.3116</td> <td>    0.071</td> <td>   -4.366</td> <td> 0.000</td> <td>   -0.451</td> <td>   -0.172</td>\n",
       "</tr>\n",
       "<tr>\n",
       "  <th>region_South Region</th>         <td>   -0.2520</td> <td>    0.065</td> <td>   -3.895</td> <td> 0.000</td> <td>   -0.379</td> <td>   -0.125</td>\n",
       "</tr>\n",
       "<tr>\n",
       "  <th>region_South West Region</th>    <td>   -0.2918</td> <td>    0.067</td> <td>   -4.340</td> <td> 0.000</td> <td>   -0.424</td> <td>   -0.160</td>\n",
       "</tr>\n",
       "<tr>\n",
       "  <th>region_Wales</th>                <td>    0.0102</td> <td>    0.070</td> <td>    0.146</td> <td> 0.884</td> <td>   -0.127</td> <td>    0.147</td>\n",
       "</tr>\n",
       "<tr>\n",
       "  <th>region_West Midlands Region</th> <td>   -0.1136</td> <td>    0.067</td> <td>   -1.702</td> <td> 0.089</td> <td>   -0.244</td> <td>    0.017</td>\n",
       "</tr>\n",
       "<tr>\n",
       "  <th>region_Yorkshire Region</th>     <td>   -0.1526</td> <td>    0.070</td> <td>   -2.165</td> <td> 0.030</td> <td>   -0.291</td> <td>   -0.014</td>\n",
       "</tr>\n",
       "</table>"
      ],
      "text/plain": [
       "<class 'statsmodels.iolib.summary.Summary'>\n",
       "\"\"\"\n",
       "                           Logit Regression Results                           \n",
       "==============================================================================\n",
       "Dep. Variable:              Fail_Flag   No. Observations:                22436\n",
       "Model:                          Logit   Df Residuals:                    22412\n",
       "Method:                           MLE   Df Model:                           23\n",
       "Date:                Thu, 14 May 2020   Pseudo R-squ.:                 0.05231\n",
       "Time:                        17:35:55   Log-Likelihood:                -14729.\n",
       "converged:                       True   LL-Null:                       -15542.\n",
       "Covariance Type:            nonrobust   LLR p-value:                     0.000\n",
       "===============================================================================================\n",
       "                                  coef    std err          z      P>|z|      [0.025      0.975]\n",
       "-----------------------------------------------------------------------------------------------\n",
       "const                          -0.3853      0.130     -2.960      0.003      -0.640      -0.130\n",
       "gender                          0.1754      0.029      6.140      0.000       0.119       0.231\n",
       "highest_education              -0.4403      0.020    -22.318      0.000      -0.479      -0.402\n",
       "imd_band                       -0.0572      0.005    -10.987      0.000      -0.067      -0.047\n",
       "age_band                       -0.2119      0.030     -7.127      0.000      -0.270      -0.154\n",
       "num_of_prev_attempts            0.4236      0.033     12.968      0.000       0.360       0.488\n",
       "studied_credits                 0.0033      0.000      8.530      0.000       0.003       0.004\n",
       "disability                      0.2657      0.048      5.533      0.000       0.172       0.360\n",
       "date_registration               0.0009      0.000      2.888      0.004       0.000       0.001\n",
       "num_assessments                 0.7473      0.046     16.269      0.000       0.657       0.837\n",
       "num_tma_assessments            -0.5859      0.042    -13.910      0.000      -0.668      -0.503\n",
       "num_cma_assessments            -0.7453      0.046    -16.139      0.000      -0.836      -0.655\n",
       "region_East Anglian Region     -0.2291      0.063     -3.623      0.000      -0.353      -0.105\n",
       "region_East Midlands Region    -0.1071      0.068     -1.566      0.117      -0.241       0.027\n",
       "region_Ireland                 -0.4051      0.084     -4.805      0.000      -0.570      -0.240\n",
       "region_North Region            -0.4866      0.074     -6.598      0.000      -0.631      -0.342\n",
       "region_North Western Region     0.0226      0.064      0.350      0.726      -0.104       0.149\n",
       "region_Scotland                -0.0349      0.062     -0.563      0.573      -0.156       0.087\n",
       "region_South East Region       -0.3116      0.071     -4.366      0.000      -0.451      -0.172\n",
       "region_South Region            -0.2520      0.065     -3.895      0.000      -0.379      -0.125\n",
       "region_South West Region       -0.2918      0.067     -4.340      0.000      -0.424      -0.160\n",
       "region_Wales                    0.0102      0.070      0.146      0.884      -0.127       0.147\n",
       "region_West Midlands Region    -0.1136      0.067     -1.702      0.089      -0.244       0.017\n",
       "region_Yorkshire Region        -0.1526      0.070     -2.165      0.030      -0.291      -0.014\n",
       "===============================================================================================\n",
       "\"\"\""
      ]
     },
     "execution_count": 118,
     "metadata": {},
     "output_type": "execute_result"
    }
   ],
   "source": [
    "logit_cols_4 = \"\"\"gender\n",
    "highest_education\n",
    "imd_band\n",
    "age_band\n",
    "num_of_prev_attempts\n",
    "studied_credits\n",
    "disability\n",
    "date_registration\n",
    "num_assessments\n",
    "num_tma_assessments\n",
    "num_cma_assessments\n",
    "region_East Anglian Region\n",
    "region_East Midlands Region\n",
    "region_Ireland\n",
    "region_North Region\n",
    "region_North Western Region\n",
    "region_Scotland\n",
    "region_South East Region\n",
    "region_South Region\n",
    "region_South West Region\n",
    "region_Wales\n",
    "region_West Midlands Region\n",
    "region_Yorkshire Region\"\"\"\n",
    "logit_cols_4 = logit_cols_4.split('\\n')\n",
    "\n",
    "X_l = X_train_l[logit_cols_4].values\n",
    "X_const_l = add_constant(X_l, prepend=True)\n",
    "y_l = y_train_l.values\n",
    "\n",
    "logit_model = Logit(y_l, X_const_l).fit()\n",
    "logit_model.summary(yname = 'Fail_Flag', xname =  ['const'] + list(X_train_l[logit_cols_4].columns) \\\n",
    "                   )\n"
   ]
  },
  {
   "cell_type": "code",
   "execution_count": 119,
   "metadata": {},
   "outputs": [
    {
     "name": "stdout",
     "output_type": "stream",
     "text": [
      "Optimization terminated successfully.\n",
      "         Current function value: 0.653680\n",
      "         Iterations 32\n"
     ]
    },
    {
     "name": "stderr",
     "output_type": "stream",
     "text": [
      "/Users/jaimeadybuncio/opt/anaconda3/lib/python3.7/site-packages/statsmodels/base/model.py:1286: RuntimeWarning: invalid value encountered in sqrt\n",
      "  bse_ = np.sqrt(np.diag(self.cov_params()))\n",
      "/Users/jaimeadybuncio/opt/anaconda3/lib/python3.7/site-packages/scipy/stats/_distn_infrastructure.py:901: RuntimeWarning: invalid value encountered in greater\n",
      "  return (a < x) & (x < b)\n",
      "/Users/jaimeadybuncio/opt/anaconda3/lib/python3.7/site-packages/scipy/stats/_distn_infrastructure.py:901: RuntimeWarning: invalid value encountered in less\n",
      "  return (a < x) & (x < b)\n",
      "/Users/jaimeadybuncio/opt/anaconda3/lib/python3.7/site-packages/scipy/stats/_distn_infrastructure.py:1892: RuntimeWarning: invalid value encountered in less_equal\n",
      "  cond2 = cond0 & (x <= _a)\n"
     ]
    },
    {
     "data": {
      "text/html": [
       "<table class=\"simpletable\">\n",
       "<caption>Logit Regression Results</caption>\n",
       "<tr>\n",
       "  <th>Dep. Variable:</th>       <td>Fail_Flag</td>    <th>  No. Observations:  </th>  <td> 22436</td> \n",
       "</tr>\n",
       "<tr>\n",
       "  <th>Model:</th>                 <td>Logit</td>      <th>  Df Residuals:      </th>  <td> 22400</td> \n",
       "</tr>\n",
       "<tr>\n",
       "  <th>Method:</th>                 <td>MLE</td>       <th>  Df Model:          </th>  <td>    35</td> \n",
       "</tr>\n",
       "<tr>\n",
       "  <th>Date:</th>            <td>Thu, 14 May 2020</td> <th>  Pseudo R-squ.:     </th>  <td>0.05634</td>\n",
       "</tr>\n",
       "<tr>\n",
       "  <th>Time:</th>                <td>17:37:05</td>     <th>  Log-Likelihood:    </th> <td> -14666.</td>\n",
       "</tr>\n",
       "<tr>\n",
       "  <th>converged:</th>             <td>True</td>       <th>  LL-Null:           </th> <td> -15542.</td>\n",
       "</tr>\n",
       "<tr>\n",
       "  <th>Covariance Type:</th>     <td>nonrobust</td>    <th>  LLR p-value:       </th>  <td> 0.000</td> \n",
       "</tr>\n",
       "</table>\n",
       "<table class=\"simpletable\">\n",
       "<tr>\n",
       "                <td></td>                   <th>coef</th>     <th>std err</th>      <th>z</th>      <th>P>|z|</th>  <th>[0.025</th>    <th>0.975]</th>  \n",
       "</tr>\n",
       "<tr>\n",
       "  <th>const</th>                         <td>   -0.1614</td> <td>      nan</td> <td>      nan</td> <td>   nan</td> <td>      nan</td> <td>      nan</td>\n",
       "</tr>\n",
       "<tr>\n",
       "  <th>gender</th>                        <td>    0.0968</td> <td>    0.035</td> <td>    2.764</td> <td> 0.006</td> <td>    0.028</td> <td>    0.165</td>\n",
       "</tr>\n",
       "<tr>\n",
       "  <th>highest_education</th>             <td>   -0.4446</td> <td>    0.020</td> <td>  -22.617</td> <td> 0.000</td> <td>   -0.483</td> <td>   -0.406</td>\n",
       "</tr>\n",
       "<tr>\n",
       "  <th>imd_band</th>                      <td>   -0.0580</td> <td>    0.005</td> <td>  -11.226</td> <td> 0.000</td> <td>   -0.068</td> <td>   -0.048</td>\n",
       "</tr>\n",
       "<tr>\n",
       "  <th>age_band</th>                      <td>   -0.1803</td> <td>    0.030</td> <td>   -6.004</td> <td> 0.000</td> <td>   -0.239</td> <td>   -0.121</td>\n",
       "</tr>\n",
       "<tr>\n",
       "  <th>num_of_prev_attempts</th>          <td>    0.4094</td> <td>    0.033</td> <td>   12.506</td> <td> 0.000</td> <td>    0.345</td> <td>    0.474</td>\n",
       "</tr>\n",
       "<tr>\n",
       "  <th>studied_credits</th>               <td>    0.0036</td> <td>    0.000</td> <td>    9.088</td> <td> 0.000</td> <td>    0.003</td> <td>    0.004</td>\n",
       "</tr>\n",
       "<tr>\n",
       "  <th>disability</th>                    <td>    0.2470</td> <td>    0.048</td> <td>    5.127</td> <td> 0.000</td> <td>    0.153</td> <td>    0.341</td>\n",
       "</tr>\n",
       "<tr>\n",
       "  <th>date_registration</th>             <td>    0.0008</td> <td>    0.000</td> <td>    2.821</td> <td> 0.005</td> <td>    0.000</td> <td>    0.001</td>\n",
       "</tr>\n",
       "<tr>\n",
       "  <th>num_assessments</th>               <td>    0.3470</td> <td>      nan</td> <td>      nan</td> <td>   nan</td> <td>      nan</td> <td>      nan</td>\n",
       "</tr>\n",
       "<tr>\n",
       "  <th>num_tma_assessments</th>           <td>   -0.2539</td> <td> 2.24e+05</td> <td>-1.14e-06</td> <td> 1.000</td> <td>-4.38e+05</td> <td> 4.38e+05</td>\n",
       "</tr>\n",
       "<tr>\n",
       "  <th>num_cma_assessments</th>           <td>   -0.2528</td> <td>  1.6e+05</td> <td>-1.58e-06</td> <td> 1.000</td> <td>-3.14e+05</td> <td> 3.14e+05</td>\n",
       "</tr>\n",
       "<tr>\n",
       "  <th>region_East Anglian Region</th>    <td>   -0.1959</td> <td>    0.049</td> <td>   -4.005</td> <td> 0.000</td> <td>   -0.292</td> <td>   -0.100</td>\n",
       "</tr>\n",
       "<tr>\n",
       "  <th>region_Ireland</th>                <td>   -0.3472</td> <td>    0.075</td> <td>   -4.621</td> <td> 0.000</td> <td>   -0.494</td> <td>   -0.200</td>\n",
       "</tr>\n",
       "<tr>\n",
       "  <th>region_North Region</th>           <td>   -0.4777</td> <td>    0.063</td> <td>   -7.575</td> <td> 0.000</td> <td>   -0.601</td> <td>   -0.354</td>\n",
       "</tr>\n",
       "<tr>\n",
       "  <th>region_South East Region</th>      <td>   -0.2694</td> <td>    0.059</td> <td>   -4.550</td> <td> 0.000</td> <td>   -0.385</td> <td>   -0.153</td>\n",
       "</tr>\n",
       "<tr>\n",
       "  <th>region_South Region</th>           <td>   -0.2198</td> <td>    0.051</td> <td>   -4.344</td> <td> 0.000</td> <td>   -0.319</td> <td>   -0.121</td>\n",
       "</tr>\n",
       "<tr>\n",
       "  <th>region_South West Region</th>      <td>   -0.2657</td> <td>    0.054</td> <td>   -4.897</td> <td> 0.000</td> <td>   -0.372</td> <td>   -0.159</td>\n",
       "</tr>\n",
       "<tr>\n",
       "  <th>region_Yorkshire Region</th>       <td>   -0.1160</td> <td>    0.059</td> <td>   -1.977</td> <td> 0.048</td> <td>   -0.231</td> <td>   -0.001</td>\n",
       "</tr>\n",
       "<tr>\n",
       "  <th>module_presentation_BBB-2013B</th> <td>    0.1062</td> <td>      nan</td> <td>      nan</td> <td>   nan</td> <td>      nan</td> <td>      nan</td>\n",
       "</tr>\n",
       "<tr>\n",
       "  <th>module_presentation_BBB-2013J</th> <td>   -0.1187</td> <td>      nan</td> <td>      nan</td> <td>   nan</td> <td>      nan</td> <td>      nan</td>\n",
       "</tr>\n",
       "<tr>\n",
       "  <th>module_presentation_BBB-2014B</th> <td>   -0.1670</td> <td>      nan</td> <td>      nan</td> <td>   nan</td> <td>      nan</td> <td>      nan</td>\n",
       "</tr>\n",
       "<tr>\n",
       "  <th>module_presentation_BBB-2014J</th> <td>    0.3854</td> <td>    0.112</td> <td>    3.448</td> <td> 0.001</td> <td>    0.166</td> <td>    0.605</td>\n",
       "</tr>\n",
       "<tr>\n",
       "  <th>module_presentation_CCC-2014B</th> <td>    0.6075</td> <td> 8.48e+05</td> <td> 7.16e-07</td> <td> 1.000</td> <td>-1.66e+06</td> <td> 1.66e+06</td>\n",
       "</tr>\n",
       "<tr>\n",
       "  <th>module_presentation_CCC-2014J</th> <td>    0.4075</td> <td> 8.48e+05</td> <td>  4.8e-07</td> <td> 1.000</td> <td>-1.66e+06</td> <td> 1.66e+06</td>\n",
       "</tr>\n",
       "<tr>\n",
       "  <th>module_presentation_DDD-2013B</th> <td>    0.2776</td> <td>      nan</td> <td>      nan</td> <td>   nan</td> <td>      nan</td> <td>      nan</td>\n",
       "</tr>\n",
       "<tr>\n",
       "  <th>module_presentation_DDD-2013J</th> <td>    0.7063</td> <td>      nan</td> <td>      nan</td> <td>   nan</td> <td>      nan</td> <td>      nan</td>\n",
       "</tr>\n",
       "<tr>\n",
       "  <th>module_presentation_DDD-2014B</th> <td>    0.8631</td> <td>      nan</td> <td>      nan</td> <td>   nan</td> <td>      nan</td> <td>      nan</td>\n",
       "</tr>\n",
       "<tr>\n",
       "  <th>module_presentation_DDD-2014J</th> <td>    0.6668</td> <td>      nan</td> <td>      nan</td> <td>   nan</td> <td>      nan</td> <td>      nan</td>\n",
       "</tr>\n",
       "<tr>\n",
       "  <th>module_presentation_EEE-2013J</th> <td>    0.4239</td> <td>      nan</td> <td>      nan</td> <td>   nan</td> <td>      nan</td> <td>      nan</td>\n",
       "</tr>\n",
       "<tr>\n",
       "  <th>module_presentation_EEE-2014B</th> <td>    0.6791</td> <td>      nan</td> <td>      nan</td> <td>   nan</td> <td>      nan</td> <td>      nan</td>\n",
       "</tr>\n",
       "<tr>\n",
       "  <th>module_presentation_EEE-2014J</th> <td>    0.4354</td> <td>      nan</td> <td>      nan</td> <td>   nan</td> <td>      nan</td> <td>      nan</td>\n",
       "</tr>\n",
       "<tr>\n",
       "  <th>module_presentation_FFF-2013B</th> <td>   -0.1737</td> <td> 1.01e+06</td> <td>-1.73e-07</td> <td> 1.000</td> <td>-1.97e+06</td> <td> 1.97e+06</td>\n",
       "</tr>\n",
       "<tr>\n",
       "  <th>module_presentation_FFF-2013J</th> <td>   -0.1173</td> <td> 1.01e+06</td> <td>-1.17e-07</td> <td> 1.000</td> <td>-1.97e+06</td> <td> 1.97e+06</td>\n",
       "</tr>\n",
       "<tr>\n",
       "  <th>module_presentation_FFF-2014B</th> <td>    0.0311</td> <td> 1.01e+06</td> <td> 3.09e-08</td> <td> 1.000</td> <td>-1.97e+06</td> <td> 1.97e+06</td>\n",
       "</tr>\n",
       "<tr>\n",
       "  <th>module_presentation_FFF-2014J</th> <td>   -0.1746</td> <td> 1.01e+06</td> <td>-1.74e-07</td> <td> 1.000</td> <td>-1.97e+06</td> <td> 1.97e+06</td>\n",
       "</tr>\n",
       "<tr>\n",
       "  <th>module_presentation_GGG-2013J</th> <td>   -0.1680</td> <td> 1.51e+06</td> <td>-1.11e-07</td> <td> 1.000</td> <td>-2.95e+06</td> <td> 2.95e+06</td>\n",
       "</tr>\n",
       "<tr>\n",
       "  <th>module_presentation_GGG-2014B</th> <td>   -0.0942</td> <td> 1.51e+06</td> <td>-6.25e-08</td> <td> 1.000</td> <td>-2.95e+06</td> <td> 2.95e+06</td>\n",
       "</tr>\n",
       "<tr>\n",
       "  <th>module_presentation_GGG-2014J</th> <td>   -0.1239</td> <td> 1.51e+06</td> <td>-8.22e-08</td> <td> 1.000</td> <td>-2.95e+06</td> <td> 2.95e+06</td>\n",
       "</tr>\n",
       "</table>"
      ],
      "text/plain": [
       "<class 'statsmodels.iolib.summary.Summary'>\n",
       "\"\"\"\n",
       "                           Logit Regression Results                           \n",
       "==============================================================================\n",
       "Dep. Variable:              Fail_Flag   No. Observations:                22436\n",
       "Model:                          Logit   Df Residuals:                    22400\n",
       "Method:                           MLE   Df Model:                           35\n",
       "Date:                Thu, 14 May 2020   Pseudo R-squ.:                 0.05634\n",
       "Time:                        17:37:05   Log-Likelihood:                -14666.\n",
       "converged:                       True   LL-Null:                       -15542.\n",
       "Covariance Type:            nonrobust   LLR p-value:                     0.000\n",
       "=================================================================================================\n",
       "                                    coef    std err          z      P>|z|      [0.025      0.975]\n",
       "-------------------------------------------------------------------------------------------------\n",
       "const                            -0.1614        nan        nan        nan         nan         nan\n",
       "gender                            0.0968      0.035      2.764      0.006       0.028       0.165\n",
       "highest_education                -0.4446      0.020    -22.617      0.000      -0.483      -0.406\n",
       "imd_band                         -0.0580      0.005    -11.226      0.000      -0.068      -0.048\n",
       "age_band                         -0.1803      0.030     -6.004      0.000      -0.239      -0.121\n",
       "num_of_prev_attempts              0.4094      0.033     12.506      0.000       0.345       0.474\n",
       "studied_credits                   0.0036      0.000      9.088      0.000       0.003       0.004\n",
       "disability                        0.2470      0.048      5.127      0.000       0.153       0.341\n",
       "date_registration                 0.0008      0.000      2.821      0.005       0.000       0.001\n",
       "num_assessments                   0.3470        nan        nan        nan         nan         nan\n",
       "num_tma_assessments              -0.2539   2.24e+05  -1.14e-06      1.000   -4.38e+05    4.38e+05\n",
       "num_cma_assessments              -0.2528    1.6e+05  -1.58e-06      1.000   -3.14e+05    3.14e+05\n",
       "region_East Anglian Region       -0.1959      0.049     -4.005      0.000      -0.292      -0.100\n",
       "region_Ireland                   -0.3472      0.075     -4.621      0.000      -0.494      -0.200\n",
       "region_North Region              -0.4777      0.063     -7.575      0.000      -0.601      -0.354\n",
       "region_South East Region         -0.2694      0.059     -4.550      0.000      -0.385      -0.153\n",
       "region_South Region              -0.2198      0.051     -4.344      0.000      -0.319      -0.121\n",
       "region_South West Region         -0.2657      0.054     -4.897      0.000      -0.372      -0.159\n",
       "region_Yorkshire Region          -0.1160      0.059     -1.977      0.048      -0.231      -0.001\n",
       "module_presentation_BBB-2013B     0.1062        nan        nan        nan         nan         nan\n",
       "module_presentation_BBB-2013J    -0.1187        nan        nan        nan         nan         nan\n",
       "module_presentation_BBB-2014B    -0.1670        nan        nan        nan         nan         nan\n",
       "module_presentation_BBB-2014J     0.3854      0.112      3.448      0.001       0.166       0.605\n",
       "module_presentation_CCC-2014B     0.6075   8.48e+05   7.16e-07      1.000   -1.66e+06    1.66e+06\n",
       "module_presentation_CCC-2014J     0.4075   8.48e+05    4.8e-07      1.000   -1.66e+06    1.66e+06\n",
       "module_presentation_DDD-2013B     0.2776        nan        nan        nan         nan         nan\n",
       "module_presentation_DDD-2013J     0.7063        nan        nan        nan         nan         nan\n",
       "module_presentation_DDD-2014B     0.8631        nan        nan        nan         nan         nan\n",
       "module_presentation_DDD-2014J     0.6668        nan        nan        nan         nan         nan\n",
       "module_presentation_EEE-2013J     0.4239        nan        nan        nan         nan         nan\n",
       "module_presentation_EEE-2014B     0.6791        nan        nan        nan         nan         nan\n",
       "module_presentation_EEE-2014J     0.4354        nan        nan        nan         nan         nan\n",
       "module_presentation_FFF-2013B    -0.1737   1.01e+06  -1.73e-07      1.000   -1.97e+06    1.97e+06\n",
       "module_presentation_FFF-2013J    -0.1173   1.01e+06  -1.17e-07      1.000   -1.97e+06    1.97e+06\n",
       "module_presentation_FFF-2014B     0.0311   1.01e+06   3.09e-08      1.000   -1.97e+06    1.97e+06\n",
       "module_presentation_FFF-2014J    -0.1746   1.01e+06  -1.74e-07      1.000   -1.97e+06    1.97e+06\n",
       "module_presentation_GGG-2013J    -0.1680   1.51e+06  -1.11e-07      1.000   -2.95e+06    2.95e+06\n",
       "module_presentation_GGG-2014B    -0.0942   1.51e+06  -6.25e-08      1.000   -2.95e+06    2.95e+06\n",
       "module_presentation_GGG-2014J    -0.1239   1.51e+06  -8.22e-08      1.000   -2.95e+06    2.95e+06\n",
       "=================================================================================================\n",
       "\"\"\""
      ]
     },
     "execution_count": 119,
     "metadata": {},
     "output_type": "execute_result"
    }
   ],
   "source": [
    "logit_cols_4 = \"\"\"gender\n",
    "highest_education\n",
    "imd_band\n",
    "age_band\n",
    "num_of_prev_attempts\n",
    "studied_credits\n",
    "disability\n",
    "date_registration\n",
    "num_assessments\n",
    "num_tma_assessments\n",
    "num_cma_assessments\n",
    "region_East Anglian Region\n",
    "region_Ireland\n",
    "region_North Region\n",
    "region_South East Region\n",
    "region_South Region\n",
    "region_South West Region\n",
    "region_Yorkshire Region\n",
    "module_presentation_BBB-2013B\n",
    "module_presentation_BBB-2013J\n",
    "module_presentation_BBB-2014B\n",
    "module_presentation_BBB-2014J\n",
    "module_presentation_CCC-2014B\n",
    "module_presentation_CCC-2014J\n",
    "module_presentation_DDD-2013B\n",
    "module_presentation_DDD-2013J\n",
    "module_presentation_DDD-2014B\n",
    "module_presentation_DDD-2014J\n",
    "module_presentation_EEE-2013J\n",
    "module_presentation_EEE-2014B\n",
    "module_presentation_EEE-2014J\n",
    "module_presentation_FFF-2013B\n",
    "module_presentation_FFF-2013J\n",
    "module_presentation_FFF-2014B\n",
    "module_presentation_FFF-2014J\n",
    "module_presentation_GGG-2013J\n",
    "module_presentation_GGG-2014B\n",
    "module_presentation_GGG-2014J\"\"\"\n",
    "logit_cols_4 = logit_cols_4.split('\\n')\n",
    "\n",
    "X_l = X_train_l[logit_cols_4].values\n",
    "X_const_l = add_constant(X_l, prepend=True)\n",
    "y_l = y_train_l.values\n",
    "\n",
    "logit_model = Logit(y_l, X_const_l).fit()\n",
    "logit_model.summary(yname = 'Fail_Flag', xname =  ['const'] + list(X_train_l[logit_cols_4].columns) \\\n",
    "                   )\n"
   ]
  },
  {
   "cell_type": "code",
   "execution_count": 126,
   "metadata": {},
   "outputs": [
    {
     "name": "stdout",
     "output_type": "stream",
     "text": [
      "Warning: Maximum number of iterations has been exceeded.\n",
      "         Current function value: 0.653676\n",
      "         Iterations: 35\n"
     ]
    },
    {
     "name": "stderr",
     "output_type": "stream",
     "text": [
      "/Users/jaimeadybuncio/opt/anaconda3/lib/python3.7/site-packages/statsmodels/base/model.py:512: ConvergenceWarning: Maximum Likelihood optimization failed to converge. Check mle_retvals\n",
      "  \"Check mle_retvals\", ConvergenceWarning)\n"
     ]
    },
    {
     "data": {
      "text/html": [
       "<table class=\"simpletable\">\n",
       "<caption>Logit Regression Results</caption>\n",
       "<tr>\n",
       "  <th>Dep. Variable:</th>       <td>Fail_Flag</td>    <th>  No. Observations:  </th>  <td> 22436</td> \n",
       "</tr>\n",
       "<tr>\n",
       "  <th>Model:</th>                 <td>Logit</td>      <th>  Df Residuals:      </th>  <td> 22399</td> \n",
       "</tr>\n",
       "<tr>\n",
       "  <th>Method:</th>                 <td>MLE</td>       <th>  Df Model:          </th>  <td>    36</td> \n",
       "</tr>\n",
       "<tr>\n",
       "  <th>Date:</th>            <td>Thu, 14 May 2020</td> <th>  Pseudo R-squ.:     </th>  <td>0.05635</td>\n",
       "</tr>\n",
       "<tr>\n",
       "  <th>Time:</th>                <td>17:39:24</td>     <th>  Log-Likelihood:    </th> <td> -14666.</td>\n",
       "</tr>\n",
       "<tr>\n",
       "  <th>converged:</th>             <td>False</td>      <th>  LL-Null:           </th> <td> -15542.</td>\n",
       "</tr>\n",
       "<tr>\n",
       "  <th>Covariance Type:</th>     <td>nonrobust</td>    <th>  LLR p-value:       </th>  <td> 0.000</td> \n",
       "</tr>\n",
       "</table>\n",
       "<table class=\"simpletable\">\n",
       "<tr>\n",
       "    <td></td>       <th>coef</th>     <th>std err</th>      <th>z</th>      <th>P>|z|</th>  <th>[0.025</th>    <th>0.975]</th>  \n",
       "</tr>\n",
       "<tr>\n",
       "  <th>x1</th>    <td>    0.0970</td> <td>    0.035</td> <td>    2.769</td> <td> 0.006</td> <td>    0.028</td> <td>    0.166</td>\n",
       "</tr>\n",
       "<tr>\n",
       "  <th>x2</th>    <td>   -0.4446</td> <td>    0.020</td> <td>  -22.616</td> <td> 0.000</td> <td>   -0.483</td> <td>   -0.406</td>\n",
       "</tr>\n",
       "<tr>\n",
       "  <th>x3</th>    <td>   -0.0580</td> <td>    0.005</td> <td>  -11.224</td> <td> 0.000</td> <td>   -0.068</td> <td>   -0.048</td>\n",
       "</tr>\n",
       "<tr>\n",
       "  <th>x4</th>    <td>   -0.1803</td> <td>    0.030</td> <td>   -6.005</td> <td> 0.000</td> <td>   -0.239</td> <td>   -0.121</td>\n",
       "</tr>\n",
       "<tr>\n",
       "  <th>x5</th>    <td>    0.4091</td> <td>    0.033</td> <td>   12.494</td> <td> 0.000</td> <td>    0.345</td> <td>    0.473</td>\n",
       "</tr>\n",
       "<tr>\n",
       "  <th>x6</th>    <td>    0.0036</td> <td>    0.000</td> <td>    9.094</td> <td> 0.000</td> <td>    0.003</td> <td>    0.004</td>\n",
       "</tr>\n",
       "<tr>\n",
       "  <th>x7</th>    <td>    0.2471</td> <td>    0.048</td> <td>    5.129</td> <td> 0.000</td> <td>    0.153</td> <td>    0.341</td>\n",
       "</tr>\n",
       "<tr>\n",
       "  <th>x8</th>    <td>    0.0008</td> <td>    0.000</td> <td>    2.819</td> <td> 0.005</td> <td>    0.000</td> <td>    0.001</td>\n",
       "</tr>\n",
       "<tr>\n",
       "  <th>x9</th>    <td>    0.3123</td> <td> 3.05e+04</td> <td> 1.02e-05</td> <td> 1.000</td> <td>-5.99e+04</td> <td> 5.99e+04</td>\n",
       "</tr>\n",
       "<tr>\n",
       "  <th>x10</th>   <td>   -0.1959</td> <td>    0.049</td> <td>   -4.003</td> <td> 0.000</td> <td>   -0.292</td> <td>   -0.100</td>\n",
       "</tr>\n",
       "<tr>\n",
       "  <th>x11</th>   <td>   -0.3471</td> <td>    0.075</td> <td>   -4.619</td> <td> 0.000</td> <td>   -0.494</td> <td>   -0.200</td>\n",
       "</tr>\n",
       "<tr>\n",
       "  <th>x12</th>   <td>   -0.4778</td> <td>    0.063</td> <td>   -7.575</td> <td> 0.000</td> <td>   -0.601</td> <td>   -0.354</td>\n",
       "</tr>\n",
       "<tr>\n",
       "  <th>x13</th>   <td>   -0.2697</td> <td>    0.059</td> <td>   -4.555</td> <td> 0.000</td> <td>   -0.386</td> <td>   -0.154</td>\n",
       "</tr>\n",
       "<tr>\n",
       "  <th>x14</th>   <td>   -0.2199</td> <td>    0.051</td> <td>   -4.346</td> <td> 0.000</td> <td>   -0.319</td> <td>   -0.121</td>\n",
       "</tr>\n",
       "<tr>\n",
       "  <th>x15</th>   <td>   -0.2658</td> <td>    0.054</td> <td>   -4.899</td> <td> 0.000</td> <td>   -0.372</td> <td>   -0.159</td>\n",
       "</tr>\n",
       "<tr>\n",
       "  <th>x16</th>   <td>   -0.1158</td> <td>    0.059</td> <td>   -1.975</td> <td> 0.048</td> <td>   -0.231</td> <td>   -0.001</td>\n",
       "</tr>\n",
       "<tr>\n",
       "  <th>x17</th>   <td>    1.6491</td> <td>      nan</td> <td>      nan</td> <td>   nan</td> <td>      nan</td> <td>      nan</td>\n",
       "</tr>\n",
       "<tr>\n",
       "  <th>x18</th>   <td>    0.8333</td> <td>      nan</td> <td>      nan</td> <td>   nan</td> <td>      nan</td> <td>      nan</td>\n",
       "</tr>\n",
       "<tr>\n",
       "  <th>x19</th>   <td>    0.9221</td> <td>      nan</td> <td>      nan</td> <td>   nan</td> <td>      nan</td> <td>      nan</td>\n",
       "</tr>\n",
       "<tr>\n",
       "  <th>x20</th>   <td>    0.3382</td> <td> 4.02e+05</td> <td> 8.41e-07</td> <td> 1.000</td> <td>-7.88e+05</td> <td> 7.88e+05</td>\n",
       "</tr>\n",
       "<tr>\n",
       "  <th>x21</th>   <td>   -0.1866</td> <td> 5.74e+04</td> <td>-3.25e-06</td> <td> 1.000</td> <td>-1.13e+05</td> <td> 1.13e+05</td>\n",
       "</tr>\n",
       "<tr>\n",
       "  <th>x22</th>   <td>   -2.5663</td> <td> 3.83e+05</td> <td>-6.71e-06</td> <td> 1.000</td> <td> -7.5e+05</td> <td>  7.5e+05</td>\n",
       "</tr>\n",
       "<tr>\n",
       "  <th>x23</th>   <td>    1.6503</td> <td>      nan</td> <td>      nan</td> <td>   nan</td> <td>      nan</td> <td>      nan</td>\n",
       "</tr>\n",
       "<tr>\n",
       "  <th>x24</th>   <td>    1.5762</td> <td>      nan</td> <td>      nan</td> <td>   nan</td> <td>      nan</td> <td>      nan</td>\n",
       "</tr>\n",
       "<tr>\n",
       "  <th>x25</th>   <td>   -0.0853</td> <td>      nan</td> <td>      nan</td> <td>   nan</td> <td>      nan</td> <td>      nan</td>\n",
       "</tr>\n",
       "<tr>\n",
       "  <th>x26</th>   <td>    1.8794</td> <td>      nan</td> <td>      nan</td> <td>   nan</td> <td>      nan</td> <td>      nan</td>\n",
       "</tr>\n",
       "<tr>\n",
       "  <th>const</th> <td>   -6.4095</td> <td>      nan</td> <td>      nan</td> <td>   nan</td> <td>      nan</td> <td>      nan</td>\n",
       "</tr>\n",
       "<tr>\n",
       "  <th>x27</th>   <td>    1.2914</td> <td>      nan</td> <td>      nan</td> <td>   nan</td> <td>      nan</td> <td>      nan</td>\n",
       "</tr>\n",
       "<tr>\n",
       "  <th>x28</th>   <td>    0.3325</td> <td> 2451.701</td> <td>    0.000</td> <td> 1.000</td> <td>-4804.914</td> <td> 4805.578</td>\n",
       "</tr>\n",
       "<tr>\n",
       "  <th>x29</th>   <td>    0.0159</td> <td> 1594.976</td> <td> 9.98e-06</td> <td> 1.000</td> <td>-3126.079</td> <td> 3126.111</td>\n",
       "</tr>\n",
       "<tr>\n",
       "  <th>x30</th>   <td>    0.1416</td> <td>      nan</td> <td>      nan</td> <td>   nan</td> <td>      nan</td> <td>      nan</td>\n",
       "</tr>\n",
       "<tr>\n",
       "  <th>x31</th>   <td>    0.3368</td> <td> 7278.800</td> <td> 4.63e-05</td> <td> 1.000</td> <td>-1.43e+04</td> <td> 1.43e+04</td>\n",
       "</tr>\n",
       "<tr>\n",
       "  <th>x32</th>   <td>    1.2724</td> <td> 1.02e+04</td> <td>    0.000</td> <td> 1.000</td> <td>-1.99e+04</td> <td>    2e+04</td>\n",
       "</tr>\n",
       "<tr>\n",
       "  <th>x33</th>   <td>   -0.8840</td> <td>      nan</td> <td>      nan</td> <td>   nan</td> <td>      nan</td> <td>      nan</td>\n",
       "</tr>\n",
       "<tr>\n",
       "  <th>x34</th>   <td>    0.0597</td> <td>      nan</td> <td>      nan</td> <td>   nan</td> <td>      nan</td> <td>      nan</td>\n",
       "</tr>\n",
       "<tr>\n",
       "  <th>x35</th>   <td>   -1.4826</td> <td> 2.89e+05</td> <td>-5.14e-06</td> <td> 1.000</td> <td>-5.66e+05</td> <td> 5.66e+05</td>\n",
       "</tr>\n",
       "<tr>\n",
       "  <th>x36</th>   <td>   -0.0477</td> <td>  370.753</td> <td>   -0.000</td> <td> 1.000</td> <td> -726.711</td> <td>  726.616</td>\n",
       "</tr>\n",
       "<tr>\n",
       "  <th>x37</th>   <td>    3.4047</td> <td>      nan</td> <td>      nan</td> <td>   nan</td> <td>      nan</td> <td>      nan</td>\n",
       "</tr>\n",
       "<tr>\n",
       "  <th>x38</th>   <td>   -0.0748</td> <td>      nan</td> <td>      nan</td> <td>   nan</td> <td>      nan</td> <td>      nan</td>\n",
       "</tr>\n",
       "<tr>\n",
       "  <th>x39</th>   <td>   -0.1805</td> <td> 3261.190</td> <td>-5.53e-05</td> <td> 1.000</td> <td>-6391.996</td> <td> 6391.635</td>\n",
       "</tr>\n",
       "<tr>\n",
       "  <th>x40</th>   <td>    0.0469</td> <td>      nan</td> <td>      nan</td> <td>   nan</td> <td>      nan</td> <td>      nan</td>\n",
       "</tr>\n",
       "</table>"
      ],
      "text/plain": [
       "<class 'statsmodels.iolib.summary.Summary'>\n",
       "\"\"\"\n",
       "                           Logit Regression Results                           \n",
       "==============================================================================\n",
       "Dep. Variable:              Fail_Flag   No. Observations:                22436\n",
       "Model:                          Logit   Df Residuals:                    22399\n",
       "Method:                           MLE   Df Model:                           36\n",
       "Date:                Thu, 14 May 2020   Pseudo R-squ.:                 0.05635\n",
       "Time:                        17:39:24   Log-Likelihood:                -14666.\n",
       "converged:                      False   LL-Null:                       -15542.\n",
       "Covariance Type:            nonrobust   LLR p-value:                     0.000\n",
       "==============================================================================\n",
       "                 coef    std err          z      P>|z|      [0.025      0.975]\n",
       "------------------------------------------------------------------------------\n",
       "x1             0.0970      0.035      2.769      0.006       0.028       0.166\n",
       "x2            -0.4446      0.020    -22.616      0.000      -0.483      -0.406\n",
       "x3            -0.0580      0.005    -11.224      0.000      -0.068      -0.048\n",
       "x4            -0.1803      0.030     -6.005      0.000      -0.239      -0.121\n",
       "x5             0.4091      0.033     12.494      0.000       0.345       0.473\n",
       "x6             0.0036      0.000      9.094      0.000       0.003       0.004\n",
       "x7             0.2471      0.048      5.129      0.000       0.153       0.341\n",
       "x8             0.0008      0.000      2.819      0.005       0.000       0.001\n",
       "x9             0.3123   3.05e+04   1.02e-05      1.000   -5.99e+04    5.99e+04\n",
       "x10           -0.1959      0.049     -4.003      0.000      -0.292      -0.100\n",
       "x11           -0.3471      0.075     -4.619      0.000      -0.494      -0.200\n",
       "x12           -0.4778      0.063     -7.575      0.000      -0.601      -0.354\n",
       "x13           -0.2697      0.059     -4.555      0.000      -0.386      -0.154\n",
       "x14           -0.2199      0.051     -4.346      0.000      -0.319      -0.121\n",
       "x15           -0.2658      0.054     -4.899      0.000      -0.372      -0.159\n",
       "x16           -0.1158      0.059     -1.975      0.048      -0.231      -0.001\n",
       "x17            1.6491        nan        nan        nan         nan         nan\n",
       "x18            0.8333        nan        nan        nan         nan         nan\n",
       "x19            0.9221        nan        nan        nan         nan         nan\n",
       "x20            0.3382   4.02e+05   8.41e-07      1.000   -7.88e+05    7.88e+05\n",
       "x21           -0.1866   5.74e+04  -3.25e-06      1.000   -1.13e+05    1.13e+05\n",
       "x22           -2.5663   3.83e+05  -6.71e-06      1.000    -7.5e+05     7.5e+05\n",
       "x23            1.6503        nan        nan        nan         nan         nan\n",
       "x24            1.5762        nan        nan        nan         nan         nan\n",
       "x25           -0.0853        nan        nan        nan         nan         nan\n",
       "x26            1.8794        nan        nan        nan         nan         nan\n",
       "const         -6.4095        nan        nan        nan         nan         nan\n",
       "x27            1.2914        nan        nan        nan         nan         nan\n",
       "x28            0.3325   2451.701      0.000      1.000   -4804.914    4805.578\n",
       "x29            0.0159   1594.976   9.98e-06      1.000   -3126.079    3126.111\n",
       "x30            0.1416        nan        nan        nan         nan         nan\n",
       "x31            0.3368   7278.800   4.63e-05      1.000   -1.43e+04    1.43e+04\n",
       "x32            1.2724   1.02e+04      0.000      1.000   -1.99e+04       2e+04\n",
       "x33           -0.8840        nan        nan        nan         nan         nan\n",
       "x34            0.0597        nan        nan        nan         nan         nan\n",
       "x35           -1.4826   2.89e+05  -5.14e-06      1.000   -5.66e+05    5.66e+05\n",
       "x36           -0.0477    370.753     -0.000      1.000    -726.711     726.616\n",
       "x37            3.4047        nan        nan        nan         nan         nan\n",
       "x38           -0.0748        nan        nan        nan         nan         nan\n",
       "x39           -0.1805   3261.190  -5.53e-05      1.000   -6391.996    6391.635\n",
       "x40            0.0469        nan        nan        nan         nan         nan\n",
       "==============================================================================\n",
       "\"\"\""
      ]
     },
     "execution_count": 126,
     "metadata": {},
     "output_type": "execute_result"
    }
   ],
   "source": [
    "logit_cols_4 = \"\"\"gender\n",
    "highest_education\n",
    "imd_band\n",
    "age_band\n",
    "num_of_prev_attempts\n",
    "studied_credits\n",
    "disability\n",
    "date_registration\n",
    "num_assessments\n",
    "region_East Anglian Region\n",
    "region_Ireland\n",
    "region_North Region\n",
    "region_South East Region\n",
    "region_South Region\n",
    "region_South West Region\n",
    "region_Yorkshire Region\n",
    "module_presentation_BBB-2013B\n",
    "module_presentation_BBB-2013J\n",
    "module_presentation_BBB-2014B\n",
    "module_presentation_BBB-2014J\n",
    "vle_dataplus\n",
    "vle_dualpane\n",
    "vle_externalquiz\n",
    "vle_folder\n",
    "vle_forumng\n",
    "vle_glossary\n",
    "vle_homepage\n",
    "vle_htmlactivity\n",
    "vle_oucollaborate\n",
    "vle_oucontent\n",
    "vle_ouelluminate\n",
    "vle_ouwiki\n",
    "vle_page\n",
    "vle_questionnaire\n",
    "vle_quiz\n",
    "vle_repeatactivity\n",
    "vle_resource\n",
    "vle_sharedsubpage\n",
    "vle_subpage\n",
    "vle_url\n",
    "vle_total_num_vle\"\"\"\n",
    "logit_cols_4 = logit_cols_4.split('\\n')\n",
    "\n",
    "X_l = X_train_l[logit_cols_4].values\n",
    "X_const_l = add_constant(X_l, prepend=True)\n",
    "y_l = y_train_l.values\n",
    "\n",
    "logit_model = Logit(y_l, X_const_l).fit()\n",
    "logit_model.summary(yname = 'Fail_Flag'\n",
    "                   )\n"
   ]
  },
  {
   "cell_type": "code",
   "execution_count": 128,
   "metadata": {},
   "outputs": [
    {
     "name": "stdout",
     "output_type": "stream",
     "text": [
      "Optimization terminated successfully.\n",
      "         Current function value: 0.662009\n",
      "         Iterations 5\n"
     ]
    },
    {
     "data": {
      "text/html": [
       "<table class=\"simpletable\">\n",
       "<caption>Logit Regression Results</caption>\n",
       "<tr>\n",
       "  <th>Dep. Variable:</th>       <td>Fail_Flag</td>    <th>  No. Observations:  </th>   <td> 22436</td>  \n",
       "</tr>\n",
       "<tr>\n",
       "  <th>Model:</th>                 <td>Logit</td>      <th>  Df Residuals:      </th>   <td> 22414</td>  \n",
       "</tr>\n",
       "<tr>\n",
       "  <th>Method:</th>                 <td>MLE</td>       <th>  Df Model:          </th>   <td>    21</td>  \n",
       "</tr>\n",
       "<tr>\n",
       "  <th>Date:</th>            <td>Thu, 14 May 2020</td> <th>  Pseudo R-squ.:     </th>   <td>0.04432</td> \n",
       "</tr>\n",
       "<tr>\n",
       "  <th>Time:</th>                <td>17:40:32</td>     <th>  Log-Likelihood:    </th>  <td> -14853.</td> \n",
       "</tr>\n",
       "<tr>\n",
       "  <th>converged:</th>             <td>True</td>       <th>  LL-Null:           </th>  <td> -15542.</td> \n",
       "</tr>\n",
       "<tr>\n",
       "  <th>Covariance Type:</th>     <td>nonrobust</td>    <th>  LLR p-value:       </th> <td>5.939e-279</td>\n",
       "</tr>\n",
       "</table>\n",
       "<table class=\"simpletable\">\n",
       "<tr>\n",
       "                <td></td>                   <th>coef</th>     <th>std err</th>      <th>z</th>      <th>P>|z|</th>  <th>[0.025</th>    <th>0.975]</th>  \n",
       "</tr>\n",
       "<tr>\n",
       "  <th>const</th>                         <td>    0.9643</td> <td>    0.090</td> <td>   10.774</td> <td> 0.000</td> <td>    0.789</td> <td>    1.140</td>\n",
       "</tr>\n",
       "<tr>\n",
       "  <th>gender</th>                        <td>    0.1372</td> <td>    0.032</td> <td>    4.280</td> <td> 0.000</td> <td>    0.074</td> <td>    0.200</td>\n",
       "</tr>\n",
       "<tr>\n",
       "  <th>highest_education</th>             <td>   -0.3972</td> <td>    0.019</td> <td>  -20.742</td> <td> 0.000</td> <td>   -0.435</td> <td>   -0.360</td>\n",
       "</tr>\n",
       "<tr>\n",
       "  <th>imd_band</th>                      <td>   -0.0566</td> <td>    0.005</td> <td>  -11.064</td> <td> 0.000</td> <td>   -0.067</td> <td>   -0.047</td>\n",
       "</tr>\n",
       "<tr>\n",
       "  <th>age_band</th>                      <td>   -0.2045</td> <td>    0.030</td> <td>   -6.911</td> <td> 0.000</td> <td>   -0.263</td> <td>   -0.147</td>\n",
       "</tr>\n",
       "<tr>\n",
       "  <th>num_of_prev_attempts</th>          <td>    0.4079</td> <td>    0.032</td> <td>   12.575</td> <td> 0.000</td> <td>    0.344</td> <td>    0.472</td>\n",
       "</tr>\n",
       "<tr>\n",
       "  <th>studied_credits</th>               <td>    0.0041</td> <td>    0.000</td> <td>   10.625</td> <td> 0.000</td> <td>    0.003</td> <td>    0.005</td>\n",
       "</tr>\n",
       "<tr>\n",
       "  <th>disability</th>                    <td>    0.2502</td> <td>    0.048</td> <td>    5.246</td> <td> 0.000</td> <td>    0.157</td> <td>    0.344</td>\n",
       "</tr>\n",
       "<tr>\n",
       "  <th>date_registration</th>             <td>    0.0004</td> <td>    0.000</td> <td>    1.475</td> <td> 0.140</td> <td>   -0.000</td> <td>    0.001</td>\n",
       "</tr>\n",
       "<tr>\n",
       "  <th>num_assessments</th>               <td>    0.0059</td> <td>    0.006</td> <td>    0.920</td> <td> 0.357</td> <td>   -0.007</td> <td>    0.019</td>\n",
       "</tr>\n",
       "<tr>\n",
       "  <th>region_East Anglian Region</th>    <td>   -0.2025</td> <td>    0.048</td> <td>   -4.182</td> <td> 0.000</td> <td>   -0.297</td> <td>   -0.108</td>\n",
       "</tr>\n",
       "<tr>\n",
       "  <th>region_Ireland</th>                <td>   -0.3203</td> <td>    0.075</td> <td>   -4.287</td> <td> 0.000</td> <td>   -0.467</td> <td>   -0.174</td>\n",
       "</tr>\n",
       "<tr>\n",
       "  <th>region_North Region</th>           <td>   -0.4510</td> <td>    0.062</td> <td>   -7.222</td> <td> 0.000</td> <td>   -0.573</td> <td>   -0.329</td>\n",
       "</tr>\n",
       "<tr>\n",
       "  <th>region_South East Region</th>      <td>   -0.2775</td> <td>    0.059</td> <td>   -4.736</td> <td> 0.000</td> <td>   -0.392</td> <td>   -0.163</td>\n",
       "</tr>\n",
       "<tr>\n",
       "  <th>region_South Region</th>           <td>   -0.2301</td> <td>    0.050</td> <td>   -4.589</td> <td> 0.000</td> <td>   -0.328</td> <td>   -0.132</td>\n",
       "</tr>\n",
       "<tr>\n",
       "  <th>region_South West Region</th>      <td>   -0.2620</td> <td>    0.054</td> <td>   -4.875</td> <td> 0.000</td> <td>   -0.367</td> <td>   -0.157</td>\n",
       "</tr>\n",
       "<tr>\n",
       "  <th>region_Yorkshire Region</th>       <td>   -0.1269</td> <td>    0.058</td> <td>   -2.185</td> <td> 0.029</td> <td>   -0.241</td> <td>   -0.013</td>\n",
       "</tr>\n",
       "<tr>\n",
       "  <th>module_presentation_BBB-2013B</th> <td>    0.0333</td> <td>    0.065</td> <td>    0.511</td> <td> 0.609</td> <td>   -0.095</td> <td>    0.161</td>\n",
       "</tr>\n",
       "<tr>\n",
       "  <th>module_presentation_BBB-2013J</th> <td>   -0.1932</td> <td>    0.061</td> <td>   -3.188</td> <td> 0.001</td> <td>   -0.312</td> <td>   -0.074</td>\n",
       "</tr>\n",
       "<tr>\n",
       "  <th>module_presentation_BBB-2014B</th> <td>   -0.2430</td> <td>    0.072</td> <td>   -3.395</td> <td> 0.001</td> <td>   -0.383</td> <td>   -0.103</td>\n",
       "</tr>\n",
       "<tr>\n",
       "  <th>module_presentation_BBB-2014J</th> <td>   -0.1958</td> <td>    0.061</td> <td>   -3.192</td> <td> 0.001</td> <td>   -0.316</td> <td>   -0.076</td>\n",
       "</tr>\n",
       "<tr>\n",
       "  <th>vle_total_num_vle</th>             <td>    0.0002</td> <td>    0.000</td> <td>    1.480</td> <td> 0.139</td> <td> -6.2e-05</td> <td>    0.000</td>\n",
       "</tr>\n",
       "</table>"
      ],
      "text/plain": [
       "<class 'statsmodels.iolib.summary.Summary'>\n",
       "\"\"\"\n",
       "                           Logit Regression Results                           \n",
       "==============================================================================\n",
       "Dep. Variable:              Fail_Flag   No. Observations:                22436\n",
       "Model:                          Logit   Df Residuals:                    22414\n",
       "Method:                           MLE   Df Model:                           21\n",
       "Date:                Thu, 14 May 2020   Pseudo R-squ.:                 0.04432\n",
       "Time:                        17:40:32   Log-Likelihood:                -14853.\n",
       "converged:                       True   LL-Null:                       -15542.\n",
       "Covariance Type:            nonrobust   LLR p-value:                5.939e-279\n",
       "=================================================================================================\n",
       "                                    coef    std err          z      P>|z|      [0.025      0.975]\n",
       "-------------------------------------------------------------------------------------------------\n",
       "const                             0.9643      0.090     10.774      0.000       0.789       1.140\n",
       "gender                            0.1372      0.032      4.280      0.000       0.074       0.200\n",
       "highest_education                -0.3972      0.019    -20.742      0.000      -0.435      -0.360\n",
       "imd_band                         -0.0566      0.005    -11.064      0.000      -0.067      -0.047\n",
       "age_band                         -0.2045      0.030     -6.911      0.000      -0.263      -0.147\n",
       "num_of_prev_attempts              0.4079      0.032     12.575      0.000       0.344       0.472\n",
       "studied_credits                   0.0041      0.000     10.625      0.000       0.003       0.005\n",
       "disability                        0.2502      0.048      5.246      0.000       0.157       0.344\n",
       "date_registration                 0.0004      0.000      1.475      0.140      -0.000       0.001\n",
       "num_assessments                   0.0059      0.006      0.920      0.357      -0.007       0.019\n",
       "region_East Anglian Region       -0.2025      0.048     -4.182      0.000      -0.297      -0.108\n",
       "region_Ireland                   -0.3203      0.075     -4.287      0.000      -0.467      -0.174\n",
       "region_North Region              -0.4510      0.062     -7.222      0.000      -0.573      -0.329\n",
       "region_South East Region         -0.2775      0.059     -4.736      0.000      -0.392      -0.163\n",
       "region_South Region              -0.2301      0.050     -4.589      0.000      -0.328      -0.132\n",
       "region_South West Region         -0.2620      0.054     -4.875      0.000      -0.367      -0.157\n",
       "region_Yorkshire Region          -0.1269      0.058     -2.185      0.029      -0.241      -0.013\n",
       "module_presentation_BBB-2013B     0.0333      0.065      0.511      0.609      -0.095       0.161\n",
       "module_presentation_BBB-2013J    -0.1932      0.061     -3.188      0.001      -0.312      -0.074\n",
       "module_presentation_BBB-2014B    -0.2430      0.072     -3.395      0.001      -0.383      -0.103\n",
       "module_presentation_BBB-2014J    -0.1958      0.061     -3.192      0.001      -0.316      -0.076\n",
       "vle_total_num_vle                 0.0002      0.000      1.480      0.139    -6.2e-05       0.000\n",
       "=================================================================================================\n",
       "\"\"\""
      ]
     },
     "execution_count": 128,
     "metadata": {},
     "output_type": "execute_result"
    }
   ],
   "source": [
    "logit_cols_4 = \"\"\"gender\n",
    "highest_education\n",
    "imd_band\n",
    "age_band\n",
    "num_of_prev_attempts\n",
    "studied_credits\n",
    "disability\n",
    "date_registration\n",
    "num_assessments\n",
    "region_East Anglian Region\n",
    "region_Ireland\n",
    "region_North Region\n",
    "region_South East Region\n",
    "region_South Region\n",
    "region_South West Region\n",
    "region_Yorkshire Region\n",
    "module_presentation_BBB-2013B\n",
    "module_presentation_BBB-2013J\n",
    "module_presentation_BBB-2014B\n",
    "module_presentation_BBB-2014J\n",
    "vle_total_num_vle\"\"\"\n",
    "logit_cols_4 = logit_cols_4.split('\\n')\n",
    "\n",
    "X_l = X_train_l[logit_cols_4].values\n",
    "X_const_l = add_constant(X_l, prepend=True)\n",
    "y_l = y_train_l.values\n",
    "\n",
    "logit_model = Logit(y_l, X_const_l).fit()\n",
    "logit_model.summary(yname = 'Fail_Flag', xname =  ['const'] + list(X_train_l[logit_cols_4].columns)\n",
    "                   )\n"
   ]
  },
  {
   "cell_type": "code",
   "execution_count": 129,
   "metadata": {},
   "outputs": [
    {
     "name": "stdout",
     "output_type": "stream",
     "text": [
      "Optimization terminated successfully.\n",
      "         Current function value: 0.621507\n",
      "         Iterations 24\n"
     ]
    },
    {
     "data": {
      "text/html": [
       "<table class=\"simpletable\">\n",
       "<caption>Logit Regression Results</caption>\n",
       "<tr>\n",
       "  <th>Dep. Variable:</th>       <td>Fail_Flag</td>    <th>  No. Observations:  </th>  <td> 22436</td> \n",
       "</tr>\n",
       "<tr>\n",
       "  <th>Model:</th>                 <td>Logit</td>      <th>  Df Residuals:      </th>  <td> 22382</td> \n",
       "</tr>\n",
       "<tr>\n",
       "  <th>Method:</th>                 <td>MLE</td>       <th>  Df Model:          </th>  <td>    53</td> \n",
       "</tr>\n",
       "<tr>\n",
       "  <th>Date:</th>            <td>Thu, 14 May 2020</td> <th>  Pseudo R-squ.:     </th>  <td>0.1028</td> \n",
       "</tr>\n",
       "<tr>\n",
       "  <th>Time:</th>                <td>17:41:53</td>     <th>  Log-Likelihood:    </th> <td> -13944.</td>\n",
       "</tr>\n",
       "<tr>\n",
       "  <th>converged:</th>             <td>True</td>       <th>  LL-Null:           </th> <td> -15542.</td>\n",
       "</tr>\n",
       "<tr>\n",
       "  <th>Covariance Type:</th>     <td>nonrobust</td>    <th>  LLR p-value:       </th>  <td> 0.000</td> \n",
       "</tr>\n",
       "</table>\n",
       "<table class=\"simpletable\">\n",
       "<tr>\n",
       "                 <td></td>                   <th>coef</th>     <th>std err</th>      <th>z</th>      <th>P>|z|</th>  <th>[0.025</th>    <th>0.975]</th>  \n",
       "</tr>\n",
       "<tr>\n",
       "  <th>const</th>                          <td>  281.4733</td> <td>      nan</td> <td>      nan</td> <td>   nan</td> <td>      nan</td> <td>      nan</td>\n",
       "</tr>\n",
       "<tr>\n",
       "  <th>gender</th>                         <td>    0.0089</td> <td>    0.036</td> <td>    0.244</td> <td> 0.808</td> <td>   -0.063</td> <td>    0.080</td>\n",
       "</tr>\n",
       "<tr>\n",
       "  <th>highest_education</th>              <td>   -0.4521</td> <td>    0.020</td> <td>  -22.202</td> <td> 0.000</td> <td>   -0.492</td> <td>   -0.412</td>\n",
       "</tr>\n",
       "<tr>\n",
       "  <th>imd_band</th>                       <td>   -0.0590</td> <td>    0.005</td> <td>  -11.045</td> <td> 0.000</td> <td>   -0.069</td> <td>   -0.049</td>\n",
       "</tr>\n",
       "<tr>\n",
       "  <th>age_band</th>                       <td>   -0.0390</td> <td>    0.031</td> <td>   -1.243</td> <td> 0.214</td> <td>   -0.101</td> <td>    0.023</td>\n",
       "</tr>\n",
       "<tr>\n",
       "  <th>num_of_prev_attempts</th>           <td>    0.3438</td> <td>    0.034</td> <td>   10.233</td> <td> 0.000</td> <td>    0.278</td> <td>    0.410</td>\n",
       "</tr>\n",
       "<tr>\n",
       "  <th>studied_credits</th>                <td>    0.0041</td> <td>    0.000</td> <td>    9.897</td> <td> 0.000</td> <td>    0.003</td> <td>    0.005</td>\n",
       "</tr>\n",
       "<tr>\n",
       "  <th>disability</th>                     <td>    0.2824</td> <td>    0.050</td> <td>    5.643</td> <td> 0.000</td> <td>    0.184</td> <td>    0.380</td>\n",
       "</tr>\n",
       "<tr>\n",
       "  <th>date_registration</th>              <td>   -0.0002</td> <td>    0.000</td> <td>   -0.608</td> <td> 0.543</td> <td>   -0.001</td> <td>    0.000</td>\n",
       "</tr>\n",
       "<tr>\n",
       "  <th>num_assessments</th>                <td>-1364.5490</td> <td>      nan</td> <td>      nan</td> <td>   nan</td> <td>      nan</td> <td>      nan</td>\n",
       "</tr>\n",
       "<tr>\n",
       "  <th>num_tma_assessments</th>            <td> 1581.4245</td> <td>      nan</td> <td>      nan</td> <td>   nan</td> <td>      nan</td> <td>      nan</td>\n",
       "</tr>\n",
       "<tr>\n",
       "  <th>num_cma_assessments</th>            <td> 1238.5990</td> <td>      nan</td> <td>      nan</td> <td>   nan</td> <td>      nan</td> <td>      nan</td>\n",
       "</tr>\n",
       "<tr>\n",
       "  <th>region_East Anglian Region</th>     <td>   -0.2164</td> <td>    0.050</td> <td>   -4.290</td> <td> 0.000</td> <td>   -0.315</td> <td>   -0.118</td>\n",
       "</tr>\n",
       "<tr>\n",
       "  <th>region_Ireland</th>                 <td>   -0.3243</td> <td>    0.077</td> <td>   -4.210</td> <td> 0.000</td> <td>   -0.475</td> <td>   -0.173</td>\n",
       "</tr>\n",
       "<tr>\n",
       "  <th>region_North Region</th>            <td>   -0.4316</td> <td>    0.065</td> <td>   -6.592</td> <td> 0.000</td> <td>   -0.560</td> <td>   -0.303</td>\n",
       "</tr>\n",
       "<tr>\n",
       "  <th>region_South East Region</th>       <td>   -0.2793</td> <td>    0.061</td> <td>   -4.564</td> <td> 0.000</td> <td>   -0.399</td> <td>   -0.159</td>\n",
       "</tr>\n",
       "<tr>\n",
       "  <th>region_South Region</th>            <td>   -0.2536</td> <td>    0.052</td> <td>   -4.858</td> <td> 0.000</td> <td>   -0.356</td> <td>   -0.151</td>\n",
       "</tr>\n",
       "<tr>\n",
       "  <th>region_South West Region</th>       <td>   -0.2861</td> <td>    0.056</td> <td>   -5.091</td> <td> 0.000</td> <td>   -0.396</td> <td>   -0.176</td>\n",
       "</tr>\n",
       "<tr>\n",
       "  <th>region_Yorkshire Region</th>        <td>   -0.1056</td> <td>    0.061</td> <td>   -1.738</td> <td> 0.082</td> <td>   -0.225</td> <td>    0.014</td>\n",
       "</tr>\n",
       "<tr>\n",
       "  <th>module_presentation_BBB-2013B</th>  <td>  413.0782</td> <td>      nan</td> <td>      nan</td> <td>   nan</td> <td>      nan</td> <td>      nan</td>\n",
       "</tr>\n",
       "<tr>\n",
       "  <th>module_presentation_BBB-2013J</th>  <td>  412.8345</td> <td>      nan</td> <td>      nan</td> <td>   nan</td> <td>      nan</td> <td>      nan</td>\n",
       "</tr>\n",
       "<tr>\n",
       "  <th>module_presentation_BBB-2014B</th>  <td>  412.7415</td> <td>      nan</td> <td>      nan</td> <td>   nan</td> <td>      nan</td> <td>      nan</td>\n",
       "</tr>\n",
       "<tr>\n",
       "  <th>module_presentation_BBB-2014J</th>  <td>   -0.0594</td> <td>    0.122</td> <td>   -0.488</td> <td> 0.625</td> <td>   -0.298</td> <td>    0.179</td>\n",
       "</tr>\n",
       "<tr>\n",
       "  <th>module_presentation_CCC-2014B</th>  <td> 2086.3242</td> <td>      nan</td> <td>      nan</td> <td>   nan</td> <td>      nan</td> <td>      nan</td>\n",
       "</tr>\n",
       "<tr>\n",
       "  <th>module_presentation_CCC-2014J</th>  <td> 2086.1321</td> <td>      nan</td> <td>      nan</td> <td>   nan</td> <td>      nan</td> <td>      nan</td>\n",
       "</tr>\n",
       "<tr>\n",
       "  <th>module_presentation_DDD-2013B</th>  <td>  665.8175</td> <td>      nan</td> <td>      nan</td> <td>   nan</td> <td>      nan</td> <td>      nan</td>\n",
       "</tr>\n",
       "<tr>\n",
       "  <th>module_presentation_DDD-2013J</th>  <td> -216.0096</td> <td>      nan</td> <td>      nan</td> <td>   nan</td> <td>      nan</td> <td>      nan</td>\n",
       "</tr>\n",
       "<tr>\n",
       "  <th>module_presentation_DDD-2014B</th>  <td> -215.9194</td> <td>      nan</td> <td>      nan</td> <td>   nan</td> <td>      nan</td> <td>      nan</td>\n",
       "</tr>\n",
       "<tr>\n",
       "  <th>module_presentation_DDD-2014J</th>  <td> -216.0271</td> <td>      nan</td> <td>      nan</td> <td>   nan</td> <td>      nan</td> <td>      nan</td>\n",
       "</tr>\n",
       "<tr>\n",
       "  <th>module_presentation_EEE-2013J</th>  <td>  216.9686</td> <td>      nan</td> <td>      nan</td> <td>   nan</td> <td>      nan</td> <td>      nan</td>\n",
       "</tr>\n",
       "<tr>\n",
       "  <th>module_presentation_EEE-2014B</th>  <td>  217.3297</td> <td>      nan</td> <td>      nan</td> <td>   nan</td> <td>      nan</td> <td>      nan</td>\n",
       "</tr>\n",
       "<tr>\n",
       "  <th>module_presentation_EEE-2014J</th>  <td>  217.0280</td> <td>      nan</td> <td>      nan</td> <td>   nan</td> <td>      nan</td> <td>      nan</td>\n",
       "</tr>\n",
       "<tr>\n",
       "  <th>module_presentation_FFF-2013B</th>  <td>  882.1791</td> <td>      nan</td> <td>      nan</td> <td>   nan</td> <td>      nan</td> <td>      nan</td>\n",
       "</tr>\n",
       "<tr>\n",
       "  <th>module_presentation_FFF-2013J</th>  <td>  882.0981</td> <td>      nan</td> <td>      nan</td> <td>   nan</td> <td>      nan</td> <td>      nan</td>\n",
       "</tr>\n",
       "<tr>\n",
       "  <th>module_presentation_FFF-2014B</th>  <td>  882.1990</td> <td>      nan</td> <td>      nan</td> <td>   nan</td> <td>      nan</td> <td>      nan</td>\n",
       "</tr>\n",
       "<tr>\n",
       "  <th>module_presentation_FFF-2014J</th>  <td>  882.1894</td> <td>      nan</td> <td>      nan</td> <td>   nan</td> <td>      nan</td> <td>      nan</td>\n",
       "</tr>\n",
       "<tr>\n",
       "  <th>module_presentation_GGG-2013J</th>  <td> 1189.1662</td> <td>      nan</td> <td>      nan</td> <td>   nan</td> <td>      nan</td> <td>      nan</td>\n",
       "</tr>\n",
       "<tr>\n",
       "  <th>module_presentation_GGG-2014B</th>  <td> 1189.1766</td> <td>      nan</td> <td>      nan</td> <td>   nan</td> <td>      nan</td> <td>      nan</td>\n",
       "</tr>\n",
       "<tr>\n",
       "  <th>module_presentation_GGG-2014J</th>  <td> 1189.2437</td> <td>      nan</td> <td>      nan</td> <td>   nan</td> <td>      nan</td> <td>      nan</td>\n",
       "</tr>\n",
       "<tr>\n",
       "  <th>before_days_dataplus</th>           <td>    0.6469</td> <td>      nan</td> <td>      nan</td> <td>   nan</td> <td>      nan</td> <td>      nan</td>\n",
       "</tr>\n",
       "<tr>\n",
       "  <th>before_days_dualpane</th>           <td>   -0.0829</td> <td>      nan</td> <td>      nan</td> <td>   nan</td> <td>      nan</td> <td>      nan</td>\n",
       "</tr>\n",
       "<tr>\n",
       "  <th>before_days_externalquiz</th>       <td>   -0.0620</td> <td>      nan</td> <td>      nan</td> <td>   nan</td> <td>      nan</td> <td>      nan</td>\n",
       "</tr>\n",
       "<tr>\n",
       "  <th>before_days_forumng</th>            <td>   -0.0549</td> <td>      nan</td> <td>      nan</td> <td>   nan</td> <td>      nan</td> <td>      nan</td>\n",
       "</tr>\n",
       "<tr>\n",
       "  <th>before_days_glossary</th>           <td>   -0.0842</td> <td>      nan</td> <td>      nan</td> <td>   nan</td> <td>      nan</td> <td>      nan</td>\n",
       "</tr>\n",
       "<tr>\n",
       "  <th>before_days_homepage</th>           <td>   -0.1722</td> <td>      nan</td> <td>      nan</td> <td>   nan</td> <td>      nan</td> <td>      nan</td>\n",
       "</tr>\n",
       "<tr>\n",
       "  <th>before_days_htmlactivity</th>       <td>   -0.0825</td> <td>      nan</td> <td>      nan</td> <td>   nan</td> <td>      nan</td> <td>      nan</td>\n",
       "</tr>\n",
       "<tr>\n",
       "  <th>before_days_oucollaborate</th>      <td>    0.0104</td> <td>      nan</td> <td>      nan</td> <td>   nan</td> <td>      nan</td> <td>      nan</td>\n",
       "</tr>\n",
       "<tr>\n",
       "  <th>before_days_oucontent</th>          <td>   -0.0646</td> <td>      nan</td> <td>      nan</td> <td>   nan</td> <td>      nan</td> <td>      nan</td>\n",
       "</tr>\n",
       "<tr>\n",
       "  <th>before_days_ouelluminate</th>       <td>    0.0353</td> <td>      nan</td> <td>      nan</td> <td>   nan</td> <td>      nan</td> <td>      nan</td>\n",
       "</tr>\n",
       "<tr>\n",
       "  <th>before_days_ouwiki</th>             <td>   -0.1221</td> <td>      nan</td> <td>      nan</td> <td>   nan</td> <td>      nan</td> <td>      nan</td>\n",
       "</tr>\n",
       "<tr>\n",
       "  <th>before_days_page</th>               <td>    0.0453</td> <td>      nan</td> <td>      nan</td> <td>   nan</td> <td>      nan</td> <td>      nan</td>\n",
       "</tr>\n",
       "<tr>\n",
       "  <th>before_days_questionnaire</th>      <td>    0.2275</td> <td>      nan</td> <td>      nan</td> <td>   nan</td> <td>      nan</td> <td>      nan</td>\n",
       "</tr>\n",
       "<tr>\n",
       "  <th>before_days_quiz</th>               <td>   -0.0825</td> <td>      nan</td> <td>      nan</td> <td>   nan</td> <td>      nan</td> <td>      nan</td>\n",
       "</tr>\n",
       "<tr>\n",
       "  <th>before_days_resource</th>           <td>   -0.0463</td> <td>      nan</td> <td>      nan</td> <td>   nan</td> <td>      nan</td> <td>      nan</td>\n",
       "</tr>\n",
       "<tr>\n",
       "  <th>before_days_sharedsubpage</th>      <td>    0.0310</td> <td>      nan</td> <td>      nan</td> <td>   nan</td> <td>      nan</td> <td>      nan</td>\n",
       "</tr>\n",
       "<tr>\n",
       "  <th>before_days_subpage</th>            <td>   -0.0455</td> <td>      nan</td> <td>      nan</td> <td>   nan</td> <td>      nan</td> <td>      nan</td>\n",
       "</tr>\n",
       "<tr>\n",
       "  <th>before_days_url</th>                <td>   -0.0524</td> <td>      nan</td> <td>      nan</td> <td>   nan</td> <td>      nan</td> <td>      nan</td>\n",
       "</tr>\n",
       "<tr>\n",
       "  <th>before_days_total_num_vle_days</th> <td>    0.0433</td> <td>      nan</td> <td>      nan</td> <td>   nan</td> <td>      nan</td> <td>      nan</td>\n",
       "</tr>\n",
       "</table>"
      ],
      "text/plain": [
       "<class 'statsmodels.iolib.summary.Summary'>\n",
       "\"\"\"\n",
       "                           Logit Regression Results                           \n",
       "==============================================================================\n",
       "Dep. Variable:              Fail_Flag   No. Observations:                22436\n",
       "Model:                          Logit   Df Residuals:                    22382\n",
       "Method:                           MLE   Df Model:                           53\n",
       "Date:                Thu, 14 May 2020   Pseudo R-squ.:                  0.1028\n",
       "Time:                        17:41:53   Log-Likelihood:                -13944.\n",
       "converged:                       True   LL-Null:                       -15542.\n",
       "Covariance Type:            nonrobust   LLR p-value:                     0.000\n",
       "==================================================================================================\n",
       "                                     coef    std err          z      P>|z|      [0.025      0.975]\n",
       "--------------------------------------------------------------------------------------------------\n",
       "const                            281.4733        nan        nan        nan         nan         nan\n",
       "gender                             0.0089      0.036      0.244      0.808      -0.063       0.080\n",
       "highest_education                 -0.4521      0.020    -22.202      0.000      -0.492      -0.412\n",
       "imd_band                          -0.0590      0.005    -11.045      0.000      -0.069      -0.049\n",
       "age_band                          -0.0390      0.031     -1.243      0.214      -0.101       0.023\n",
       "num_of_prev_attempts               0.3438      0.034     10.233      0.000       0.278       0.410\n",
       "studied_credits                    0.0041      0.000      9.897      0.000       0.003       0.005\n",
       "disability                         0.2824      0.050      5.643      0.000       0.184       0.380\n",
       "date_registration                 -0.0002      0.000     -0.608      0.543      -0.001       0.000\n",
       "num_assessments                -1364.5490        nan        nan        nan         nan         nan\n",
       "num_tma_assessments             1581.4245        nan        nan        nan         nan         nan\n",
       "num_cma_assessments             1238.5990        nan        nan        nan         nan         nan\n",
       "region_East Anglian Region        -0.2164      0.050     -4.290      0.000      -0.315      -0.118\n",
       "region_Ireland                    -0.3243      0.077     -4.210      0.000      -0.475      -0.173\n",
       "region_North Region               -0.4316      0.065     -6.592      0.000      -0.560      -0.303\n",
       "region_South East Region          -0.2793      0.061     -4.564      0.000      -0.399      -0.159\n",
       "region_South Region               -0.2536      0.052     -4.858      0.000      -0.356      -0.151\n",
       "region_South West Region          -0.2861      0.056     -5.091      0.000      -0.396      -0.176\n",
       "region_Yorkshire Region           -0.1056      0.061     -1.738      0.082      -0.225       0.014\n",
       "module_presentation_BBB-2013B    413.0782        nan        nan        nan         nan         nan\n",
       "module_presentation_BBB-2013J    412.8345        nan        nan        nan         nan         nan\n",
       "module_presentation_BBB-2014B    412.7415        nan        nan        nan         nan         nan\n",
       "module_presentation_BBB-2014J     -0.0594      0.122     -0.488      0.625      -0.298       0.179\n",
       "module_presentation_CCC-2014B   2086.3242        nan        nan        nan         nan         nan\n",
       "module_presentation_CCC-2014J   2086.1321        nan        nan        nan         nan         nan\n",
       "module_presentation_DDD-2013B    665.8175        nan        nan        nan         nan         nan\n",
       "module_presentation_DDD-2013J   -216.0096        nan        nan        nan         nan         nan\n",
       "module_presentation_DDD-2014B   -215.9194        nan        nan        nan         nan         nan\n",
       "module_presentation_DDD-2014J   -216.0271        nan        nan        nan         nan         nan\n",
       "module_presentation_EEE-2013J    216.9686        nan        nan        nan         nan         nan\n",
       "module_presentation_EEE-2014B    217.3297        nan        nan        nan         nan         nan\n",
       "module_presentation_EEE-2014J    217.0280        nan        nan        nan         nan         nan\n",
       "module_presentation_FFF-2013B    882.1791        nan        nan        nan         nan         nan\n",
       "module_presentation_FFF-2013J    882.0981        nan        nan        nan         nan         nan\n",
       "module_presentation_FFF-2014B    882.1990        nan        nan        nan         nan         nan\n",
       "module_presentation_FFF-2014J    882.1894        nan        nan        nan         nan         nan\n",
       "module_presentation_GGG-2013J   1189.1662        nan        nan        nan         nan         nan\n",
       "module_presentation_GGG-2014B   1189.1766        nan        nan        nan         nan         nan\n",
       "module_presentation_GGG-2014J   1189.2437        nan        nan        nan         nan         nan\n",
       "before_days_dataplus               0.6469        nan        nan        nan         nan         nan\n",
       "before_days_dualpane              -0.0829        nan        nan        nan         nan         nan\n",
       "before_days_externalquiz          -0.0620        nan        nan        nan         nan         nan\n",
       "before_days_forumng               -0.0549        nan        nan        nan         nan         nan\n",
       "before_days_glossary              -0.0842        nan        nan        nan         nan         nan\n",
       "before_days_homepage              -0.1722        nan        nan        nan         nan         nan\n",
       "before_days_htmlactivity          -0.0825        nan        nan        nan         nan         nan\n",
       "before_days_oucollaborate          0.0104        nan        nan        nan         nan         nan\n",
       "before_days_oucontent             -0.0646        nan        nan        nan         nan         nan\n",
       "before_days_ouelluminate           0.0353        nan        nan        nan         nan         nan\n",
       "before_days_ouwiki                -0.1221        nan        nan        nan         nan         nan\n",
       "before_days_page                   0.0453        nan        nan        nan         nan         nan\n",
       "before_days_questionnaire          0.2275        nan        nan        nan         nan         nan\n",
       "before_days_quiz                  -0.0825        nan        nan        nan         nan         nan\n",
       "before_days_resource              -0.0463        nan        nan        nan         nan         nan\n",
       "before_days_sharedsubpage          0.0310        nan        nan        nan         nan         nan\n",
       "before_days_subpage               -0.0455        nan        nan        nan         nan         nan\n",
       "before_days_url                   -0.0524        nan        nan        nan         nan         nan\n",
       "before_days_total_num_vle_days     0.0433        nan        nan        nan         nan         nan\n",
       "==================================================================================================\n",
       "\"\"\""
      ]
     },
     "execution_count": 129,
     "metadata": {},
     "output_type": "execute_result"
    }
   ],
   "source": [
    "logit_cols_4 = \"\"\"gender\n",
    "highest_education\n",
    "imd_band\n",
    "age_band\n",
    "num_of_prev_attempts\n",
    "studied_credits\n",
    "disability\n",
    "date_registration\n",
    "num_assessments\n",
    "num_tma_assessments\n",
    "num_cma_assessments\n",
    "region_East Anglian Region\n",
    "region_Ireland\n",
    "region_North Region\n",
    "region_South East Region\n",
    "region_South Region\n",
    "region_South West Region\n",
    "region_Yorkshire Region\n",
    "module_presentation_BBB-2013B\n",
    "module_presentation_BBB-2013J\n",
    "module_presentation_BBB-2014B\n",
    "module_presentation_BBB-2014J\n",
    "module_presentation_CCC-2014B\n",
    "module_presentation_CCC-2014J\n",
    "module_presentation_DDD-2013B\n",
    "module_presentation_DDD-2013J\n",
    "module_presentation_DDD-2014B\n",
    "module_presentation_DDD-2014J\n",
    "module_presentation_EEE-2013J\n",
    "module_presentation_EEE-2014B\n",
    "module_presentation_EEE-2014J\n",
    "module_presentation_FFF-2013B\n",
    "module_presentation_FFF-2013J\n",
    "module_presentation_FFF-2014B\n",
    "module_presentation_FFF-2014J\n",
    "module_presentation_GGG-2013J\n",
    "module_presentation_GGG-2014B\n",
    "module_presentation_GGG-2014J\n",
    "before_days_dataplus\n",
    "before_days_dualpane\n",
    "before_days_externalquiz\n",
    "before_days_forumng\n",
    "before_days_glossary\n",
    "before_days_homepage\n",
    "before_days_htmlactivity\n",
    "before_days_oucollaborate\n",
    "before_days_oucontent\n",
    "before_days_ouelluminate\n",
    "before_days_ouwiki\n",
    "before_days_page\n",
    "before_days_questionnaire\n",
    "before_days_quiz\n",
    "before_days_resource\n",
    "before_days_sharedsubpage\n",
    "before_days_subpage\n",
    "before_days_url\n",
    "before_days_total_num_vle_days\"\"\"\n",
    "logit_cols_4 = logit_cols_4.split('\\n')\n",
    "\n",
    "X_l = X_train_l[logit_cols_4].values\n",
    "X_const_l = add_constant(X_l, prepend=True)\n",
    "y_l = y_train_l.values\n",
    "\n",
    "logit_model = Logit(y_l, X_const_l).fit()\n",
    "logit_model.summary(yname = 'Fail_Flag', xname =  ['const'] + list(X_train_l[logit_cols_4].columns) \\\n",
    "                   )\n"
   ]
  },
  {
   "cell_type": "code",
   "execution_count": 130,
   "metadata": {},
   "outputs": [
    {
     "name": "stdout",
     "output_type": "stream",
     "text": [
      "Warning: Maximum number of iterations has been exceeded.\n",
      "         Current function value: 0.625444\n",
      "         Iterations: 35\n"
     ]
    },
    {
     "name": "stderr",
     "output_type": "stream",
     "text": [
      "/Users/jaimeadybuncio/opt/anaconda3/lib/python3.7/site-packages/statsmodels/base/model.py:512: ConvergenceWarning: Maximum Likelihood optimization failed to converge. Check mle_retvals\n",
      "  \"Check mle_retvals\", ConvergenceWarning)\n"
     ]
    },
    {
     "data": {
      "text/html": [
       "<table class=\"simpletable\">\n",
       "<caption>Logit Regression Results</caption>\n",
       "<tr>\n",
       "  <th>Dep. Variable:</th>       <td>Fail_Flag</td>    <th>  No. Observations:  </th>  <td> 22436</td> \n",
       "</tr>\n",
       "<tr>\n",
       "  <th>Model:</th>                 <td>Logit</td>      <th>  Df Residuals:      </th>  <td> 22382</td> \n",
       "</tr>\n",
       "<tr>\n",
       "  <th>Method:</th>                 <td>MLE</td>       <th>  Df Model:          </th>  <td>    53</td> \n",
       "</tr>\n",
       "<tr>\n",
       "  <th>Date:</th>            <td>Thu, 14 May 2020</td> <th>  Pseudo R-squ.:     </th>  <td>0.09710</td>\n",
       "</tr>\n",
       "<tr>\n",
       "  <th>Time:</th>                <td>17:45:21</td>     <th>  Log-Likelihood:    </th> <td> -14032.</td>\n",
       "</tr>\n",
       "<tr>\n",
       "  <th>converged:</th>             <td>False</td>      <th>  LL-Null:           </th> <td> -15542.</td>\n",
       "</tr>\n",
       "<tr>\n",
       "  <th>Covariance Type:</th>     <td>nonrobust</td>    <th>  LLR p-value:       </th>  <td> 0.000</td> \n",
       "</tr>\n",
       "</table>\n",
       "<table class=\"simpletable\">\n",
       "<tr>\n",
       "                   <td></td>                     <th>coef</th>     <th>std err</th>      <th>z</th>      <th>P>|z|</th>  <th>[0.025</th>    <th>0.975]</th>  \n",
       "</tr>\n",
       "<tr>\n",
       "  <th>const</th>                              <td>-7455.7202</td> <td> 8.39e+05</td> <td>   -0.009</td> <td> 0.993</td> <td>-1.65e+06</td> <td> 1.64e+06</td>\n",
       "</tr>\n",
       "<tr>\n",
       "  <th>gender</th>                             <td>    0.0742</td> <td>    0.036</td> <td>    2.063</td> <td> 0.039</td> <td>    0.004</td> <td>    0.145</td>\n",
       "</tr>\n",
       "<tr>\n",
       "  <th>highest_education</th>                  <td>   -0.4438</td> <td>    0.020</td> <td>  -21.955</td> <td> 0.000</td> <td>   -0.483</td> <td>   -0.404</td>\n",
       "</tr>\n",
       "<tr>\n",
       "  <th>imd_band</th>                           <td>   -0.0596</td> <td>    0.005</td> <td>  -11.264</td> <td> 0.000</td> <td>   -0.070</td> <td>   -0.049</td>\n",
       "</tr>\n",
       "<tr>\n",
       "  <th>age_band</th>                           <td>   -0.1318</td> <td>    0.031</td> <td>   -4.254</td> <td> 0.000</td> <td>   -0.192</td> <td>   -0.071</td>\n",
       "</tr>\n",
       "<tr>\n",
       "  <th>num_of_prev_attempts</th>               <td>    0.3754</td> <td>    0.033</td> <td>   11.277</td> <td> 0.000</td> <td>    0.310</td> <td>    0.441</td>\n",
       "</tr>\n",
       "<tr>\n",
       "  <th>studied_credits</th>                    <td>    0.0032</td> <td>    0.000</td> <td>    7.731</td> <td> 0.000</td> <td>    0.002</td> <td>    0.004</td>\n",
       "</tr>\n",
       "<tr>\n",
       "  <th>disability</th>                         <td>    0.2594</td> <td>    0.049</td> <td>    5.254</td> <td> 0.000</td> <td>    0.163</td> <td>    0.356</td>\n",
       "</tr>\n",
       "<tr>\n",
       "  <th>date_registration</th>                  <td>    0.0008</td> <td>    0.000</td> <td>    2.456</td> <td> 0.014</td> <td>    0.000</td> <td>    0.001</td>\n",
       "</tr>\n",
       "<tr>\n",
       "  <th>num_assessments</th>                    <td> 4443.9446</td> <td> 2.36e+05</td> <td>    0.019</td> <td> 0.985</td> <td>-4.58e+05</td> <td> 4.67e+05</td>\n",
       "</tr>\n",
       "<tr>\n",
       "  <th>num_tma_assessments</th>                <td>-3841.4398</td> <td> 1.89e+05</td> <td>   -0.020</td> <td> 0.984</td> <td>-3.75e+05</td> <td> 3.68e+05</td>\n",
       "</tr>\n",
       "<tr>\n",
       "  <th>num_cma_assessments</th>                <td>-3863.8596</td> <td>      nan</td> <td>      nan</td> <td>   nan</td> <td>      nan</td> <td>      nan</td>\n",
       "</tr>\n",
       "<tr>\n",
       "  <th>region_East Anglian Region</th>         <td>   -0.1930</td> <td>    0.050</td> <td>   -3.856</td> <td> 0.000</td> <td>   -0.291</td> <td>   -0.095</td>\n",
       "</tr>\n",
       "<tr>\n",
       "  <th>region_Ireland</th>                     <td>   -0.3139</td> <td>    0.076</td> <td>   -4.109</td> <td> 0.000</td> <td>   -0.464</td> <td>   -0.164</td>\n",
       "</tr>\n",
       "<tr>\n",
       "  <th>region_North Region</th>                <td>   -0.4593</td> <td>    0.065</td> <td>   -7.093</td> <td> 0.000</td> <td>   -0.586</td> <td>   -0.332</td>\n",
       "</tr>\n",
       "<tr>\n",
       "  <th>region_South East Region</th>           <td>   -0.2749</td> <td>    0.061</td> <td>   -4.515</td> <td> 0.000</td> <td>   -0.394</td> <td>   -0.156</td>\n",
       "</tr>\n",
       "<tr>\n",
       "  <th>region_South Region</th>                <td>   -0.2334</td> <td>    0.052</td> <td>   -4.503</td> <td> 0.000</td> <td>   -0.335</td> <td>   -0.132</td>\n",
       "</tr>\n",
       "<tr>\n",
       "  <th>region_South West Region</th>           <td>   -0.2607</td> <td>    0.056</td> <td>   -4.677</td> <td> 0.000</td> <td>   -0.370</td> <td>   -0.151</td>\n",
       "</tr>\n",
       "<tr>\n",
       "  <th>region_Yorkshire Region</th>            <td>   -0.1052</td> <td>    0.060</td> <td>   -1.752</td> <td> 0.080</td> <td>   -0.223</td> <td>    0.012</td>\n",
       "</tr>\n",
       "<tr>\n",
       "  <th>module_presentation_BBB-2013B</th>      <td>-3502.3376</td> <td>      nan</td> <td>      nan</td> <td>   nan</td> <td>      nan</td> <td>      nan</td>\n",
       "</tr>\n",
       "<tr>\n",
       "  <th>module_presentation_BBB-2013J</th>      <td>-3502.5952</td> <td>      nan</td> <td>      nan</td> <td>   nan</td> <td>      nan</td> <td>      nan</td>\n",
       "</tr>\n",
       "<tr>\n",
       "  <th>module_presentation_BBB-2014B</th>      <td>-3502.6289</td> <td>      nan</td> <td>      nan</td> <td>   nan</td> <td>      nan</td> <td>      nan</td>\n",
       "</tr>\n",
       "<tr>\n",
       "  <th>module_presentation_BBB-2014J</th>      <td>    0.3260</td> <td>    0.115</td> <td>    2.835</td> <td> 0.005</td> <td>    0.101</td> <td>    0.551</td>\n",
       "</tr>\n",
       "<tr>\n",
       "  <th>module_presentation_CCC-2014B</th>      <td>-6160.6315</td> <td>      nan</td> <td>      nan</td> <td>   nan</td> <td>      nan</td> <td>      nan</td>\n",
       "</tr>\n",
       "<tr>\n",
       "  <th>module_presentation_CCC-2014J</th>      <td>-6160.7577</td> <td>      nan</td> <td>      nan</td> <td>   nan</td> <td>      nan</td> <td>      nan</td>\n",
       "</tr>\n",
       "<tr>\n",
       "  <th>module_presentation_DDD-2013B</th>      <td>-4661.8864</td> <td>      nan</td> <td>      nan</td> <td>   nan</td> <td>      nan</td> <td>      nan</td>\n",
       "</tr>\n",
       "<tr>\n",
       "  <th>module_presentation_DDD-2013J</th>      <td> -601.7607</td> <td> 1.45e+05</td> <td>   -0.004</td> <td> 0.997</td> <td>-2.85e+05</td> <td> 2.84e+05</td>\n",
       "</tr>\n",
       "<tr>\n",
       "  <th>module_presentation_DDD-2014B</th>      <td> -601.6366</td> <td> 1.56e+05</td> <td>   -0.004</td> <td> 0.997</td> <td>-3.05e+05</td> <td> 3.04e+05</td>\n",
       "</tr>\n",
       "<tr>\n",
       "  <th>module_presentation_DDD-2014J</th>      <td> -601.7792</td> <td> 1.53e+05</td> <td>   -0.004</td> <td> 0.997</td> <td>   -3e+05</td> <td> 2.98e+05</td>\n",
       "</tr>\n",
       "<tr>\n",
       "  <th>module_presentation_EEE-2013J</th>      <td>  602.7624</td> <td> 1.42e+05</td> <td>    0.004</td> <td> 0.997</td> <td>-2.78e+05</td> <td> 2.79e+05</td>\n",
       "</tr>\n",
       "<tr>\n",
       "  <th>module_presentation_EEE-2014B</th>      <td>  603.0486</td> <td> 1.46e+05</td> <td>    0.004</td> <td> 0.997</td> <td>-2.86e+05</td> <td> 2.87e+05</td>\n",
       "</tr>\n",
       "<tr>\n",
       "  <th>module_presentation_EEE-2014J</th>      <td>  602.7848</td> <td> 1.41e+05</td> <td>    0.004</td> <td> 0.997</td> <td>-2.75e+05</td> <td> 2.76e+05</td>\n",
       "</tr>\n",
       "<tr>\n",
       "  <th>module_presentation_FFF-2013B</th>      <td>-4059.9274</td> <td>      nan</td> <td>      nan</td> <td>   nan</td> <td>      nan</td> <td>      nan</td>\n",
       "</tr>\n",
       "<tr>\n",
       "  <th>module_presentation_FFF-2013J</th>      <td>-4059.9255</td> <td>      nan</td> <td>      nan</td> <td>   nan</td> <td>      nan</td> <td>      nan</td>\n",
       "</tr>\n",
       "<tr>\n",
       "  <th>module_presentation_FFF-2014B</th>      <td>-4059.7713</td> <td>      nan</td> <td>      nan</td> <td>   nan</td> <td>      nan</td> <td>      nan</td>\n",
       "</tr>\n",
       "<tr>\n",
       "  <th>module_presentation_FFF-2014J</th>      <td>-4059.8941</td> <td>      nan</td> <td>      nan</td> <td>   nan</td> <td>      nan</td> <td>      nan</td>\n",
       "</tr>\n",
       "<tr>\n",
       "  <th>module_presentation_GGG-2013J</th>      <td>-2275.3847</td> <td>      nan</td> <td>      nan</td> <td>   nan</td> <td>      nan</td> <td>      nan</td>\n",
       "</tr>\n",
       "<tr>\n",
       "  <th>module_presentation_GGG-2014B</th>      <td>-2275.3004</td> <td>      nan</td> <td>      nan</td> <td>   nan</td> <td>      nan</td> <td>      nan</td>\n",
       "</tr>\n",
       "<tr>\n",
       "  <th>module_presentation_GGG-2014J</th>      <td>-2275.2971</td> <td>      nan</td> <td>      nan</td> <td>   nan</td> <td>      nan</td> <td>      nan</td>\n",
       "</tr>\n",
       "<tr>\n",
       "  <th>before_click_dataplus</th>              <td>   -0.9354</td> <td>      nan</td> <td>      nan</td> <td>   nan</td> <td>      nan</td> <td>      nan</td>\n",
       "</tr>\n",
       "<tr>\n",
       "  <th>before_click_dualpane</th>              <td>   -1.1839</td> <td>      nan</td> <td>      nan</td> <td>   nan</td> <td>      nan</td> <td>      nan</td>\n",
       "</tr>\n",
       "<tr>\n",
       "  <th>before_click_externalquiz</th>          <td>   -1.0749</td> <td>      nan</td> <td>      nan</td> <td>   nan</td> <td>      nan</td> <td>      nan</td>\n",
       "</tr>\n",
       "<tr>\n",
       "  <th>before_click_forumng</th>               <td>   -1.0459</td> <td>      nan</td> <td>      nan</td> <td>   nan</td> <td>      nan</td> <td>      nan</td>\n",
       "</tr>\n",
       "<tr>\n",
       "  <th>before_click_glossary</th>              <td>   -1.0592</td> <td>      nan</td> <td>      nan</td> <td>   nan</td> <td>      nan</td> <td>      nan</td>\n",
       "</tr>\n",
       "<tr>\n",
       "  <th>before_click_homepage</th>              <td>   19.6052</td> <td>      nan</td> <td>      nan</td> <td>   nan</td> <td>      nan</td> <td>      nan</td>\n",
       "</tr>\n",
       "<tr>\n",
       "  <th>before_click_htmlactivity</th>          <td>   -1.1450</td> <td>      nan</td> <td>      nan</td> <td>   nan</td> <td>      nan</td> <td>      nan</td>\n",
       "</tr>\n",
       "<tr>\n",
       "  <th>before_click_oucollaborate</th>         <td>   -1.0417</td> <td>      nan</td> <td>      nan</td> <td>   nan</td> <td>      nan</td> <td>      nan</td>\n",
       "</tr>\n",
       "<tr>\n",
       "  <th>before_click_oucontent</th>             <td>   -1.0494</td> <td>      nan</td> <td>      nan</td> <td>   nan</td> <td>      nan</td> <td>      nan</td>\n",
       "</tr>\n",
       "<tr>\n",
       "  <th>before_click_ouelluminate</th>          <td>   -1.0042</td> <td>      nan</td> <td>      nan</td> <td>   nan</td> <td>      nan</td> <td>      nan</td>\n",
       "</tr>\n",
       "<tr>\n",
       "  <th>before_click_ouwiki</th>                <td>   -1.0777</td> <td>      nan</td> <td>      nan</td> <td>   nan</td> <td>      nan</td> <td>      nan</td>\n",
       "</tr>\n",
       "<tr>\n",
       "  <th>before_click_page</th>                  <td>   -1.0714</td> <td>      nan</td> <td>      nan</td> <td>   nan</td> <td>      nan</td> <td>      nan</td>\n",
       "</tr>\n",
       "<tr>\n",
       "  <th>before_click_questionnaire</th>         <td>   -1.1368</td> <td>      nan</td> <td>      nan</td> <td>   nan</td> <td>      nan</td> <td>      nan</td>\n",
       "</tr>\n",
       "<tr>\n",
       "  <th>before_click_quiz</th>                  <td>   -1.0474</td> <td>      nan</td> <td>      nan</td> <td>   nan</td> <td>      nan</td> <td>      nan</td>\n",
       "</tr>\n",
       "<tr>\n",
       "  <th>before_click_resource</th>              <td>   -1.0633</td> <td>      nan</td> <td>      nan</td> <td>   nan</td> <td>      nan</td> <td>      nan</td>\n",
       "</tr>\n",
       "<tr>\n",
       "  <th>before_click_sharedsubpage</th>         <td>   -1.4968</td> <td>      nan</td> <td>      nan</td> <td>   nan</td> <td>      nan</td> <td>      nan</td>\n",
       "</tr>\n",
       "<tr>\n",
       "  <th>before_click_subpage</th>               <td>   -1.0367</td> <td>      nan</td> <td>      nan</td> <td>   nan</td> <td>      nan</td> <td>      nan</td>\n",
       "</tr>\n",
       "<tr>\n",
       "  <th>before_click_url</th>                   <td>   -1.0879</td> <td>      nan</td> <td>      nan</td> <td>   nan</td> <td>      nan</td> <td>      nan</td>\n",
       "</tr>\n",
       "<tr>\n",
       "  <th>before_click_total_num_vle_actions</th> <td>    1.0470</td> <td>      nan</td> <td>      nan</td> <td>   nan</td> <td>      nan</td> <td>      nan</td>\n",
       "</tr>\n",
       "</table>"
      ],
      "text/plain": [
       "<class 'statsmodels.iolib.summary.Summary'>\n",
       "\"\"\"\n",
       "                           Logit Regression Results                           \n",
       "==============================================================================\n",
       "Dep. Variable:              Fail_Flag   No. Observations:                22436\n",
       "Model:                          Logit   Df Residuals:                    22382\n",
       "Method:                           MLE   Df Model:                           53\n",
       "Date:                Thu, 14 May 2020   Pseudo R-squ.:                 0.09710\n",
       "Time:                        17:45:21   Log-Likelihood:                -14032.\n",
       "converged:                      False   LL-Null:                       -15542.\n",
       "Covariance Type:            nonrobust   LLR p-value:                     0.000\n",
       "======================================================================================================\n",
       "                                         coef    std err          z      P>|z|      [0.025      0.975]\n",
       "------------------------------------------------------------------------------------------------------\n",
       "const                              -7455.7202   8.39e+05     -0.009      0.993   -1.65e+06    1.64e+06\n",
       "gender                                 0.0742      0.036      2.063      0.039       0.004       0.145\n",
       "highest_education                     -0.4438      0.020    -21.955      0.000      -0.483      -0.404\n",
       "imd_band                              -0.0596      0.005    -11.264      0.000      -0.070      -0.049\n",
       "age_band                              -0.1318      0.031     -4.254      0.000      -0.192      -0.071\n",
       "num_of_prev_attempts                   0.3754      0.033     11.277      0.000       0.310       0.441\n",
       "studied_credits                        0.0032      0.000      7.731      0.000       0.002       0.004\n",
       "disability                             0.2594      0.049      5.254      0.000       0.163       0.356\n",
       "date_registration                      0.0008      0.000      2.456      0.014       0.000       0.001\n",
       "num_assessments                     4443.9446   2.36e+05      0.019      0.985   -4.58e+05    4.67e+05\n",
       "num_tma_assessments                -3841.4398   1.89e+05     -0.020      0.984   -3.75e+05    3.68e+05\n",
       "num_cma_assessments                -3863.8596        nan        nan        nan         nan         nan\n",
       "region_East Anglian Region            -0.1930      0.050     -3.856      0.000      -0.291      -0.095\n",
       "region_Ireland                        -0.3139      0.076     -4.109      0.000      -0.464      -0.164\n",
       "region_North Region                   -0.4593      0.065     -7.093      0.000      -0.586      -0.332\n",
       "region_South East Region              -0.2749      0.061     -4.515      0.000      -0.394      -0.156\n",
       "region_South Region                   -0.2334      0.052     -4.503      0.000      -0.335      -0.132\n",
       "region_South West Region              -0.2607      0.056     -4.677      0.000      -0.370      -0.151\n",
       "region_Yorkshire Region               -0.1052      0.060     -1.752      0.080      -0.223       0.012\n",
       "module_presentation_BBB-2013B      -3502.3376        nan        nan        nan         nan         nan\n",
       "module_presentation_BBB-2013J      -3502.5952        nan        nan        nan         nan         nan\n",
       "module_presentation_BBB-2014B      -3502.6289        nan        nan        nan         nan         nan\n",
       "module_presentation_BBB-2014J          0.3260      0.115      2.835      0.005       0.101       0.551\n",
       "module_presentation_CCC-2014B      -6160.6315        nan        nan        nan         nan         nan\n",
       "module_presentation_CCC-2014J      -6160.7577        nan        nan        nan         nan         nan\n",
       "module_presentation_DDD-2013B      -4661.8864        nan        nan        nan         nan         nan\n",
       "module_presentation_DDD-2013J       -601.7607   1.45e+05     -0.004      0.997   -2.85e+05    2.84e+05\n",
       "module_presentation_DDD-2014B       -601.6366   1.56e+05     -0.004      0.997   -3.05e+05    3.04e+05\n",
       "module_presentation_DDD-2014J       -601.7792   1.53e+05     -0.004      0.997      -3e+05    2.98e+05\n",
       "module_presentation_EEE-2013J        602.7624   1.42e+05      0.004      0.997   -2.78e+05    2.79e+05\n",
       "module_presentation_EEE-2014B        603.0486   1.46e+05      0.004      0.997   -2.86e+05    2.87e+05\n",
       "module_presentation_EEE-2014J        602.7848   1.41e+05      0.004      0.997   -2.75e+05    2.76e+05\n",
       "module_presentation_FFF-2013B      -4059.9274        nan        nan        nan         nan         nan\n",
       "module_presentation_FFF-2013J      -4059.9255        nan        nan        nan         nan         nan\n",
       "module_presentation_FFF-2014B      -4059.7713        nan        nan        nan         nan         nan\n",
       "module_presentation_FFF-2014J      -4059.8941        nan        nan        nan         nan         nan\n",
       "module_presentation_GGG-2013J      -2275.3847        nan        nan        nan         nan         nan\n",
       "module_presentation_GGG-2014B      -2275.3004        nan        nan        nan         nan         nan\n",
       "module_presentation_GGG-2014J      -2275.2971        nan        nan        nan         nan         nan\n",
       "before_click_dataplus                 -0.9354        nan        nan        nan         nan         nan\n",
       "before_click_dualpane                 -1.1839        nan        nan        nan         nan         nan\n",
       "before_click_externalquiz             -1.0749        nan        nan        nan         nan         nan\n",
       "before_click_forumng                  -1.0459        nan        nan        nan         nan         nan\n",
       "before_click_glossary                 -1.0592        nan        nan        nan         nan         nan\n",
       "before_click_homepage                 19.6052        nan        nan        nan         nan         nan\n",
       "before_click_htmlactivity             -1.1450        nan        nan        nan         nan         nan\n",
       "before_click_oucollaborate            -1.0417        nan        nan        nan         nan         nan\n",
       "before_click_oucontent                -1.0494        nan        nan        nan         nan         nan\n",
       "before_click_ouelluminate             -1.0042        nan        nan        nan         nan         nan\n",
       "before_click_ouwiki                   -1.0777        nan        nan        nan         nan         nan\n",
       "before_click_page                     -1.0714        nan        nan        nan         nan         nan\n",
       "before_click_questionnaire            -1.1368        nan        nan        nan         nan         nan\n",
       "before_click_quiz                     -1.0474        nan        nan        nan         nan         nan\n",
       "before_click_resource                 -1.0633        nan        nan        nan         nan         nan\n",
       "before_click_sharedsubpage            -1.4968        nan        nan        nan         nan         nan\n",
       "before_click_subpage                  -1.0367        nan        nan        nan         nan         nan\n",
       "before_click_url                      -1.0879        nan        nan        nan         nan         nan\n",
       "before_click_total_num_vle_actions     1.0470        nan        nan        nan         nan         nan\n",
       "======================================================================================================\n",
       "\"\"\""
      ]
     },
     "execution_count": 130,
     "metadata": {},
     "output_type": "execute_result"
    }
   ],
   "source": [
    "logit_cols_4 = \"\"\"gender\n",
    "highest_education\n",
    "imd_band\n",
    "age_band\n",
    "num_of_prev_attempts\n",
    "studied_credits\n",
    "disability\n",
    "date_registration\n",
    "num_assessments\n",
    "num_tma_assessments\n",
    "num_cma_assessments\n",
    "region_East Anglian Region\n",
    "region_Ireland\n",
    "region_North Region\n",
    "region_South East Region\n",
    "region_South Region\n",
    "region_South West Region\n",
    "region_Yorkshire Region\n",
    "module_presentation_BBB-2013B\n",
    "module_presentation_BBB-2013J\n",
    "module_presentation_BBB-2014B\n",
    "module_presentation_BBB-2014J\n",
    "module_presentation_CCC-2014B\n",
    "module_presentation_CCC-2014J\n",
    "module_presentation_DDD-2013B\n",
    "module_presentation_DDD-2013J\n",
    "module_presentation_DDD-2014B\n",
    "module_presentation_DDD-2014J\n",
    "module_presentation_EEE-2013J\n",
    "module_presentation_EEE-2014B\n",
    "module_presentation_EEE-2014J\n",
    "module_presentation_FFF-2013B\n",
    "module_presentation_FFF-2013J\n",
    "module_presentation_FFF-2014B\n",
    "module_presentation_FFF-2014J\n",
    "module_presentation_GGG-2013J\n",
    "module_presentation_GGG-2014B\n",
    "module_presentation_GGG-2014J\n",
    "before_click_dataplus\n",
    "before_click_dualpane\n",
    "before_click_externalquiz\n",
    "before_click_forumng\n",
    "before_click_glossary\n",
    "before_click_homepage\n",
    "before_click_htmlactivity\n",
    "before_click_oucollaborate\n",
    "before_click_oucontent\n",
    "before_click_ouelluminate\n",
    "before_click_ouwiki\n",
    "before_click_page\n",
    "before_click_questionnaire\n",
    "before_click_quiz\n",
    "before_click_resource\n",
    "before_click_sharedsubpage\n",
    "before_click_subpage\n",
    "before_click_url\n",
    "before_click_total_num_vle_actions\"\"\"\n",
    "logit_cols_4 = logit_cols_4.split('\\n')\n",
    "\n",
    "X_l = X_train_l[logit_cols_4].values\n",
    "X_const_l = add_constant(X_l, prepend=True)\n",
    "y_l = y_train_l.values\n",
    "\n",
    "logit_model = Logit(y_l, X_const_l).fit()\n",
    "logit_model.summary(yname = 'Fail_Flag', xname =  ['const'] + list(X_train_l[logit_cols_4].columns) \\\n",
    "                   )\n"
   ]
  },
  {
   "cell_type": "code",
   "execution_count": 131,
   "metadata": {},
   "outputs": [
    {
     "name": "stdout",
     "output_type": "stream",
     "text": [
      "Warning: Maximum number of iterations has been exceeded.\n",
      "         Current function value: 0.588559\n",
      "         Iterations: 35\n"
     ]
    },
    {
     "name": "stderr",
     "output_type": "stream",
     "text": [
      "/Users/jaimeadybuncio/opt/anaconda3/lib/python3.7/site-packages/statsmodels/base/model.py:512: ConvergenceWarning: Maximum Likelihood optimization failed to converge. Check mle_retvals\n",
      "  \"Check mle_retvals\", ConvergenceWarning)\n"
     ]
    },
    {
     "data": {
      "text/html": [
       "<table class=\"simpletable\">\n",
       "<caption>Logit Regression Results</caption>\n",
       "<tr>\n",
       "  <th>Dep. Variable:</th>       <td>Fail_Flag</td>    <th>  No. Observations:  </th>  <td> 22436</td> \n",
       "</tr>\n",
       "<tr>\n",
       "  <th>Model:</th>                 <td>Logit</td>      <th>  Df Residuals:      </th>  <td> 22364</td> \n",
       "</tr>\n",
       "<tr>\n",
       "  <th>Method:</th>                 <td>MLE</td>       <th>  Df Model:          </th>  <td>    71</td> \n",
       "</tr>\n",
       "<tr>\n",
       "  <th>Date:</th>            <td>Thu, 14 May 2020</td> <th>  Pseudo R-squ.:     </th>  <td>0.1504</td> \n",
       "</tr>\n",
       "<tr>\n",
       "  <th>Time:</th>                <td>17:46:05</td>     <th>  Log-Likelihood:    </th> <td> -13205.</td>\n",
       "</tr>\n",
       "<tr>\n",
       "  <th>converged:</th>             <td>False</td>      <th>  LL-Null:           </th> <td> -15542.</td>\n",
       "</tr>\n",
       "<tr>\n",
       "  <th>Covariance Type:</th>     <td>nonrobust</td>    <th>  LLR p-value:       </th>  <td> 0.000</td> \n",
       "</tr>\n",
       "</table>\n",
       "<table class=\"simpletable\">\n",
       "<tr>\n",
       "                   <td></td>                     <th>coef</th>     <th>std err</th>      <th>z</th>      <th>P>|z|</th>  <th>[0.025</th>    <th>0.975]</th>  \n",
       "</tr>\n",
       "<tr>\n",
       "  <th>const</th>                              <td> 2.961e+04</td> <td> 4.52e+05</td> <td>    0.066</td> <td> 0.948</td> <td>-8.56e+05</td> <td> 9.15e+05</td>\n",
       "</tr>\n",
       "<tr>\n",
       "  <th>gender</th>                             <td>   -0.0156</td> <td>    0.038</td> <td>   -0.414</td> <td> 0.679</td> <td>   -0.090</td> <td>    0.058</td>\n",
       "</tr>\n",
       "<tr>\n",
       "  <th>highest_education</th>                  <td>   -0.4497</td> <td>    0.021</td> <td>  -21.360</td> <td> 0.000</td> <td>   -0.491</td> <td>   -0.408</td>\n",
       "</tr>\n",
       "<tr>\n",
       "  <th>imd_band</th>                           <td>   -0.0609</td> <td>    0.005</td> <td>  -11.081</td> <td> 0.000</td> <td>   -0.072</td> <td>   -0.050</td>\n",
       "</tr>\n",
       "<tr>\n",
       "  <th>age_band</th>                           <td>   -0.0197</td> <td>    0.032</td> <td>   -0.606</td> <td> 0.544</td> <td>   -0.083</td> <td>    0.044</td>\n",
       "</tr>\n",
       "<tr>\n",
       "  <th>num_of_prev_attempts</th>               <td>    0.3435</td> <td>    0.035</td> <td>    9.945</td> <td> 0.000</td> <td>    0.276</td> <td>    0.411</td>\n",
       "</tr>\n",
       "<tr>\n",
       "  <th>studied_credits</th>                    <td>    0.0038</td> <td>    0.000</td> <td>    8.841</td> <td> 0.000</td> <td>    0.003</td> <td>    0.005</td>\n",
       "</tr>\n",
       "<tr>\n",
       "  <th>disability</th>                         <td>    0.2752</td> <td>    0.052</td> <td>    5.338</td> <td> 0.000</td> <td>    0.174</td> <td>    0.376</td>\n",
       "</tr>\n",
       "<tr>\n",
       "  <th>date_registration</th>                  <td>-5.002e-05</td> <td>    0.000</td> <td>   -0.156</td> <td> 0.876</td> <td>   -0.001</td> <td>    0.001</td>\n",
       "</tr>\n",
       "<tr>\n",
       "  <th>num_assessments</th>                    <td>-3339.4043</td> <td> 9.98e+04</td> <td>   -0.033</td> <td> 0.973</td> <td>-1.99e+05</td> <td> 1.92e+05</td>\n",
       "</tr>\n",
       "<tr>\n",
       "  <th>num_tma_assessments</th>                <td>-1914.7920</td> <td> 1.74e+05</td> <td>   -0.011</td> <td> 0.991</td> <td>-3.42e+05</td> <td> 3.39e+05</td>\n",
       "</tr>\n",
       "<tr>\n",
       "  <th>num_cma_assessments</th>                <td> 2536.5040</td> <td> 5.09e+04</td> <td>    0.050</td> <td> 0.960</td> <td>-9.72e+04</td> <td> 1.02e+05</td>\n",
       "</tr>\n",
       "<tr>\n",
       "  <th>region_East Anglian Region</th>         <td>   -0.2158</td> <td>    0.052</td> <td>   -4.151</td> <td> 0.000</td> <td>   -0.318</td> <td>   -0.114</td>\n",
       "</tr>\n",
       "<tr>\n",
       "  <th>region_Ireland</th>                     <td>   -0.3024</td> <td>    0.079</td> <td>   -3.830</td> <td> 0.000</td> <td>   -0.457</td> <td>   -0.148</td>\n",
       "</tr>\n",
       "<tr>\n",
       "  <th>region_North Region</th>                <td>   -0.4339</td> <td>    0.068</td> <td>   -6.412</td> <td> 0.000</td> <td>   -0.567</td> <td>   -0.301</td>\n",
       "</tr>\n",
       "<tr>\n",
       "  <th>region_South East Region</th>           <td>   -0.2984</td> <td>    0.063</td> <td>   -4.727</td> <td> 0.000</td> <td>   -0.422</td> <td>   -0.175</td>\n",
       "</tr>\n",
       "<tr>\n",
       "  <th>region_South Region</th>                <td>   -0.2566</td> <td>    0.054</td> <td>   -4.782</td> <td> 0.000</td> <td>   -0.362</td> <td>   -0.151</td>\n",
       "</tr>\n",
       "<tr>\n",
       "  <th>region_South West Region</th>           <td>   -0.3096</td> <td>    0.058</td> <td>   -5.345</td> <td> 0.000</td> <td>   -0.423</td> <td>   -0.196</td>\n",
       "</tr>\n",
       "<tr>\n",
       "  <th>region_Yorkshire Region</th>            <td>   -0.1227</td> <td>    0.062</td> <td>   -1.963</td> <td> 0.050</td> <td>   -0.245</td> <td>   -0.000</td>\n",
       "</tr>\n",
       "<tr>\n",
       "  <th>module_presentation_BBB-2013B</th>      <td> 9268.7921</td> <td>      nan</td> <td>      nan</td> <td>   nan</td> <td>      nan</td> <td>      nan</td>\n",
       "</tr>\n",
       "<tr>\n",
       "  <th>module_presentation_BBB-2013J</th>      <td> 9268.5284</td> <td>      nan</td> <td>      nan</td> <td>   nan</td> <td>      nan</td> <td>      nan</td>\n",
       "</tr>\n",
       "<tr>\n",
       "  <th>module_presentation_BBB-2014B</th>      <td> 9268.4486</td> <td>      nan</td> <td>      nan</td> <td>   nan</td> <td>      nan</td> <td>      nan</td>\n",
       "</tr>\n",
       "<tr>\n",
       "  <th>module_presentation_BBB-2014J</th>      <td>   -0.1740</td> <td>    0.124</td> <td>   -1.406</td> <td> 0.160</td> <td>   -0.417</td> <td>    0.069</td>\n",
       "</tr>\n",
       "<tr>\n",
       "  <th>module_presentation_CCC-2014B</th>      <td> 1297.8161</td> <td>      nan</td> <td>      nan</td> <td>   nan</td> <td>      nan</td> <td>      nan</td>\n",
       "</tr>\n",
       "<tr>\n",
       "  <th>module_presentation_CCC-2014J</th>      <td> 1297.6323</td> <td>      nan</td> <td>      nan</td> <td>   nan</td> <td>      nan</td> <td>      nan</td>\n",
       "</tr>\n",
       "<tr>\n",
       "  <th>module_presentation_DDD-2013B</th>      <td> 1.088e+04</td> <td>      nan</td> <td>      nan</td> <td>   nan</td> <td>      nan</td> <td>      nan</td>\n",
       "</tr>\n",
       "<tr>\n",
       "  <th>module_presentation_DDD-2013J</th>      <td> 5254.9443</td> <td> 9.19e+04</td> <td>    0.057</td> <td> 0.954</td> <td>-1.75e+05</td> <td> 1.85e+05</td>\n",
       "</tr>\n",
       "<tr>\n",
       "  <th>module_presentation_DDD-2014B</th>      <td> 5254.9700</td> <td> 1.17e+05</td> <td>    0.045</td> <td> 0.964</td> <td>-2.25e+05</td> <td> 2.35e+05</td>\n",
       "</tr>\n",
       "<tr>\n",
       "  <th>module_presentation_DDD-2014J</th>      <td> 5254.9051</td> <td> 1.13e+05</td> <td>    0.046</td> <td> 0.963</td> <td>-2.17e+05</td> <td> 2.27e+05</td>\n",
       "</tr>\n",
       "<tr>\n",
       "  <th>module_presentation_EEE-2013J</th>      <td>-5254.1858</td> <td> 9.77e+04</td> <td>   -0.054</td> <td> 0.957</td> <td>-1.97e+05</td> <td> 1.86e+05</td>\n",
       "</tr>\n",
       "<tr>\n",
       "  <th>module_presentation_EEE-2014B</th>      <td>-5253.8394</td> <td> 1.14e+05</td> <td>   -0.046</td> <td> 0.963</td> <td>-2.29e+05</td> <td> 2.18e+05</td>\n",
       "</tr>\n",
       "<tr>\n",
       "  <th>module_presentation_EEE-2014J</th>      <td>-5254.1686</td> <td> 1.08e+05</td> <td>   -0.049</td> <td> 0.961</td> <td>-2.16e+05</td> <td> 2.06e+05</td>\n",
       "</tr>\n",
       "<tr>\n",
       "  <th>module_presentation_FFF-2013B</th>      <td> 5620.7703</td> <td>      nan</td> <td>      nan</td> <td>   nan</td> <td>      nan</td> <td>      nan</td>\n",
       "</tr>\n",
       "<tr>\n",
       "  <th>module_presentation_FFF-2013J</th>      <td> 5620.6862</td> <td>      nan</td> <td>      nan</td> <td>   nan</td> <td>      nan</td> <td>      nan</td>\n",
       "</tr>\n",
       "<tr>\n",
       "  <th>module_presentation_FFF-2014B</th>      <td> 5620.8114</td> <td>      nan</td> <td>      nan</td> <td>   nan</td> <td>      nan</td> <td>      nan</td>\n",
       "</tr>\n",
       "<tr>\n",
       "  <th>module_presentation_FFF-2014J</th>      <td> 5620.7532</td> <td>      nan</td> <td>      nan</td> <td>   nan</td> <td>      nan</td> <td>      nan</td>\n",
       "</tr>\n",
       "<tr>\n",
       "  <th>module_presentation_GGG-2013J</th>      <td>-5691.3689</td> <td>      nan</td> <td>      nan</td> <td>   nan</td> <td>      nan</td> <td>      nan</td>\n",
       "</tr>\n",
       "<tr>\n",
       "  <th>module_presentation_GGG-2014B</th>      <td>-5691.3467</td> <td>      nan</td> <td>      nan</td> <td>   nan</td> <td>      nan</td> <td>      nan</td>\n",
       "</tr>\n",
       "<tr>\n",
       "  <th>module_presentation_GGG-2014J</th>      <td>-5691.3070</td> <td>      nan</td> <td>      nan</td> <td>   nan</td> <td>      nan</td> <td>      nan</td>\n",
       "</tr>\n",
       "<tr>\n",
       "  <th>before_days_dataplus</th>               <td>-7444.6519</td> <td>      nan</td> <td>      nan</td> <td>   nan</td> <td>      nan</td> <td>      nan</td>\n",
       "</tr>\n",
       "<tr>\n",
       "  <th>before_days_dualpane</th>               <td>-7445.2599</td> <td>      nan</td> <td>      nan</td> <td>   nan</td> <td>      nan</td> <td>      nan</td>\n",
       "</tr>\n",
       "<tr>\n",
       "  <th>before_days_externalquiz</th>           <td>-7445.4525</td> <td>      nan</td> <td>      nan</td> <td>   nan</td> <td>      nan</td> <td>      nan</td>\n",
       "</tr>\n",
       "<tr>\n",
       "  <th>before_days_forumng</th>                <td>-7445.2835</td> <td>      nan</td> <td>      nan</td> <td>   nan</td> <td>      nan</td> <td>      nan</td>\n",
       "</tr>\n",
       "<tr>\n",
       "  <th>before_days_glossary</th>               <td>-7445.3688</td> <td>      nan</td> <td>      nan</td> <td>   nan</td> <td>      nan</td> <td>      nan</td>\n",
       "</tr>\n",
       "<tr>\n",
       "  <th>before_days_homepage</th>               <td>-7445.4086</td> <td>      nan</td> <td>      nan</td> <td>   nan</td> <td>      nan</td> <td>      nan</td>\n",
       "</tr>\n",
       "<tr>\n",
       "  <th>before_days_htmlactivity</th>           <td>-7445.2944</td> <td>      nan</td> <td>      nan</td> <td>   nan</td> <td>      nan</td> <td>      nan</td>\n",
       "</tr>\n",
       "<tr>\n",
       "  <th>before_days_oucollaborate</th>          <td>-7445.3080</td> <td>      nan</td> <td>      nan</td> <td>   nan</td> <td>      nan</td> <td>      nan</td>\n",
       "</tr>\n",
       "<tr>\n",
       "  <th>before_days_oucontent</th>              <td>-7445.3061</td> <td>      nan</td> <td>      nan</td> <td>   nan</td> <td>      nan</td> <td>      nan</td>\n",
       "</tr>\n",
       "<tr>\n",
       "  <th>before_days_ouelluminate</th>           <td>-7445.1947</td> <td>      nan</td> <td>      nan</td> <td>   nan</td> <td>      nan</td> <td>      nan</td>\n",
       "</tr>\n",
       "<tr>\n",
       "  <th>before_days_ouwiki</th>                 <td>-7445.3630</td> <td>      nan</td> <td>      nan</td> <td>   nan</td> <td>      nan</td> <td>      nan</td>\n",
       "</tr>\n",
       "<tr>\n",
       "  <th>before_days_page</th>                   <td>-7445.1980</td> <td>      nan</td> <td>      nan</td> <td>   nan</td> <td>      nan</td> <td>      nan</td>\n",
       "</tr>\n",
       "<tr>\n",
       "  <th>before_days_questionnaire</th>          <td>-7444.5303</td> <td>      nan</td> <td>      nan</td> <td>   nan</td> <td>      nan</td> <td>      nan</td>\n",
       "</tr>\n",
       "<tr>\n",
       "  <th>before_days_quiz</th>                   <td>-7445.3181</td> <td>      nan</td> <td>      nan</td> <td>   nan</td> <td>      nan</td> <td>      nan</td>\n",
       "</tr>\n",
       "<tr>\n",
       "  <th>before_days_resource</th>               <td>-7445.2858</td> <td>      nan</td> <td>      nan</td> <td>   nan</td> <td>      nan</td> <td>      nan</td>\n",
       "</tr>\n",
       "<tr>\n",
       "  <th>before_days_sharedsubpage</th>          <td>-7425.4033</td> <td>      nan</td> <td>      nan</td> <td>   nan</td> <td>      nan</td> <td>      nan</td>\n",
       "</tr>\n",
       "<tr>\n",
       "  <th>before_days_subpage</th>                <td>-7445.3108</td> <td>      nan</td> <td>      nan</td> <td>   nan</td> <td>      nan</td> <td>      nan</td>\n",
       "</tr>\n",
       "<tr>\n",
       "  <th>before_days_url</th>                    <td>-7445.3820</td> <td>      nan</td> <td>      nan</td> <td>   nan</td> <td>      nan</td> <td>      nan</td>\n",
       "</tr>\n",
       "<tr>\n",
       "  <th>before_days_total_num_vle_days</th>     <td> 7445.2776</td> <td>      nan</td> <td>      nan</td> <td>   nan</td> <td>      nan</td> <td>      nan</td>\n",
       "</tr>\n",
       "<tr>\n",
       "  <th>before_click_dataplus</th>              <td>    0.2255</td> <td>  1.7e+04</td> <td> 1.32e-05</td> <td> 1.000</td> <td>-3.34e+04</td> <td> 3.34e+04</td>\n",
       "</tr>\n",
       "<tr>\n",
       "  <th>before_click_dualpane</th>              <td>    0.0389</td> <td>  1.7e+04</td> <td> 2.28e-06</td> <td> 1.000</td> <td>-3.34e+04</td> <td> 3.34e+04</td>\n",
       "</tr>\n",
       "<tr>\n",
       "  <th>before_click_externalquiz</th>          <td>    0.1950</td> <td>  1.7e+04</td> <td> 1.14e-05</td> <td> 1.000</td> <td>-3.34e+04</td> <td> 3.34e+04</td>\n",
       "</tr>\n",
       "<tr>\n",
       "  <th>before_click_forumng</th>               <td>    0.1230</td> <td>  1.7e+04</td> <td> 7.22e-06</td> <td> 1.000</td> <td>-3.34e+04</td> <td> 3.34e+04</td>\n",
       "</tr>\n",
       "<tr>\n",
       "  <th>before_click_glossary</th>              <td>    0.1364</td> <td>  1.7e+04</td> <td> 8.01e-06</td> <td> 1.000</td> <td>-3.34e+04</td> <td> 3.34e+04</td>\n",
       "</tr>\n",
       "<tr>\n",
       "  <th>before_click_homepage</th>              <td>   16.8140</td> <td>  1.7e+04</td> <td>    0.001</td> <td> 0.999</td> <td>-3.34e+04</td> <td> 3.34e+04</td>\n",
       "</tr>\n",
       "<tr>\n",
       "  <th>before_click_htmlactivity</th>          <td>    0.1330</td> <td>  1.7e+04</td> <td> 7.81e-06</td> <td> 1.000</td> <td>-3.34e+04</td> <td> 3.34e+04</td>\n",
       "</tr>\n",
       "<tr>\n",
       "  <th>before_click_oucollaborate</th>         <td>    0.2199</td> <td>  1.7e+04</td> <td> 1.29e-05</td> <td> 1.000</td> <td>-3.34e+04</td> <td> 3.34e+04</td>\n",
       "</tr>\n",
       "<tr>\n",
       "  <th>before_click_oucontent</th>             <td>    0.1242</td> <td>  1.7e+04</td> <td> 7.29e-06</td> <td> 1.000</td> <td>-3.34e+04</td> <td> 3.34e+04</td>\n",
       "</tr>\n",
       "<tr>\n",
       "  <th>before_click_ouelluminate</th>          <td>    0.1870</td> <td>  1.7e+04</td> <td>  1.1e-05</td> <td> 1.000</td> <td>-3.34e+04</td> <td> 3.34e+04</td>\n",
       "</tr>\n",
       "<tr>\n",
       "  <th>before_click_ouwiki</th>                <td>    0.1136</td> <td>  1.7e+04</td> <td> 6.67e-06</td> <td> 1.000</td> <td>-3.34e+04</td> <td> 3.34e+04</td>\n",
       "</tr>\n",
       "<tr>\n",
       "  <th>before_click_page</th>                  <td>    0.1365</td> <td>  1.7e+04</td> <td> 8.01e-06</td> <td> 1.000</td> <td>-3.34e+04</td> <td> 3.34e+04</td>\n",
       "</tr>\n",
       "<tr>\n",
       "  <th>before_click_questionnaire</th>         <td>   -0.0602</td> <td>  1.7e+04</td> <td>-3.53e-06</td> <td> 1.000</td> <td>-3.34e+04</td> <td> 3.34e+04</td>\n",
       "</tr>\n",
       "<tr>\n",
       "  <th>before_click_quiz</th>                  <td>    0.1224</td> <td>  1.7e+04</td> <td> 7.18e-06</td> <td> 1.000</td> <td>-3.34e+04</td> <td> 3.34e+04</td>\n",
       "</tr>\n",
       "<tr>\n",
       "  <th>before_click_resource</th>              <td>    0.1193</td> <td>  1.7e+04</td> <td> 7.01e-06</td> <td> 1.000</td> <td>-3.34e+04</td> <td> 3.34e+04</td>\n",
       "</tr>\n",
       "<tr>\n",
       "  <th>before_click_sharedsubpage</th>         <td>  -19.1860</td> <td> 2.23e+04</td> <td>   -0.001</td> <td> 0.999</td> <td>-4.37e+04</td> <td> 4.37e+04</td>\n",
       "</tr>\n",
       "<tr>\n",
       "  <th>before_click_subpage</th>               <td>    0.1631</td> <td>  1.7e+04</td> <td> 9.58e-06</td> <td> 1.000</td> <td>-3.34e+04</td> <td> 3.34e+04</td>\n",
       "</tr>\n",
       "<tr>\n",
       "  <th>before_click_url</th>                   <td>    0.2046</td> <td>  1.7e+04</td> <td>  1.2e-05</td> <td> 1.000</td> <td>-3.34e+04</td> <td> 3.34e+04</td>\n",
       "</tr>\n",
       "<tr>\n",
       "  <th>before_click_total_num_vle_actions</th> <td>   -0.1194</td> <td>  1.7e+04</td> <td>-7.01e-06</td> <td> 1.000</td> <td>-3.34e+04</td> <td> 3.34e+04</td>\n",
       "</tr>\n",
       "</table>"
      ],
      "text/plain": [
       "<class 'statsmodels.iolib.summary.Summary'>\n",
       "\"\"\"\n",
       "                           Logit Regression Results                           \n",
       "==============================================================================\n",
       "Dep. Variable:              Fail_Flag   No. Observations:                22436\n",
       "Model:                          Logit   Df Residuals:                    22364\n",
       "Method:                           MLE   Df Model:                           71\n",
       "Date:                Thu, 14 May 2020   Pseudo R-squ.:                  0.1504\n",
       "Time:                        17:46:05   Log-Likelihood:                -13205.\n",
       "converged:                      False   LL-Null:                       -15542.\n",
       "Covariance Type:            nonrobust   LLR p-value:                     0.000\n",
       "======================================================================================================\n",
       "                                         coef    std err          z      P>|z|      [0.025      0.975]\n",
       "------------------------------------------------------------------------------------------------------\n",
       "const                               2.961e+04   4.52e+05      0.066      0.948   -8.56e+05    9.15e+05\n",
       "gender                                -0.0156      0.038     -0.414      0.679      -0.090       0.058\n",
       "highest_education                     -0.4497      0.021    -21.360      0.000      -0.491      -0.408\n",
       "imd_band                              -0.0609      0.005    -11.081      0.000      -0.072      -0.050\n",
       "age_band                              -0.0197      0.032     -0.606      0.544      -0.083       0.044\n",
       "num_of_prev_attempts                   0.3435      0.035      9.945      0.000       0.276       0.411\n",
       "studied_credits                        0.0038      0.000      8.841      0.000       0.003       0.005\n",
       "disability                             0.2752      0.052      5.338      0.000       0.174       0.376\n",
       "date_registration                  -5.002e-05      0.000     -0.156      0.876      -0.001       0.001\n",
       "num_assessments                    -3339.4043   9.98e+04     -0.033      0.973   -1.99e+05    1.92e+05\n",
       "num_tma_assessments                -1914.7920   1.74e+05     -0.011      0.991   -3.42e+05    3.39e+05\n",
       "num_cma_assessments                 2536.5040   5.09e+04      0.050      0.960   -9.72e+04    1.02e+05\n",
       "region_East Anglian Region            -0.2158      0.052     -4.151      0.000      -0.318      -0.114\n",
       "region_Ireland                        -0.3024      0.079     -3.830      0.000      -0.457      -0.148\n",
       "region_North Region                   -0.4339      0.068     -6.412      0.000      -0.567      -0.301\n",
       "region_South East Region              -0.2984      0.063     -4.727      0.000      -0.422      -0.175\n",
       "region_South Region                   -0.2566      0.054     -4.782      0.000      -0.362      -0.151\n",
       "region_South West Region              -0.3096      0.058     -5.345      0.000      -0.423      -0.196\n",
       "region_Yorkshire Region               -0.1227      0.062     -1.963      0.050      -0.245      -0.000\n",
       "module_presentation_BBB-2013B       9268.7921        nan        nan        nan         nan         nan\n",
       "module_presentation_BBB-2013J       9268.5284        nan        nan        nan         nan         nan\n",
       "module_presentation_BBB-2014B       9268.4486        nan        nan        nan         nan         nan\n",
       "module_presentation_BBB-2014J         -0.1740      0.124     -1.406      0.160      -0.417       0.069\n",
       "module_presentation_CCC-2014B       1297.8161        nan        nan        nan         nan         nan\n",
       "module_presentation_CCC-2014J       1297.6323        nan        nan        nan         nan         nan\n",
       "module_presentation_DDD-2013B       1.088e+04        nan        nan        nan         nan         nan\n",
       "module_presentation_DDD-2013J       5254.9443   9.19e+04      0.057      0.954   -1.75e+05    1.85e+05\n",
       "module_presentation_DDD-2014B       5254.9700   1.17e+05      0.045      0.964   -2.25e+05    2.35e+05\n",
       "module_presentation_DDD-2014J       5254.9051   1.13e+05      0.046      0.963   -2.17e+05    2.27e+05\n",
       "module_presentation_EEE-2013J      -5254.1858   9.77e+04     -0.054      0.957   -1.97e+05    1.86e+05\n",
       "module_presentation_EEE-2014B      -5253.8394   1.14e+05     -0.046      0.963   -2.29e+05    2.18e+05\n",
       "module_presentation_EEE-2014J      -5254.1686   1.08e+05     -0.049      0.961   -2.16e+05    2.06e+05\n",
       "module_presentation_FFF-2013B       5620.7703        nan        nan        nan         nan         nan\n",
       "module_presentation_FFF-2013J       5620.6862        nan        nan        nan         nan         nan\n",
       "module_presentation_FFF-2014B       5620.8114        nan        nan        nan         nan         nan\n",
       "module_presentation_FFF-2014J       5620.7532        nan        nan        nan         nan         nan\n",
       "module_presentation_GGG-2013J      -5691.3689        nan        nan        nan         nan         nan\n",
       "module_presentation_GGG-2014B      -5691.3467        nan        nan        nan         nan         nan\n",
       "module_presentation_GGG-2014J      -5691.3070        nan        nan        nan         nan         nan\n",
       "before_days_dataplus               -7444.6519        nan        nan        nan         nan         nan\n",
       "before_days_dualpane               -7445.2599        nan        nan        nan         nan         nan\n",
       "before_days_externalquiz           -7445.4525        nan        nan        nan         nan         nan\n",
       "before_days_forumng                -7445.2835        nan        nan        nan         nan         nan\n",
       "before_days_glossary               -7445.3688        nan        nan        nan         nan         nan\n",
       "before_days_homepage               -7445.4086        nan        nan        nan         nan         nan\n",
       "before_days_htmlactivity           -7445.2944        nan        nan        nan         nan         nan\n",
       "before_days_oucollaborate          -7445.3080        nan        nan        nan         nan         nan\n",
       "before_days_oucontent              -7445.3061        nan        nan        nan         nan         nan\n",
       "before_days_ouelluminate           -7445.1947        nan        nan        nan         nan         nan\n",
       "before_days_ouwiki                 -7445.3630        nan        nan        nan         nan         nan\n",
       "before_days_page                   -7445.1980        nan        nan        nan         nan         nan\n",
       "before_days_questionnaire          -7444.5303        nan        nan        nan         nan         nan\n",
       "before_days_quiz                   -7445.3181        nan        nan        nan         nan         nan\n",
       "before_days_resource               -7445.2858        nan        nan        nan         nan         nan\n",
       "before_days_sharedsubpage          -7425.4033        nan        nan        nan         nan         nan\n",
       "before_days_subpage                -7445.3108        nan        nan        nan         nan         nan\n",
       "before_days_url                    -7445.3820        nan        nan        nan         nan         nan\n",
       "before_days_total_num_vle_days      7445.2776        nan        nan        nan         nan         nan\n",
       "before_click_dataplus                  0.2255    1.7e+04   1.32e-05      1.000   -3.34e+04    3.34e+04\n",
       "before_click_dualpane                  0.0389    1.7e+04   2.28e-06      1.000   -3.34e+04    3.34e+04\n",
       "before_click_externalquiz              0.1950    1.7e+04   1.14e-05      1.000   -3.34e+04    3.34e+04\n",
       "before_click_forumng                   0.1230    1.7e+04   7.22e-06      1.000   -3.34e+04    3.34e+04\n",
       "before_click_glossary                  0.1364    1.7e+04   8.01e-06      1.000   -3.34e+04    3.34e+04\n",
       "before_click_homepage                 16.8140    1.7e+04      0.001      0.999   -3.34e+04    3.34e+04\n",
       "before_click_htmlactivity              0.1330    1.7e+04   7.81e-06      1.000   -3.34e+04    3.34e+04\n",
       "before_click_oucollaborate             0.2199    1.7e+04   1.29e-05      1.000   -3.34e+04    3.34e+04\n",
       "before_click_oucontent                 0.1242    1.7e+04   7.29e-06      1.000   -3.34e+04    3.34e+04\n",
       "before_click_ouelluminate              0.1870    1.7e+04    1.1e-05      1.000   -3.34e+04    3.34e+04\n",
       "before_click_ouwiki                    0.1136    1.7e+04   6.67e-06      1.000   -3.34e+04    3.34e+04\n",
       "before_click_page                      0.1365    1.7e+04   8.01e-06      1.000   -3.34e+04    3.34e+04\n",
       "before_click_questionnaire            -0.0602    1.7e+04  -3.53e-06      1.000   -3.34e+04    3.34e+04\n",
       "before_click_quiz                      0.1224    1.7e+04   7.18e-06      1.000   -3.34e+04    3.34e+04\n",
       "before_click_resource                  0.1193    1.7e+04   7.01e-06      1.000   -3.34e+04    3.34e+04\n",
       "before_click_sharedsubpage           -19.1860   2.23e+04     -0.001      0.999   -4.37e+04    4.37e+04\n",
       "before_click_subpage                   0.1631    1.7e+04   9.58e-06      1.000   -3.34e+04    3.34e+04\n",
       "before_click_url                       0.2046    1.7e+04    1.2e-05      1.000   -3.34e+04    3.34e+04\n",
       "before_click_total_num_vle_actions    -0.1194    1.7e+04  -7.01e-06      1.000   -3.34e+04    3.34e+04\n",
       "======================================================================================================\n",
       "\"\"\""
      ]
     },
     "execution_count": 131,
     "metadata": {},
     "output_type": "execute_result"
    }
   ],
   "source": [
    "logit_cols_4 = \"\"\"gender\n",
    "highest_education\n",
    "imd_band\n",
    "age_band\n",
    "num_of_prev_attempts\n",
    "studied_credits\n",
    "disability\n",
    "date_registration\n",
    "num_assessments\n",
    "num_tma_assessments\n",
    "num_cma_assessments\n",
    "region_East Anglian Region\n",
    "region_Ireland\n",
    "region_North Region\n",
    "region_South East Region\n",
    "region_South Region\n",
    "region_South West Region\n",
    "region_Yorkshire Region\n",
    "module_presentation_BBB-2013B\n",
    "module_presentation_BBB-2013J\n",
    "module_presentation_BBB-2014B\n",
    "module_presentation_BBB-2014J\n",
    "module_presentation_CCC-2014B\n",
    "module_presentation_CCC-2014J\n",
    "module_presentation_DDD-2013B\n",
    "module_presentation_DDD-2013J\n",
    "module_presentation_DDD-2014B\n",
    "module_presentation_DDD-2014J\n",
    "module_presentation_EEE-2013J\n",
    "module_presentation_EEE-2014B\n",
    "module_presentation_EEE-2014J\n",
    "module_presentation_FFF-2013B\n",
    "module_presentation_FFF-2013J\n",
    "module_presentation_FFF-2014B\n",
    "module_presentation_FFF-2014J\n",
    "module_presentation_GGG-2013J\n",
    "module_presentation_GGG-2014B\n",
    "module_presentation_GGG-2014J\n",
    "before_days_dataplus\n",
    "before_days_dualpane\n",
    "before_days_externalquiz\n",
    "before_days_forumng\n",
    "before_days_glossary\n",
    "before_days_homepage\n",
    "before_days_htmlactivity\n",
    "before_days_oucollaborate\n",
    "before_days_oucontent\n",
    "before_days_ouelluminate\n",
    "before_days_ouwiki\n",
    "before_days_page\n",
    "before_days_questionnaire\n",
    "before_days_quiz\n",
    "before_days_resource\n",
    "before_days_sharedsubpage\n",
    "before_days_subpage\n",
    "before_days_url\n",
    "before_days_total_num_vle_days\n",
    "before_click_dataplus\n",
    "before_click_dualpane\n",
    "before_click_externalquiz\n",
    "before_click_forumng\n",
    "before_click_glossary\n",
    "before_click_homepage\n",
    "before_click_htmlactivity\n",
    "before_click_oucollaborate\n",
    "before_click_oucontent\n",
    "before_click_ouelluminate\n",
    "before_click_ouwiki\n",
    "before_click_page\n",
    "before_click_questionnaire\n",
    "before_click_quiz\n",
    "before_click_resource\n",
    "before_click_sharedsubpage\n",
    "before_click_subpage\n",
    "before_click_url\n",
    "before_click_total_num_vle_actions\"\"\"\n",
    "logit_cols_4 = logit_cols_4.split('\\n')\n",
    "\n",
    "X_l = X_train_l[logit_cols_4].values\n",
    "X_const_l = add_constant(X_l, prepend=True)\n",
    "y_l = y_train_l.values\n",
    "\n",
    "logit_model = Logit(y_l, X_const_l).fit()\n",
    "logit_model.summary(yname = 'Fail_Flag', xname =  ['const'] + list(X_train_l[logit_cols_4].columns) \\\n",
    "                   )\n"
   ]
  },
  {
   "cell_type": "code",
   "execution_count": 140,
   "metadata": {},
   "outputs": [],
   "source": [
    "X_l_test = X_test_l[logit_cols_4].values\n",
    "X_test_l = add_constant(X_l_test, prepend=True)"
   ]
  },
  {
   "cell_type": "code",
   "execution_count": 148,
   "metadata": {},
   "outputs": [
    {
     "data": {
      "text/plain": [
       "array([ True, False,  True, ...,  True,  True,  True])"
      ]
     },
     "execution_count": 148,
     "metadata": {},
     "output_type": "execute_result"
    }
   ],
   "source": [
    "y_predict>=.50"
   ]
  },
  {
   "cell_type": "code",
   "execution_count": 154,
   "metadata": {},
   "outputs": [
    {
     "data": {
      "text/plain": [
       "0.6555982436882547"
      ]
     },
     "execution_count": 154,
     "metadata": {},
     "output_type": "execute_result"
    }
   ],
   "source": [
    "y_predict = logit_model.predict(X_test_l)\n",
    "\n",
    "y_true = y_test_l\n",
    "accuracy_score(y_true, y_predict>=.5)\n",
    "precision_score(y_true,y_predict>=.5)\n",
    "recall_score(y_true,y_predict>=.5)"
   ]
  },
  {
   "cell_type": "code",
   "execution_count": 162,
   "metadata": {},
   "outputs": [
    {
     "data": {
      "text/plain": [
       "1.002402882305383"
      ]
     },
     "execution_count": 162,
     "metadata": {},
     "output_type": "execute_result"
    }
   ],
   "source": [
    "np.exp(.0024)"
   ]
  },
  {
   "cell_type": "code",
   "execution_count": 161,
   "metadata": {},
   "outputs": [
    {
     "data": {
      "text/plain": [
       "-1.2604967822512188"
      ]
     },
     "execution_count": 161,
     "metadata": {},
     "output_type": "execute_result"
    }
   ],
   "source": [
    "(np.log(2)/-0.5499)"
   ]
  },
  {
   "cell_type": "code",
   "execution_count": null,
   "metadata": {},
   "outputs": [],
   "source": []
  },
  {
   "cell_type": "code",
   "execution_count": null,
   "metadata": {},
   "outputs": [],
   "source": []
  },
  {
   "cell_type": "code",
   "execution_count": 132,
   "metadata": {},
   "outputs": [
    {
     "name": "stderr",
     "output_type": "stream",
     "text": [
      "/Users/jaimeadybuncio/opt/anaconda3/lib/python3.7/site-packages/sklearn/linear_model/logistic.py:432: FutureWarning: Default solver will be changed to 'lbfgs' in 0.22. Specify a solver to silence this warning.\n",
      "  FutureWarning)\n",
      "/Users/jaimeadybuncio/opt/anaconda3/lib/python3.7/site-packages/sklearn/linear_model/logistic.py:432: FutureWarning: Default solver will be changed to 'lbfgs' in 0.22. Specify a solver to silence this warning.\n",
      "  FutureWarning)\n",
      "/Users/jaimeadybuncio/opt/anaconda3/lib/python3.7/site-packages/sklearn/linear_model/logistic.py:432: FutureWarning: Default solver will be changed to 'lbfgs' in 0.22. Specify a solver to silence this warning.\n",
      "  FutureWarning)\n",
      "/Users/jaimeadybuncio/opt/anaconda3/lib/python3.7/site-packages/sklearn/linear_model/logistic.py:432: FutureWarning: Default solver will be changed to 'lbfgs' in 0.22. Specify a solver to silence this warning.\n",
      "  FutureWarning)\n",
      "/Users/jaimeadybuncio/opt/anaconda3/lib/python3.7/site-packages/sklearn/svm/base.py:929: ConvergenceWarning: Liblinear failed to converge, increase the number of iterations.\n",
      "  \"the number of iterations.\", ConvergenceWarning)\n",
      "/Users/jaimeadybuncio/opt/anaconda3/lib/python3.7/site-packages/sklearn/linear_model/logistic.py:432: FutureWarning: Default solver will be changed to 'lbfgs' in 0.22. Specify a solver to silence this warning.\n",
      "  FutureWarning)\n",
      "/Users/jaimeadybuncio/opt/anaconda3/lib/python3.7/site-packages/sklearn/svm/base.py:929: ConvergenceWarning: Liblinear failed to converge, increase the number of iterations.\n",
      "  \"the number of iterations.\", ConvergenceWarning)\n",
      "/Users/jaimeadybuncio/opt/anaconda3/lib/python3.7/site-packages/sklearn/linear_model/logistic.py:432: FutureWarning: Default solver will be changed to 'lbfgs' in 0.22. Specify a solver to silence this warning.\n",
      "  FutureWarning)\n"
     ]
    },
    {
     "name": "stdout",
     "output_type": "stream",
     "text": [
      "\n",
      "Model Report\n",
      "Recall (Train) : 0.6561\n",
      "AUC Score (Train): 0.749179\n",
      "CV Score : Mean - 0.7433088 | Std - 0.004200053 | Min - 0.7380753 | Max - 0.7481492\n"
     ]
    }
   ],
   "source": [
    "modelfit(model_l, X_train_l[logit_cols_4],y_train_l, performCV=True, printFeatureImportance=False, cv_folds=5);\n"
   ]
  },
  {
   "cell_type": "code",
   "execution_count": 213,
   "metadata": {},
   "outputs": [],
   "source": [
    "X_train_l, X_test_l, y_train_l, y_test_l = train_test_split(X_exclude_one_dummy, y, shuffle = True, test_size = 0.25, random_state = 42)"
   ]
  },
  {
   "cell_type": "code",
   "execution_count": null,
   "metadata": {},
   "outputs": [],
   "source": []
  },
  {
   "cell_type": "code",
   "execution_count": null,
   "metadata": {},
   "outputs": [],
   "source": []
  },
  {
   "cell_type": "code",
   "execution_count": null,
   "metadata": {},
   "outputs": [],
   "source": []
  },
  {
   "cell_type": "code",
   "execution_count": null,
   "metadata": {},
   "outputs": [],
   "source": []
  },
  {
   "cell_type": "code",
   "execution_count": null,
   "metadata": {},
   "outputs": [],
   "source": []
  },
  {
   "cell_type": "code",
   "execution_count": null,
   "metadata": {},
   "outputs": [],
   "source": []
  },
  {
   "cell_type": "code",
   "execution_count": null,
   "metadata": {},
   "outputs": [],
   "source": []
  },
  {
   "cell_type": "code",
   "execution_count": null,
   "metadata": {},
   "outputs": [],
   "source": []
  },
  {
   "cell_type": "code",
   "execution_count": null,
   "metadata": {},
   "outputs": [],
   "source": []
  },
  {
   "cell_type": "code",
   "execution_count": 98,
   "metadata": {},
   "outputs": [
    {
     "data": {
      "image/png": "[encoded data removed]",
      "text/plain": [
       "<Figure size 432x288 with 1 Axes>"
      ]
     },
     "metadata": {},
     "output_type": "display_data"
    }
   ],
   "source": [
    "fig, ax = plt.subplots()\n",
    "predictions = logit_model.predict(X_const_l)\n",
    "ax.scatter(predictions,\n",
    "           y_l - predictions,\n",
    "           alpha=0.3)\n",
    "ax.axhline(0, color='r', ls='--')\n",
    "ax.set_xlabel('Predicted Fail Outcomes')\n",
    "ax.set_ylabel('Residuals');"
   ]
  },
  {
   "cell_type": "code",
   "execution_count": 101,
   "metadata": {},
   "outputs": [],
   "source": [
    "from scipy import stats"
   ]
  },
  {
   "cell_type": "code",
   "execution_count": 102,
   "metadata": {},
   "outputs": [
    {
     "data": {
      "text/plain": [
       "Text(0.5, 1.0, 'QQ Plot vs Normal dist for Prestige Residuals')"
      ]
     },
     "execution_count": 102,
     "metadata": {},
     "output_type": "execute_result"
    },
    {
     "data": {
      "image/png": "[encoded data removed]",
      "text/plain": [
       "<Figure size 360x360 with 1 Axes>"
      ]
     },
     "metadata": {},
     "output_type": "display_data"
    }
   ],
   "source": [
    "fig, ax = plt.subplots(figsize=((5, 5)))\n",
    "predictions = logit_model.predict(X_const_l)\n",
    "stats.probplot(y_l - predictions, plot=ax);\n",
    "ax.set_title(\"QQ Plot vs Normal dist for Prestige Residuals\")"
   ]
  },
  {
   "cell_type": "code",
   "execution_count": null,
   "metadata": {},
   "outputs": [],
   "source": []
  },
  {
   "cell_type": "code",
   "execution_count": null,
   "metadata": {},
   "outputs": [],
   "source": []
  },
  {
   "cell_type": "code",
   "execution_count": null,
   "metadata": {},
   "outputs": [],
   "source": []
  },
  {
   "cell_type": "code",
   "execution_count": null,
   "metadata": {},
   "outputs": [],
   "source": []
  },
  {
   "cell_type": "code",
   "execution_count": null,
   "metadata": {},
   "outputs": [],
   "source": [
    "\n"
   ]
  },
  {
   "cell_type": "code",
   "execution_count": null,
   "metadata": {},
   "outputs": [],
   "source": []
  },
  {
   "cell_type": "code",
   "execution_count": null,
   "metadata": {},
   "outputs": [],
   "source": []
  },
  {
   "cell_type": "code",
   "execution_count": null,
   "metadata": {},
   "outputs": [],
   "source": []
  },
  {
   "cell_type": "code",
   "execution_count": null,
   "metadata": {},
   "outputs": [],
   "source": []
  },
  {
   "cell_type": "code",
   "execution_count": 35,
   "metadata": {},
   "outputs": [],
   "source": [
    "model_rf = RandomForestClassifier(criterion = 'gini', n_estimators = 200, max_features = 0.25, \n",
    "                                    oob_score = True, bootstrap = True,min_samples_leaf= 4,\n",
    "                                    min_samples_split= 2, random_state = 42, n_jobs = -1)"
   ]
  },
  {
   "cell_type": "code",
   "execution_count": 48,
   "metadata": {},
   "outputs": [
    {
     "name": "stdout",
     "output_type": "stream",
     "text": [
      "\n",
      "Model Report\n",
      "Recall (Train) : 0.9016\n",
      "AUC Score (Train): 0.970964\n",
      "CV Score : Mean - 0.7656222 | Std - 0.003067165 | Min - 0.7601002 | Max - 0.7695035\n"
     ]
    }
   ],
   "source": [
    "modelfit(model_rf, X_train,y_train, performCV=True, printFeatureImportance=False, cv_folds=5);"
   ]
  },
  {
   "cell_type": "code",
   "execution_count": null,
   "metadata": {},
   "outputs": [],
   "source": []
  },
  {
   "cell_type": "code",
   "execution_count": 38,
   "metadata": {},
   "outputs": [],
   "source": [
    "model_rf_2 = RandomForestClassifier(criterion = 'gini', n_estimators = 200, max_features = 0.25, \n",
    "                                    oob_score = True, bootstrap = True,min_samples_leaf= 50,\n",
    "                                    min_samples_split= 220, random_state = 42, n_jobs = -1)"
   ]
  },
  {
   "cell_type": "code",
   "execution_count": 51,
   "metadata": {},
   "outputs": [
    {
     "name": "stdout",
     "output_type": "stream",
     "text": [
      "\n",
      "Model Report\n",
      "Recall (Train) : 0.6528\n",
      "AUC Score (Train): 0.785633\n",
      "CV Score : Mean - 0.7585926 | Std - 0.003659808 | Min - 0.7529921 | Max - 0.7623641\n"
     ]
    }
   ],
   "source": [
    "modelfit(model_rf_2, X_train,y_train, performCV=True, printFeatureImportance=False, cv_folds=5);"
   ]
  },
  {
   "cell_type": "code",
   "execution_count": 133,
   "metadata": {},
   "outputs": [],
   "source": [
    "model_rf_3 = RandomForestClassifier(criterion = 'gini', n_estimators = 500, max_features = 0.25, \n",
    "                                    oob_score = True, bootstrap = True,min_samples_leaf= 4,\n",
    "                                    min_samples_split= 2, random_state = 42, n_jobs = -1)"
   ]
  },
  {
   "cell_type": "code",
   "execution_count": 134,
   "metadata": {},
   "outputs": [
    {
     "name": "stdout",
     "output_type": "stream",
     "text": [
      "\n",
      "Model Report\n",
      "Recall (Train) : 0.9046\n",
      "AUC Score (Train): 0.971575\n",
      "CV Score : Mean - 0.766645 | Std - 0.003248356 | Min - 0.7609081 | Max - 0.7709334\n"
     ]
    }
   ],
   "source": [
    "modelfit(model_rf_3, X_train,y_train, performCV=True, printFeatureImportance=False, cv_folds=5);"
   ]
  },
  {
   "cell_type": "code",
   "execution_count": 172,
   "metadata": {},
   "outputs": [
    {
     "data": {
      "text/plain": [
       "10.344080432788601"
      ]
     },
     "execution_count": 172,
     "metadata": {},
     "output_type": "execute_result"
    }
   ],
   "source": [
    "np.sqrt(len(X_train.columns))"
   ]
  },
  {
   "cell_type": "code",
   "execution_count": 174,
   "metadata": {},
   "outputs": [],
   "source": [
    "rf_model_params = {\n",
    "    'n_estimators': [100,200,500], # how many estimators is helpful?\n",
    "    'max_features': ['sqrt', 0.25,.50,None], # how many features? \n",
    "#     'min_samples_split': [5, 10, 50],        \n",
    "#     'min_samples_leaf': [5, 10, 50],\n",
    "#    'max_depth': [3, None],\n",
    "    'bootstrap': [True],    \n",
    "    'random_state': [42]}"
   ]
  },
  {
   "cell_type": "code",
   "execution_count": 175,
   "metadata": {},
   "outputs": [],
   "source": [
    "rf_model = RandomForestClassifier()\n"
   ]
  },
  {
   "cell_type": "code",
   "execution_count": 176,
   "metadata": {},
   "outputs": [],
   "source": [
    "clf = GridSearchCV(rf_model, rf_model_params, cv=3,n_jobs = -1 , verbose = True)\n"
   ]
  },
  {
   "cell_type": "code",
   "execution_count": 177,
   "metadata": {},
   "outputs": [
    {
     "name": "stdout",
     "output_type": "stream",
     "text": [
      "Fitting 3 folds for each of 12 candidates, totalling 36 fits\n"
     ]
    },
    {
     "name": "stderr",
     "output_type": "stream",
     "text": [
      "[Parallel(n_jobs=-1)]: Using backend LokyBackend with 12 concurrent workers.\n",
      "[Parallel(n_jobs=-1)]: Done  36 out of  36 | elapsed:  2.8min finished\n"
     ]
    }
   ],
   "source": [
    "model = clf.fit(X_train, y_train)"
   ]
  },
  {
   "cell_type": "code",
   "execution_count": 178,
   "metadata": {},
   "outputs": [
    {
     "name": "stdout",
     "output_type": "stream",
     "text": [
      "{'bootstrap': True,\n",
      " 'class_weight': None,\n",
      " 'criterion': 'gini',\n",
      " 'max_depth': None,\n",
      " 'max_features': 0.5,\n",
      " 'max_leaf_nodes': None,\n",
      " 'min_impurity_decrease': 0.0,\n",
      " 'min_impurity_split': None,\n",
      " 'min_samples_leaf': 1,\n",
      " 'min_samples_split': 2,\n",
      " 'min_weight_fraction_leaf': 0.0,\n",
      " 'n_estimators': 500,\n",
      " 'n_jobs': None,\n",
      " 'oob_score': False,\n",
      " 'random_state': 42,\n",
      " 'verbose': 0,\n",
      " 'warm_start': False}\n"
     ]
    }
   ],
   "source": [
    "pprint(model.best_estimator_.get_params())"
   ]
  },
  {
   "cell_type": "code",
   "execution_count": 180,
   "metadata": {},
   "outputs": [],
   "source": [
    "model_rf_4 = RandomForestClassifier(criterion = 'gini', n_estimators = 500, max_features = 0.5, \n",
    "                                    oob_score = True, bootstrap = True,min_samples_leaf= 1,\n",
    "                                    min_samples_split= 2, random_state = 42, n_jobs = -1)"
   ]
  },
  {
   "cell_type": "code",
   "execution_count": 181,
   "metadata": {},
   "outputs": [
    {
     "name": "stdout",
     "output_type": "stream",
     "text": [
      "\n",
      "Model Report\n",
      "Recall (Train) : 0.9994\n",
      "AUC Score (Train): 1.000000\n",
      "CV Score : Mean - 0.7556419 | Std - 0.002666478 | Min - 0.7512996 | Max - 0.7596329\n"
     ]
    }
   ],
   "source": [
    "modelfit(model_rf_4, X_train,y_train, performCV=True, printFeatureImportance=False, cv_folds=5);"
   ]
  },
  {
   "cell_type": "code",
   "execution_count": 182,
   "metadata": {},
   "outputs": [],
   "source": [
    "rf_model_params = {\n",
    "    'n_estimators': [500,600, 700], # how many estimators is helpful?\n",
    "    'max_features': [0.25,.50], # how many features? \n",
    "    'min_samples_split': [5, 10, 50],        \n",
    "    'min_samples_leaf': [5, 10, 50],\n",
    "   'max_depth': [3, None],\n",
    "    'bootstrap': [True],    \n",
    "    'random_state': [42]}"
   ]
  },
  {
   "cell_type": "code",
   "execution_count": 183,
   "metadata": {},
   "outputs": [],
   "source": [
    "clf = GridSearchCV(rf_model, rf_model_params, cv=3,n_jobs = -1 , verbose = True)\n"
   ]
  },
  {
   "cell_type": "code",
   "execution_count": 184,
   "metadata": {},
   "outputs": [
    {
     "name": "stdout",
     "output_type": "stream",
     "text": [
      "Fitting 3 folds for each of 108 candidates, totalling 324 fits\n"
     ]
    },
    {
     "name": "stderr",
     "output_type": "stream",
     "text": [
      "[Parallel(n_jobs=-1)]: Using backend LokyBackend with 12 concurrent workers.\n",
      "[Parallel(n_jobs=-1)]: Done  26 tasks      | elapsed:   29.0s\n",
      "[Parallel(n_jobs=-1)]: Done 176 tasks      | elapsed:  5.3min\n",
      "[Parallel(n_jobs=-1)]: Done 324 out of 324 | elapsed: 19.5min finished\n"
     ]
    }
   ],
   "source": [
    "model = clf.fit(X_train, y_train)"
   ]
  },
  {
   "cell_type": "code",
   "execution_count": 185,
   "metadata": {},
   "outputs": [
    {
     "name": "stdout",
     "output_type": "stream",
     "text": [
      "{'bootstrap': True,\n",
      " 'class_weight': None,\n",
      " 'criterion': 'gini',\n",
      " 'max_depth': None,\n",
      " 'max_features': 0.25,\n",
      " 'max_leaf_nodes': None,\n",
      " 'min_impurity_decrease': 0.0,\n",
      " 'min_impurity_split': None,\n",
      " 'min_samples_leaf': 5,\n",
      " 'min_samples_split': 50,\n",
      " 'min_weight_fraction_leaf': 0.0,\n",
      " 'n_estimators': 500,\n",
      " 'n_jobs': None,\n",
      " 'oob_score': False,\n",
      " 'random_state': 42,\n",
      " 'verbose': 0,\n",
      " 'warm_start': False}\n"
     ]
    }
   ],
   "source": [
    "pprint(model.best_estimator_.get_params())"
   ]
  },
  {
   "cell_type": "code",
   "execution_count": 186,
   "metadata": {},
   "outputs": [],
   "source": [
    "model_rf_5 = RandomForestClassifier(criterion = 'gini', n_estimators = 500, max_features = 0.25, \n",
    "                                    bootstrap = True,min_samples_leaf= 5,\n",
    "                                    min_samples_split= 50, random_state = 42, n_jobs = -1)"
   ]
  },
  {
   "cell_type": "code",
   "execution_count": 187,
   "metadata": {},
   "outputs": [
    {
     "name": "stdout",
     "output_type": "stream",
     "text": [
      "\n",
      "Model Report\n",
      "Recall (Train) : 0.7481\n",
      "AUC Score (Train): 0.876831\n",
      "CV Score : Mean - 0.7687839 | Std - 0.003981757 | Min - 0.7622472 | Max - 0.7731377\n"
     ]
    }
   ],
   "source": [
    "modelfit(model_rf_5, X_train,y_train, performCV=True, printFeatureImportance=False, cv_folds=5);"
   ]
  },
  {
   "cell_type": "code",
   "execution_count": null,
   "metadata": {},
   "outputs": [],
   "source": []
  },
  {
   "cell_type": "code",
   "execution_count": null,
   "metadata": {},
   "outputs": [],
   "source": []
  },
  {
   "cell_type": "code",
   "execution_count": null,
   "metadata": {},
   "outputs": [],
   "source": []
  },
  {
   "cell_type": "code",
   "execution_count": null,
   "metadata": {},
   "outputs": [],
   "source": []
  },
  {
   "cell_type": "code",
   "execution_count": 188,
   "metadata": {},
   "outputs": [],
   "source": [
    "gb_model_params = {\n",
    "    'n_estimators': [200,400,600], # how many estimators is helpful?\n",
    "    'learning_rate': [0.1, 0.05, 0.02],\n",
    "    'max_features': ['sqrt', 0.25,.50], # how many features? \n",
    "\n",
    "#     'max_features': ['sqrt', 0.25,.50,None], # how many features? \n",
    "#     'min_samples_split': [1,5, 10, 50],        \n",
    "#     'min_samples_leaf': [1,5, 10, 50],\n",
    "#    'max_depth': [3, 6, None],    \n",
    "    'random_state': [42]}"
   ]
  },
  {
   "cell_type": "code",
   "execution_count": 189,
   "metadata": {},
   "outputs": [],
   "source": [
    "gb_model = GradientBoostingClassifier()\n"
   ]
  },
  {
   "cell_type": "code",
   "execution_count": 190,
   "metadata": {},
   "outputs": [],
   "source": [
    "clf = GridSearchCV(gb_model, gb_model_params, cv=3,n_jobs = -1 , verbose = True)\n"
   ]
  },
  {
   "cell_type": "code",
   "execution_count": 191,
   "metadata": {},
   "outputs": [
    {
     "name": "stdout",
     "output_type": "stream",
     "text": [
      "Fitting 3 folds for each of 27 candidates, totalling 81 fits\n"
     ]
    },
    {
     "name": "stderr",
     "output_type": "stream",
     "text": [
      "[Parallel(n_jobs=-1)]: Using backend LokyBackend with 12 concurrent workers.\n",
      "[Parallel(n_jobs=-1)]: Done  26 tasks      | elapsed:   23.3s\n",
      "[Parallel(n_jobs=-1)]: Done  81 out of  81 | elapsed:  1.3min finished\n"
     ]
    }
   ],
   "source": [
    "model = clf.fit(X_train, y_train)"
   ]
  },
  {
   "cell_type": "code",
   "execution_count": 192,
   "metadata": {},
   "outputs": [
    {
     "name": "stdout",
     "output_type": "stream",
     "text": [
      "{'criterion': 'friedman_mse',\n",
      " 'init': None,\n",
      " 'learning_rate': 0.1,\n",
      " 'loss': 'deviance',\n",
      " 'max_depth': 3,\n",
      " 'max_features': 'sqrt',\n",
      " 'max_leaf_nodes': None,\n",
      " 'min_impurity_decrease': 0.0,\n",
      " 'min_impurity_split': None,\n",
      " 'min_samples_leaf': 1,\n",
      " 'min_samples_split': 2,\n",
      " 'min_weight_fraction_leaf': 0.0,\n",
      " 'n_estimators': 400,\n",
      " 'n_iter_no_change': None,\n",
      " 'presort': 'auto',\n",
      " 'random_state': 42,\n",
      " 'subsample': 1.0,\n",
      " 'tol': 0.0001,\n",
      " 'validation_fraction': 0.1,\n",
      " 'verbose': 0,\n",
      " 'warm_start': False}\n"
     ]
    }
   ],
   "source": [
    "pprint(model.best_estimator_.get_params())"
   ]
  },
  {
   "cell_type": "code",
   "execution_count": 194,
   "metadata": {},
   "outputs": [],
   "source": [
    "model_gb_3 = GradientBoostingClassifier(n_estimators = 400, learning_rate = 0.1\n",
    "                                      ,min_samples_split = 2\n",
    "                                      ,min_samples_leaf = 1\n",
    "                                      ,max_depth = 3\n",
    "                                      ,max_features = 'sqrt'\n",
    "                                      ,subsample = 1\n",
    "                                      , random_state = 42\n",
    "                                     )"
   ]
  },
  {
   "cell_type": "code",
   "execution_count": 195,
   "metadata": {},
   "outputs": [
    {
     "name": "stdout",
     "output_type": "stream",
     "text": [
      "\n",
      "Model Report\n",
      "Recall (Train) : 0.6967\n",
      "AUC Score (Train): 0.811685\n",
      "CV Score : Mean - 0.7767878 | Std - 0.001504218 | Min - 0.7748002 | Max - 0.7793014\n"
     ]
    }
   ],
   "source": [
    "modelfit(model_gb_3, X_train,y_train, performCV=True, printFeatureImportance=False, cv_folds=5);"
   ]
  },
  {
   "cell_type": "code",
   "execution_count": null,
   "metadata": {},
   "outputs": [],
   "source": []
  },
  {
   "cell_type": "code",
   "execution_count": 197,
   "metadata": {},
   "outputs": [],
   "source": [
    "gb_model_params = {\n",
    "    'n_estimators': [400], # how many estimators is helpful?\n",
    "    'learning_rate': [0.1, .2],\n",
    "    'max_features': ['sqrt'], # how many features? \n",
    "\n",
    "\n",
    "    'min_samples_split': [5, 10, 50,100],        \n",
    "    'min_samples_leaf': [5, 10, 50,100],\n",
    "    'max_depth': [3, 6, 9, None],    \n",
    "    'random_state': [42]}"
   ]
  },
  {
   "cell_type": "code",
   "execution_count": 198,
   "metadata": {},
   "outputs": [],
   "source": [
    "clf = GridSearchCV(gb_model, gb_model_params, cv=3,n_jobs = -1 , verbose = True)\n"
   ]
  },
  {
   "cell_type": "code",
   "execution_count": 199,
   "metadata": {},
   "outputs": [
    {
     "name": "stdout",
     "output_type": "stream",
     "text": [
      "Fitting 3 folds for each of 128 candidates, totalling 384 fits\n"
     ]
    },
    {
     "name": "stderr",
     "output_type": "stream",
     "text": [
      "[Parallel(n_jobs=-1)]: Using backend LokyBackend with 12 concurrent workers.\n",
      "[Parallel(n_jobs=-1)]: Done  26 tasks      | elapsed:   18.8s\n",
      "[Parallel(n_jobs=-1)]: Done 176 tasks      | elapsed:  8.8min\n",
      "[Parallel(n_jobs=-1)]: Done 384 out of 384 | elapsed: 17.8min finished\n"
     ]
    }
   ],
   "source": [
    "model = clf.fit(X_train, y_train)"
   ]
  },
  {
   "cell_type": "code",
   "execution_count": 200,
   "metadata": {},
   "outputs": [
    {
     "name": "stdout",
     "output_type": "stream",
     "text": [
      "{'criterion': 'friedman_mse',\n",
      " 'init': None,\n",
      " 'learning_rate': 0.2,\n",
      " 'loss': 'deviance',\n",
      " 'max_depth': 3,\n",
      " 'max_features': 'sqrt',\n",
      " 'max_leaf_nodes': None,\n",
      " 'min_impurity_decrease': 0.0,\n",
      " 'min_impurity_split': None,\n",
      " 'min_samples_leaf': 100,\n",
      " 'min_samples_split': 5,\n",
      " 'min_weight_fraction_leaf': 0.0,\n",
      " 'n_estimators': 400,\n",
      " 'n_iter_no_change': None,\n",
      " 'presort': 'auto',\n",
      " 'random_state': 42,\n",
      " 'subsample': 1.0,\n",
      " 'tol': 0.0001,\n",
      " 'validation_fraction': 0.1,\n",
      " 'verbose': 0,\n",
      " 'warm_start': False}\n"
     ]
    }
   ],
   "source": [
    "pprint(model.best_estimator_.get_params())"
   ]
  },
  {
   "cell_type": "code",
   "execution_count": 201,
   "metadata": {},
   "outputs": [],
   "source": [
    "model_gb_4 = GradientBoostingClassifier(n_estimators = 400, learning_rate = 0.2\n",
    "                                      ,min_samples_split = 5\n",
    "                                      ,min_samples_leaf = 100\n",
    "                                      ,max_depth = 3\n",
    "                                      ,max_features = 'sqrt'\n",
    "                                      ,subsample = 1\n",
    "                                      , random_state = 42\n",
    "                                     )"
   ]
  },
  {
   "cell_type": "code",
   "execution_count": 202,
   "metadata": {},
   "outputs": [
    {
     "name": "stdout",
     "output_type": "stream",
     "text": [
      "\n",
      "Model Report\n",
      "Recall (Train) : 0.7058\n",
      "AUC Score (Train): 0.815624\n",
      "CV Score : Mean - 0.7772973 | Std - 0.001933914 | Min - 0.7744788 | Max - 0.779916\n"
     ]
    }
   ],
   "source": [
    "modelfit(model_gb_4, X_train,y_train, performCV=True, printFeatureImportance=False, cv_folds=5);"
   ]
  },
  {
   "cell_type": "code",
   "execution_count": null,
   "metadata": {},
   "outputs": [],
   "source": []
  },
  {
   "cell_type": "code",
   "execution_count": null,
   "metadata": {},
   "outputs": [],
   "source": []
  },
  {
   "cell_type": "code",
   "execution_count": null,
   "metadata": {},
   "outputs": [],
   "source": []
  },
  {
   "cell_type": "code",
   "execution_count": null,
   "metadata": {},
   "outputs": [],
   "source": []
  },
  {
   "cell_type": "code",
   "execution_count": 40,
   "metadata": {},
   "outputs": [],
   "source": [
    "model_gb = GradientBoostingClassifier(n_estimators = 200, learning_rate = 0.1, random_state = 42)"
   ]
  },
  {
   "cell_type": "code",
   "execution_count": 50,
   "metadata": {},
   "outputs": [
    {
     "name": "stdout",
     "output_type": "stream",
     "text": [
      "\n",
      "Model Report\n",
      "Recall (Train) : 0.6898\n",
      "AUC Score (Train): 0.805262\n",
      "CV Score : Mean - 0.7752534 | Std - 0.002236932 | Min - 0.7717958 | Max - 0.7780934\n"
     ]
    }
   ],
   "source": [
    "modelfit(model_gb, X_train,y_train, performCV=True, printFeatureImportance=False, cv_folds=5);"
   ]
  },
  {
   "cell_type": "code",
   "execution_count": null,
   "metadata": {},
   "outputs": [],
   "source": []
  },
  {
   "cell_type": "code",
   "execution_count": 42,
   "metadata": {},
   "outputs": [],
   "source": [
    "model_gb_2 = GradientBoostingClassifier(n_estimators = 200, learning_rate = 0.1\n",
    "                                      ,min_samples_split = 220\n",
    "                                      ,min_samples_leaf = 50\n",
    "                                      ,max_depth = 6\n",
    "                                      ,max_features = 'sqrt'\n",
    "                                      ,subsample = 0.8\n",
    "                                      , random_state = 42\n",
    "                                     )"
   ]
  },
  {
   "cell_type": "code",
   "execution_count": 52,
   "metadata": {},
   "outputs": [
    {
     "name": "stdout",
     "output_type": "stream",
     "text": [
      "\n",
      "Model Report\n",
      "Recall (Train) : 0.718\n",
      "AUC Score (Train): 0.831860\n",
      "CV Score : Mean - 0.7768162 | Std - 0.004703998 | Min - 0.7700476 | Max - 0.7831705\n"
     ]
    }
   ],
   "source": [
    "modelfit(model_gb_2, X_train,y_train, performCV=True, printFeatureImportance=False, cv_folds=5);"
   ]
  },
  {
   "cell_type": "code",
   "execution_count": null,
   "metadata": {},
   "outputs": [],
   "source": []
  },
  {
   "cell_type": "code",
   "execution_count": null,
   "metadata": {},
   "outputs": [],
   "source": []
  },
  {
   "cell_type": "code",
   "execution_count": null,
   "metadata": {},
   "outputs": [],
   "source": []
  },
  {
   "cell_type": "code",
   "execution_count": null,
   "metadata": {},
   "outputs": [],
   "source": []
  },
  {
   "cell_type": "code",
   "execution_count": null,
   "metadata": {},
   "outputs": [],
   "source": [
    "model_params = {\n",
    "    'n_estimators': [10, 50, 100, 200],\n",
    "    'max_features': ['sqrt', 0.25, 0.5, 0.75, 1.0], #learning rate\n",
    "    'min_samples_split': [2, 4, 6],        \n",
    "    'min_samples_leaf': [1, 2, 4],\n",
    "    'bootstrap': [True, False],    \n",
    "    'random_state': [42]}"
   ]
  },
  {
   "cell_type": "code",
   "execution_count": null,
   "metadata": {},
   "outputs": [],
   "source": [
    "clf = GridSearchCV(rf_model, model_params, cv=5, n_jobs = -1 , verbose = True)\n"
   ]
  },
  {
   "cell_type": "code",
   "execution_count": null,
   "metadata": {},
   "outputs": [],
   "source": [
    "model = clf.fit(X_train_no_w, y_train_no_w)"
   ]
  },
  {
   "cell_type": "code",
   "execution_count": null,
   "metadata": {},
   "outputs": [],
   "source": [
    "\n",
    "pprint(model.best_estimator_.get_params())"
   ]
  },
  {
   "cell_type": "code",
   "execution_count": null,
   "metadata": {},
   "outputs": [],
   "source": []
  },
  {
   "cell_type": "code",
   "execution_count": null,
   "metadata": {},
   "outputs": [],
   "source": []
  },
  {
   "cell_type": "code",
   "execution_count": null,
   "metadata": {},
   "outputs": [],
   "source": []
  },
  {
   "cell_type": "code",
   "execution_count": 225,
   "metadata": {},
   "outputs": [
    {
     "data": {
      "image/png": "[encoded data removed]",
      "text/plain": [
       "<Figure size 432x288 with 1 Axes>"
      ]
     },
     "metadata": {},
     "output_type": "display_data"
    },
    {
     "data": {
      "text/plain": [
       "'Train Accuracy: 0.75. Test Accuracy: 0.70. Precision: 0.71. Recall: 0.68. AUC: 0.77'"
      ]
     },
     "execution_count": 225,
     "metadata": {},
     "output_type": "execute_result"
    }
   ],
   "source": [
    "get_scores(GradientBoostingClassifier, X_train, X_test, y_train, y_test, color = 'navy', n_estimators = 200, learning_rate = 0.1\n",
    "                                      ,min_samples_split = 220\n",
    "                                      ,min_samples_leaf = 50\n",
    "                                      ,max_depth = 6\n",
    "                                      ,max_features = 'sqrt'\n",
    "                                      ,subsample = 0.8\n",
    "                                      , random_state = 42)"
   ]
  },
  {
   "cell_type": "code",
   "execution_count": 226,
   "metadata": {},
   "outputs": [
    {
     "data": {
      "image/png": "[encoded data removed]",
      "text/plain": [
       "<Figure size 432x288 with 1 Axes>"
      ]
     },
     "metadata": {},
     "output_type": "display_data"
    },
    {
     "data": {
      "text/plain": [
       "'Train Accuracy: 0.79. Test Accuracy: 0.69. OOB: 0.70. Precision: 0.70. Recall: 0.63. AUC: 0.76'"
      ]
     },
     "execution_count": 226,
     "metadata": {},
     "output_type": "execute_result"
    }
   ],
   "source": [
    "get_scores(RandomForestClassifier, X_train, X_test, y_train, y_test, color = 'red', criterion = 'gini', n_estimators = 500, max_features = 0.25, \n",
    "                                    bootstrap = True,min_samples_leaf= 5, oob_score = True,\n",
    "                                    min_samples_split= 50, random_state = 42, n_jobs = -1)"
   ]
  },
  {
   "cell_type": "code",
   "execution_count": 214,
   "metadata": {},
   "outputs": [
    {
     "data": {
      "text/plain": [
       "(22436, 104)"
      ]
     },
     "execution_count": 214,
     "metadata": {},
     "output_type": "execute_result"
    }
   ],
   "source": [
    "X_train_l.shape"
   ]
  },
  {
   "cell_type": "code",
   "execution_count": 215,
   "metadata": {},
   "outputs": [
    {
     "data": {
      "text/plain": [
       "(22436,)"
      ]
     },
     "execution_count": 215,
     "metadata": {},
     "output_type": "execute_result"
    }
   ],
   "source": [
    "y_train_l.shape"
   ]
  },
  {
   "cell_type": "code",
   "execution_count": 216,
   "metadata": {},
   "outputs": [
    {
     "data": {
      "text/plain": [
       "(7479, 104)"
      ]
     },
     "execution_count": 216,
     "metadata": {},
     "output_type": "execute_result"
    }
   ],
   "source": [
    "X_test_l.shape"
   ]
  },
  {
   "cell_type": "code",
   "execution_count": null,
   "metadata": {},
   "outputs": [],
   "source": []
  },
  {
   "cell_type": "code",
   "execution_count": null,
   "metadata": {},
   "outputs": [],
   "source": []
  },
  {
   "cell_type": "code",
   "execution_count": null,
   "metadata": {},
   "outputs": [],
   "source": []
  },
  {
   "cell_type": "code",
   "execution_count": null,
   "metadata": {},
   "outputs": [],
   "source": []
  },
  {
   "cell_type": "code",
   "execution_count": null,
   "metadata": {},
   "outputs": [],
   "source": []
  },
  {
   "cell_type": "code",
   "execution_count": null,
   "metadata": {},
   "outputs": [],
   "source": []
  },
  {
   "cell_type": "code",
   "execution_count": 224,
   "metadata": {},
   "outputs": [
    {
     "name": "stderr",
     "output_type": "stream",
     "text": [
      "/Users/jaimeadybuncio/opt/anaconda3/lib/python3.7/site-packages/sklearn/linear_model/logistic.py:432: FutureWarning: Default solver will be changed to 'lbfgs' in 0.22. Specify a solver to silence this warning.\n",
      "  FutureWarning)\n"
     ]
    },
    {
     "data": {
      "image/png": "[encoded data removed]",
      "text/plain": [
       "<Figure size 432x288 with 1 Axes>"
      ]
     },
     "metadata": {},
     "output_type": "display_data"
    },
    {
     "data": {
      "text/plain": [
       "'Train Accuracy: 0.68. Test Accuracy: 0.68. Precision: 0.68. Recall: 0.65. AUC: 0.74'"
      ]
     },
     "execution_count": 224,
     "metadata": {},
     "output_type": "execute_result"
    }
   ],
   "source": [
    "get_scores(LogisticRegression, X_train_l, X_test_l, y_train_l, y_test_l, color = 'orange')"
   ]
  },
  {
   "cell_type": "code",
   "execution_count": 230,
   "metadata": {},
   "outputs": [],
   "source": [
    "from src.modeling_script import feature_importance"
   ]
  },
  {
   "cell_type": "code",
   "execution_count": 231,
   "metadata": {},
   "outputs": [
    {
     "data": {
      "image/png": "[encoded data removed]",
      "text/plain": [
       "<Figure size 432x288 with 1 Axes>"
      ]
     },
     "metadata": {},
     "output_type": "display_data"
    }
   ],
   "source": [
    "feature_importance(GradientBoostingClassifier, X_train, X_test, y_train, y_test, color = 'navy', n_estimators = 200, learning_rate = 0.1\n",
    "                                      ,min_samples_split = 220\n",
    "                                      ,min_samples_leaf = 50\n",
    "                                      ,max_depth = 6\n",
    "                                      ,max_features = 'sqrt'\n",
    "                                      ,subsample = 0.8\n",
    "                                      , random_state = 42)"
   ]
  },
  {
   "cell_type": "code",
   "execution_count": 219,
   "metadata": {},
   "outputs": [
    {
     "data": {
      "image/png": "[encoded data removed]",
      "text/plain": [
       "<Figure size 432x288 with 1 Axes>"
      ]
     },
     "metadata": {},
     "output_type": "display_data"
    }
   ],
   "source": [
    "feature_importance(RandomForestClassifier, X_train, X_test, y_train, y_test, color = 'red', criterion = 'gini', n_estimators = 500, max_features = 0.25, \n",
    "                                    bootstrap = True,min_samples_leaf= 5, oob_score = True,\n",
    "                                    min_samples_split= 50, random_state = 42, n_jobs = -1)"
   ]
  },
  {
   "cell_type": "code",
   "execution_count": null,
   "metadata": {},
   "outputs": [],
   "source": []
  }
 ],
 "metadata": {
  "kernelspec": {
   "display_name": "Python 3",
   "language": "python",
   "name": "python3"
  },
  "language_info": {
   "codemirror_mode": {
    "name": "ipython",
    "version": 3
   },
   "file_extension": ".py",
   "mimetype": "text/x-python",
   "name": "python",
   "nbconvert_exporter": "python",
   "pygments_lexer": "ipython3",
   "version": "3.7.4"
  }
 },
 "nbformat": 4,
 "nbformat_minor": 2
}
