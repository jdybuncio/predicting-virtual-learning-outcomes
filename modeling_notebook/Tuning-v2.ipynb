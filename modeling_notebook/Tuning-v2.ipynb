{
 "cells": [
  {
   "cell_type": "code",
   "execution_count": 3,
   "metadata": {},
   "outputs": [],
   "source": [
    "import pandas as pd\n",
    "import numpy as np\n",
    "import seaborn as sns\n",
    "import matplotlib.pyplot as plt"
   ]
  },
  {
   "cell_type": "code",
   "execution_count": 4,
   "metadata": {},
   "outputs": [],
   "source": [
    "%matplotlib inline\n",
    "plt.style.use('ggplot')"
   ]
  },
  {
   "cell_type": "code",
   "execution_count": 109,
   "metadata": {},
   "outputs": [],
   "source": [
    "from sklearn.linear_model import LogisticRegression\n",
    "from sklearn.model_selection import KFold, train_test_split, cross_val_score, GridSearchCV\n",
    "from sklearn.metrics import accuracy_score, precision_score, recall_score, confusion_matrix, roc_curve, auc, f1_score, roc_auc_score, r2_score\n",
    "from sklearn.ensemble import RandomForestClassifier, GradientBoostingClassifier,AdaBoostClassifier\n",
    "from pprint import pprint"
   ]
  },
  {
   "cell_type": "code",
   "execution_count": 6,
   "metadata": {},
   "outputs": [],
   "source": [
    "from statsmodels.discrete.discrete_model import Logit\n",
    "from statsmodels.tools import add_constant"
   ]
  },
  {
   "cell_type": "code",
   "execution_count": 20,
   "metadata": {},
   "outputs": [],
   "source": [
    "from src.modeling_script import modelfit, get_scores, feature_importance"
   ]
  },
  {
   "cell_type": "markdown",
   "metadata": {},
   "source": [
    "### Read in Data"
   ]
  },
  {
   "cell_type": "code",
   "execution_count": 9,
   "metadata": {},
   "outputs": [],
   "source": [
    "df = pd.read_csv('data/dataset_for_modeling_day_zero.csv',index_col =0)\n",
    "\n",
    "\n",
    "# dataset_for_modeling_day_zero.csv"
   ]
  },
  {
   "cell_type": "markdown",
   "metadata": {},
   "source": [
    "# Modeling - Predicting for students who are registered as of Day 0"
   ]
  },
  {
   "cell_type": "markdown",
   "metadata": {},
   "source": [
    "### Train Test Split - use aggressive amount for Test since sample size is >30k"
   ]
  },
  {
   "cell_type": "code",
   "execution_count": 12,
   "metadata": {},
   "outputs": [],
   "source": [
    "y = df.pop('fail_flag')\n",
    "X = df\n",
    "X = X.fillna(0)"
   ]
  },
  {
   "cell_type": "code",
   "execution_count": 13,
   "metadata": {},
   "outputs": [],
   "source": [
    "X_exclude_one_dummy = X.drop(['module_presentation_AAA-2013J','module_presentation_AAA-2014J','region_London Region'], axis = 1)"
   ]
  },
  {
   "cell_type": "code",
   "execution_count": 14,
   "metadata": {},
   "outputs": [
    {
     "data": {
      "text/plain": [
       "0    0.51429\n",
       "1    0.48571\n",
       "Name: fail_flag, dtype: float64"
      ]
     },
     "execution_count": 14,
     "metadata": {},
     "output_type": "execute_result"
    }
   ],
   "source": [
    "y.value_counts() / len(y)\n"
   ]
  },
  {
   "cell_type": "code",
   "execution_count": 15,
   "metadata": {},
   "outputs": [],
   "source": [
    "X_train, X_test, y_train, y_test = train_test_split(X, y, shuffle = True, test_size = 0.25, random_state = 42)"
   ]
  },
  {
   "cell_type": "code",
   "execution_count": 16,
   "metadata": {},
   "outputs": [],
   "source": [
    "X_train_l, X_test_l, y_train_l, y_test_l = train_test_split(X_exclude_one_dummy, y, shuffle = True, test_size = 0.25, random_state = 42)"
   ]
  },
  {
   "cell_type": "markdown",
   "metadata": {},
   "source": [
    "## Logistic Regression"
   ]
  },
  {
   "cell_type": "code",
   "execution_count": 118,
   "metadata": {},
   "outputs": [],
   "source": [
    "model_l = LogisticRegression()"
   ]
  },
  {
   "cell_type": "code",
   "execution_count": 119,
   "metadata": {},
   "outputs": [
    {
     "name": "stderr",
     "output_type": "stream",
     "text": [
      "/Users/jaimeadybuncio/opt/anaconda3/lib/python3.7/site-packages/sklearn/linear_model/logistic.py:432: FutureWarning: Default solver will be changed to 'lbfgs' in 0.22. Specify a solver to silence this warning.\n",
      "  FutureWarning)\n"
     ]
    },
    {
     "data": {
      "text/plain": [
       "LogisticRegression(C=1.0, class_weight=None, dual=False, fit_intercept=True,\n",
       "                   intercept_scaling=1, l1_ratio=None, max_iter=100,\n",
       "                   multi_class='warn', n_jobs=None, penalty='l2',\n",
       "                   random_state=None, solver='warn', tol=0.0001, verbose=0,\n",
       "                   warm_start=False)"
      ]
     },
     "execution_count": 119,
     "metadata": {},
     "output_type": "execute_result"
    }
   ],
   "source": [
    "model_l.fit(X_train_l, y_train_l)"
   ]
  },
  {
   "cell_type": "code",
   "execution_count": 21,
   "metadata": {},
   "outputs": [
    {
     "name": "stderr",
     "output_type": "stream",
     "text": [
      "/Users/jaimeadybuncio/opt/anaconda3/lib/python3.7/site-packages/sklearn/linear_model/logistic.py:432: FutureWarning: Default solver will be changed to 'lbfgs' in 0.22. Specify a solver to silence this warning.\n",
      "  FutureWarning)\n",
      "/Users/jaimeadybuncio/opt/anaconda3/lib/python3.7/site-packages/sklearn/linear_model/logistic.py:432: FutureWarning: Default solver will be changed to 'lbfgs' in 0.22. Specify a solver to silence this warning.\n",
      "  FutureWarning)\n",
      "/Users/jaimeadybuncio/opt/anaconda3/lib/python3.7/site-packages/sklearn/linear_model/logistic.py:432: FutureWarning: Default solver will be changed to 'lbfgs' in 0.22. Specify a solver to silence this warning.\n",
      "  FutureWarning)\n",
      "/Users/jaimeadybuncio/opt/anaconda3/lib/python3.7/site-packages/sklearn/linear_model/logistic.py:432: FutureWarning: Default solver will be changed to 'lbfgs' in 0.22. Specify a solver to silence this warning.\n",
      "  FutureWarning)\n",
      "/Users/jaimeadybuncio/opt/anaconda3/lib/python3.7/site-packages/sklearn/svm/base.py:929: ConvergenceWarning: Liblinear failed to converge, increase the number of iterations.\n",
      "  \"the number of iterations.\", ConvergenceWarning)\n",
      "/Users/jaimeadybuncio/opt/anaconda3/lib/python3.7/site-packages/sklearn/linear_model/logistic.py:432: FutureWarning: Default solver will be changed to 'lbfgs' in 0.22. Specify a solver to silence this warning.\n",
      "  FutureWarning)\n",
      "/Users/jaimeadybuncio/opt/anaconda3/lib/python3.7/site-packages/sklearn/linear_model/logistic.py:432: FutureWarning: Default solver will be changed to 'lbfgs' in 0.22. Specify a solver to silence this warning.\n",
      "  FutureWarning)\n"
     ]
    },
    {
     "name": "stdout",
     "output_type": "stream",
     "text": [
      "\n",
      "Model Report\n",
      "Recall (Train) : 0.6552\n",
      "AUC Score (Train): 0.749422\n",
      "CV Score : Mean - 0.7448053 | Std - 0.003579652 | Min - 0.7378733 | Max - 0.747903\n"
     ]
    }
   ],
   "source": [
    "modelfit(model_l, X_train_l,y_train_l, performCV=True, printFeatureImportance=False, cv_folds=5);"
   ]
  },
  {
   "cell_type": "code",
   "execution_count": 22,
   "metadata": {},
   "outputs": [],
   "source": [
    "logit_cols = \"\"\"gender\n",
    "highest_education\n",
    "imd_band\n",
    "age_band\"\"\"\n",
    "logit_cols = logit_cols.split('\\n')"
   ]
  },
  {
   "cell_type": "code",
   "execution_count": 23,
   "metadata": {},
   "outputs": [
    {
     "name": "stdout",
     "output_type": "stream",
     "text": [
      "Optimization terminated successfully.\n",
      "         Current function value: 0.674785\n",
      "         Iterations 4\n"
     ]
    },
    {
     "data": {
      "text/html": [
       "<table class=\"simpletable\">\n",
       "<caption>Logit Regression Results</caption>\n",
       "<tr>\n",
       "  <th>Dep. Variable:</th>       <td>Fail_Flag</td>    <th>  No. Observations:  </th>   <td> 22436</td>  \n",
       "</tr>\n",
       "<tr>\n",
       "  <th>Model:</th>                 <td>Logit</td>      <th>  Df Residuals:      </th>   <td> 22431</td>  \n",
       "</tr>\n",
       "<tr>\n",
       "  <th>Method:</th>                 <td>MLE</td>       <th>  Df Model:          </th>   <td>     4</td>  \n",
       "</tr>\n",
       "<tr>\n",
       "  <th>Date:</th>            <td>Fri, 15 May 2020</td> <th>  Pseudo R-squ.:     </th>   <td>0.02588</td> \n",
       "</tr>\n",
       "<tr>\n",
       "  <th>Time:</th>                <td>08:01:07</td>     <th>  Log-Likelihood:    </th>  <td> -15139.</td> \n",
       "</tr>\n",
       "<tr>\n",
       "  <th>converged:</th>             <td>True</td>       <th>  LL-Null:           </th>  <td> -15542.</td> \n",
       "</tr>\n",
       "<tr>\n",
       "  <th>Covariance Type:</th>     <td>nonrobust</td>    <th>  LLR p-value:       </th> <td>9.086e-173</td>\n",
       "</tr>\n",
       "</table>\n",
       "<table class=\"simpletable\">\n",
       "<tr>\n",
       "          <td></td>             <th>coef</th>     <th>std err</th>      <th>z</th>      <th>P>|z|</th>  <th>[0.025</th>    <th>0.975]</th>  \n",
       "</tr>\n",
       "<tr>\n",
       "  <th>const</th>             <td>    1.2803</td> <td>    0.057</td> <td>   22.352</td> <td> 0.000</td> <td>    1.168</td> <td>    1.393</td>\n",
       "</tr>\n",
       "<tr>\n",
       "  <th>gender</th>            <td>    0.1926</td> <td>    0.027</td> <td>    7.011</td> <td> 0.000</td> <td>    0.139</td> <td>    0.246</td>\n",
       "</tr>\n",
       "<tr>\n",
       "  <th>highest_education</th> <td>   -0.3906</td> <td>    0.019</td> <td>  -20.939</td> <td> 0.000</td> <td>   -0.427</td> <td>   -0.354</td>\n",
       "</tr>\n",
       "<tr>\n",
       "  <th>imd_band</th>          <td>   -0.0606</td> <td>    0.005</td> <td>  -12.889</td> <td> 0.000</td> <td>   -0.070</td> <td>   -0.051</td>\n",
       "</tr>\n",
       "<tr>\n",
       "  <th>age_band</th>          <td>   -0.2334</td> <td>    0.029</td> <td>   -8.045</td> <td> 0.000</td> <td>   -0.290</td> <td>   -0.177</td>\n",
       "</tr>\n",
       "</table>"
      ],
      "text/plain": [
       "<class 'statsmodels.iolib.summary.Summary'>\n",
       "\"\"\"\n",
       "                           Logit Regression Results                           \n",
       "==============================================================================\n",
       "Dep. Variable:              Fail_Flag   No. Observations:                22436\n",
       "Model:                          Logit   Df Residuals:                    22431\n",
       "Method:                           MLE   Df Model:                            4\n",
       "Date:                Fri, 15 May 2020   Pseudo R-squ.:                 0.02588\n",
       "Time:                        08:01:07   Log-Likelihood:                -15139.\n",
       "converged:                       True   LL-Null:                       -15542.\n",
       "Covariance Type:            nonrobust   LLR p-value:                9.086e-173\n",
       "=====================================================================================\n",
       "                        coef    std err          z      P>|z|      [0.025      0.975]\n",
       "-------------------------------------------------------------------------------------\n",
       "const                 1.2803      0.057     22.352      0.000       1.168       1.393\n",
       "gender                0.1926      0.027      7.011      0.000       0.139       0.246\n",
       "highest_education    -0.3906      0.019    -20.939      0.000      -0.427      -0.354\n",
       "imd_band             -0.0606      0.005    -12.889      0.000      -0.070      -0.051\n",
       "age_band             -0.2334      0.029     -8.045      0.000      -0.290      -0.177\n",
       "=====================================================================================\n",
       "\"\"\""
      ]
     },
     "execution_count": 23,
     "metadata": {},
     "output_type": "execute_result"
    }
   ],
   "source": [
    "X_l = X_train_l[logit_cols].values\n",
    "X_const_l = add_constant(X_l, prepend=True)\n",
    "y_l = y_train_l.values\n",
    "\n",
    "logit_model = Logit(y_l, X_const_l).fit()\n",
    "logit_model.summary(yname = 'Fail_Flag', xname =  ['const'] + list(X_train_l[logit_cols].columns) \\\n",
    "                   )"
   ]
  },
  {
   "cell_type": "code",
   "execution_count": 26,
   "metadata": {},
   "outputs": [
    {
     "data": {
      "text/plain": [
       "0.6099861929974001"
      ]
     },
     "execution_count": 26,
     "metadata": {},
     "output_type": "execute_result"
    }
   ],
   "source": [
    "roc_auc_score(y_train_l, logit_model.predict(X_const_l))"
   ]
  },
  {
   "cell_type": "code",
   "execution_count": 27,
   "metadata": {},
   "outputs": [
    {
     "name": "stdout",
     "output_type": "stream",
     "text": [
      "Optimization terminated successfully.\n",
      "         Current function value: 0.665216\n",
      "         Iterations 5\n"
     ]
    },
    {
     "data": {
      "text/html": [
       "<table class=\"simpletable\">\n",
       "<caption>Logit Regression Results</caption>\n",
       "<tr>\n",
       "  <th>Dep. Variable:</th>       <td>Fail_Flag</td>    <th>  No. Observations:  </th>   <td> 22436</td>  \n",
       "</tr>\n",
       "<tr>\n",
       "  <th>Model:</th>                 <td>Logit</td>      <th>  Df Residuals:      </th>   <td> 22428</td>  \n",
       "</tr>\n",
       "<tr>\n",
       "  <th>Method:</th>                 <td>MLE</td>       <th>  Df Model:          </th>   <td>     7</td>  \n",
       "</tr>\n",
       "<tr>\n",
       "  <th>Date:</th>            <td>Fri, 15 May 2020</td> <th>  Pseudo R-squ.:     </th>   <td>0.03969</td> \n",
       "</tr>\n",
       "<tr>\n",
       "  <th>Time:</th>                <td>08:04:07</td>     <th>  Log-Likelihood:    </th>  <td> -14925.</td> \n",
       "</tr>\n",
       "<tr>\n",
       "  <th>converged:</th>             <td>True</td>       <th>  LL-Null:           </th>  <td> -15542.</td> \n",
       "</tr>\n",
       "<tr>\n",
       "  <th>Covariance Type:</th>     <td>nonrobust</td>    <th>  LLR p-value:       </th> <td>3.688e-262</td>\n",
       "</tr>\n",
       "</table>\n",
       "<table class=\"simpletable\">\n",
       "<tr>\n",
       "            <td></td>              <th>coef</th>     <th>std err</th>      <th>z</th>      <th>P>|z|</th>  <th>[0.025</th>    <th>0.975]</th>  \n",
       "</tr>\n",
       "<tr>\n",
       "  <th>const</th>                <td>    0.8260</td> <td>    0.064</td> <td>   12.927</td> <td> 0.000</td> <td>    0.701</td> <td>    0.951</td>\n",
       "</tr>\n",
       "<tr>\n",
       "  <th>gender</th>               <td>    0.1998</td> <td>    0.028</td> <td>    7.197</td> <td> 0.000</td> <td>    0.145</td> <td>    0.254</td>\n",
       "</tr>\n",
       "<tr>\n",
       "  <th>highest_education</th>    <td>   -0.3872</td> <td>    0.019</td> <td>  -20.492</td> <td> 0.000</td> <td>   -0.424</td> <td>   -0.350</td>\n",
       "</tr>\n",
       "<tr>\n",
       "  <th>imd_band</th>             <td>   -0.0573</td> <td>    0.005</td> <td>  -12.071</td> <td> 0.000</td> <td>   -0.067</td> <td>   -0.048</td>\n",
       "</tr>\n",
       "<tr>\n",
       "  <th>age_band</th>             <td>   -0.2085</td> <td>    0.029</td> <td>   -7.088</td> <td> 0.000</td> <td>   -0.266</td> <td>   -0.151</td>\n",
       "</tr>\n",
       "<tr>\n",
       "  <th>num_of_prev_attempts</th> <td>    0.4142</td> <td>    0.032</td> <td>   12.863</td> <td> 0.000</td> <td>    0.351</td> <td>    0.477</td>\n",
       "</tr>\n",
       "<tr>\n",
       "  <th>studied_credits</th>      <td>    0.0042</td> <td>    0.000</td> <td>   11.518</td> <td> 0.000</td> <td>    0.004</td> <td>    0.005</td>\n",
       "</tr>\n",
       "<tr>\n",
       "  <th>disability</th>           <td>    0.2631</td> <td>    0.047</td> <td>    5.558</td> <td> 0.000</td> <td>    0.170</td> <td>    0.356</td>\n",
       "</tr>\n",
       "</table>"
      ],
      "text/plain": [
       "<class 'statsmodels.iolib.summary.Summary'>\n",
       "\"\"\"\n",
       "                           Logit Regression Results                           \n",
       "==============================================================================\n",
       "Dep. Variable:              Fail_Flag   No. Observations:                22436\n",
       "Model:                          Logit   Df Residuals:                    22428\n",
       "Method:                           MLE   Df Model:                            7\n",
       "Date:                Fri, 15 May 2020   Pseudo R-squ.:                 0.03969\n",
       "Time:                        08:04:07   Log-Likelihood:                -14925.\n",
       "converged:                       True   LL-Null:                       -15542.\n",
       "Covariance Type:            nonrobust   LLR p-value:                3.688e-262\n",
       "========================================================================================\n",
       "                           coef    std err          z      P>|z|      [0.025      0.975]\n",
       "----------------------------------------------------------------------------------------\n",
       "const                    0.8260      0.064     12.927      0.000       0.701       0.951\n",
       "gender                   0.1998      0.028      7.197      0.000       0.145       0.254\n",
       "highest_education       -0.3872      0.019    -20.492      0.000      -0.424      -0.350\n",
       "imd_band                -0.0573      0.005    -12.071      0.000      -0.067      -0.048\n",
       "age_band                -0.2085      0.029     -7.088      0.000      -0.266      -0.151\n",
       "num_of_prev_attempts     0.4142      0.032     12.863      0.000       0.351       0.477\n",
       "studied_credits          0.0042      0.000     11.518      0.000       0.004       0.005\n",
       "disability               0.2631      0.047      5.558      0.000       0.170       0.356\n",
       "========================================================================================\n",
       "\"\"\""
      ]
     },
     "execution_count": 27,
     "metadata": {},
     "output_type": "execute_result"
    }
   ],
   "source": [
    "logit_cols_2 = \"\"\"gender\n",
    "highest_education\n",
    "imd_band\n",
    "age_band\n",
    "num_of_prev_attempts\n",
    "studied_credits\n",
    "disability\"\"\"\n",
    "logit_cols_2 = logit_cols_2.split('\\n')\n",
    "\n",
    "X_l = X_train_l[logit_cols_2].values\n",
    "X_const_l = add_constant(X_l, prepend=True)\n",
    "y_l = y_train_l.values\n",
    "\n",
    "logit_model = Logit(y_l, X_const_l).fit()\n",
    "logit_model.summary(yname = 'Fail_Flag', xname =  ['const'] + list(X_train_l[logit_cols_2].columns) \\\n",
    "                   )"
   ]
  },
  {
   "cell_type": "code",
   "execution_count": 28,
   "metadata": {},
   "outputs": [
    {
     "data": {
      "text/plain": [
       "0.6339715333964828"
      ]
     },
     "execution_count": 28,
     "metadata": {},
     "output_type": "execute_result"
    }
   ],
   "source": [
    "roc_auc_score(y_train_l, logit_model.predict(X_const_l))"
   ]
  },
  {
   "cell_type": "code",
   "execution_count": 29,
   "metadata": {},
   "outputs": [
    {
     "name": "stdout",
     "output_type": "stream",
     "text": [
      "Optimization terminated successfully.\n",
      "         Current function value: 0.665157\n",
      "         Iterations 5\n"
     ]
    },
    {
     "data": {
      "text/html": [
       "<table class=\"simpletable\">\n",
       "<caption>Logit Regression Results</caption>\n",
       "<tr>\n",
       "  <th>Dep. Variable:</th>       <td>Fail_Flag</td>    <th>  No. Observations:  </th>   <td> 22436</td>  \n",
       "</tr>\n",
       "<tr>\n",
       "  <th>Model:</th>                 <td>Logit</td>      <th>  Df Residuals:      </th>   <td> 22427</td>  \n",
       "</tr>\n",
       "<tr>\n",
       "  <th>Method:</th>                 <td>MLE</td>       <th>  Df Model:          </th>   <td>     8</td>  \n",
       "</tr>\n",
       "<tr>\n",
       "  <th>Date:</th>            <td>Fri, 15 May 2020</td> <th>  Pseudo R-squ.:     </th>   <td>0.03977</td> \n",
       "</tr>\n",
       "<tr>\n",
       "  <th>Time:</th>                <td>08:04:34</td>     <th>  Log-Likelihood:    </th>  <td> -14923.</td> \n",
       "</tr>\n",
       "<tr>\n",
       "  <th>converged:</th>             <td>True</td>       <th>  LL-Null:           </th>  <td> -15542.</td> \n",
       "</tr>\n",
       "<tr>\n",
       "  <th>Covariance Type:</th>     <td>nonrobust</td>    <th>  LLR p-value:       </th> <td>1.357e-261</td>\n",
       "</tr>\n",
       "</table>\n",
       "<table class=\"simpletable\">\n",
       "<tr>\n",
       "            <td></td>              <th>coef</th>     <th>std err</th>      <th>z</th>      <th>P>|z|</th>  <th>[0.025</th>    <th>0.975]</th>  \n",
       "</tr>\n",
       "<tr>\n",
       "  <th>const</th>                <td>    0.8586</td> <td>    0.067</td> <td>   12.818</td> <td> 0.000</td> <td>    0.727</td> <td>    0.990</td>\n",
       "</tr>\n",
       "<tr>\n",
       "  <th>gender</th>               <td>    0.2008</td> <td>    0.028</td> <td>    7.232</td> <td> 0.000</td> <td>    0.146</td> <td>    0.255</td>\n",
       "</tr>\n",
       "<tr>\n",
       "  <th>highest_education</th>    <td>   -0.3887</td> <td>    0.019</td> <td>  -20.545</td> <td> 0.000</td> <td>   -0.426</td> <td>   -0.352</td>\n",
       "</tr>\n",
       "<tr>\n",
       "  <th>imd_band</th>             <td>   -0.0573</td> <td>    0.005</td> <td>  -12.073</td> <td> 0.000</td> <td>   -0.067</td> <td>   -0.048</td>\n",
       "</tr>\n",
       "<tr>\n",
       "  <th>age_band</th>             <td>   -0.2097</td> <td>    0.029</td> <td>   -7.126</td> <td> 0.000</td> <td>   -0.267</td> <td>   -0.152</td>\n",
       "</tr>\n",
       "<tr>\n",
       "  <th>num_of_prev_attempts</th> <td>    0.4148</td> <td>    0.032</td> <td>   12.878</td> <td> 0.000</td> <td>    0.352</td> <td>    0.478</td>\n",
       "</tr>\n",
       "<tr>\n",
       "  <th>studied_credits</th>      <td>    0.0043</td> <td>    0.000</td> <td>   11.587</td> <td> 0.000</td> <td>    0.004</td> <td>    0.005</td>\n",
       "</tr>\n",
       "<tr>\n",
       "  <th>disability</th>           <td>    0.2633</td> <td>    0.047</td> <td>    5.561</td> <td> 0.000</td> <td>    0.170</td> <td>    0.356</td>\n",
       "</tr>\n",
       "<tr>\n",
       "  <th>date_registration</th>    <td>    0.0005</td> <td>    0.000</td> <td>    1.628</td> <td> 0.104</td> <td>-9.57e-05</td> <td>    0.001</td>\n",
       "</tr>\n",
       "</table>"
      ],
      "text/plain": [
       "<class 'statsmodels.iolib.summary.Summary'>\n",
       "\"\"\"\n",
       "                           Logit Regression Results                           \n",
       "==============================================================================\n",
       "Dep. Variable:              Fail_Flag   No. Observations:                22436\n",
       "Model:                          Logit   Df Residuals:                    22427\n",
       "Method:                           MLE   Df Model:                            8\n",
       "Date:                Fri, 15 May 2020   Pseudo R-squ.:                 0.03977\n",
       "Time:                        08:04:34   Log-Likelihood:                -14923.\n",
       "converged:                       True   LL-Null:                       -15542.\n",
       "Covariance Type:            nonrobust   LLR p-value:                1.357e-261\n",
       "========================================================================================\n",
       "                           coef    std err          z      P>|z|      [0.025      0.975]\n",
       "----------------------------------------------------------------------------------------\n",
       "const                    0.8586      0.067     12.818      0.000       0.727       0.990\n",
       "gender                   0.2008      0.028      7.232      0.000       0.146       0.255\n",
       "highest_education       -0.3887      0.019    -20.545      0.000      -0.426      -0.352\n",
       "imd_band                -0.0573      0.005    -12.073      0.000      -0.067      -0.048\n",
       "age_band                -0.2097      0.029     -7.126      0.000      -0.267      -0.152\n",
       "num_of_prev_attempts     0.4148      0.032     12.878      0.000       0.352       0.478\n",
       "studied_credits          0.0043      0.000     11.587      0.000       0.004       0.005\n",
       "disability               0.2633      0.047      5.561      0.000       0.170       0.356\n",
       "date_registration        0.0005      0.000      1.628      0.104   -9.57e-05       0.001\n",
       "========================================================================================\n",
       "\"\"\""
      ]
     },
     "execution_count": 29,
     "metadata": {},
     "output_type": "execute_result"
    }
   ],
   "source": [
    "logit_cols_3 = \"\"\"gender\n",
    "highest_education\n",
    "imd_band\n",
    "age_band\n",
    "num_of_prev_attempts\n",
    "studied_credits\n",
    "disability\n",
    "date_registration\"\"\"\n",
    "logit_cols_3 = logit_cols_3.split('\\n')\n",
    "X_l = X_train_l[logit_cols_3].values\n",
    "X_const_l = add_constant(X_l, prepend=True)\n",
    "y_l = y_train_l.values\n",
    "\n",
    "logit_model = Logit(y_l, X_const_l).fit()\n",
    "logit_model.summary(yname = 'Fail_Flag', xname =  ['const'] + list(X_train_l[logit_cols_3].columns) \\\n",
    "                   )"
   ]
  },
  {
   "cell_type": "code",
   "execution_count": 30,
   "metadata": {},
   "outputs": [
    {
     "data": {
      "text/plain": [
       "0.634030296667629"
      ]
     },
     "execution_count": 30,
     "metadata": {},
     "output_type": "execute_result"
    }
   ],
   "source": [
    "roc_auc_score(y_train_l, logit_model.predict(X_const_l))"
   ]
  },
  {
   "cell_type": "code",
   "execution_count": 31,
   "metadata": {},
   "outputs": [
    {
     "name": "stdout",
     "output_type": "stream",
     "text": [
      "Optimization terminated successfully.\n",
      "         Current function value: 0.656476\n",
      "         Iterations 5\n"
     ]
    },
    {
     "data": {
      "text/html": [
       "<table class=\"simpletable\">\n",
       "<caption>Logit Regression Results</caption>\n",
       "<tr>\n",
       "  <th>Dep. Variable:</th>       <td>Fail_Flag</td>    <th>  No. Observations:  </th>  <td> 22436</td> \n",
       "</tr>\n",
       "<tr>\n",
       "  <th>Model:</th>                 <td>Logit</td>      <th>  Df Residuals:      </th>  <td> 22412</td> \n",
       "</tr>\n",
       "<tr>\n",
       "  <th>Method:</th>                 <td>MLE</td>       <th>  Df Model:          </th>  <td>    23</td> \n",
       "</tr>\n",
       "<tr>\n",
       "  <th>Date:</th>            <td>Fri, 15 May 2020</td> <th>  Pseudo R-squ.:     </th>  <td>0.05231</td>\n",
       "</tr>\n",
       "<tr>\n",
       "  <th>Time:</th>                <td>08:05:01</td>     <th>  Log-Likelihood:    </th> <td> -14729.</td>\n",
       "</tr>\n",
       "<tr>\n",
       "  <th>converged:</th>             <td>True</td>       <th>  LL-Null:           </th> <td> -15542.</td>\n",
       "</tr>\n",
       "<tr>\n",
       "  <th>Covariance Type:</th>     <td>nonrobust</td>    <th>  LLR p-value:       </th>  <td> 0.000</td> \n",
       "</tr>\n",
       "</table>\n",
       "<table class=\"simpletable\">\n",
       "<tr>\n",
       "               <td></td>                  <th>coef</th>     <th>std err</th>      <th>z</th>      <th>P>|z|</th>  <th>[0.025</th>    <th>0.975]</th>  \n",
       "</tr>\n",
       "<tr>\n",
       "  <th>const</th>                       <td>   -0.3853</td> <td>    0.130</td> <td>   -2.960</td> <td> 0.003</td> <td>   -0.640</td> <td>   -0.130</td>\n",
       "</tr>\n",
       "<tr>\n",
       "  <th>gender</th>                      <td>    0.1754</td> <td>    0.029</td> <td>    6.140</td> <td> 0.000</td> <td>    0.119</td> <td>    0.231</td>\n",
       "</tr>\n",
       "<tr>\n",
       "  <th>highest_education</th>           <td>   -0.4403</td> <td>    0.020</td> <td>  -22.318</td> <td> 0.000</td> <td>   -0.479</td> <td>   -0.402</td>\n",
       "</tr>\n",
       "<tr>\n",
       "  <th>imd_band</th>                    <td>   -0.0572</td> <td>    0.005</td> <td>  -10.987</td> <td> 0.000</td> <td>   -0.067</td> <td>   -0.047</td>\n",
       "</tr>\n",
       "<tr>\n",
       "  <th>age_band</th>                    <td>   -0.2119</td> <td>    0.030</td> <td>   -7.127</td> <td> 0.000</td> <td>   -0.270</td> <td>   -0.154</td>\n",
       "</tr>\n",
       "<tr>\n",
       "  <th>num_of_prev_attempts</th>        <td>    0.4236</td> <td>    0.033</td> <td>   12.968</td> <td> 0.000</td> <td>    0.360</td> <td>    0.488</td>\n",
       "</tr>\n",
       "<tr>\n",
       "  <th>studied_credits</th>             <td>    0.0033</td> <td>    0.000</td> <td>    8.530</td> <td> 0.000</td> <td>    0.003</td> <td>    0.004</td>\n",
       "</tr>\n",
       "<tr>\n",
       "  <th>disability</th>                  <td>    0.2657</td> <td>    0.048</td> <td>    5.533</td> <td> 0.000</td> <td>    0.172</td> <td>    0.360</td>\n",
       "</tr>\n",
       "<tr>\n",
       "  <th>date_registration</th>           <td>    0.0009</td> <td>    0.000</td> <td>    2.888</td> <td> 0.004</td> <td>    0.000</td> <td>    0.001</td>\n",
       "</tr>\n",
       "<tr>\n",
       "  <th>num_assessments</th>             <td>    0.7473</td> <td>    0.046</td> <td>   16.269</td> <td> 0.000</td> <td>    0.657</td> <td>    0.837</td>\n",
       "</tr>\n",
       "<tr>\n",
       "  <th>num_tma_assessments</th>         <td>   -0.5859</td> <td>    0.042</td> <td>  -13.910</td> <td> 0.000</td> <td>   -0.668</td> <td>   -0.503</td>\n",
       "</tr>\n",
       "<tr>\n",
       "  <th>num_cma_assessments</th>         <td>   -0.7453</td> <td>    0.046</td> <td>  -16.139</td> <td> 0.000</td> <td>   -0.836</td> <td>   -0.655</td>\n",
       "</tr>\n",
       "<tr>\n",
       "  <th>region_East Anglian Region</th>  <td>   -0.2291</td> <td>    0.063</td> <td>   -3.623</td> <td> 0.000</td> <td>   -0.353</td> <td>   -0.105</td>\n",
       "</tr>\n",
       "<tr>\n",
       "  <th>region_East Midlands Region</th> <td>   -0.1071</td> <td>    0.068</td> <td>   -1.566</td> <td> 0.117</td> <td>   -0.241</td> <td>    0.027</td>\n",
       "</tr>\n",
       "<tr>\n",
       "  <th>region_Ireland</th>              <td>   -0.4051</td> <td>    0.084</td> <td>   -4.805</td> <td> 0.000</td> <td>   -0.570</td> <td>   -0.240</td>\n",
       "</tr>\n",
       "<tr>\n",
       "  <th>region_North Region</th>         <td>   -0.4866</td> <td>    0.074</td> <td>   -6.598</td> <td> 0.000</td> <td>   -0.631</td> <td>   -0.342</td>\n",
       "</tr>\n",
       "<tr>\n",
       "  <th>region_North Western Region</th> <td>    0.0226</td> <td>    0.064</td> <td>    0.350</td> <td> 0.726</td> <td>   -0.104</td> <td>    0.149</td>\n",
       "</tr>\n",
       "<tr>\n",
       "  <th>region_Scotland</th>             <td>   -0.0349</td> <td>    0.062</td> <td>   -0.563</td> <td> 0.573</td> <td>   -0.156</td> <td>    0.087</td>\n",
       "</tr>\n",
       "<tr>\n",
       "  <th>region_South East Region</th>    <td>   -0.3116</td> <td>    0.071</td> <td>   -4.366</td> <td> 0.000</td> <td>   -0.451</td> <td>   -0.172</td>\n",
       "</tr>\n",
       "<tr>\n",
       "  <th>region_South Region</th>         <td>   -0.2520</td> <td>    0.065</td> <td>   -3.895</td> <td> 0.000</td> <td>   -0.379</td> <td>   -0.125</td>\n",
       "</tr>\n",
       "<tr>\n",
       "  <th>region_South West Region</th>    <td>   -0.2918</td> <td>    0.067</td> <td>   -4.340</td> <td> 0.000</td> <td>   -0.424</td> <td>   -0.160</td>\n",
       "</tr>\n",
       "<tr>\n",
       "  <th>region_Wales</th>                <td>    0.0102</td> <td>    0.070</td> <td>    0.146</td> <td> 0.884</td> <td>   -0.127</td> <td>    0.147</td>\n",
       "</tr>\n",
       "<tr>\n",
       "  <th>region_West Midlands Region</th> <td>   -0.1136</td> <td>    0.067</td> <td>   -1.702</td> <td> 0.089</td> <td>   -0.244</td> <td>    0.017</td>\n",
       "</tr>\n",
       "<tr>\n",
       "  <th>region_Yorkshire Region</th>     <td>   -0.1526</td> <td>    0.070</td> <td>   -2.165</td> <td> 0.030</td> <td>   -0.291</td> <td>   -0.014</td>\n",
       "</tr>\n",
       "</table>"
      ],
      "text/plain": [
       "<class 'statsmodels.iolib.summary.Summary'>\n",
       "\"\"\"\n",
       "                           Logit Regression Results                           \n",
       "==============================================================================\n",
       "Dep. Variable:              Fail_Flag   No. Observations:                22436\n",
       "Model:                          Logit   Df Residuals:                    22412\n",
       "Method:                           MLE   Df Model:                           23\n",
       "Date:                Fri, 15 May 2020   Pseudo R-squ.:                 0.05231\n",
       "Time:                        08:05:01   Log-Likelihood:                -14729.\n",
       "converged:                       True   LL-Null:                       -15542.\n",
       "Covariance Type:            nonrobust   LLR p-value:                     0.000\n",
       "===============================================================================================\n",
       "                                  coef    std err          z      P>|z|      [0.025      0.975]\n",
       "-----------------------------------------------------------------------------------------------\n",
       "const                          -0.3853      0.130     -2.960      0.003      -0.640      -0.130\n",
       "gender                          0.1754      0.029      6.140      0.000       0.119       0.231\n",
       "highest_education              -0.4403      0.020    -22.318      0.000      -0.479      -0.402\n",
       "imd_band                       -0.0572      0.005    -10.987      0.000      -0.067      -0.047\n",
       "age_band                       -0.2119      0.030     -7.127      0.000      -0.270      -0.154\n",
       "num_of_prev_attempts            0.4236      0.033     12.968      0.000       0.360       0.488\n",
       "studied_credits                 0.0033      0.000      8.530      0.000       0.003       0.004\n",
       "disability                      0.2657      0.048      5.533      0.000       0.172       0.360\n",
       "date_registration               0.0009      0.000      2.888      0.004       0.000       0.001\n",
       "num_assessments                 0.7473      0.046     16.269      0.000       0.657       0.837\n",
       "num_tma_assessments            -0.5859      0.042    -13.910      0.000      -0.668      -0.503\n",
       "num_cma_assessments            -0.7453      0.046    -16.139      0.000      -0.836      -0.655\n",
       "region_East Anglian Region     -0.2291      0.063     -3.623      0.000      -0.353      -0.105\n",
       "region_East Midlands Region    -0.1071      0.068     -1.566      0.117      -0.241       0.027\n",
       "region_Ireland                 -0.4051      0.084     -4.805      0.000      -0.570      -0.240\n",
       "region_North Region            -0.4866      0.074     -6.598      0.000      -0.631      -0.342\n",
       "region_North Western Region     0.0226      0.064      0.350      0.726      -0.104       0.149\n",
       "region_Scotland                -0.0349      0.062     -0.563      0.573      -0.156       0.087\n",
       "region_South East Region       -0.3116      0.071     -4.366      0.000      -0.451      -0.172\n",
       "region_South Region            -0.2520      0.065     -3.895      0.000      -0.379      -0.125\n",
       "region_South West Region       -0.2918      0.067     -4.340      0.000      -0.424      -0.160\n",
       "region_Wales                    0.0102      0.070      0.146      0.884      -0.127       0.147\n",
       "region_West Midlands Region    -0.1136      0.067     -1.702      0.089      -0.244       0.017\n",
       "region_Yorkshire Region        -0.1526      0.070     -2.165      0.030      -0.291      -0.014\n",
       "===============================================================================================\n",
       "\"\"\""
      ]
     },
     "execution_count": 31,
     "metadata": {},
     "output_type": "execute_result"
    }
   ],
   "source": [
    "logit_cols_4 = \"\"\"gender\n",
    "highest_education\n",
    "imd_band\n",
    "age_band\n",
    "num_of_prev_attempts\n",
    "studied_credits\n",
    "disability\n",
    "date_registration\n",
    "num_assessments\n",
    "num_tma_assessments\n",
    "num_cma_assessments\n",
    "region_East Anglian Region\n",
    "region_East Midlands Region\n",
    "region_Ireland\n",
    "region_North Region\n",
    "region_North Western Region\n",
    "region_Scotland\n",
    "region_South East Region\n",
    "region_South Region\n",
    "region_South West Region\n",
    "region_Wales\n",
    "region_West Midlands Region\n",
    "region_Yorkshire Region\"\"\"\n",
    "logit_cols_4 = logit_cols_4.split('\\n')\n",
    "\n",
    "X_l = X_train_l[logit_cols_4].values\n",
    "X_const_l = add_constant(X_l, prepend=True)\n",
    "y_l = y_train_l.values\n",
    "\n",
    "logit_model = Logit(y_l, X_const_l).fit()\n",
    "logit_model.summary(yname = 'Fail_Flag', xname =  ['const'] + list(X_train_l[logit_cols_4].columns) \\\n",
    "                   )\n"
   ]
  },
  {
   "cell_type": "code",
   "execution_count": 32,
   "metadata": {},
   "outputs": [
    {
     "data": {
      "text/plain": [
       "0.6527060492327807"
      ]
     },
     "execution_count": 32,
     "metadata": {},
     "output_type": "execute_result"
    }
   ],
   "source": [
    "roc_auc_score(y_train_l, logit_model.predict(X_const_l))"
   ]
  },
  {
   "cell_type": "code",
   "execution_count": 33,
   "metadata": {},
   "outputs": [
    {
     "name": "stdout",
     "output_type": "stream",
     "text": [
      "Optimization terminated successfully.\n",
      "         Current function value: 0.653680\n",
      "         Iterations 32\n"
     ]
    },
    {
     "name": "stderr",
     "output_type": "stream",
     "text": [
      "/Users/jaimeadybuncio/opt/anaconda3/lib/python3.7/site-packages/statsmodels/base/model.py:1286: RuntimeWarning: invalid value encountered in sqrt\n",
      "  bse_ = np.sqrt(np.diag(self.cov_params()))\n",
      "/Users/jaimeadybuncio/opt/anaconda3/lib/python3.7/site-packages/scipy/stats/_distn_infrastructure.py:901: RuntimeWarning: invalid value encountered in greater\n",
      "  return (a < x) & (x < b)\n",
      "/Users/jaimeadybuncio/opt/anaconda3/lib/python3.7/site-packages/scipy/stats/_distn_infrastructure.py:901: RuntimeWarning: invalid value encountered in less\n",
      "  return (a < x) & (x < b)\n",
      "/Users/jaimeadybuncio/opt/anaconda3/lib/python3.7/site-packages/scipy/stats/_distn_infrastructure.py:1892: RuntimeWarning: invalid value encountered in less_equal\n",
      "  cond2 = cond0 & (x <= _a)\n"
     ]
    },
    {
     "data": {
      "text/html": [
       "<table class=\"simpletable\">\n",
       "<caption>Logit Regression Results</caption>\n",
       "<tr>\n",
       "  <th>Dep. Variable:</th>       <td>Fail_Flag</td>    <th>  No. Observations:  </th>  <td> 22436</td> \n",
       "</tr>\n",
       "<tr>\n",
       "  <th>Model:</th>                 <td>Logit</td>      <th>  Df Residuals:      </th>  <td> 22400</td> \n",
       "</tr>\n",
       "<tr>\n",
       "  <th>Method:</th>                 <td>MLE</td>       <th>  Df Model:          </th>  <td>    35</td> \n",
       "</tr>\n",
       "<tr>\n",
       "  <th>Date:</th>            <td>Fri, 15 May 2020</td> <th>  Pseudo R-squ.:     </th>  <td>0.05634</td>\n",
       "</tr>\n",
       "<tr>\n",
       "  <th>Time:</th>                <td>08:05:54</td>     <th>  Log-Likelihood:    </th> <td> -14666.</td>\n",
       "</tr>\n",
       "<tr>\n",
       "  <th>converged:</th>             <td>True</td>       <th>  LL-Null:           </th> <td> -15542.</td>\n",
       "</tr>\n",
       "<tr>\n",
       "  <th>Covariance Type:</th>     <td>nonrobust</td>    <th>  LLR p-value:       </th>  <td> 0.000</td> \n",
       "</tr>\n",
       "</table>\n",
       "<table class=\"simpletable\">\n",
       "<tr>\n",
       "                <td></td>                   <th>coef</th>     <th>std err</th>      <th>z</th>      <th>P>|z|</th>  <th>[0.025</th>    <th>0.975]</th>  \n",
       "</tr>\n",
       "<tr>\n",
       "  <th>const</th>                         <td>   -0.1614</td> <td>      nan</td> <td>      nan</td> <td>   nan</td> <td>      nan</td> <td>      nan</td>\n",
       "</tr>\n",
       "<tr>\n",
       "  <th>gender</th>                        <td>    0.0968</td> <td>    0.035</td> <td>    2.764</td> <td> 0.006</td> <td>    0.028</td> <td>    0.165</td>\n",
       "</tr>\n",
       "<tr>\n",
       "  <th>highest_education</th>             <td>   -0.4446</td> <td>    0.020</td> <td>  -22.617</td> <td> 0.000</td> <td>   -0.483</td> <td>   -0.406</td>\n",
       "</tr>\n",
       "<tr>\n",
       "  <th>imd_band</th>                      <td>   -0.0580</td> <td>    0.005</td> <td>  -11.226</td> <td> 0.000</td> <td>   -0.068</td> <td>   -0.048</td>\n",
       "</tr>\n",
       "<tr>\n",
       "  <th>age_band</th>                      <td>   -0.1803</td> <td>    0.030</td> <td>   -6.004</td> <td> 0.000</td> <td>   -0.239</td> <td>   -0.121</td>\n",
       "</tr>\n",
       "<tr>\n",
       "  <th>num_of_prev_attempts</th>          <td>    0.4094</td> <td>    0.033</td> <td>   12.506</td> <td> 0.000</td> <td>    0.345</td> <td>    0.474</td>\n",
       "</tr>\n",
       "<tr>\n",
       "  <th>studied_credits</th>               <td>    0.0036</td> <td>    0.000</td> <td>    9.088</td> <td> 0.000</td> <td>    0.003</td> <td>    0.004</td>\n",
       "</tr>\n",
       "<tr>\n",
       "  <th>disability</th>                    <td>    0.2470</td> <td>    0.048</td> <td>    5.127</td> <td> 0.000</td> <td>    0.153</td> <td>    0.341</td>\n",
       "</tr>\n",
       "<tr>\n",
       "  <th>date_registration</th>             <td>    0.0008</td> <td>    0.000</td> <td>    2.821</td> <td> 0.005</td> <td>    0.000</td> <td>    0.001</td>\n",
       "</tr>\n",
       "<tr>\n",
       "  <th>num_assessments</th>               <td>    0.3470</td> <td>      nan</td> <td>      nan</td> <td>   nan</td> <td>      nan</td> <td>      nan</td>\n",
       "</tr>\n",
       "<tr>\n",
       "  <th>num_tma_assessments</th>           <td>   -0.2539</td> <td> 2.24e+05</td> <td>-1.14e-06</td> <td> 1.000</td> <td>-4.38e+05</td> <td> 4.38e+05</td>\n",
       "</tr>\n",
       "<tr>\n",
       "  <th>num_cma_assessments</th>           <td>   -0.2528</td> <td>  1.6e+05</td> <td>-1.58e-06</td> <td> 1.000</td> <td>-3.14e+05</td> <td> 3.14e+05</td>\n",
       "</tr>\n",
       "<tr>\n",
       "  <th>region_East Anglian Region</th>    <td>   -0.1959</td> <td>    0.049</td> <td>   -4.005</td> <td> 0.000</td> <td>   -0.292</td> <td>   -0.100</td>\n",
       "</tr>\n",
       "<tr>\n",
       "  <th>region_Ireland</th>                <td>   -0.3472</td> <td>    0.075</td> <td>   -4.621</td> <td> 0.000</td> <td>   -0.494</td> <td>   -0.200</td>\n",
       "</tr>\n",
       "<tr>\n",
       "  <th>region_North Region</th>           <td>   -0.4777</td> <td>    0.063</td> <td>   -7.575</td> <td> 0.000</td> <td>   -0.601</td> <td>   -0.354</td>\n",
       "</tr>\n",
       "<tr>\n",
       "  <th>region_South East Region</th>      <td>   -0.2694</td> <td>    0.059</td> <td>   -4.550</td> <td> 0.000</td> <td>   -0.385</td> <td>   -0.153</td>\n",
       "</tr>\n",
       "<tr>\n",
       "  <th>region_South Region</th>           <td>   -0.2198</td> <td>    0.051</td> <td>   -4.344</td> <td> 0.000</td> <td>   -0.319</td> <td>   -0.121</td>\n",
       "</tr>\n",
       "<tr>\n",
       "  <th>region_South West Region</th>      <td>   -0.2657</td> <td>    0.054</td> <td>   -4.897</td> <td> 0.000</td> <td>   -0.372</td> <td>   -0.159</td>\n",
       "</tr>\n",
       "<tr>\n",
       "  <th>region_Yorkshire Region</th>       <td>   -0.1160</td> <td>    0.059</td> <td>   -1.977</td> <td> 0.048</td> <td>   -0.231</td> <td>   -0.001</td>\n",
       "</tr>\n",
       "<tr>\n",
       "  <th>module_presentation_BBB-2013B</th> <td>    0.1062</td> <td>      nan</td> <td>      nan</td> <td>   nan</td> <td>      nan</td> <td>      nan</td>\n",
       "</tr>\n",
       "<tr>\n",
       "  <th>module_presentation_BBB-2013J</th> <td>   -0.1187</td> <td>      nan</td> <td>      nan</td> <td>   nan</td> <td>      nan</td> <td>      nan</td>\n",
       "</tr>\n",
       "<tr>\n",
       "  <th>module_presentation_BBB-2014B</th> <td>   -0.1670</td> <td>      nan</td> <td>      nan</td> <td>   nan</td> <td>      nan</td> <td>      nan</td>\n",
       "</tr>\n",
       "<tr>\n",
       "  <th>module_presentation_BBB-2014J</th> <td>    0.3854</td> <td>    0.112</td> <td>    3.448</td> <td> 0.001</td> <td>    0.166</td> <td>    0.605</td>\n",
       "</tr>\n",
       "<tr>\n",
       "  <th>module_presentation_CCC-2014B</th> <td>    0.6075</td> <td> 8.48e+05</td> <td> 7.16e-07</td> <td> 1.000</td> <td>-1.66e+06</td> <td> 1.66e+06</td>\n",
       "</tr>\n",
       "<tr>\n",
       "  <th>module_presentation_CCC-2014J</th> <td>    0.4075</td> <td> 8.48e+05</td> <td>  4.8e-07</td> <td> 1.000</td> <td>-1.66e+06</td> <td> 1.66e+06</td>\n",
       "</tr>\n",
       "<tr>\n",
       "  <th>module_presentation_DDD-2013B</th> <td>    0.2776</td> <td>      nan</td> <td>      nan</td> <td>   nan</td> <td>      nan</td> <td>      nan</td>\n",
       "</tr>\n",
       "<tr>\n",
       "  <th>module_presentation_DDD-2013J</th> <td>    0.7063</td> <td>      nan</td> <td>      nan</td> <td>   nan</td> <td>      nan</td> <td>      nan</td>\n",
       "</tr>\n",
       "<tr>\n",
       "  <th>module_presentation_DDD-2014B</th> <td>    0.8631</td> <td>      nan</td> <td>      nan</td> <td>   nan</td> <td>      nan</td> <td>      nan</td>\n",
       "</tr>\n",
       "<tr>\n",
       "  <th>module_presentation_DDD-2014J</th> <td>    0.6668</td> <td>      nan</td> <td>      nan</td> <td>   nan</td> <td>      nan</td> <td>      nan</td>\n",
       "</tr>\n",
       "<tr>\n",
       "  <th>module_presentation_EEE-2013J</th> <td>    0.4239</td> <td>      nan</td> <td>      nan</td> <td>   nan</td> <td>      nan</td> <td>      nan</td>\n",
       "</tr>\n",
       "<tr>\n",
       "  <th>module_presentation_EEE-2014B</th> <td>    0.6791</td> <td>      nan</td> <td>      nan</td> <td>   nan</td> <td>      nan</td> <td>      nan</td>\n",
       "</tr>\n",
       "<tr>\n",
       "  <th>module_presentation_EEE-2014J</th> <td>    0.4354</td> <td>      nan</td> <td>      nan</td> <td>   nan</td> <td>      nan</td> <td>      nan</td>\n",
       "</tr>\n",
       "<tr>\n",
       "  <th>module_presentation_FFF-2013B</th> <td>   -0.1737</td> <td> 1.01e+06</td> <td>-1.73e-07</td> <td> 1.000</td> <td>-1.97e+06</td> <td> 1.97e+06</td>\n",
       "</tr>\n",
       "<tr>\n",
       "  <th>module_presentation_FFF-2013J</th> <td>   -0.1173</td> <td> 1.01e+06</td> <td>-1.17e-07</td> <td> 1.000</td> <td>-1.97e+06</td> <td> 1.97e+06</td>\n",
       "</tr>\n",
       "<tr>\n",
       "  <th>module_presentation_FFF-2014B</th> <td>    0.0311</td> <td> 1.01e+06</td> <td> 3.09e-08</td> <td> 1.000</td> <td>-1.97e+06</td> <td> 1.97e+06</td>\n",
       "</tr>\n",
       "<tr>\n",
       "  <th>module_presentation_FFF-2014J</th> <td>   -0.1746</td> <td> 1.01e+06</td> <td>-1.74e-07</td> <td> 1.000</td> <td>-1.97e+06</td> <td> 1.97e+06</td>\n",
       "</tr>\n",
       "<tr>\n",
       "  <th>module_presentation_GGG-2013J</th> <td>   -0.1680</td> <td> 1.51e+06</td> <td>-1.11e-07</td> <td> 1.000</td> <td>-2.95e+06</td> <td> 2.95e+06</td>\n",
       "</tr>\n",
       "<tr>\n",
       "  <th>module_presentation_GGG-2014B</th> <td>   -0.0942</td> <td> 1.51e+06</td> <td>-6.25e-08</td> <td> 1.000</td> <td>-2.95e+06</td> <td> 2.95e+06</td>\n",
       "</tr>\n",
       "<tr>\n",
       "  <th>module_presentation_GGG-2014J</th> <td>   -0.1239</td> <td> 1.51e+06</td> <td>-8.22e-08</td> <td> 1.000</td> <td>-2.95e+06</td> <td> 2.95e+06</td>\n",
       "</tr>\n",
       "</table>"
      ],
      "text/plain": [
       "<class 'statsmodels.iolib.summary.Summary'>\n",
       "\"\"\"\n",
       "                           Logit Regression Results                           \n",
       "==============================================================================\n",
       "Dep. Variable:              Fail_Flag   No. Observations:                22436\n",
       "Model:                          Logit   Df Residuals:                    22400\n",
       "Method:                           MLE   Df Model:                           35\n",
       "Date:                Fri, 15 May 2020   Pseudo R-squ.:                 0.05634\n",
       "Time:                        08:05:54   Log-Likelihood:                -14666.\n",
       "converged:                       True   LL-Null:                       -15542.\n",
       "Covariance Type:            nonrobust   LLR p-value:                     0.000\n",
       "=================================================================================================\n",
       "                                    coef    std err          z      P>|z|      [0.025      0.975]\n",
       "-------------------------------------------------------------------------------------------------\n",
       "const                            -0.1614        nan        nan        nan         nan         nan\n",
       "gender                            0.0968      0.035      2.764      0.006       0.028       0.165\n",
       "highest_education                -0.4446      0.020    -22.617      0.000      -0.483      -0.406\n",
       "imd_band                         -0.0580      0.005    -11.226      0.000      -0.068      -0.048\n",
       "age_band                         -0.1803      0.030     -6.004      0.000      -0.239      -0.121\n",
       "num_of_prev_attempts              0.4094      0.033     12.506      0.000       0.345       0.474\n",
       "studied_credits                   0.0036      0.000      9.088      0.000       0.003       0.004\n",
       "disability                        0.2470      0.048      5.127      0.000       0.153       0.341\n",
       "date_registration                 0.0008      0.000      2.821      0.005       0.000       0.001\n",
       "num_assessments                   0.3470        nan        nan        nan         nan         nan\n",
       "num_tma_assessments              -0.2539   2.24e+05  -1.14e-06      1.000   -4.38e+05    4.38e+05\n",
       "num_cma_assessments              -0.2528    1.6e+05  -1.58e-06      1.000   -3.14e+05    3.14e+05\n",
       "region_East Anglian Region       -0.1959      0.049     -4.005      0.000      -0.292      -0.100\n",
       "region_Ireland                   -0.3472      0.075     -4.621      0.000      -0.494      -0.200\n",
       "region_North Region              -0.4777      0.063     -7.575      0.000      -0.601      -0.354\n",
       "region_South East Region         -0.2694      0.059     -4.550      0.000      -0.385      -0.153\n",
       "region_South Region              -0.2198      0.051     -4.344      0.000      -0.319      -0.121\n",
       "region_South West Region         -0.2657      0.054     -4.897      0.000      -0.372      -0.159\n",
       "region_Yorkshire Region          -0.1160      0.059     -1.977      0.048      -0.231      -0.001\n",
       "module_presentation_BBB-2013B     0.1062        nan        nan        nan         nan         nan\n",
       "module_presentation_BBB-2013J    -0.1187        nan        nan        nan         nan         nan\n",
       "module_presentation_BBB-2014B    -0.1670        nan        nan        nan         nan         nan\n",
       "module_presentation_BBB-2014J     0.3854      0.112      3.448      0.001       0.166       0.605\n",
       "module_presentation_CCC-2014B     0.6075   8.48e+05   7.16e-07      1.000   -1.66e+06    1.66e+06\n",
       "module_presentation_CCC-2014J     0.4075   8.48e+05    4.8e-07      1.000   -1.66e+06    1.66e+06\n",
       "module_presentation_DDD-2013B     0.2776        nan        nan        nan         nan         nan\n",
       "module_presentation_DDD-2013J     0.7063        nan        nan        nan         nan         nan\n",
       "module_presentation_DDD-2014B     0.8631        nan        nan        nan         nan         nan\n",
       "module_presentation_DDD-2014J     0.6668        nan        nan        nan         nan         nan\n",
       "module_presentation_EEE-2013J     0.4239        nan        nan        nan         nan         nan\n",
       "module_presentation_EEE-2014B     0.6791        nan        nan        nan         nan         nan\n",
       "module_presentation_EEE-2014J     0.4354        nan        nan        nan         nan         nan\n",
       "module_presentation_FFF-2013B    -0.1737   1.01e+06  -1.73e-07      1.000   -1.97e+06    1.97e+06\n",
       "module_presentation_FFF-2013J    -0.1173   1.01e+06  -1.17e-07      1.000   -1.97e+06    1.97e+06\n",
       "module_presentation_FFF-2014B     0.0311   1.01e+06   3.09e-08      1.000   -1.97e+06    1.97e+06\n",
       "module_presentation_FFF-2014J    -0.1746   1.01e+06  -1.74e-07      1.000   -1.97e+06    1.97e+06\n",
       "module_presentation_GGG-2013J    -0.1680   1.51e+06  -1.11e-07      1.000   -2.95e+06    2.95e+06\n",
       "module_presentation_GGG-2014B    -0.0942   1.51e+06  -6.25e-08      1.000   -2.95e+06    2.95e+06\n",
       "module_presentation_GGG-2014J    -0.1239   1.51e+06  -8.22e-08      1.000   -2.95e+06    2.95e+06\n",
       "=================================================================================================\n",
       "\"\"\""
      ]
     },
     "execution_count": 33,
     "metadata": {},
     "output_type": "execute_result"
    }
   ],
   "source": [
    "logit_cols_5 = \"\"\"gender\n",
    "highest_education\n",
    "imd_band\n",
    "age_band\n",
    "num_of_prev_attempts\n",
    "studied_credits\n",
    "disability\n",
    "date_registration\n",
    "num_assessments\n",
    "num_tma_assessments\n",
    "num_cma_assessments\n",
    "region_East Anglian Region\n",
    "region_Ireland\n",
    "region_North Region\n",
    "region_South East Region\n",
    "region_South Region\n",
    "region_South West Region\n",
    "region_Yorkshire Region\n",
    "module_presentation_BBB-2013B\n",
    "module_presentation_BBB-2013J\n",
    "module_presentation_BBB-2014B\n",
    "module_presentation_BBB-2014J\n",
    "module_presentation_CCC-2014B\n",
    "module_presentation_CCC-2014J\n",
    "module_presentation_DDD-2013B\n",
    "module_presentation_DDD-2013J\n",
    "module_presentation_DDD-2014B\n",
    "module_presentation_DDD-2014J\n",
    "module_presentation_EEE-2013J\n",
    "module_presentation_EEE-2014B\n",
    "module_presentation_EEE-2014J\n",
    "module_presentation_FFF-2013B\n",
    "module_presentation_FFF-2013J\n",
    "module_presentation_FFF-2014B\n",
    "module_presentation_FFF-2014J\n",
    "module_presentation_GGG-2013J\n",
    "module_presentation_GGG-2014B\n",
    "module_presentation_GGG-2014J\"\"\"\n",
    "logit_cols_5 = logit_cols_5.split('\\n')\n",
    "\n",
    "X_l = X_train_l[logit_cols_5].values\n",
    "X_const_l = add_constant(X_l, prepend=True)\n",
    "y_l = y_train_l.values\n",
    "\n",
    "logit_model = Logit(y_l, X_const_l).fit()\n",
    "logit_model.summary(yname = 'Fail_Flag', xname =  ['const'] + list(X_train_l[logit_cols_5].columns) \\\n",
    "                   )\n"
   ]
  },
  {
   "cell_type": "code",
   "execution_count": 34,
   "metadata": {},
   "outputs": [
    {
     "data": {
      "text/plain": [
       "0.6583595356202374"
      ]
     },
     "execution_count": 34,
     "metadata": {},
     "output_type": "execute_result"
    }
   ],
   "source": [
    "roc_auc_score(y_train_l, logit_model.predict(X_const_l))"
   ]
  },
  {
   "cell_type": "code",
   "execution_count": 35,
   "metadata": {},
   "outputs": [
    {
     "name": "stdout",
     "output_type": "stream",
     "text": [
      "Warning: Maximum number of iterations has been exceeded.\n",
      "         Current function value: 0.653676\n",
      "         Iterations: 35\n"
     ]
    },
    {
     "name": "stderr",
     "output_type": "stream",
     "text": [
      "/Users/jaimeadybuncio/opt/anaconda3/lib/python3.7/site-packages/statsmodels/base/model.py:512: ConvergenceWarning: Maximum Likelihood optimization failed to converge. Check mle_retvals\n",
      "  \"Check mle_retvals\", ConvergenceWarning)\n",
      "/Users/jaimeadybuncio/opt/anaconda3/lib/python3.7/site-packages/statsmodels/base/model.py:1286: RuntimeWarning: invalid value encountered in sqrt\n",
      "  bse_ = np.sqrt(np.diag(self.cov_params()))\n",
      "/Users/jaimeadybuncio/opt/anaconda3/lib/python3.7/site-packages/scipy/stats/_distn_infrastructure.py:901: RuntimeWarning: invalid value encountered in greater\n",
      "  return (a < x) & (x < b)\n",
      "/Users/jaimeadybuncio/opt/anaconda3/lib/python3.7/site-packages/scipy/stats/_distn_infrastructure.py:901: RuntimeWarning: invalid value encountered in less\n",
      "  return (a < x) & (x < b)\n",
      "/Users/jaimeadybuncio/opt/anaconda3/lib/python3.7/site-packages/scipy/stats/_distn_infrastructure.py:1892: RuntimeWarning: invalid value encountered in less_equal\n",
      "  cond2 = cond0 & (x <= _a)\n"
     ]
    },
    {
     "data": {
      "text/html": [
       "<table class=\"simpletable\">\n",
       "<caption>Logit Regression Results</caption>\n",
       "<tr>\n",
       "  <th>Dep. Variable:</th>       <td>Fail_Flag</td>    <th>  No. Observations:  </th>  <td> 22436</td> \n",
       "</tr>\n",
       "<tr>\n",
       "  <th>Model:</th>                 <td>Logit</td>      <th>  Df Residuals:      </th>  <td> 22399</td> \n",
       "</tr>\n",
       "<tr>\n",
       "  <th>Method:</th>                 <td>MLE</td>       <th>  Df Model:          </th>  <td>    36</td> \n",
       "</tr>\n",
       "<tr>\n",
       "  <th>Date:</th>            <td>Fri, 15 May 2020</td> <th>  Pseudo R-squ.:     </th>  <td>0.05635</td>\n",
       "</tr>\n",
       "<tr>\n",
       "  <th>Time:</th>                <td>08:06:32</td>     <th>  Log-Likelihood:    </th> <td> -14666.</td>\n",
       "</tr>\n",
       "<tr>\n",
       "  <th>converged:</th>             <td>False</td>      <th>  LL-Null:           </th> <td> -15542.</td>\n",
       "</tr>\n",
       "<tr>\n",
       "  <th>Covariance Type:</th>     <td>nonrobust</td>    <th>  LLR p-value:       </th>  <td> 0.000</td> \n",
       "</tr>\n",
       "</table>\n",
       "<table class=\"simpletable\">\n",
       "<tr>\n",
       "    <td></td>       <th>coef</th>     <th>std err</th>      <th>z</th>      <th>P>|z|</th>  <th>[0.025</th>    <th>0.975]</th>  \n",
       "</tr>\n",
       "<tr>\n",
       "  <th>x1</th>    <td>    0.0970</td> <td>    0.035</td> <td>    2.769</td> <td> 0.006</td> <td>    0.028</td> <td>    0.166</td>\n",
       "</tr>\n",
       "<tr>\n",
       "  <th>x2</th>    <td>   -0.4446</td> <td>    0.020</td> <td>  -22.616</td> <td> 0.000</td> <td>   -0.483</td> <td>   -0.406</td>\n",
       "</tr>\n",
       "<tr>\n",
       "  <th>x3</th>    <td>   -0.0580</td> <td>    0.005</td> <td>  -11.224</td> <td> 0.000</td> <td>   -0.068</td> <td>   -0.048</td>\n",
       "</tr>\n",
       "<tr>\n",
       "  <th>x4</th>    <td>   -0.1803</td> <td>    0.030</td> <td>   -6.005</td> <td> 0.000</td> <td>   -0.239</td> <td>   -0.121</td>\n",
       "</tr>\n",
       "<tr>\n",
       "  <th>x5</th>    <td>    0.4091</td> <td>    0.033</td> <td>   12.494</td> <td> 0.000</td> <td>    0.345</td> <td>    0.473</td>\n",
       "</tr>\n",
       "<tr>\n",
       "  <th>x6</th>    <td>    0.0036</td> <td>    0.000</td> <td>    9.094</td> <td> 0.000</td> <td>    0.003</td> <td>    0.004</td>\n",
       "</tr>\n",
       "<tr>\n",
       "  <th>x7</th>    <td>    0.2471</td> <td>    0.048</td> <td>    5.129</td> <td> 0.000</td> <td>    0.153</td> <td>    0.341</td>\n",
       "</tr>\n",
       "<tr>\n",
       "  <th>x8</th>    <td>    0.0008</td> <td>    0.000</td> <td>    2.819</td> <td> 0.005</td> <td>    0.000</td> <td>    0.001</td>\n",
       "</tr>\n",
       "<tr>\n",
       "  <th>x9</th>    <td>    0.3123</td> <td> 3.05e+04</td> <td> 1.02e-05</td> <td> 1.000</td> <td>-5.99e+04</td> <td> 5.99e+04</td>\n",
       "</tr>\n",
       "<tr>\n",
       "  <th>x10</th>   <td>   -0.1959</td> <td>    0.049</td> <td>   -4.003</td> <td> 0.000</td> <td>   -0.292</td> <td>   -0.100</td>\n",
       "</tr>\n",
       "<tr>\n",
       "  <th>x11</th>   <td>   -0.3471</td> <td>    0.075</td> <td>   -4.619</td> <td> 0.000</td> <td>   -0.494</td> <td>   -0.200</td>\n",
       "</tr>\n",
       "<tr>\n",
       "  <th>x12</th>   <td>   -0.4778</td> <td>    0.063</td> <td>   -7.575</td> <td> 0.000</td> <td>   -0.601</td> <td>   -0.354</td>\n",
       "</tr>\n",
       "<tr>\n",
       "  <th>x13</th>   <td>   -0.2697</td> <td>    0.059</td> <td>   -4.555</td> <td> 0.000</td> <td>   -0.386</td> <td>   -0.154</td>\n",
       "</tr>\n",
       "<tr>\n",
       "  <th>x14</th>   <td>   -0.2199</td> <td>    0.051</td> <td>   -4.346</td> <td> 0.000</td> <td>   -0.319</td> <td>   -0.121</td>\n",
       "</tr>\n",
       "<tr>\n",
       "  <th>x15</th>   <td>   -0.2658</td> <td>    0.054</td> <td>   -4.899</td> <td> 0.000</td> <td>   -0.372</td> <td>   -0.159</td>\n",
       "</tr>\n",
       "<tr>\n",
       "  <th>x16</th>   <td>   -0.1158</td> <td>    0.059</td> <td>   -1.975</td> <td> 0.048</td> <td>   -0.231</td> <td>   -0.001</td>\n",
       "</tr>\n",
       "<tr>\n",
       "  <th>x17</th>   <td>    1.6491</td> <td>      nan</td> <td>      nan</td> <td>   nan</td> <td>      nan</td> <td>      nan</td>\n",
       "</tr>\n",
       "<tr>\n",
       "  <th>x18</th>   <td>    0.8333</td> <td>      nan</td> <td>      nan</td> <td>   nan</td> <td>      nan</td> <td>      nan</td>\n",
       "</tr>\n",
       "<tr>\n",
       "  <th>x19</th>   <td>    0.9221</td> <td>      nan</td> <td>      nan</td> <td>   nan</td> <td>      nan</td> <td>      nan</td>\n",
       "</tr>\n",
       "<tr>\n",
       "  <th>x20</th>   <td>    0.3382</td> <td> 4.02e+05</td> <td> 8.41e-07</td> <td> 1.000</td> <td>-7.88e+05</td> <td> 7.88e+05</td>\n",
       "</tr>\n",
       "<tr>\n",
       "  <th>x21</th>   <td>   -0.1866</td> <td> 5.74e+04</td> <td>-3.25e-06</td> <td> 1.000</td> <td>-1.13e+05</td> <td> 1.13e+05</td>\n",
       "</tr>\n",
       "<tr>\n",
       "  <th>x22</th>   <td>   -2.5663</td> <td> 3.83e+05</td> <td>-6.71e-06</td> <td> 1.000</td> <td> -7.5e+05</td> <td>  7.5e+05</td>\n",
       "</tr>\n",
       "<tr>\n",
       "  <th>x23</th>   <td>    1.6503</td> <td>      nan</td> <td>      nan</td> <td>   nan</td> <td>      nan</td> <td>      nan</td>\n",
       "</tr>\n",
       "<tr>\n",
       "  <th>x24</th>   <td>    1.5762</td> <td>      nan</td> <td>      nan</td> <td>   nan</td> <td>      nan</td> <td>      nan</td>\n",
       "</tr>\n",
       "<tr>\n",
       "  <th>x25</th>   <td>   -0.0853</td> <td>      nan</td> <td>      nan</td> <td>   nan</td> <td>      nan</td> <td>      nan</td>\n",
       "</tr>\n",
       "<tr>\n",
       "  <th>x26</th>   <td>    1.8794</td> <td>      nan</td> <td>      nan</td> <td>   nan</td> <td>      nan</td> <td>      nan</td>\n",
       "</tr>\n",
       "<tr>\n",
       "  <th>const</th> <td>   -6.4095</td> <td>      nan</td> <td>      nan</td> <td>   nan</td> <td>      nan</td> <td>      nan</td>\n",
       "</tr>\n",
       "<tr>\n",
       "  <th>x27</th>   <td>    1.2914</td> <td>      nan</td> <td>      nan</td> <td>   nan</td> <td>      nan</td> <td>      nan</td>\n",
       "</tr>\n",
       "<tr>\n",
       "  <th>x28</th>   <td>    0.3325</td> <td> 2451.701</td> <td>    0.000</td> <td> 1.000</td> <td>-4804.914</td> <td> 4805.578</td>\n",
       "</tr>\n",
       "<tr>\n",
       "  <th>x29</th>   <td>    0.0159</td> <td> 1594.976</td> <td> 9.98e-06</td> <td> 1.000</td> <td>-3126.079</td> <td> 3126.111</td>\n",
       "</tr>\n",
       "<tr>\n",
       "  <th>x30</th>   <td>    0.1416</td> <td>      nan</td> <td>      nan</td> <td>   nan</td> <td>      nan</td> <td>      nan</td>\n",
       "</tr>\n",
       "<tr>\n",
       "  <th>x31</th>   <td>    0.3368</td> <td> 7278.800</td> <td> 4.63e-05</td> <td> 1.000</td> <td>-1.43e+04</td> <td> 1.43e+04</td>\n",
       "</tr>\n",
       "<tr>\n",
       "  <th>x32</th>   <td>    1.2724</td> <td> 1.02e+04</td> <td>    0.000</td> <td> 1.000</td> <td>-1.99e+04</td> <td>    2e+04</td>\n",
       "</tr>\n",
       "<tr>\n",
       "  <th>x33</th>   <td>   -0.8840</td> <td>      nan</td> <td>      nan</td> <td>   nan</td> <td>      nan</td> <td>      nan</td>\n",
       "</tr>\n",
       "<tr>\n",
       "  <th>x34</th>   <td>    0.0597</td> <td>      nan</td> <td>      nan</td> <td>   nan</td> <td>      nan</td> <td>      nan</td>\n",
       "</tr>\n",
       "<tr>\n",
       "  <th>x35</th>   <td>   -1.4826</td> <td> 2.89e+05</td> <td>-5.14e-06</td> <td> 1.000</td> <td>-5.66e+05</td> <td> 5.66e+05</td>\n",
       "</tr>\n",
       "<tr>\n",
       "  <th>x36</th>   <td>   -0.0477</td> <td>  370.753</td> <td>   -0.000</td> <td> 1.000</td> <td> -726.711</td> <td>  726.616</td>\n",
       "</tr>\n",
       "<tr>\n",
       "  <th>x37</th>   <td>    3.4047</td> <td>      nan</td> <td>      nan</td> <td>   nan</td> <td>      nan</td> <td>      nan</td>\n",
       "</tr>\n",
       "<tr>\n",
       "  <th>x38</th>   <td>   -0.0748</td> <td>      nan</td> <td>      nan</td> <td>   nan</td> <td>      nan</td> <td>      nan</td>\n",
       "</tr>\n",
       "<tr>\n",
       "  <th>x39</th>   <td>   -0.1805</td> <td> 3261.190</td> <td>-5.53e-05</td> <td> 1.000</td> <td>-6391.996</td> <td> 6391.635</td>\n",
       "</tr>\n",
       "<tr>\n",
       "  <th>x40</th>   <td>    0.0469</td> <td>      nan</td> <td>      nan</td> <td>   nan</td> <td>      nan</td> <td>      nan</td>\n",
       "</tr>\n",
       "</table>"
      ],
      "text/plain": [
       "<class 'statsmodels.iolib.summary.Summary'>\n",
       "\"\"\"\n",
       "                           Logit Regression Results                           \n",
       "==============================================================================\n",
       "Dep. Variable:              Fail_Flag   No. Observations:                22436\n",
       "Model:                          Logit   Df Residuals:                    22399\n",
       "Method:                           MLE   Df Model:                           36\n",
       "Date:                Fri, 15 May 2020   Pseudo R-squ.:                 0.05635\n",
       "Time:                        08:06:32   Log-Likelihood:                -14666.\n",
       "converged:                      False   LL-Null:                       -15542.\n",
       "Covariance Type:            nonrobust   LLR p-value:                     0.000\n",
       "==============================================================================\n",
       "                 coef    std err          z      P>|z|      [0.025      0.975]\n",
       "------------------------------------------------------------------------------\n",
       "x1             0.0970      0.035      2.769      0.006       0.028       0.166\n",
       "x2            -0.4446      0.020    -22.616      0.000      -0.483      -0.406\n",
       "x3            -0.0580      0.005    -11.224      0.000      -0.068      -0.048\n",
       "x4            -0.1803      0.030     -6.005      0.000      -0.239      -0.121\n",
       "x5             0.4091      0.033     12.494      0.000       0.345       0.473\n",
       "x6             0.0036      0.000      9.094      0.000       0.003       0.004\n",
       "x7             0.2471      0.048      5.129      0.000       0.153       0.341\n",
       "x8             0.0008      0.000      2.819      0.005       0.000       0.001\n",
       "x9             0.3123   3.05e+04   1.02e-05      1.000   -5.99e+04    5.99e+04\n",
       "x10           -0.1959      0.049     -4.003      0.000      -0.292      -0.100\n",
       "x11           -0.3471      0.075     -4.619      0.000      -0.494      -0.200\n",
       "x12           -0.4778      0.063     -7.575      0.000      -0.601      -0.354\n",
       "x13           -0.2697      0.059     -4.555      0.000      -0.386      -0.154\n",
       "x14           -0.2199      0.051     -4.346      0.000      -0.319      -0.121\n",
       "x15           -0.2658      0.054     -4.899      0.000      -0.372      -0.159\n",
       "x16           -0.1158      0.059     -1.975      0.048      -0.231      -0.001\n",
       "x17            1.6491        nan        nan        nan         nan         nan\n",
       "x18            0.8333        nan        nan        nan         nan         nan\n",
       "x19            0.9221        nan        nan        nan         nan         nan\n",
       "x20            0.3382   4.02e+05   8.41e-07      1.000   -7.88e+05    7.88e+05\n",
       "x21           -0.1866   5.74e+04  -3.25e-06      1.000   -1.13e+05    1.13e+05\n",
       "x22           -2.5663   3.83e+05  -6.71e-06      1.000    -7.5e+05     7.5e+05\n",
       "x23            1.6503        nan        nan        nan         nan         nan\n",
       "x24            1.5762        nan        nan        nan         nan         nan\n",
       "x25           -0.0853        nan        nan        nan         nan         nan\n",
       "x26            1.8794        nan        nan        nan         nan         nan\n",
       "const         -6.4095        nan        nan        nan         nan         nan\n",
       "x27            1.2914        nan        nan        nan         nan         nan\n",
       "x28            0.3325   2451.701      0.000      1.000   -4804.914    4805.578\n",
       "x29            0.0159   1594.976   9.98e-06      1.000   -3126.079    3126.111\n",
       "x30            0.1416        nan        nan        nan         nan         nan\n",
       "x31            0.3368   7278.800   4.63e-05      1.000   -1.43e+04    1.43e+04\n",
       "x32            1.2724   1.02e+04      0.000      1.000   -1.99e+04       2e+04\n",
       "x33           -0.8840        nan        nan        nan         nan         nan\n",
       "x34            0.0597        nan        nan        nan         nan         nan\n",
       "x35           -1.4826   2.89e+05  -5.14e-06      1.000   -5.66e+05    5.66e+05\n",
       "x36           -0.0477    370.753     -0.000      1.000    -726.711     726.616\n",
       "x37            3.4047        nan        nan        nan         nan         nan\n",
       "x38           -0.0748        nan        nan        nan         nan         nan\n",
       "x39           -0.1805   3261.190  -5.53e-05      1.000   -6391.996    6391.635\n",
       "x40            0.0469        nan        nan        nan         nan         nan\n",
       "==============================================================================\n",
       "\"\"\""
      ]
     },
     "execution_count": 35,
     "metadata": {},
     "output_type": "execute_result"
    }
   ],
   "source": [
    "logit_cols_6 = \"\"\"gender\n",
    "highest_education\n",
    "imd_band\n",
    "age_band\n",
    "num_of_prev_attempts\n",
    "studied_credits\n",
    "disability\n",
    "date_registration\n",
    "num_assessments\n",
    "region_East Anglian Region\n",
    "region_Ireland\n",
    "region_North Region\n",
    "region_South East Region\n",
    "region_South Region\n",
    "region_South West Region\n",
    "region_Yorkshire Region\n",
    "module_presentation_BBB-2013B\n",
    "module_presentation_BBB-2013J\n",
    "module_presentation_BBB-2014B\n",
    "module_presentation_BBB-2014J\n",
    "vle_dataplus\n",
    "vle_dualpane\n",
    "vle_externalquiz\n",
    "vle_folder\n",
    "vle_forumng\n",
    "vle_glossary\n",
    "vle_homepage\n",
    "vle_htmlactivity\n",
    "vle_oucollaborate\n",
    "vle_oucontent\n",
    "vle_ouelluminate\n",
    "vle_ouwiki\n",
    "vle_page\n",
    "vle_questionnaire\n",
    "vle_quiz\n",
    "vle_repeatactivity\n",
    "vle_resource\n",
    "vle_sharedsubpage\n",
    "vle_subpage\n",
    "vle_url\n",
    "vle_total_num_vle\"\"\"\n",
    "logit_cols_6 = logit_cols_6.split('\\n')\n",
    "\n",
    "X_l = X_train_l[logit_cols_6].values\n",
    "X_const_l = add_constant(X_l, prepend=True)\n",
    "y_l = y_train_l.values\n",
    "\n",
    "logit_model = Logit(y_l, X_const_l).fit()\n",
    "logit_model.summary(yname = 'Fail_Flag'\n",
    "                   )\n"
   ]
  },
  {
   "cell_type": "code",
   "execution_count": 36,
   "metadata": {},
   "outputs": [
    {
     "data": {
      "text/plain": [
       "0.6583595594802649"
      ]
     },
     "execution_count": 36,
     "metadata": {},
     "output_type": "execute_result"
    }
   ],
   "source": [
    "roc_auc_score(y_train_l, logit_model.predict(X_const_l))"
   ]
  },
  {
   "cell_type": "code",
   "execution_count": 37,
   "metadata": {},
   "outputs": [
    {
     "name": "stdout",
     "output_type": "stream",
     "text": [
      "Optimization terminated successfully.\n",
      "         Current function value: 0.662009\n",
      "         Iterations 5\n"
     ]
    },
    {
     "data": {
      "text/html": [
       "<table class=\"simpletable\">\n",
       "<caption>Logit Regression Results</caption>\n",
       "<tr>\n",
       "  <th>Dep. Variable:</th>       <td>Fail_Flag</td>    <th>  No. Observations:  </th>   <td> 22436</td>  \n",
       "</tr>\n",
       "<tr>\n",
       "  <th>Model:</th>                 <td>Logit</td>      <th>  Df Residuals:      </th>   <td> 22414</td>  \n",
       "</tr>\n",
       "<tr>\n",
       "  <th>Method:</th>                 <td>MLE</td>       <th>  Df Model:          </th>   <td>    21</td>  \n",
       "</tr>\n",
       "<tr>\n",
       "  <th>Date:</th>            <td>Fri, 15 May 2020</td> <th>  Pseudo R-squ.:     </th>   <td>0.04432</td> \n",
       "</tr>\n",
       "<tr>\n",
       "  <th>Time:</th>                <td>08:07:06</td>     <th>  Log-Likelihood:    </th>  <td> -14853.</td> \n",
       "</tr>\n",
       "<tr>\n",
       "  <th>converged:</th>             <td>True</td>       <th>  LL-Null:           </th>  <td> -15542.</td> \n",
       "</tr>\n",
       "<tr>\n",
       "  <th>Covariance Type:</th>     <td>nonrobust</td>    <th>  LLR p-value:       </th> <td>5.939e-279</td>\n",
       "</tr>\n",
       "</table>\n",
       "<table class=\"simpletable\">\n",
       "<tr>\n",
       "                <td></td>                   <th>coef</th>     <th>std err</th>      <th>z</th>      <th>P>|z|</th>  <th>[0.025</th>    <th>0.975]</th>  \n",
       "</tr>\n",
       "<tr>\n",
       "  <th>const</th>                         <td>    0.9643</td> <td>    0.090</td> <td>   10.774</td> <td> 0.000</td> <td>    0.789</td> <td>    1.140</td>\n",
       "</tr>\n",
       "<tr>\n",
       "  <th>gender</th>                        <td>    0.1372</td> <td>    0.032</td> <td>    4.280</td> <td> 0.000</td> <td>    0.074</td> <td>    0.200</td>\n",
       "</tr>\n",
       "<tr>\n",
       "  <th>highest_education</th>             <td>   -0.3972</td> <td>    0.019</td> <td>  -20.742</td> <td> 0.000</td> <td>   -0.435</td> <td>   -0.360</td>\n",
       "</tr>\n",
       "<tr>\n",
       "  <th>imd_band</th>                      <td>   -0.0566</td> <td>    0.005</td> <td>  -11.064</td> <td> 0.000</td> <td>   -0.067</td> <td>   -0.047</td>\n",
       "</tr>\n",
       "<tr>\n",
       "  <th>age_band</th>                      <td>   -0.2045</td> <td>    0.030</td> <td>   -6.911</td> <td> 0.000</td> <td>   -0.263</td> <td>   -0.147</td>\n",
       "</tr>\n",
       "<tr>\n",
       "  <th>num_of_prev_attempts</th>          <td>    0.4079</td> <td>    0.032</td> <td>   12.575</td> <td> 0.000</td> <td>    0.344</td> <td>    0.472</td>\n",
       "</tr>\n",
       "<tr>\n",
       "  <th>studied_credits</th>               <td>    0.0041</td> <td>    0.000</td> <td>   10.625</td> <td> 0.000</td> <td>    0.003</td> <td>    0.005</td>\n",
       "</tr>\n",
       "<tr>\n",
       "  <th>disability</th>                    <td>    0.2502</td> <td>    0.048</td> <td>    5.246</td> <td> 0.000</td> <td>    0.157</td> <td>    0.344</td>\n",
       "</tr>\n",
       "<tr>\n",
       "  <th>date_registration</th>             <td>    0.0004</td> <td>    0.000</td> <td>    1.475</td> <td> 0.140</td> <td>   -0.000</td> <td>    0.001</td>\n",
       "</tr>\n",
       "<tr>\n",
       "  <th>num_assessments</th>               <td>    0.0059</td> <td>    0.006</td> <td>    0.920</td> <td> 0.357</td> <td>   -0.007</td> <td>    0.019</td>\n",
       "</tr>\n",
       "<tr>\n",
       "  <th>region_East Anglian Region</th>    <td>   -0.2025</td> <td>    0.048</td> <td>   -4.182</td> <td> 0.000</td> <td>   -0.297</td> <td>   -0.108</td>\n",
       "</tr>\n",
       "<tr>\n",
       "  <th>region_Ireland</th>                <td>   -0.3203</td> <td>    0.075</td> <td>   -4.287</td> <td> 0.000</td> <td>   -0.467</td> <td>   -0.174</td>\n",
       "</tr>\n",
       "<tr>\n",
       "  <th>region_North Region</th>           <td>   -0.4510</td> <td>    0.062</td> <td>   -7.222</td> <td> 0.000</td> <td>   -0.573</td> <td>   -0.329</td>\n",
       "</tr>\n",
       "<tr>\n",
       "  <th>region_South East Region</th>      <td>   -0.2775</td> <td>    0.059</td> <td>   -4.736</td> <td> 0.000</td> <td>   -0.392</td> <td>   -0.163</td>\n",
       "</tr>\n",
       "<tr>\n",
       "  <th>region_South Region</th>           <td>   -0.2301</td> <td>    0.050</td> <td>   -4.589</td> <td> 0.000</td> <td>   -0.328</td> <td>   -0.132</td>\n",
       "</tr>\n",
       "<tr>\n",
       "  <th>region_South West Region</th>      <td>   -0.2620</td> <td>    0.054</td> <td>   -4.875</td> <td> 0.000</td> <td>   -0.367</td> <td>   -0.157</td>\n",
       "</tr>\n",
       "<tr>\n",
       "  <th>region_Yorkshire Region</th>       <td>   -0.1269</td> <td>    0.058</td> <td>   -2.185</td> <td> 0.029</td> <td>   -0.241</td> <td>   -0.013</td>\n",
       "</tr>\n",
       "<tr>\n",
       "  <th>module_presentation_BBB-2013B</th> <td>    0.0333</td> <td>    0.065</td> <td>    0.511</td> <td> 0.609</td> <td>   -0.095</td> <td>    0.161</td>\n",
       "</tr>\n",
       "<tr>\n",
       "  <th>module_presentation_BBB-2013J</th> <td>   -0.1932</td> <td>    0.061</td> <td>   -3.188</td> <td> 0.001</td> <td>   -0.312</td> <td>   -0.074</td>\n",
       "</tr>\n",
       "<tr>\n",
       "  <th>module_presentation_BBB-2014B</th> <td>   -0.2430</td> <td>    0.072</td> <td>   -3.395</td> <td> 0.001</td> <td>   -0.383</td> <td>   -0.103</td>\n",
       "</tr>\n",
       "<tr>\n",
       "  <th>module_presentation_BBB-2014J</th> <td>   -0.1958</td> <td>    0.061</td> <td>   -3.192</td> <td> 0.001</td> <td>   -0.316</td> <td>   -0.076</td>\n",
       "</tr>\n",
       "<tr>\n",
       "  <th>vle_total_num_vle</th>             <td>    0.0002</td> <td>    0.000</td> <td>    1.480</td> <td> 0.139</td> <td> -6.2e-05</td> <td>    0.000</td>\n",
       "</tr>\n",
       "</table>"
      ],
      "text/plain": [
       "<class 'statsmodels.iolib.summary.Summary'>\n",
       "\"\"\"\n",
       "                           Logit Regression Results                           \n",
       "==============================================================================\n",
       "Dep. Variable:              Fail_Flag   No. Observations:                22436\n",
       "Model:                          Logit   Df Residuals:                    22414\n",
       "Method:                           MLE   Df Model:                           21\n",
       "Date:                Fri, 15 May 2020   Pseudo R-squ.:                 0.04432\n",
       "Time:                        08:07:06   Log-Likelihood:                -14853.\n",
       "converged:                       True   LL-Null:                       -15542.\n",
       "Covariance Type:            nonrobust   LLR p-value:                5.939e-279\n",
       "=================================================================================================\n",
       "                                    coef    std err          z      P>|z|      [0.025      0.975]\n",
       "-------------------------------------------------------------------------------------------------\n",
       "const                             0.9643      0.090     10.774      0.000       0.789       1.140\n",
       "gender                            0.1372      0.032      4.280      0.000       0.074       0.200\n",
       "highest_education                -0.3972      0.019    -20.742      0.000      -0.435      -0.360\n",
       "imd_band                         -0.0566      0.005    -11.064      0.000      -0.067      -0.047\n",
       "age_band                         -0.2045      0.030     -6.911      0.000      -0.263      -0.147\n",
       "num_of_prev_attempts              0.4079      0.032     12.575      0.000       0.344       0.472\n",
       "studied_credits                   0.0041      0.000     10.625      0.000       0.003       0.005\n",
       "disability                        0.2502      0.048      5.246      0.000       0.157       0.344\n",
       "date_registration                 0.0004      0.000      1.475      0.140      -0.000       0.001\n",
       "num_assessments                   0.0059      0.006      0.920      0.357      -0.007       0.019\n",
       "region_East Anglian Region       -0.2025      0.048     -4.182      0.000      -0.297      -0.108\n",
       "region_Ireland                   -0.3203      0.075     -4.287      0.000      -0.467      -0.174\n",
       "region_North Region              -0.4510      0.062     -7.222      0.000      -0.573      -0.329\n",
       "region_South East Region         -0.2775      0.059     -4.736      0.000      -0.392      -0.163\n",
       "region_South Region              -0.2301      0.050     -4.589      0.000      -0.328      -0.132\n",
       "region_South West Region         -0.2620      0.054     -4.875      0.000      -0.367      -0.157\n",
       "region_Yorkshire Region          -0.1269      0.058     -2.185      0.029      -0.241      -0.013\n",
       "module_presentation_BBB-2013B     0.0333      0.065      0.511      0.609      -0.095       0.161\n",
       "module_presentation_BBB-2013J    -0.1932      0.061     -3.188      0.001      -0.312      -0.074\n",
       "module_presentation_BBB-2014B    -0.2430      0.072     -3.395      0.001      -0.383      -0.103\n",
       "module_presentation_BBB-2014J    -0.1958      0.061     -3.192      0.001      -0.316      -0.076\n",
       "vle_total_num_vle                 0.0002      0.000      1.480      0.139    -6.2e-05       0.000\n",
       "=================================================================================================\n",
       "\"\"\""
      ]
     },
     "execution_count": 37,
     "metadata": {},
     "output_type": "execute_result"
    }
   ],
   "source": [
    "logit_cols_7 = \"\"\"gender\n",
    "highest_education\n",
    "imd_band\n",
    "age_band\n",
    "num_of_prev_attempts\n",
    "studied_credits\n",
    "disability\n",
    "date_registration\n",
    "num_assessments\n",
    "region_East Anglian Region\n",
    "region_Ireland\n",
    "region_North Region\n",
    "region_South East Region\n",
    "region_South Region\n",
    "region_South West Region\n",
    "region_Yorkshire Region\n",
    "module_presentation_BBB-2013B\n",
    "module_presentation_BBB-2013J\n",
    "module_presentation_BBB-2014B\n",
    "module_presentation_BBB-2014J\n",
    "vle_total_num_vle\"\"\"\n",
    "logit_cols_7 = logit_cols_7.split('\\n')\n",
    "\n",
    "X_l = X_train_l[logit_cols_7].values\n",
    "X_const_l = add_constant(X_l, prepend=True)\n",
    "y_l = y_train_l.values\n",
    "\n",
    "logit_model = Logit(y_l, X_const_l).fit()\n",
    "logit_model.summary(yname = 'Fail_Flag', xname =  ['const'] + list(X_train_l[logit_cols_7].columns)\n",
    "                   )\n"
   ]
  },
  {
   "cell_type": "code",
   "execution_count": 38,
   "metadata": {},
   "outputs": [
    {
     "data": {
      "text/plain": [
       "0.6398202067391852"
      ]
     },
     "execution_count": 38,
     "metadata": {},
     "output_type": "execute_result"
    }
   ],
   "source": [
    "roc_auc_score(y_train_l, logit_model.predict(X_const_l))"
   ]
  },
  {
   "cell_type": "code",
   "execution_count": 39,
   "metadata": {},
   "outputs": [
    {
     "name": "stdout",
     "output_type": "stream",
     "text": [
      "Optimization terminated successfully.\n",
      "         Current function value: 0.621507\n",
      "         Iterations 24\n"
     ]
    },
    {
     "name": "stderr",
     "output_type": "stream",
     "text": [
      "/Users/jaimeadybuncio/opt/anaconda3/lib/python3.7/site-packages/statsmodels/base/model.py:1286: RuntimeWarning: invalid value encountered in sqrt\n",
      "  bse_ = np.sqrt(np.diag(self.cov_params()))\n",
      "/Users/jaimeadybuncio/opt/anaconda3/lib/python3.7/site-packages/scipy/stats/_distn_infrastructure.py:901: RuntimeWarning: invalid value encountered in greater\n",
      "  return (a < x) & (x < b)\n",
      "/Users/jaimeadybuncio/opt/anaconda3/lib/python3.7/site-packages/scipy/stats/_distn_infrastructure.py:901: RuntimeWarning: invalid value encountered in less\n",
      "  return (a < x) & (x < b)\n",
      "/Users/jaimeadybuncio/opt/anaconda3/lib/python3.7/site-packages/scipy/stats/_distn_infrastructure.py:1892: RuntimeWarning: invalid value encountered in less_equal\n",
      "  cond2 = cond0 & (x <= _a)\n"
     ]
    },
    {
     "data": {
      "text/html": [
       "<table class=\"simpletable\">\n",
       "<caption>Logit Regression Results</caption>\n",
       "<tr>\n",
       "  <th>Dep. Variable:</th>       <td>Fail_Flag</td>    <th>  No. Observations:  </th>  <td> 22436</td> \n",
       "</tr>\n",
       "<tr>\n",
       "  <th>Model:</th>                 <td>Logit</td>      <th>  Df Residuals:      </th>  <td> 22382</td> \n",
       "</tr>\n",
       "<tr>\n",
       "  <th>Method:</th>                 <td>MLE</td>       <th>  Df Model:          </th>  <td>    53</td> \n",
       "</tr>\n",
       "<tr>\n",
       "  <th>Date:</th>            <td>Fri, 15 May 2020</td> <th>  Pseudo R-squ.:     </th>  <td>0.1028</td> \n",
       "</tr>\n",
       "<tr>\n",
       "  <th>Time:</th>                <td>08:07:38</td>     <th>  Log-Likelihood:    </th> <td> -13944.</td>\n",
       "</tr>\n",
       "<tr>\n",
       "  <th>converged:</th>             <td>True</td>       <th>  LL-Null:           </th> <td> -15542.</td>\n",
       "</tr>\n",
       "<tr>\n",
       "  <th>Covariance Type:</th>     <td>nonrobust</td>    <th>  LLR p-value:       </th>  <td> 0.000</td> \n",
       "</tr>\n",
       "</table>\n",
       "<table class=\"simpletable\">\n",
       "<tr>\n",
       "                 <td></td>                   <th>coef</th>     <th>std err</th>      <th>z</th>      <th>P>|z|</th>  <th>[0.025</th>    <th>0.975]</th>  \n",
       "</tr>\n",
       "<tr>\n",
       "  <th>const</th>                          <td>  281.4733</td> <td>      nan</td> <td>      nan</td> <td>   nan</td> <td>      nan</td> <td>      nan</td>\n",
       "</tr>\n",
       "<tr>\n",
       "  <th>gender</th>                         <td>    0.0089</td> <td>    0.036</td> <td>    0.244</td> <td> 0.808</td> <td>   -0.063</td> <td>    0.080</td>\n",
       "</tr>\n",
       "<tr>\n",
       "  <th>highest_education</th>              <td>   -0.4521</td> <td>    0.020</td> <td>  -22.202</td> <td> 0.000</td> <td>   -0.492</td> <td>   -0.412</td>\n",
       "</tr>\n",
       "<tr>\n",
       "  <th>imd_band</th>                       <td>   -0.0590</td> <td>    0.005</td> <td>  -11.045</td> <td> 0.000</td> <td>   -0.069</td> <td>   -0.049</td>\n",
       "</tr>\n",
       "<tr>\n",
       "  <th>age_band</th>                       <td>   -0.0390</td> <td>    0.031</td> <td>   -1.243</td> <td> 0.214</td> <td>   -0.101</td> <td>    0.023</td>\n",
       "</tr>\n",
       "<tr>\n",
       "  <th>num_of_prev_attempts</th>           <td>    0.3438</td> <td>    0.034</td> <td>   10.233</td> <td> 0.000</td> <td>    0.278</td> <td>    0.410</td>\n",
       "</tr>\n",
       "<tr>\n",
       "  <th>studied_credits</th>                <td>    0.0041</td> <td>    0.000</td> <td>    9.897</td> <td> 0.000</td> <td>    0.003</td> <td>    0.005</td>\n",
       "</tr>\n",
       "<tr>\n",
       "  <th>disability</th>                     <td>    0.2824</td> <td>    0.050</td> <td>    5.643</td> <td> 0.000</td> <td>    0.184</td> <td>    0.380</td>\n",
       "</tr>\n",
       "<tr>\n",
       "  <th>date_registration</th>              <td>   -0.0002</td> <td>    0.000</td> <td>   -0.608</td> <td> 0.543</td> <td>   -0.001</td> <td>    0.000</td>\n",
       "</tr>\n",
       "<tr>\n",
       "  <th>num_assessments</th>                <td>-1364.5490</td> <td>      nan</td> <td>      nan</td> <td>   nan</td> <td>      nan</td> <td>      nan</td>\n",
       "</tr>\n",
       "<tr>\n",
       "  <th>num_tma_assessments</th>            <td> 1581.4245</td> <td>      nan</td> <td>      nan</td> <td>   nan</td> <td>      nan</td> <td>      nan</td>\n",
       "</tr>\n",
       "<tr>\n",
       "  <th>num_cma_assessments</th>            <td> 1238.5990</td> <td>      nan</td> <td>      nan</td> <td>   nan</td> <td>      nan</td> <td>      nan</td>\n",
       "</tr>\n",
       "<tr>\n",
       "  <th>region_East Anglian Region</th>     <td>   -0.2164</td> <td>    0.050</td> <td>   -4.290</td> <td> 0.000</td> <td>   -0.315</td> <td>   -0.118</td>\n",
       "</tr>\n",
       "<tr>\n",
       "  <th>region_Ireland</th>                 <td>   -0.3243</td> <td>    0.077</td> <td>   -4.210</td> <td> 0.000</td> <td>   -0.475</td> <td>   -0.173</td>\n",
       "</tr>\n",
       "<tr>\n",
       "  <th>region_North Region</th>            <td>   -0.4316</td> <td>    0.065</td> <td>   -6.592</td> <td> 0.000</td> <td>   -0.560</td> <td>   -0.303</td>\n",
       "</tr>\n",
       "<tr>\n",
       "  <th>region_South East Region</th>       <td>   -0.2793</td> <td>    0.061</td> <td>   -4.564</td> <td> 0.000</td> <td>   -0.399</td> <td>   -0.159</td>\n",
       "</tr>\n",
       "<tr>\n",
       "  <th>region_South Region</th>            <td>   -0.2536</td> <td>    0.052</td> <td>   -4.858</td> <td> 0.000</td> <td>   -0.356</td> <td>   -0.151</td>\n",
       "</tr>\n",
       "<tr>\n",
       "  <th>region_South West Region</th>       <td>   -0.2861</td> <td>    0.056</td> <td>   -5.091</td> <td> 0.000</td> <td>   -0.396</td> <td>   -0.176</td>\n",
       "</tr>\n",
       "<tr>\n",
       "  <th>region_Yorkshire Region</th>        <td>   -0.1056</td> <td>    0.061</td> <td>   -1.738</td> <td> 0.082</td> <td>   -0.225</td> <td>    0.014</td>\n",
       "</tr>\n",
       "<tr>\n",
       "  <th>module_presentation_BBB-2013B</th>  <td>  413.0782</td> <td>      nan</td> <td>      nan</td> <td>   nan</td> <td>      nan</td> <td>      nan</td>\n",
       "</tr>\n",
       "<tr>\n",
       "  <th>module_presentation_BBB-2013J</th>  <td>  412.8345</td> <td>      nan</td> <td>      nan</td> <td>   nan</td> <td>      nan</td> <td>      nan</td>\n",
       "</tr>\n",
       "<tr>\n",
       "  <th>module_presentation_BBB-2014B</th>  <td>  412.7415</td> <td>      nan</td> <td>      nan</td> <td>   nan</td> <td>      nan</td> <td>      nan</td>\n",
       "</tr>\n",
       "<tr>\n",
       "  <th>module_presentation_BBB-2014J</th>  <td>   -0.0594</td> <td>    0.122</td> <td>   -0.488</td> <td> 0.625</td> <td>   -0.298</td> <td>    0.179</td>\n",
       "</tr>\n",
       "<tr>\n",
       "  <th>module_presentation_CCC-2014B</th>  <td> 2086.3242</td> <td>      nan</td> <td>      nan</td> <td>   nan</td> <td>      nan</td> <td>      nan</td>\n",
       "</tr>\n",
       "<tr>\n",
       "  <th>module_presentation_CCC-2014J</th>  <td> 2086.1321</td> <td>      nan</td> <td>      nan</td> <td>   nan</td> <td>      nan</td> <td>      nan</td>\n",
       "</tr>\n",
       "<tr>\n",
       "  <th>module_presentation_DDD-2013B</th>  <td>  665.8175</td> <td>      nan</td> <td>      nan</td> <td>   nan</td> <td>      nan</td> <td>      nan</td>\n",
       "</tr>\n",
       "<tr>\n",
       "  <th>module_presentation_DDD-2013J</th>  <td> -216.0096</td> <td>      nan</td> <td>      nan</td> <td>   nan</td> <td>      nan</td> <td>      nan</td>\n",
       "</tr>\n",
       "<tr>\n",
       "  <th>module_presentation_DDD-2014B</th>  <td> -215.9194</td> <td>      nan</td> <td>      nan</td> <td>   nan</td> <td>      nan</td> <td>      nan</td>\n",
       "</tr>\n",
       "<tr>\n",
       "  <th>module_presentation_DDD-2014J</th>  <td> -216.0271</td> <td>      nan</td> <td>      nan</td> <td>   nan</td> <td>      nan</td> <td>      nan</td>\n",
       "</tr>\n",
       "<tr>\n",
       "  <th>module_presentation_EEE-2013J</th>  <td>  216.9686</td> <td>      nan</td> <td>      nan</td> <td>   nan</td> <td>      nan</td> <td>      nan</td>\n",
       "</tr>\n",
       "<tr>\n",
       "  <th>module_presentation_EEE-2014B</th>  <td>  217.3297</td> <td>      nan</td> <td>      nan</td> <td>   nan</td> <td>      nan</td> <td>      nan</td>\n",
       "</tr>\n",
       "<tr>\n",
       "  <th>module_presentation_EEE-2014J</th>  <td>  217.0280</td> <td>      nan</td> <td>      nan</td> <td>   nan</td> <td>      nan</td> <td>      nan</td>\n",
       "</tr>\n",
       "<tr>\n",
       "  <th>module_presentation_FFF-2013B</th>  <td>  882.1791</td> <td>      nan</td> <td>      nan</td> <td>   nan</td> <td>      nan</td> <td>      nan</td>\n",
       "</tr>\n",
       "<tr>\n",
       "  <th>module_presentation_FFF-2013J</th>  <td>  882.0981</td> <td>      nan</td> <td>      nan</td> <td>   nan</td> <td>      nan</td> <td>      nan</td>\n",
       "</tr>\n",
       "<tr>\n",
       "  <th>module_presentation_FFF-2014B</th>  <td>  882.1990</td> <td>      nan</td> <td>      nan</td> <td>   nan</td> <td>      nan</td> <td>      nan</td>\n",
       "</tr>\n",
       "<tr>\n",
       "  <th>module_presentation_FFF-2014J</th>  <td>  882.1894</td> <td>      nan</td> <td>      nan</td> <td>   nan</td> <td>      nan</td> <td>      nan</td>\n",
       "</tr>\n",
       "<tr>\n",
       "  <th>module_presentation_GGG-2013J</th>  <td> 1189.1662</td> <td>      nan</td> <td>      nan</td> <td>   nan</td> <td>      nan</td> <td>      nan</td>\n",
       "</tr>\n",
       "<tr>\n",
       "  <th>module_presentation_GGG-2014B</th>  <td> 1189.1766</td> <td>      nan</td> <td>      nan</td> <td>   nan</td> <td>      nan</td> <td>      nan</td>\n",
       "</tr>\n",
       "<tr>\n",
       "  <th>module_presentation_GGG-2014J</th>  <td> 1189.2437</td> <td>      nan</td> <td>      nan</td> <td>   nan</td> <td>      nan</td> <td>      nan</td>\n",
       "</tr>\n",
       "<tr>\n",
       "  <th>before_days_dataplus</th>           <td>    0.6469</td> <td>      nan</td> <td>      nan</td> <td>   nan</td> <td>      nan</td> <td>      nan</td>\n",
       "</tr>\n",
       "<tr>\n",
       "  <th>before_days_dualpane</th>           <td>   -0.0829</td> <td>      nan</td> <td>      nan</td> <td>   nan</td> <td>      nan</td> <td>      nan</td>\n",
       "</tr>\n",
       "<tr>\n",
       "  <th>before_days_externalquiz</th>       <td>   -0.0620</td> <td>      nan</td> <td>      nan</td> <td>   nan</td> <td>      nan</td> <td>      nan</td>\n",
       "</tr>\n",
       "<tr>\n",
       "  <th>before_days_forumng</th>            <td>   -0.0549</td> <td>      nan</td> <td>      nan</td> <td>   nan</td> <td>      nan</td> <td>      nan</td>\n",
       "</tr>\n",
       "<tr>\n",
       "  <th>before_days_glossary</th>           <td>   -0.0842</td> <td>      nan</td> <td>      nan</td> <td>   nan</td> <td>      nan</td> <td>      nan</td>\n",
       "</tr>\n",
       "<tr>\n",
       "  <th>before_days_homepage</th>           <td>   -0.1722</td> <td>      nan</td> <td>      nan</td> <td>   nan</td> <td>      nan</td> <td>      nan</td>\n",
       "</tr>\n",
       "<tr>\n",
       "  <th>before_days_htmlactivity</th>       <td>   -0.0825</td> <td>      nan</td> <td>      nan</td> <td>   nan</td> <td>      nan</td> <td>      nan</td>\n",
       "</tr>\n",
       "<tr>\n",
       "  <th>before_days_oucollaborate</th>      <td>    0.0104</td> <td>      nan</td> <td>      nan</td> <td>   nan</td> <td>      nan</td> <td>      nan</td>\n",
       "</tr>\n",
       "<tr>\n",
       "  <th>before_days_oucontent</th>          <td>   -0.0646</td> <td>      nan</td> <td>      nan</td> <td>   nan</td> <td>      nan</td> <td>      nan</td>\n",
       "</tr>\n",
       "<tr>\n",
       "  <th>before_days_ouelluminate</th>       <td>    0.0353</td> <td>      nan</td> <td>      nan</td> <td>   nan</td> <td>      nan</td> <td>      nan</td>\n",
       "</tr>\n",
       "<tr>\n",
       "  <th>before_days_ouwiki</th>             <td>   -0.1221</td> <td>      nan</td> <td>      nan</td> <td>   nan</td> <td>      nan</td> <td>      nan</td>\n",
       "</tr>\n",
       "<tr>\n",
       "  <th>before_days_page</th>               <td>    0.0453</td> <td>      nan</td> <td>      nan</td> <td>   nan</td> <td>      nan</td> <td>      nan</td>\n",
       "</tr>\n",
       "<tr>\n",
       "  <th>before_days_questionnaire</th>      <td>    0.2275</td> <td>      nan</td> <td>      nan</td> <td>   nan</td> <td>      nan</td> <td>      nan</td>\n",
       "</tr>\n",
       "<tr>\n",
       "  <th>before_days_quiz</th>               <td>   -0.0825</td> <td>      nan</td> <td>      nan</td> <td>   nan</td> <td>      nan</td> <td>      nan</td>\n",
       "</tr>\n",
       "<tr>\n",
       "  <th>before_days_resource</th>           <td>   -0.0463</td> <td>      nan</td> <td>      nan</td> <td>   nan</td> <td>      nan</td> <td>      nan</td>\n",
       "</tr>\n",
       "<tr>\n",
       "  <th>before_days_sharedsubpage</th>      <td>    0.0310</td> <td>      nan</td> <td>      nan</td> <td>   nan</td> <td>      nan</td> <td>      nan</td>\n",
       "</tr>\n",
       "<tr>\n",
       "  <th>before_days_subpage</th>            <td>   -0.0455</td> <td>      nan</td> <td>      nan</td> <td>   nan</td> <td>      nan</td> <td>      nan</td>\n",
       "</tr>\n",
       "<tr>\n",
       "  <th>before_days_url</th>                <td>   -0.0524</td> <td>      nan</td> <td>      nan</td> <td>   nan</td> <td>      nan</td> <td>      nan</td>\n",
       "</tr>\n",
       "<tr>\n",
       "  <th>before_days_total_num_vle_days</th> <td>    0.0433</td> <td>      nan</td> <td>      nan</td> <td>   nan</td> <td>      nan</td> <td>      nan</td>\n",
       "</tr>\n",
       "</table>"
      ],
      "text/plain": [
       "<class 'statsmodels.iolib.summary.Summary'>\n",
       "\"\"\"\n",
       "                           Logit Regression Results                           \n",
       "==============================================================================\n",
       "Dep. Variable:              Fail_Flag   No. Observations:                22436\n",
       "Model:                          Logit   Df Residuals:                    22382\n",
       "Method:                           MLE   Df Model:                           53\n",
       "Date:                Fri, 15 May 2020   Pseudo R-squ.:                  0.1028\n",
       "Time:                        08:07:38   Log-Likelihood:                -13944.\n",
       "converged:                       True   LL-Null:                       -15542.\n",
       "Covariance Type:            nonrobust   LLR p-value:                     0.000\n",
       "==================================================================================================\n",
       "                                     coef    std err          z      P>|z|      [0.025      0.975]\n",
       "--------------------------------------------------------------------------------------------------\n",
       "const                            281.4733        nan        nan        nan         nan         nan\n",
       "gender                             0.0089      0.036      0.244      0.808      -0.063       0.080\n",
       "highest_education                 -0.4521      0.020    -22.202      0.000      -0.492      -0.412\n",
       "imd_band                          -0.0590      0.005    -11.045      0.000      -0.069      -0.049\n",
       "age_band                          -0.0390      0.031     -1.243      0.214      -0.101       0.023\n",
       "num_of_prev_attempts               0.3438      0.034     10.233      0.000       0.278       0.410\n",
       "studied_credits                    0.0041      0.000      9.897      0.000       0.003       0.005\n",
       "disability                         0.2824      0.050      5.643      0.000       0.184       0.380\n",
       "date_registration                 -0.0002      0.000     -0.608      0.543      -0.001       0.000\n",
       "num_assessments                -1364.5490        nan        nan        nan         nan         nan\n",
       "num_tma_assessments             1581.4245        nan        nan        nan         nan         nan\n",
       "num_cma_assessments             1238.5990        nan        nan        nan         nan         nan\n",
       "region_East Anglian Region        -0.2164      0.050     -4.290      0.000      -0.315      -0.118\n",
       "region_Ireland                    -0.3243      0.077     -4.210      0.000      -0.475      -0.173\n",
       "region_North Region               -0.4316      0.065     -6.592      0.000      -0.560      -0.303\n",
       "region_South East Region          -0.2793      0.061     -4.564      0.000      -0.399      -0.159\n",
       "region_South Region               -0.2536      0.052     -4.858      0.000      -0.356      -0.151\n",
       "region_South West Region          -0.2861      0.056     -5.091      0.000      -0.396      -0.176\n",
       "region_Yorkshire Region           -0.1056      0.061     -1.738      0.082      -0.225       0.014\n",
       "module_presentation_BBB-2013B    413.0782        nan        nan        nan         nan         nan\n",
       "module_presentation_BBB-2013J    412.8345        nan        nan        nan         nan         nan\n",
       "module_presentation_BBB-2014B    412.7415        nan        nan        nan         nan         nan\n",
       "module_presentation_BBB-2014J     -0.0594      0.122     -0.488      0.625      -0.298       0.179\n",
       "module_presentation_CCC-2014B   2086.3242        nan        nan        nan         nan         nan\n",
       "module_presentation_CCC-2014J   2086.1321        nan        nan        nan         nan         nan\n",
       "module_presentation_DDD-2013B    665.8175        nan        nan        nan         nan         nan\n",
       "module_presentation_DDD-2013J   -216.0096        nan        nan        nan         nan         nan\n",
       "module_presentation_DDD-2014B   -215.9194        nan        nan        nan         nan         nan\n",
       "module_presentation_DDD-2014J   -216.0271        nan        nan        nan         nan         nan\n",
       "module_presentation_EEE-2013J    216.9686        nan        nan        nan         nan         nan\n",
       "module_presentation_EEE-2014B    217.3297        nan        nan        nan         nan         nan\n",
       "module_presentation_EEE-2014J    217.0280        nan        nan        nan         nan         nan\n",
       "module_presentation_FFF-2013B    882.1791        nan        nan        nan         nan         nan\n",
       "module_presentation_FFF-2013J    882.0981        nan        nan        nan         nan         nan\n",
       "module_presentation_FFF-2014B    882.1990        nan        nan        nan         nan         nan\n",
       "module_presentation_FFF-2014J    882.1894        nan        nan        nan         nan         nan\n",
       "module_presentation_GGG-2013J   1189.1662        nan        nan        nan         nan         nan\n",
       "module_presentation_GGG-2014B   1189.1766        nan        nan        nan         nan         nan\n",
       "module_presentation_GGG-2014J   1189.2437        nan        nan        nan         nan         nan\n",
       "before_days_dataplus               0.6469        nan        nan        nan         nan         nan\n",
       "before_days_dualpane              -0.0829        nan        nan        nan         nan         nan\n",
       "before_days_externalquiz          -0.0620        nan        nan        nan         nan         nan\n",
       "before_days_forumng               -0.0549        nan        nan        nan         nan         nan\n",
       "before_days_glossary              -0.0842        nan        nan        nan         nan         nan\n",
       "before_days_homepage              -0.1722        nan        nan        nan         nan         nan\n",
       "before_days_htmlactivity          -0.0825        nan        nan        nan         nan         nan\n",
       "before_days_oucollaborate          0.0104        nan        nan        nan         nan         nan\n",
       "before_days_oucontent             -0.0646        nan        nan        nan         nan         nan\n",
       "before_days_ouelluminate           0.0353        nan        nan        nan         nan         nan\n",
       "before_days_ouwiki                -0.1221        nan        nan        nan         nan         nan\n",
       "before_days_page                   0.0453        nan        nan        nan         nan         nan\n",
       "before_days_questionnaire          0.2275        nan        nan        nan         nan         nan\n",
       "before_days_quiz                  -0.0825        nan        nan        nan         nan         nan\n",
       "before_days_resource              -0.0463        nan        nan        nan         nan         nan\n",
       "before_days_sharedsubpage          0.0310        nan        nan        nan         nan         nan\n",
       "before_days_subpage               -0.0455        nan        nan        nan         nan         nan\n",
       "before_days_url                   -0.0524        nan        nan        nan         nan         nan\n",
       "before_days_total_num_vle_days     0.0433        nan        nan        nan         nan         nan\n",
       "==================================================================================================\n",
       "\"\"\""
      ]
     },
     "execution_count": 39,
     "metadata": {},
     "output_type": "execute_result"
    }
   ],
   "source": [
    "logit_cols_8 = \"\"\"gender\n",
    "highest_education\n",
    "imd_band\n",
    "age_band\n",
    "num_of_prev_attempts\n",
    "studied_credits\n",
    "disability\n",
    "date_registration\n",
    "num_assessments\n",
    "num_tma_assessments\n",
    "num_cma_assessments\n",
    "region_East Anglian Region\n",
    "region_Ireland\n",
    "region_North Region\n",
    "region_South East Region\n",
    "region_South Region\n",
    "region_South West Region\n",
    "region_Yorkshire Region\n",
    "module_presentation_BBB-2013B\n",
    "module_presentation_BBB-2013J\n",
    "module_presentation_BBB-2014B\n",
    "module_presentation_BBB-2014J\n",
    "module_presentation_CCC-2014B\n",
    "module_presentation_CCC-2014J\n",
    "module_presentation_DDD-2013B\n",
    "module_presentation_DDD-2013J\n",
    "module_presentation_DDD-2014B\n",
    "module_presentation_DDD-2014J\n",
    "module_presentation_EEE-2013J\n",
    "module_presentation_EEE-2014B\n",
    "module_presentation_EEE-2014J\n",
    "module_presentation_FFF-2013B\n",
    "module_presentation_FFF-2013J\n",
    "module_presentation_FFF-2014B\n",
    "module_presentation_FFF-2014J\n",
    "module_presentation_GGG-2013J\n",
    "module_presentation_GGG-2014B\n",
    "module_presentation_GGG-2014J\n",
    "before_days_dataplus\n",
    "before_days_dualpane\n",
    "before_days_externalquiz\n",
    "before_days_forumng\n",
    "before_days_glossary\n",
    "before_days_homepage\n",
    "before_days_htmlactivity\n",
    "before_days_oucollaborate\n",
    "before_days_oucontent\n",
    "before_days_ouelluminate\n",
    "before_days_ouwiki\n",
    "before_days_page\n",
    "before_days_questionnaire\n",
    "before_days_quiz\n",
    "before_days_resource\n",
    "before_days_sharedsubpage\n",
    "before_days_subpage\n",
    "before_days_url\n",
    "before_days_total_num_vle_days\"\"\"\n",
    "logit_cols_8 = logit_cols_8.split('\\n')\n",
    "\n",
    "X_l = X_train_l[logit_cols_8].values\n",
    "X_const_l = add_constant(X_l, prepend=True)\n",
    "y_l = y_train_l.values\n",
    "\n",
    "logit_model = Logit(y_l, X_const_l).fit()\n",
    "logit_model.summary(yname = 'Fail_Flag', xname =  ['const'] + list(X_train_l[logit_cols_8].columns) \\\n",
    "                   )\n"
   ]
  },
  {
   "cell_type": "code",
   "execution_count": 40,
   "metadata": {},
   "outputs": [
    {
     "data": {
      "text/plain": [
       "0.7136493593980273"
      ]
     },
     "execution_count": 40,
     "metadata": {},
     "output_type": "execute_result"
    }
   ],
   "source": [
    "roc_auc_score(y_train_l, logit_model.predict(X_const_l))"
   ]
  },
  {
   "cell_type": "code",
   "execution_count": 41,
   "metadata": {},
   "outputs": [
    {
     "name": "stdout",
     "output_type": "stream",
     "text": [
      "Warning: Maximum number of iterations has been exceeded.\n",
      "         Current function value: 0.625444\n",
      "         Iterations: 35\n"
     ]
    },
    {
     "name": "stderr",
     "output_type": "stream",
     "text": [
      "/Users/jaimeadybuncio/opt/anaconda3/lib/python3.7/site-packages/statsmodels/base/model.py:512: ConvergenceWarning: Maximum Likelihood optimization failed to converge. Check mle_retvals\n",
      "  \"Check mle_retvals\", ConvergenceWarning)\n",
      "/Users/jaimeadybuncio/opt/anaconda3/lib/python3.7/site-packages/statsmodels/base/model.py:1286: RuntimeWarning: invalid value encountered in sqrt\n",
      "  bse_ = np.sqrt(np.diag(self.cov_params()))\n",
      "/Users/jaimeadybuncio/opt/anaconda3/lib/python3.7/site-packages/scipy/stats/_distn_infrastructure.py:901: RuntimeWarning: invalid value encountered in greater\n",
      "  return (a < x) & (x < b)\n",
      "/Users/jaimeadybuncio/opt/anaconda3/lib/python3.7/site-packages/scipy/stats/_distn_infrastructure.py:901: RuntimeWarning: invalid value encountered in less\n",
      "  return (a < x) & (x < b)\n",
      "/Users/jaimeadybuncio/opt/anaconda3/lib/python3.7/site-packages/scipy/stats/_distn_infrastructure.py:1892: RuntimeWarning: invalid value encountered in less_equal\n",
      "  cond2 = cond0 & (x <= _a)\n"
     ]
    },
    {
     "data": {
      "text/html": [
       "<table class=\"simpletable\">\n",
       "<caption>Logit Regression Results</caption>\n",
       "<tr>\n",
       "  <th>Dep. Variable:</th>       <td>Fail_Flag</td>    <th>  No. Observations:  </th>  <td> 22436</td> \n",
       "</tr>\n",
       "<tr>\n",
       "  <th>Model:</th>                 <td>Logit</td>      <th>  Df Residuals:      </th>  <td> 22382</td> \n",
       "</tr>\n",
       "<tr>\n",
       "  <th>Method:</th>                 <td>MLE</td>       <th>  Df Model:          </th>  <td>    53</td> \n",
       "</tr>\n",
       "<tr>\n",
       "  <th>Date:</th>            <td>Fri, 15 May 2020</td> <th>  Pseudo R-squ.:     </th>  <td>0.09710</td>\n",
       "</tr>\n",
       "<tr>\n",
       "  <th>Time:</th>                <td>08:08:23</td>     <th>  Log-Likelihood:    </th> <td> -14032.</td>\n",
       "</tr>\n",
       "<tr>\n",
       "  <th>converged:</th>             <td>False</td>      <th>  LL-Null:           </th> <td> -15542.</td>\n",
       "</tr>\n",
       "<tr>\n",
       "  <th>Covariance Type:</th>     <td>nonrobust</td>    <th>  LLR p-value:       </th>  <td> 0.000</td> \n",
       "</tr>\n",
       "</table>\n",
       "<table class=\"simpletable\">\n",
       "<tr>\n",
       "                   <td></td>                     <th>coef</th>     <th>std err</th>      <th>z</th>      <th>P>|z|</th>  <th>[0.025</th>    <th>0.975]</th>  \n",
       "</tr>\n",
       "<tr>\n",
       "  <th>const</th>                              <td>-7455.7202</td> <td> 8.39e+05</td> <td>   -0.009</td> <td> 0.993</td> <td>-1.65e+06</td> <td> 1.64e+06</td>\n",
       "</tr>\n",
       "<tr>\n",
       "  <th>gender</th>                             <td>    0.0742</td> <td>    0.036</td> <td>    2.063</td> <td> 0.039</td> <td>    0.004</td> <td>    0.145</td>\n",
       "</tr>\n",
       "<tr>\n",
       "  <th>highest_education</th>                  <td>   -0.4438</td> <td>    0.020</td> <td>  -21.955</td> <td> 0.000</td> <td>   -0.483</td> <td>   -0.404</td>\n",
       "</tr>\n",
       "<tr>\n",
       "  <th>imd_band</th>                           <td>   -0.0596</td> <td>    0.005</td> <td>  -11.264</td> <td> 0.000</td> <td>   -0.070</td> <td>   -0.049</td>\n",
       "</tr>\n",
       "<tr>\n",
       "  <th>age_band</th>                           <td>   -0.1318</td> <td>    0.031</td> <td>   -4.254</td> <td> 0.000</td> <td>   -0.192</td> <td>   -0.071</td>\n",
       "</tr>\n",
       "<tr>\n",
       "  <th>num_of_prev_attempts</th>               <td>    0.3754</td> <td>    0.033</td> <td>   11.277</td> <td> 0.000</td> <td>    0.310</td> <td>    0.441</td>\n",
       "</tr>\n",
       "<tr>\n",
       "  <th>studied_credits</th>                    <td>    0.0032</td> <td>    0.000</td> <td>    7.731</td> <td> 0.000</td> <td>    0.002</td> <td>    0.004</td>\n",
       "</tr>\n",
       "<tr>\n",
       "  <th>disability</th>                         <td>    0.2594</td> <td>    0.049</td> <td>    5.254</td> <td> 0.000</td> <td>    0.163</td> <td>    0.356</td>\n",
       "</tr>\n",
       "<tr>\n",
       "  <th>date_registration</th>                  <td>    0.0008</td> <td>    0.000</td> <td>    2.456</td> <td> 0.014</td> <td>    0.000</td> <td>    0.001</td>\n",
       "</tr>\n",
       "<tr>\n",
       "  <th>num_assessments</th>                    <td> 4443.9446</td> <td> 2.36e+05</td> <td>    0.019</td> <td> 0.985</td> <td>-4.58e+05</td> <td> 4.67e+05</td>\n",
       "</tr>\n",
       "<tr>\n",
       "  <th>num_tma_assessments</th>                <td>-3841.4398</td> <td> 1.89e+05</td> <td>   -0.020</td> <td> 0.984</td> <td>-3.75e+05</td> <td> 3.68e+05</td>\n",
       "</tr>\n",
       "<tr>\n",
       "  <th>num_cma_assessments</th>                <td>-3863.8596</td> <td>      nan</td> <td>      nan</td> <td>   nan</td> <td>      nan</td> <td>      nan</td>\n",
       "</tr>\n",
       "<tr>\n",
       "  <th>region_East Anglian Region</th>         <td>   -0.1930</td> <td>    0.050</td> <td>   -3.856</td> <td> 0.000</td> <td>   -0.291</td> <td>   -0.095</td>\n",
       "</tr>\n",
       "<tr>\n",
       "  <th>region_Ireland</th>                     <td>   -0.3139</td> <td>    0.076</td> <td>   -4.109</td> <td> 0.000</td> <td>   -0.464</td> <td>   -0.164</td>\n",
       "</tr>\n",
       "<tr>\n",
       "  <th>region_North Region</th>                <td>   -0.4593</td> <td>    0.065</td> <td>   -7.093</td> <td> 0.000</td> <td>   -0.586</td> <td>   -0.332</td>\n",
       "</tr>\n",
       "<tr>\n",
       "  <th>region_South East Region</th>           <td>   -0.2749</td> <td>    0.061</td> <td>   -4.515</td> <td> 0.000</td> <td>   -0.394</td> <td>   -0.156</td>\n",
       "</tr>\n",
       "<tr>\n",
       "  <th>region_South Region</th>                <td>   -0.2334</td> <td>    0.052</td> <td>   -4.503</td> <td> 0.000</td> <td>   -0.335</td> <td>   -0.132</td>\n",
       "</tr>\n",
       "<tr>\n",
       "  <th>region_South West Region</th>           <td>   -0.2607</td> <td>    0.056</td> <td>   -4.677</td> <td> 0.000</td> <td>   -0.370</td> <td>   -0.151</td>\n",
       "</tr>\n",
       "<tr>\n",
       "  <th>region_Yorkshire Region</th>            <td>   -0.1052</td> <td>    0.060</td> <td>   -1.752</td> <td> 0.080</td> <td>   -0.223</td> <td>    0.012</td>\n",
       "</tr>\n",
       "<tr>\n",
       "  <th>module_presentation_BBB-2013B</th>      <td>-3502.3376</td> <td>      nan</td> <td>      nan</td> <td>   nan</td> <td>      nan</td> <td>      nan</td>\n",
       "</tr>\n",
       "<tr>\n",
       "  <th>module_presentation_BBB-2013J</th>      <td>-3502.5952</td> <td>      nan</td> <td>      nan</td> <td>   nan</td> <td>      nan</td> <td>      nan</td>\n",
       "</tr>\n",
       "<tr>\n",
       "  <th>module_presentation_BBB-2014B</th>      <td>-3502.6289</td> <td>      nan</td> <td>      nan</td> <td>   nan</td> <td>      nan</td> <td>      nan</td>\n",
       "</tr>\n",
       "<tr>\n",
       "  <th>module_presentation_BBB-2014J</th>      <td>    0.3260</td> <td>    0.115</td> <td>    2.835</td> <td> 0.005</td> <td>    0.101</td> <td>    0.551</td>\n",
       "</tr>\n",
       "<tr>\n",
       "  <th>module_presentation_CCC-2014B</th>      <td>-6160.6315</td> <td>      nan</td> <td>      nan</td> <td>   nan</td> <td>      nan</td> <td>      nan</td>\n",
       "</tr>\n",
       "<tr>\n",
       "  <th>module_presentation_CCC-2014J</th>      <td>-6160.7577</td> <td>      nan</td> <td>      nan</td> <td>   nan</td> <td>      nan</td> <td>      nan</td>\n",
       "</tr>\n",
       "<tr>\n",
       "  <th>module_presentation_DDD-2013B</th>      <td>-4661.8864</td> <td>      nan</td> <td>      nan</td> <td>   nan</td> <td>      nan</td> <td>      nan</td>\n",
       "</tr>\n",
       "<tr>\n",
       "  <th>module_presentation_DDD-2013J</th>      <td> -601.7607</td> <td> 1.45e+05</td> <td>   -0.004</td> <td> 0.997</td> <td>-2.85e+05</td> <td> 2.84e+05</td>\n",
       "</tr>\n",
       "<tr>\n",
       "  <th>module_presentation_DDD-2014B</th>      <td> -601.6366</td> <td> 1.56e+05</td> <td>   -0.004</td> <td> 0.997</td> <td>-3.05e+05</td> <td> 3.04e+05</td>\n",
       "</tr>\n",
       "<tr>\n",
       "  <th>module_presentation_DDD-2014J</th>      <td> -601.7792</td> <td> 1.53e+05</td> <td>   -0.004</td> <td> 0.997</td> <td>   -3e+05</td> <td> 2.98e+05</td>\n",
       "</tr>\n",
       "<tr>\n",
       "  <th>module_presentation_EEE-2013J</th>      <td>  602.7624</td> <td> 1.42e+05</td> <td>    0.004</td> <td> 0.997</td> <td>-2.78e+05</td> <td> 2.79e+05</td>\n",
       "</tr>\n",
       "<tr>\n",
       "  <th>module_presentation_EEE-2014B</th>      <td>  603.0486</td> <td> 1.46e+05</td> <td>    0.004</td> <td> 0.997</td> <td>-2.86e+05</td> <td> 2.87e+05</td>\n",
       "</tr>\n",
       "<tr>\n",
       "  <th>module_presentation_EEE-2014J</th>      <td>  602.7848</td> <td> 1.41e+05</td> <td>    0.004</td> <td> 0.997</td> <td>-2.75e+05</td> <td> 2.76e+05</td>\n",
       "</tr>\n",
       "<tr>\n",
       "  <th>module_presentation_FFF-2013B</th>      <td>-4059.9274</td> <td>      nan</td> <td>      nan</td> <td>   nan</td> <td>      nan</td> <td>      nan</td>\n",
       "</tr>\n",
       "<tr>\n",
       "  <th>module_presentation_FFF-2013J</th>      <td>-4059.9255</td> <td>      nan</td> <td>      nan</td> <td>   nan</td> <td>      nan</td> <td>      nan</td>\n",
       "</tr>\n",
       "<tr>\n",
       "  <th>module_presentation_FFF-2014B</th>      <td>-4059.7713</td> <td>      nan</td> <td>      nan</td> <td>   nan</td> <td>      nan</td> <td>      nan</td>\n",
       "</tr>\n",
       "<tr>\n",
       "  <th>module_presentation_FFF-2014J</th>      <td>-4059.8941</td> <td>      nan</td> <td>      nan</td> <td>   nan</td> <td>      nan</td> <td>      nan</td>\n",
       "</tr>\n",
       "<tr>\n",
       "  <th>module_presentation_GGG-2013J</th>      <td>-2275.3847</td> <td>      nan</td> <td>      nan</td> <td>   nan</td> <td>      nan</td> <td>      nan</td>\n",
       "</tr>\n",
       "<tr>\n",
       "  <th>module_presentation_GGG-2014B</th>      <td>-2275.3004</td> <td>      nan</td> <td>      nan</td> <td>   nan</td> <td>      nan</td> <td>      nan</td>\n",
       "</tr>\n",
       "<tr>\n",
       "  <th>module_presentation_GGG-2014J</th>      <td>-2275.2971</td> <td>      nan</td> <td>      nan</td> <td>   nan</td> <td>      nan</td> <td>      nan</td>\n",
       "</tr>\n",
       "<tr>\n",
       "  <th>before_click_dataplus</th>              <td>   -0.9354</td> <td>      nan</td> <td>      nan</td> <td>   nan</td> <td>      nan</td> <td>      nan</td>\n",
       "</tr>\n",
       "<tr>\n",
       "  <th>before_click_dualpane</th>              <td>   -1.1839</td> <td>      nan</td> <td>      nan</td> <td>   nan</td> <td>      nan</td> <td>      nan</td>\n",
       "</tr>\n",
       "<tr>\n",
       "  <th>before_click_externalquiz</th>          <td>   -1.0749</td> <td>      nan</td> <td>      nan</td> <td>   nan</td> <td>      nan</td> <td>      nan</td>\n",
       "</tr>\n",
       "<tr>\n",
       "  <th>before_click_forumng</th>               <td>   -1.0459</td> <td>      nan</td> <td>      nan</td> <td>   nan</td> <td>      nan</td> <td>      nan</td>\n",
       "</tr>\n",
       "<tr>\n",
       "  <th>before_click_glossary</th>              <td>   -1.0592</td> <td>      nan</td> <td>      nan</td> <td>   nan</td> <td>      nan</td> <td>      nan</td>\n",
       "</tr>\n",
       "<tr>\n",
       "  <th>before_click_homepage</th>              <td>   19.6052</td> <td>      nan</td> <td>      nan</td> <td>   nan</td> <td>      nan</td> <td>      nan</td>\n",
       "</tr>\n",
       "<tr>\n",
       "  <th>before_click_htmlactivity</th>          <td>   -1.1450</td> <td>      nan</td> <td>      nan</td> <td>   nan</td> <td>      nan</td> <td>      nan</td>\n",
       "</tr>\n",
       "<tr>\n",
       "  <th>before_click_oucollaborate</th>         <td>   -1.0417</td> <td>      nan</td> <td>      nan</td> <td>   nan</td> <td>      nan</td> <td>      nan</td>\n",
       "</tr>\n",
       "<tr>\n",
       "  <th>before_click_oucontent</th>             <td>   -1.0494</td> <td>      nan</td> <td>      nan</td> <td>   nan</td> <td>      nan</td> <td>      nan</td>\n",
       "</tr>\n",
       "<tr>\n",
       "  <th>before_click_ouelluminate</th>          <td>   -1.0042</td> <td>      nan</td> <td>      nan</td> <td>   nan</td> <td>      nan</td> <td>      nan</td>\n",
       "</tr>\n",
       "<tr>\n",
       "  <th>before_click_ouwiki</th>                <td>   -1.0777</td> <td>      nan</td> <td>      nan</td> <td>   nan</td> <td>      nan</td> <td>      nan</td>\n",
       "</tr>\n",
       "<tr>\n",
       "  <th>before_click_page</th>                  <td>   -1.0714</td> <td>      nan</td> <td>      nan</td> <td>   nan</td> <td>      nan</td> <td>      nan</td>\n",
       "</tr>\n",
       "<tr>\n",
       "  <th>before_click_questionnaire</th>         <td>   -1.1368</td> <td>      nan</td> <td>      nan</td> <td>   nan</td> <td>      nan</td> <td>      nan</td>\n",
       "</tr>\n",
       "<tr>\n",
       "  <th>before_click_quiz</th>                  <td>   -1.0474</td> <td>      nan</td> <td>      nan</td> <td>   nan</td> <td>      nan</td> <td>      nan</td>\n",
       "</tr>\n",
       "<tr>\n",
       "  <th>before_click_resource</th>              <td>   -1.0633</td> <td>      nan</td> <td>      nan</td> <td>   nan</td> <td>      nan</td> <td>      nan</td>\n",
       "</tr>\n",
       "<tr>\n",
       "  <th>before_click_sharedsubpage</th>         <td>   -1.4968</td> <td>      nan</td> <td>      nan</td> <td>   nan</td> <td>      nan</td> <td>      nan</td>\n",
       "</tr>\n",
       "<tr>\n",
       "  <th>before_click_subpage</th>               <td>   -1.0367</td> <td>      nan</td> <td>      nan</td> <td>   nan</td> <td>      nan</td> <td>      nan</td>\n",
       "</tr>\n",
       "<tr>\n",
       "  <th>before_click_url</th>                   <td>   -1.0879</td> <td>      nan</td> <td>      nan</td> <td>   nan</td> <td>      nan</td> <td>      nan</td>\n",
       "</tr>\n",
       "<tr>\n",
       "  <th>before_click_total_num_vle_actions</th> <td>    1.0470</td> <td>      nan</td> <td>      nan</td> <td>   nan</td> <td>      nan</td> <td>      nan</td>\n",
       "</tr>\n",
       "</table>"
      ],
      "text/plain": [
       "<class 'statsmodels.iolib.summary.Summary'>\n",
       "\"\"\"\n",
       "                           Logit Regression Results                           \n",
       "==============================================================================\n",
       "Dep. Variable:              Fail_Flag   No. Observations:                22436\n",
       "Model:                          Logit   Df Residuals:                    22382\n",
       "Method:                           MLE   Df Model:                           53\n",
       "Date:                Fri, 15 May 2020   Pseudo R-squ.:                 0.09710\n",
       "Time:                        08:08:23   Log-Likelihood:                -14032.\n",
       "converged:                      False   LL-Null:                       -15542.\n",
       "Covariance Type:            nonrobust   LLR p-value:                     0.000\n",
       "======================================================================================================\n",
       "                                         coef    std err          z      P>|z|      [0.025      0.975]\n",
       "------------------------------------------------------------------------------------------------------\n",
       "const                              -7455.7202   8.39e+05     -0.009      0.993   -1.65e+06    1.64e+06\n",
       "gender                                 0.0742      0.036      2.063      0.039       0.004       0.145\n",
       "highest_education                     -0.4438      0.020    -21.955      0.000      -0.483      -0.404\n",
       "imd_band                              -0.0596      0.005    -11.264      0.000      -0.070      -0.049\n",
       "age_band                              -0.1318      0.031     -4.254      0.000      -0.192      -0.071\n",
       "num_of_prev_attempts                   0.3754      0.033     11.277      0.000       0.310       0.441\n",
       "studied_credits                        0.0032      0.000      7.731      0.000       0.002       0.004\n",
       "disability                             0.2594      0.049      5.254      0.000       0.163       0.356\n",
       "date_registration                      0.0008      0.000      2.456      0.014       0.000       0.001\n",
       "num_assessments                     4443.9446   2.36e+05      0.019      0.985   -4.58e+05    4.67e+05\n",
       "num_tma_assessments                -3841.4398   1.89e+05     -0.020      0.984   -3.75e+05    3.68e+05\n",
       "num_cma_assessments                -3863.8596        nan        nan        nan         nan         nan\n",
       "region_East Anglian Region            -0.1930      0.050     -3.856      0.000      -0.291      -0.095\n",
       "region_Ireland                        -0.3139      0.076     -4.109      0.000      -0.464      -0.164\n",
       "region_North Region                   -0.4593      0.065     -7.093      0.000      -0.586      -0.332\n",
       "region_South East Region              -0.2749      0.061     -4.515      0.000      -0.394      -0.156\n",
       "region_South Region                   -0.2334      0.052     -4.503      0.000      -0.335      -0.132\n",
       "region_South West Region              -0.2607      0.056     -4.677      0.000      -0.370      -0.151\n",
       "region_Yorkshire Region               -0.1052      0.060     -1.752      0.080      -0.223       0.012\n",
       "module_presentation_BBB-2013B      -3502.3376        nan        nan        nan         nan         nan\n",
       "module_presentation_BBB-2013J      -3502.5952        nan        nan        nan         nan         nan\n",
       "module_presentation_BBB-2014B      -3502.6289        nan        nan        nan         nan         nan\n",
       "module_presentation_BBB-2014J          0.3260      0.115      2.835      0.005       0.101       0.551\n",
       "module_presentation_CCC-2014B      -6160.6315        nan        nan        nan         nan         nan\n",
       "module_presentation_CCC-2014J      -6160.7577        nan        nan        nan         nan         nan\n",
       "module_presentation_DDD-2013B      -4661.8864        nan        nan        nan         nan         nan\n",
       "module_presentation_DDD-2013J       -601.7607   1.45e+05     -0.004      0.997   -2.85e+05    2.84e+05\n",
       "module_presentation_DDD-2014B       -601.6366   1.56e+05     -0.004      0.997   -3.05e+05    3.04e+05\n",
       "module_presentation_DDD-2014J       -601.7792   1.53e+05     -0.004      0.997      -3e+05    2.98e+05\n",
       "module_presentation_EEE-2013J        602.7624   1.42e+05      0.004      0.997   -2.78e+05    2.79e+05\n",
       "module_presentation_EEE-2014B        603.0486   1.46e+05      0.004      0.997   -2.86e+05    2.87e+05\n",
       "module_presentation_EEE-2014J        602.7848   1.41e+05      0.004      0.997   -2.75e+05    2.76e+05\n",
       "module_presentation_FFF-2013B      -4059.9274        nan        nan        nan         nan         nan\n",
       "module_presentation_FFF-2013J      -4059.9255        nan        nan        nan         nan         nan\n",
       "module_presentation_FFF-2014B      -4059.7713        nan        nan        nan         nan         nan\n",
       "module_presentation_FFF-2014J      -4059.8941        nan        nan        nan         nan         nan\n",
       "module_presentation_GGG-2013J      -2275.3847        nan        nan        nan         nan         nan\n",
       "module_presentation_GGG-2014B      -2275.3004        nan        nan        nan         nan         nan\n",
       "module_presentation_GGG-2014J      -2275.2971        nan        nan        nan         nan         nan\n",
       "before_click_dataplus                 -0.9354        nan        nan        nan         nan         nan\n",
       "before_click_dualpane                 -1.1839        nan        nan        nan         nan         nan\n",
       "before_click_externalquiz             -1.0749        nan        nan        nan         nan         nan\n",
       "before_click_forumng                  -1.0459        nan        nan        nan         nan         nan\n",
       "before_click_glossary                 -1.0592        nan        nan        nan         nan         nan\n",
       "before_click_homepage                 19.6052        nan        nan        nan         nan         nan\n",
       "before_click_htmlactivity             -1.1450        nan        nan        nan         nan         nan\n",
       "before_click_oucollaborate            -1.0417        nan        nan        nan         nan         nan\n",
       "before_click_oucontent                -1.0494        nan        nan        nan         nan         nan\n",
       "before_click_ouelluminate             -1.0042        nan        nan        nan         nan         nan\n",
       "before_click_ouwiki                   -1.0777        nan        nan        nan         nan         nan\n",
       "before_click_page                     -1.0714        nan        nan        nan         nan         nan\n",
       "before_click_questionnaire            -1.1368        nan        nan        nan         nan         nan\n",
       "before_click_quiz                     -1.0474        nan        nan        nan         nan         nan\n",
       "before_click_resource                 -1.0633        nan        nan        nan         nan         nan\n",
       "before_click_sharedsubpage            -1.4968        nan        nan        nan         nan         nan\n",
       "before_click_subpage                  -1.0367        nan        nan        nan         nan         nan\n",
       "before_click_url                      -1.0879        nan        nan        nan         nan         nan\n",
       "before_click_total_num_vle_actions     1.0470        nan        nan        nan         nan         nan\n",
       "======================================================================================================\n",
       "\"\"\""
      ]
     },
     "execution_count": 41,
     "metadata": {},
     "output_type": "execute_result"
    }
   ],
   "source": [
    "logit_cols_9 = \"\"\"gender\n",
    "highest_education\n",
    "imd_band\n",
    "age_band\n",
    "num_of_prev_attempts\n",
    "studied_credits\n",
    "disability\n",
    "date_registration\n",
    "num_assessments\n",
    "num_tma_assessments\n",
    "num_cma_assessments\n",
    "region_East Anglian Region\n",
    "region_Ireland\n",
    "region_North Region\n",
    "region_South East Region\n",
    "region_South Region\n",
    "region_South West Region\n",
    "region_Yorkshire Region\n",
    "module_presentation_BBB-2013B\n",
    "module_presentation_BBB-2013J\n",
    "module_presentation_BBB-2014B\n",
    "module_presentation_BBB-2014J\n",
    "module_presentation_CCC-2014B\n",
    "module_presentation_CCC-2014J\n",
    "module_presentation_DDD-2013B\n",
    "module_presentation_DDD-2013J\n",
    "module_presentation_DDD-2014B\n",
    "module_presentation_DDD-2014J\n",
    "module_presentation_EEE-2013J\n",
    "module_presentation_EEE-2014B\n",
    "module_presentation_EEE-2014J\n",
    "module_presentation_FFF-2013B\n",
    "module_presentation_FFF-2013J\n",
    "module_presentation_FFF-2014B\n",
    "module_presentation_FFF-2014J\n",
    "module_presentation_GGG-2013J\n",
    "module_presentation_GGG-2014B\n",
    "module_presentation_GGG-2014J\n",
    "before_click_dataplus\n",
    "before_click_dualpane\n",
    "before_click_externalquiz\n",
    "before_click_forumng\n",
    "before_click_glossary\n",
    "before_click_homepage\n",
    "before_click_htmlactivity\n",
    "before_click_oucollaborate\n",
    "before_click_oucontent\n",
    "before_click_ouelluminate\n",
    "before_click_ouwiki\n",
    "before_click_page\n",
    "before_click_questionnaire\n",
    "before_click_quiz\n",
    "before_click_resource\n",
    "before_click_sharedsubpage\n",
    "before_click_subpage\n",
    "before_click_url\n",
    "before_click_total_num_vle_actions\"\"\"\n",
    "logit_cols_9 = logit_cols_9.split('\\n')\n",
    "\n",
    "X_l = X_train_l[logit_cols_9].values\n",
    "X_const_l = add_constant(X_l, prepend=True)\n",
    "y_l = y_train_l.values\n",
    "\n",
    "logit_model = Logit(y_l, X_const_l).fit()\n",
    "logit_model.summary(yname = 'Fail_Flag', xname =  ['const'] + list(X_train_l[logit_cols_9].columns) \\\n",
    "                   )\n"
   ]
  },
  {
   "cell_type": "code",
   "execution_count": 42,
   "metadata": {},
   "outputs": [
    {
     "data": {
      "text/plain": [
       "0.6934085202567657"
      ]
     },
     "execution_count": 42,
     "metadata": {},
     "output_type": "execute_result"
    }
   ],
   "source": [
    "roc_auc_score(y_train_l, logit_model.predict(X_const_l))"
   ]
  },
  {
   "cell_type": "code",
   "execution_count": 43,
   "metadata": {},
   "outputs": [
    {
     "name": "stdout",
     "output_type": "stream",
     "text": [
      "Warning: Maximum number of iterations has been exceeded.\n",
      "         Current function value: 0.588559\n",
      "         Iterations: 35\n"
     ]
    },
    {
     "name": "stderr",
     "output_type": "stream",
     "text": [
      "/Users/jaimeadybuncio/opt/anaconda3/lib/python3.7/site-packages/statsmodels/base/model.py:512: ConvergenceWarning: Maximum Likelihood optimization failed to converge. Check mle_retvals\n",
      "  \"Check mle_retvals\", ConvergenceWarning)\n",
      "/Users/jaimeadybuncio/opt/anaconda3/lib/python3.7/site-packages/statsmodels/base/model.py:1286: RuntimeWarning: invalid value encountered in sqrt\n",
      "  bse_ = np.sqrt(np.diag(self.cov_params()))\n",
      "/Users/jaimeadybuncio/opt/anaconda3/lib/python3.7/site-packages/scipy/stats/_distn_infrastructure.py:901: RuntimeWarning: invalid value encountered in greater\n",
      "  return (a < x) & (x < b)\n",
      "/Users/jaimeadybuncio/opt/anaconda3/lib/python3.7/site-packages/scipy/stats/_distn_infrastructure.py:901: RuntimeWarning: invalid value encountered in less\n",
      "  return (a < x) & (x < b)\n",
      "/Users/jaimeadybuncio/opt/anaconda3/lib/python3.7/site-packages/scipy/stats/_distn_infrastructure.py:1892: RuntimeWarning: invalid value encountered in less_equal\n",
      "  cond2 = cond0 & (x <= _a)\n"
     ]
    },
    {
     "data": {
      "text/html": [
       "<table class=\"simpletable\">\n",
       "<caption>Logit Regression Results</caption>\n",
       "<tr>\n",
       "  <th>Dep. Variable:</th>       <td>Fail_Flag</td>    <th>  No. Observations:  </th>  <td> 22436</td> \n",
       "</tr>\n",
       "<tr>\n",
       "  <th>Model:</th>                 <td>Logit</td>      <th>  Df Residuals:      </th>  <td> 22364</td> \n",
       "</tr>\n",
       "<tr>\n",
       "  <th>Method:</th>                 <td>MLE</td>       <th>  Df Model:          </th>  <td>    71</td> \n",
       "</tr>\n",
       "<tr>\n",
       "  <th>Date:</th>            <td>Fri, 15 May 2020</td> <th>  Pseudo R-squ.:     </th>  <td>0.1504</td> \n",
       "</tr>\n",
       "<tr>\n",
       "  <th>Time:</th>                <td>08:08:49</td>     <th>  Log-Likelihood:    </th> <td> -13205.</td>\n",
       "</tr>\n",
       "<tr>\n",
       "  <th>converged:</th>             <td>False</td>      <th>  LL-Null:           </th> <td> -15542.</td>\n",
       "</tr>\n",
       "<tr>\n",
       "  <th>Covariance Type:</th>     <td>nonrobust</td>    <th>  LLR p-value:       </th>  <td> 0.000</td> \n",
       "</tr>\n",
       "</table>\n",
       "<table class=\"simpletable\">\n",
       "<tr>\n",
       "                   <td></td>                     <th>coef</th>     <th>std err</th>      <th>z</th>      <th>P>|z|</th>  <th>[0.025</th>    <th>0.975]</th>  \n",
       "</tr>\n",
       "<tr>\n",
       "  <th>const</th>                              <td> 2.961e+04</td> <td> 4.52e+05</td> <td>    0.066</td> <td> 0.948</td> <td>-8.56e+05</td> <td> 9.15e+05</td>\n",
       "</tr>\n",
       "<tr>\n",
       "  <th>gender</th>                             <td>   -0.0156</td> <td>    0.038</td> <td>   -0.414</td> <td> 0.679</td> <td>   -0.090</td> <td>    0.058</td>\n",
       "</tr>\n",
       "<tr>\n",
       "  <th>highest_education</th>                  <td>   -0.4497</td> <td>    0.021</td> <td>  -21.360</td> <td> 0.000</td> <td>   -0.491</td> <td>   -0.408</td>\n",
       "</tr>\n",
       "<tr>\n",
       "  <th>imd_band</th>                           <td>   -0.0609</td> <td>    0.005</td> <td>  -11.081</td> <td> 0.000</td> <td>   -0.072</td> <td>   -0.050</td>\n",
       "</tr>\n",
       "<tr>\n",
       "  <th>age_band</th>                           <td>   -0.0197</td> <td>    0.032</td> <td>   -0.606</td> <td> 0.544</td> <td>   -0.083</td> <td>    0.044</td>\n",
       "</tr>\n",
       "<tr>\n",
       "  <th>num_of_prev_attempts</th>               <td>    0.3435</td> <td>    0.035</td> <td>    9.945</td> <td> 0.000</td> <td>    0.276</td> <td>    0.411</td>\n",
       "</tr>\n",
       "<tr>\n",
       "  <th>studied_credits</th>                    <td>    0.0038</td> <td>    0.000</td> <td>    8.841</td> <td> 0.000</td> <td>    0.003</td> <td>    0.005</td>\n",
       "</tr>\n",
       "<tr>\n",
       "  <th>disability</th>                         <td>    0.2752</td> <td>    0.052</td> <td>    5.338</td> <td> 0.000</td> <td>    0.174</td> <td>    0.376</td>\n",
       "</tr>\n",
       "<tr>\n",
       "  <th>date_registration</th>                  <td>-5.002e-05</td> <td>    0.000</td> <td>   -0.156</td> <td> 0.876</td> <td>   -0.001</td> <td>    0.001</td>\n",
       "</tr>\n",
       "<tr>\n",
       "  <th>num_assessments</th>                    <td>-3339.4043</td> <td> 9.98e+04</td> <td>   -0.033</td> <td> 0.973</td> <td>-1.99e+05</td> <td> 1.92e+05</td>\n",
       "</tr>\n",
       "<tr>\n",
       "  <th>num_tma_assessments</th>                <td>-1914.7920</td> <td> 1.74e+05</td> <td>   -0.011</td> <td> 0.991</td> <td>-3.42e+05</td> <td> 3.39e+05</td>\n",
       "</tr>\n",
       "<tr>\n",
       "  <th>num_cma_assessments</th>                <td> 2536.5040</td> <td> 5.09e+04</td> <td>    0.050</td> <td> 0.960</td> <td>-9.72e+04</td> <td> 1.02e+05</td>\n",
       "</tr>\n",
       "<tr>\n",
       "  <th>region_East Anglian Region</th>         <td>   -0.2158</td> <td>    0.052</td> <td>   -4.151</td> <td> 0.000</td> <td>   -0.318</td> <td>   -0.114</td>\n",
       "</tr>\n",
       "<tr>\n",
       "  <th>region_Ireland</th>                     <td>   -0.3024</td> <td>    0.079</td> <td>   -3.830</td> <td> 0.000</td> <td>   -0.457</td> <td>   -0.148</td>\n",
       "</tr>\n",
       "<tr>\n",
       "  <th>region_North Region</th>                <td>   -0.4339</td> <td>    0.068</td> <td>   -6.412</td> <td> 0.000</td> <td>   -0.567</td> <td>   -0.301</td>\n",
       "</tr>\n",
       "<tr>\n",
       "  <th>region_South East Region</th>           <td>   -0.2984</td> <td>    0.063</td> <td>   -4.727</td> <td> 0.000</td> <td>   -0.422</td> <td>   -0.175</td>\n",
       "</tr>\n",
       "<tr>\n",
       "  <th>region_South Region</th>                <td>   -0.2566</td> <td>    0.054</td> <td>   -4.782</td> <td> 0.000</td> <td>   -0.362</td> <td>   -0.151</td>\n",
       "</tr>\n",
       "<tr>\n",
       "  <th>region_South West Region</th>           <td>   -0.3096</td> <td>    0.058</td> <td>   -5.345</td> <td> 0.000</td> <td>   -0.423</td> <td>   -0.196</td>\n",
       "</tr>\n",
       "<tr>\n",
       "  <th>region_Yorkshire Region</th>            <td>   -0.1227</td> <td>    0.062</td> <td>   -1.963</td> <td> 0.050</td> <td>   -0.245</td> <td>   -0.000</td>\n",
       "</tr>\n",
       "<tr>\n",
       "  <th>module_presentation_BBB-2013B</th>      <td> 9268.7921</td> <td>      nan</td> <td>      nan</td> <td>   nan</td> <td>      nan</td> <td>      nan</td>\n",
       "</tr>\n",
       "<tr>\n",
       "  <th>module_presentation_BBB-2013J</th>      <td> 9268.5284</td> <td>      nan</td> <td>      nan</td> <td>   nan</td> <td>      nan</td> <td>      nan</td>\n",
       "</tr>\n",
       "<tr>\n",
       "  <th>module_presentation_BBB-2014B</th>      <td> 9268.4486</td> <td>      nan</td> <td>      nan</td> <td>   nan</td> <td>      nan</td> <td>      nan</td>\n",
       "</tr>\n",
       "<tr>\n",
       "  <th>module_presentation_BBB-2014J</th>      <td>   -0.1740</td> <td>    0.124</td> <td>   -1.406</td> <td> 0.160</td> <td>   -0.417</td> <td>    0.069</td>\n",
       "</tr>\n",
       "<tr>\n",
       "  <th>module_presentation_CCC-2014B</th>      <td> 1297.8161</td> <td>      nan</td> <td>      nan</td> <td>   nan</td> <td>      nan</td> <td>      nan</td>\n",
       "</tr>\n",
       "<tr>\n",
       "  <th>module_presentation_CCC-2014J</th>      <td> 1297.6323</td> <td>      nan</td> <td>      nan</td> <td>   nan</td> <td>      nan</td> <td>      nan</td>\n",
       "</tr>\n",
       "<tr>\n",
       "  <th>module_presentation_DDD-2013B</th>      <td> 1.088e+04</td> <td>      nan</td> <td>      nan</td> <td>   nan</td> <td>      nan</td> <td>      nan</td>\n",
       "</tr>\n",
       "<tr>\n",
       "  <th>module_presentation_DDD-2013J</th>      <td> 5254.9443</td> <td> 9.19e+04</td> <td>    0.057</td> <td> 0.954</td> <td>-1.75e+05</td> <td> 1.85e+05</td>\n",
       "</tr>\n",
       "<tr>\n",
       "  <th>module_presentation_DDD-2014B</th>      <td> 5254.9700</td> <td> 1.17e+05</td> <td>    0.045</td> <td> 0.964</td> <td>-2.25e+05</td> <td> 2.35e+05</td>\n",
       "</tr>\n",
       "<tr>\n",
       "  <th>module_presentation_DDD-2014J</th>      <td> 5254.9051</td> <td> 1.13e+05</td> <td>    0.046</td> <td> 0.963</td> <td>-2.17e+05</td> <td> 2.27e+05</td>\n",
       "</tr>\n",
       "<tr>\n",
       "  <th>module_presentation_EEE-2013J</th>      <td>-5254.1858</td> <td> 9.77e+04</td> <td>   -0.054</td> <td> 0.957</td> <td>-1.97e+05</td> <td> 1.86e+05</td>\n",
       "</tr>\n",
       "<tr>\n",
       "  <th>module_presentation_EEE-2014B</th>      <td>-5253.8394</td> <td> 1.14e+05</td> <td>   -0.046</td> <td> 0.963</td> <td>-2.29e+05</td> <td> 2.18e+05</td>\n",
       "</tr>\n",
       "<tr>\n",
       "  <th>module_presentation_EEE-2014J</th>      <td>-5254.1686</td> <td> 1.08e+05</td> <td>   -0.049</td> <td> 0.961</td> <td>-2.16e+05</td> <td> 2.06e+05</td>\n",
       "</tr>\n",
       "<tr>\n",
       "  <th>module_presentation_FFF-2013B</th>      <td> 5620.7703</td> <td>      nan</td> <td>      nan</td> <td>   nan</td> <td>      nan</td> <td>      nan</td>\n",
       "</tr>\n",
       "<tr>\n",
       "  <th>module_presentation_FFF-2013J</th>      <td> 5620.6862</td> <td>      nan</td> <td>      nan</td> <td>   nan</td> <td>      nan</td> <td>      nan</td>\n",
       "</tr>\n",
       "<tr>\n",
       "  <th>module_presentation_FFF-2014B</th>      <td> 5620.8114</td> <td>      nan</td> <td>      nan</td> <td>   nan</td> <td>      nan</td> <td>      nan</td>\n",
       "</tr>\n",
       "<tr>\n",
       "  <th>module_presentation_FFF-2014J</th>      <td> 5620.7532</td> <td>      nan</td> <td>      nan</td> <td>   nan</td> <td>      nan</td> <td>      nan</td>\n",
       "</tr>\n",
       "<tr>\n",
       "  <th>module_presentation_GGG-2013J</th>      <td>-5691.3689</td> <td>      nan</td> <td>      nan</td> <td>   nan</td> <td>      nan</td> <td>      nan</td>\n",
       "</tr>\n",
       "<tr>\n",
       "  <th>module_presentation_GGG-2014B</th>      <td>-5691.3467</td> <td>      nan</td> <td>      nan</td> <td>   nan</td> <td>      nan</td> <td>      nan</td>\n",
       "</tr>\n",
       "<tr>\n",
       "  <th>module_presentation_GGG-2014J</th>      <td>-5691.3070</td> <td>      nan</td> <td>      nan</td> <td>   nan</td> <td>      nan</td> <td>      nan</td>\n",
       "</tr>\n",
       "<tr>\n",
       "  <th>before_days_dataplus</th>               <td>-7444.6519</td> <td>      nan</td> <td>      nan</td> <td>   nan</td> <td>      nan</td> <td>      nan</td>\n",
       "</tr>\n",
       "<tr>\n",
       "  <th>before_days_dualpane</th>               <td>-7445.2599</td> <td>      nan</td> <td>      nan</td> <td>   nan</td> <td>      nan</td> <td>      nan</td>\n",
       "</tr>\n",
       "<tr>\n",
       "  <th>before_days_externalquiz</th>           <td>-7445.4525</td> <td>      nan</td> <td>      nan</td> <td>   nan</td> <td>      nan</td> <td>      nan</td>\n",
       "</tr>\n",
       "<tr>\n",
       "  <th>before_days_forumng</th>                <td>-7445.2835</td> <td>      nan</td> <td>      nan</td> <td>   nan</td> <td>      nan</td> <td>      nan</td>\n",
       "</tr>\n",
       "<tr>\n",
       "  <th>before_days_glossary</th>               <td>-7445.3688</td> <td>      nan</td> <td>      nan</td> <td>   nan</td> <td>      nan</td> <td>      nan</td>\n",
       "</tr>\n",
       "<tr>\n",
       "  <th>before_days_homepage</th>               <td>-7445.4086</td> <td>      nan</td> <td>      nan</td> <td>   nan</td> <td>      nan</td> <td>      nan</td>\n",
       "</tr>\n",
       "<tr>\n",
       "  <th>before_days_htmlactivity</th>           <td>-7445.2944</td> <td>      nan</td> <td>      nan</td> <td>   nan</td> <td>      nan</td> <td>      nan</td>\n",
       "</tr>\n",
       "<tr>\n",
       "  <th>before_days_oucollaborate</th>          <td>-7445.3080</td> <td>      nan</td> <td>      nan</td> <td>   nan</td> <td>      nan</td> <td>      nan</td>\n",
       "</tr>\n",
       "<tr>\n",
       "  <th>before_days_oucontent</th>              <td>-7445.3061</td> <td>      nan</td> <td>      nan</td> <td>   nan</td> <td>      nan</td> <td>      nan</td>\n",
       "</tr>\n",
       "<tr>\n",
       "  <th>before_days_ouelluminate</th>           <td>-7445.1947</td> <td>      nan</td> <td>      nan</td> <td>   nan</td> <td>      nan</td> <td>      nan</td>\n",
       "</tr>\n",
       "<tr>\n",
       "  <th>before_days_ouwiki</th>                 <td>-7445.3630</td> <td>      nan</td> <td>      nan</td> <td>   nan</td> <td>      nan</td> <td>      nan</td>\n",
       "</tr>\n",
       "<tr>\n",
       "  <th>before_days_page</th>                   <td>-7445.1980</td> <td>      nan</td> <td>      nan</td> <td>   nan</td> <td>      nan</td> <td>      nan</td>\n",
       "</tr>\n",
       "<tr>\n",
       "  <th>before_days_questionnaire</th>          <td>-7444.5303</td> <td>      nan</td> <td>      nan</td> <td>   nan</td> <td>      nan</td> <td>      nan</td>\n",
       "</tr>\n",
       "<tr>\n",
       "  <th>before_days_quiz</th>                   <td>-7445.3181</td> <td>      nan</td> <td>      nan</td> <td>   nan</td> <td>      nan</td> <td>      nan</td>\n",
       "</tr>\n",
       "<tr>\n",
       "  <th>before_days_resource</th>               <td>-7445.2858</td> <td>      nan</td> <td>      nan</td> <td>   nan</td> <td>      nan</td> <td>      nan</td>\n",
       "</tr>\n",
       "<tr>\n",
       "  <th>before_days_sharedsubpage</th>          <td>-7425.4033</td> <td>      nan</td> <td>      nan</td> <td>   nan</td> <td>      nan</td> <td>      nan</td>\n",
       "</tr>\n",
       "<tr>\n",
       "  <th>before_days_subpage</th>                <td>-7445.3108</td> <td>      nan</td> <td>      nan</td> <td>   nan</td> <td>      nan</td> <td>      nan</td>\n",
       "</tr>\n",
       "<tr>\n",
       "  <th>before_days_url</th>                    <td>-7445.3820</td> <td>      nan</td> <td>      nan</td> <td>   nan</td> <td>      nan</td> <td>      nan</td>\n",
       "</tr>\n",
       "<tr>\n",
       "  <th>before_days_total_num_vle_days</th>     <td> 7445.2776</td> <td>      nan</td> <td>      nan</td> <td>   nan</td> <td>      nan</td> <td>      nan</td>\n",
       "</tr>\n",
       "<tr>\n",
       "  <th>before_click_dataplus</th>              <td>    0.2255</td> <td>  1.7e+04</td> <td> 1.32e-05</td> <td> 1.000</td> <td>-3.34e+04</td> <td> 3.34e+04</td>\n",
       "</tr>\n",
       "<tr>\n",
       "  <th>before_click_dualpane</th>              <td>    0.0389</td> <td>  1.7e+04</td> <td> 2.28e-06</td> <td> 1.000</td> <td>-3.34e+04</td> <td> 3.34e+04</td>\n",
       "</tr>\n",
       "<tr>\n",
       "  <th>before_click_externalquiz</th>          <td>    0.1950</td> <td>  1.7e+04</td> <td> 1.14e-05</td> <td> 1.000</td> <td>-3.34e+04</td> <td> 3.34e+04</td>\n",
       "</tr>\n",
       "<tr>\n",
       "  <th>before_click_forumng</th>               <td>    0.1230</td> <td>  1.7e+04</td> <td> 7.22e-06</td> <td> 1.000</td> <td>-3.34e+04</td> <td> 3.34e+04</td>\n",
       "</tr>\n",
       "<tr>\n",
       "  <th>before_click_glossary</th>              <td>    0.1364</td> <td>  1.7e+04</td> <td> 8.01e-06</td> <td> 1.000</td> <td>-3.34e+04</td> <td> 3.34e+04</td>\n",
       "</tr>\n",
       "<tr>\n",
       "  <th>before_click_homepage</th>              <td>   16.8140</td> <td>  1.7e+04</td> <td>    0.001</td> <td> 0.999</td> <td>-3.34e+04</td> <td> 3.34e+04</td>\n",
       "</tr>\n",
       "<tr>\n",
       "  <th>before_click_htmlactivity</th>          <td>    0.1330</td> <td>  1.7e+04</td> <td> 7.81e-06</td> <td> 1.000</td> <td>-3.34e+04</td> <td> 3.34e+04</td>\n",
       "</tr>\n",
       "<tr>\n",
       "  <th>before_click_oucollaborate</th>         <td>    0.2199</td> <td>  1.7e+04</td> <td> 1.29e-05</td> <td> 1.000</td> <td>-3.34e+04</td> <td> 3.34e+04</td>\n",
       "</tr>\n",
       "<tr>\n",
       "  <th>before_click_oucontent</th>             <td>    0.1242</td> <td>  1.7e+04</td> <td> 7.29e-06</td> <td> 1.000</td> <td>-3.34e+04</td> <td> 3.34e+04</td>\n",
       "</tr>\n",
       "<tr>\n",
       "  <th>before_click_ouelluminate</th>          <td>    0.1870</td> <td>  1.7e+04</td> <td>  1.1e-05</td> <td> 1.000</td> <td>-3.34e+04</td> <td> 3.34e+04</td>\n",
       "</tr>\n",
       "<tr>\n",
       "  <th>before_click_ouwiki</th>                <td>    0.1136</td> <td>  1.7e+04</td> <td> 6.67e-06</td> <td> 1.000</td> <td>-3.34e+04</td> <td> 3.34e+04</td>\n",
       "</tr>\n",
       "<tr>\n",
       "  <th>before_click_page</th>                  <td>    0.1365</td> <td>  1.7e+04</td> <td> 8.01e-06</td> <td> 1.000</td> <td>-3.34e+04</td> <td> 3.34e+04</td>\n",
       "</tr>\n",
       "<tr>\n",
       "  <th>before_click_questionnaire</th>         <td>   -0.0602</td> <td>  1.7e+04</td> <td>-3.53e-06</td> <td> 1.000</td> <td>-3.34e+04</td> <td> 3.34e+04</td>\n",
       "</tr>\n",
       "<tr>\n",
       "  <th>before_click_quiz</th>                  <td>    0.1224</td> <td>  1.7e+04</td> <td> 7.18e-06</td> <td> 1.000</td> <td>-3.34e+04</td> <td> 3.34e+04</td>\n",
       "</tr>\n",
       "<tr>\n",
       "  <th>before_click_resource</th>              <td>    0.1193</td> <td>  1.7e+04</td> <td> 7.01e-06</td> <td> 1.000</td> <td>-3.34e+04</td> <td> 3.34e+04</td>\n",
       "</tr>\n",
       "<tr>\n",
       "  <th>before_click_sharedsubpage</th>         <td>  -19.1860</td> <td> 2.23e+04</td> <td>   -0.001</td> <td> 0.999</td> <td>-4.37e+04</td> <td> 4.37e+04</td>\n",
       "</tr>\n",
       "<tr>\n",
       "  <th>before_click_subpage</th>               <td>    0.1631</td> <td>  1.7e+04</td> <td> 9.58e-06</td> <td> 1.000</td> <td>-3.34e+04</td> <td> 3.34e+04</td>\n",
       "</tr>\n",
       "<tr>\n",
       "  <th>before_click_url</th>                   <td>    0.2046</td> <td>  1.7e+04</td> <td>  1.2e-05</td> <td> 1.000</td> <td>-3.34e+04</td> <td> 3.34e+04</td>\n",
       "</tr>\n",
       "<tr>\n",
       "  <th>before_click_total_num_vle_actions</th> <td>   -0.1194</td> <td>  1.7e+04</td> <td>-7.01e-06</td> <td> 1.000</td> <td>-3.34e+04</td> <td> 3.34e+04</td>\n",
       "</tr>\n",
       "</table>"
      ],
      "text/plain": [
       "<class 'statsmodels.iolib.summary.Summary'>\n",
       "\"\"\"\n",
       "                           Logit Regression Results                           \n",
       "==============================================================================\n",
       "Dep. Variable:              Fail_Flag   No. Observations:                22436\n",
       "Model:                          Logit   Df Residuals:                    22364\n",
       "Method:                           MLE   Df Model:                           71\n",
       "Date:                Fri, 15 May 2020   Pseudo R-squ.:                  0.1504\n",
       "Time:                        08:08:49   Log-Likelihood:                -13205.\n",
       "converged:                      False   LL-Null:                       -15542.\n",
       "Covariance Type:            nonrobust   LLR p-value:                     0.000\n",
       "======================================================================================================\n",
       "                                         coef    std err          z      P>|z|      [0.025      0.975]\n",
       "------------------------------------------------------------------------------------------------------\n",
       "const                               2.961e+04   4.52e+05      0.066      0.948   -8.56e+05    9.15e+05\n",
       "gender                                -0.0156      0.038     -0.414      0.679      -0.090       0.058\n",
       "highest_education                     -0.4497      0.021    -21.360      0.000      -0.491      -0.408\n",
       "imd_band                              -0.0609      0.005    -11.081      0.000      -0.072      -0.050\n",
       "age_band                              -0.0197      0.032     -0.606      0.544      -0.083       0.044\n",
       "num_of_prev_attempts                   0.3435      0.035      9.945      0.000       0.276       0.411\n",
       "studied_credits                        0.0038      0.000      8.841      0.000       0.003       0.005\n",
       "disability                             0.2752      0.052      5.338      0.000       0.174       0.376\n",
       "date_registration                  -5.002e-05      0.000     -0.156      0.876      -0.001       0.001\n",
       "num_assessments                    -3339.4043   9.98e+04     -0.033      0.973   -1.99e+05    1.92e+05\n",
       "num_tma_assessments                -1914.7920   1.74e+05     -0.011      0.991   -3.42e+05    3.39e+05\n",
       "num_cma_assessments                 2536.5040   5.09e+04      0.050      0.960   -9.72e+04    1.02e+05\n",
       "region_East Anglian Region            -0.2158      0.052     -4.151      0.000      -0.318      -0.114\n",
       "region_Ireland                        -0.3024      0.079     -3.830      0.000      -0.457      -0.148\n",
       "region_North Region                   -0.4339      0.068     -6.412      0.000      -0.567      -0.301\n",
       "region_South East Region              -0.2984      0.063     -4.727      0.000      -0.422      -0.175\n",
       "region_South Region                   -0.2566      0.054     -4.782      0.000      -0.362      -0.151\n",
       "region_South West Region              -0.3096      0.058     -5.345      0.000      -0.423      -0.196\n",
       "region_Yorkshire Region               -0.1227      0.062     -1.963      0.050      -0.245      -0.000\n",
       "module_presentation_BBB-2013B       9268.7921        nan        nan        nan         nan         nan\n",
       "module_presentation_BBB-2013J       9268.5284        nan        nan        nan         nan         nan\n",
       "module_presentation_BBB-2014B       9268.4486        nan        nan        nan         nan         nan\n",
       "module_presentation_BBB-2014J         -0.1740      0.124     -1.406      0.160      -0.417       0.069\n",
       "module_presentation_CCC-2014B       1297.8161        nan        nan        nan         nan         nan\n",
       "module_presentation_CCC-2014J       1297.6323        nan        nan        nan         nan         nan\n",
       "module_presentation_DDD-2013B       1.088e+04        nan        nan        nan         nan         nan\n",
       "module_presentation_DDD-2013J       5254.9443   9.19e+04      0.057      0.954   -1.75e+05    1.85e+05\n",
       "module_presentation_DDD-2014B       5254.9700   1.17e+05      0.045      0.964   -2.25e+05    2.35e+05\n",
       "module_presentation_DDD-2014J       5254.9051   1.13e+05      0.046      0.963   -2.17e+05    2.27e+05\n",
       "module_presentation_EEE-2013J      -5254.1858   9.77e+04     -0.054      0.957   -1.97e+05    1.86e+05\n",
       "module_presentation_EEE-2014B      -5253.8394   1.14e+05     -0.046      0.963   -2.29e+05    2.18e+05\n",
       "module_presentation_EEE-2014J      -5254.1686   1.08e+05     -0.049      0.961   -2.16e+05    2.06e+05\n",
       "module_presentation_FFF-2013B       5620.7703        nan        nan        nan         nan         nan\n",
       "module_presentation_FFF-2013J       5620.6862        nan        nan        nan         nan         nan\n",
       "module_presentation_FFF-2014B       5620.8114        nan        nan        nan         nan         nan\n",
       "module_presentation_FFF-2014J       5620.7532        nan        nan        nan         nan         nan\n",
       "module_presentation_GGG-2013J      -5691.3689        nan        nan        nan         nan         nan\n",
       "module_presentation_GGG-2014B      -5691.3467        nan        nan        nan         nan         nan\n",
       "module_presentation_GGG-2014J      -5691.3070        nan        nan        nan         nan         nan\n",
       "before_days_dataplus               -7444.6519        nan        nan        nan         nan         nan\n",
       "before_days_dualpane               -7445.2599        nan        nan        nan         nan         nan\n",
       "before_days_externalquiz           -7445.4525        nan        nan        nan         nan         nan\n",
       "before_days_forumng                -7445.2835        nan        nan        nan         nan         nan\n",
       "before_days_glossary               -7445.3688        nan        nan        nan         nan         nan\n",
       "before_days_homepage               -7445.4086        nan        nan        nan         nan         nan\n",
       "before_days_htmlactivity           -7445.2944        nan        nan        nan         nan         nan\n",
       "before_days_oucollaborate          -7445.3080        nan        nan        nan         nan         nan\n",
       "before_days_oucontent              -7445.3061        nan        nan        nan         nan         nan\n",
       "before_days_ouelluminate           -7445.1947        nan        nan        nan         nan         nan\n",
       "before_days_ouwiki                 -7445.3630        nan        nan        nan         nan         nan\n",
       "before_days_page                   -7445.1980        nan        nan        nan         nan         nan\n",
       "before_days_questionnaire          -7444.5303        nan        nan        nan         nan         nan\n",
       "before_days_quiz                   -7445.3181        nan        nan        nan         nan         nan\n",
       "before_days_resource               -7445.2858        nan        nan        nan         nan         nan\n",
       "before_days_sharedsubpage          -7425.4033        nan        nan        nan         nan         nan\n",
       "before_days_subpage                -7445.3108        nan        nan        nan         nan         nan\n",
       "before_days_url                    -7445.3820        nan        nan        nan         nan         nan\n",
       "before_days_total_num_vle_days      7445.2776        nan        nan        nan         nan         nan\n",
       "before_click_dataplus                  0.2255    1.7e+04   1.32e-05      1.000   -3.34e+04    3.34e+04\n",
       "before_click_dualpane                  0.0389    1.7e+04   2.28e-06      1.000   -3.34e+04    3.34e+04\n",
       "before_click_externalquiz              0.1950    1.7e+04   1.14e-05      1.000   -3.34e+04    3.34e+04\n",
       "before_click_forumng                   0.1230    1.7e+04   7.22e-06      1.000   -3.34e+04    3.34e+04\n",
       "before_click_glossary                  0.1364    1.7e+04   8.01e-06      1.000   -3.34e+04    3.34e+04\n",
       "before_click_homepage                 16.8140    1.7e+04      0.001      0.999   -3.34e+04    3.34e+04\n",
       "before_click_htmlactivity              0.1330    1.7e+04   7.81e-06      1.000   -3.34e+04    3.34e+04\n",
       "before_click_oucollaborate             0.2199    1.7e+04   1.29e-05      1.000   -3.34e+04    3.34e+04\n",
       "before_click_oucontent                 0.1242    1.7e+04   7.29e-06      1.000   -3.34e+04    3.34e+04\n",
       "before_click_ouelluminate              0.1870    1.7e+04    1.1e-05      1.000   -3.34e+04    3.34e+04\n",
       "before_click_ouwiki                    0.1136    1.7e+04   6.67e-06      1.000   -3.34e+04    3.34e+04\n",
       "before_click_page                      0.1365    1.7e+04   8.01e-06      1.000   -3.34e+04    3.34e+04\n",
       "before_click_questionnaire            -0.0602    1.7e+04  -3.53e-06      1.000   -3.34e+04    3.34e+04\n",
       "before_click_quiz                      0.1224    1.7e+04   7.18e-06      1.000   -3.34e+04    3.34e+04\n",
       "before_click_resource                  0.1193    1.7e+04   7.01e-06      1.000   -3.34e+04    3.34e+04\n",
       "before_click_sharedsubpage           -19.1860   2.23e+04     -0.001      0.999   -4.37e+04    4.37e+04\n",
       "before_click_subpage                   0.1631    1.7e+04   9.58e-06      1.000   -3.34e+04    3.34e+04\n",
       "before_click_url                       0.2046    1.7e+04    1.2e-05      1.000   -3.34e+04    3.34e+04\n",
       "before_click_total_num_vle_actions    -0.1194    1.7e+04  -7.01e-06      1.000   -3.34e+04    3.34e+04\n",
       "======================================================================================================\n",
       "\"\"\""
      ]
     },
     "execution_count": 43,
     "metadata": {},
     "output_type": "execute_result"
    }
   ],
   "source": [
    "logit_cols_10 = \"\"\"gender\n",
    "highest_education\n",
    "imd_band\n",
    "age_band\n",
    "num_of_prev_attempts\n",
    "studied_credits\n",
    "disability\n",
    "date_registration\n",
    "num_assessments\n",
    "num_tma_assessments\n",
    "num_cma_assessments\n",
    "region_East Anglian Region\n",
    "region_Ireland\n",
    "region_North Region\n",
    "region_South East Region\n",
    "region_South Region\n",
    "region_South West Region\n",
    "region_Yorkshire Region\n",
    "module_presentation_BBB-2013B\n",
    "module_presentation_BBB-2013J\n",
    "module_presentation_BBB-2014B\n",
    "module_presentation_BBB-2014J\n",
    "module_presentation_CCC-2014B\n",
    "module_presentation_CCC-2014J\n",
    "module_presentation_DDD-2013B\n",
    "module_presentation_DDD-2013J\n",
    "module_presentation_DDD-2014B\n",
    "module_presentation_DDD-2014J\n",
    "module_presentation_EEE-2013J\n",
    "module_presentation_EEE-2014B\n",
    "module_presentation_EEE-2014J\n",
    "module_presentation_FFF-2013B\n",
    "module_presentation_FFF-2013J\n",
    "module_presentation_FFF-2014B\n",
    "module_presentation_FFF-2014J\n",
    "module_presentation_GGG-2013J\n",
    "module_presentation_GGG-2014B\n",
    "module_presentation_GGG-2014J\n",
    "before_days_dataplus\n",
    "before_days_dualpane\n",
    "before_days_externalquiz\n",
    "before_days_forumng\n",
    "before_days_glossary\n",
    "before_days_homepage\n",
    "before_days_htmlactivity\n",
    "before_days_oucollaborate\n",
    "before_days_oucontent\n",
    "before_days_ouelluminate\n",
    "before_days_ouwiki\n",
    "before_days_page\n",
    "before_days_questionnaire\n",
    "before_days_quiz\n",
    "before_days_resource\n",
    "before_days_sharedsubpage\n",
    "before_days_subpage\n",
    "before_days_url\n",
    "before_days_total_num_vle_days\n",
    "before_click_dataplus\n",
    "before_click_dualpane\n",
    "before_click_externalquiz\n",
    "before_click_forumng\n",
    "before_click_glossary\n",
    "before_click_homepage\n",
    "before_click_htmlactivity\n",
    "before_click_oucollaborate\n",
    "before_click_oucontent\n",
    "before_click_ouelluminate\n",
    "before_click_ouwiki\n",
    "before_click_page\n",
    "before_click_questionnaire\n",
    "before_click_quiz\n",
    "before_click_resource\n",
    "before_click_sharedsubpage\n",
    "before_click_subpage\n",
    "before_click_url\n",
    "before_click_total_num_vle_actions\"\"\"\n",
    "logit_cols_10 = logit_cols_10.split('\\n')\n",
    "\n",
    "X_l = X_train_l[logit_cols_10].values\n",
    "X_const_l = add_constant(X_l, prepend=True)\n",
    "y_l = y_train_l.values\n",
    "\n",
    "logit_model = Logit(y_l, X_const_l).fit()\n",
    "logit_model.summary(yname = 'Fail_Flag', xname =  ['const'] + list(X_train_l[logit_cols_10].columns) \\\n",
    "                   )\n"
   ]
  },
  {
   "cell_type": "code",
   "execution_count": 44,
   "metadata": {},
   "outputs": [
    {
     "data": {
      "text/plain": [
       "0.7491769642568835"
      ]
     },
     "execution_count": 44,
     "metadata": {},
     "output_type": "execute_result"
    }
   ],
   "source": [
    "roc_auc_score(y_train_l, logit_model.predict(X_const_l))"
   ]
  },
  {
   "cell_type": "code",
   "execution_count": 45,
   "metadata": {},
   "outputs": [
    {
     "name": "stderr",
     "output_type": "stream",
     "text": [
      "/Users/jaimeadybuncio/opt/anaconda3/lib/python3.7/site-packages/sklearn/linear_model/logistic.py:432: FutureWarning: Default solver will be changed to 'lbfgs' in 0.22. Specify a solver to silence this warning.\n",
      "  FutureWarning)\n",
      "/Users/jaimeadybuncio/opt/anaconda3/lib/python3.7/site-packages/sklearn/linear_model/logistic.py:432: FutureWarning: Default solver will be changed to 'lbfgs' in 0.22. Specify a solver to silence this warning.\n",
      "  FutureWarning)\n",
      "/Users/jaimeadybuncio/opt/anaconda3/lib/python3.7/site-packages/sklearn/linear_model/logistic.py:432: FutureWarning: Default solver will be changed to 'lbfgs' in 0.22. Specify a solver to silence this warning.\n",
      "  FutureWarning)\n",
      "/Users/jaimeadybuncio/opt/anaconda3/lib/python3.7/site-packages/sklearn/linear_model/logistic.py:432: FutureWarning: Default solver will be changed to 'lbfgs' in 0.22. Specify a solver to silence this warning.\n",
      "  FutureWarning)\n",
      "/Users/jaimeadybuncio/opt/anaconda3/lib/python3.7/site-packages/sklearn/linear_model/logistic.py:432: FutureWarning: Default solver will be changed to 'lbfgs' in 0.22. Specify a solver to silence this warning.\n",
      "  FutureWarning)\n"
     ]
    },
    {
     "name": "stdout",
     "output_type": "stream",
     "text": [
      "\n",
      "Model Report\n",
      "Recall (Train) : 0.5721\n",
      "AUC Score (Train): 0.658332\n",
      "CV Score : Mean - 0.6548456 | Std - 0.004857176 | Min - 0.6510554 | Max - 0.6643995\n"
     ]
    },
    {
     "name": "stderr",
     "output_type": "stream",
     "text": [
      "/Users/jaimeadybuncio/opt/anaconda3/lib/python3.7/site-packages/sklearn/linear_model/logistic.py:432: FutureWarning: Default solver will be changed to 'lbfgs' in 0.22. Specify a solver to silence this warning.\n",
      "  FutureWarning)\n"
     ]
    }
   ],
   "source": [
    "# Running Logistic without VLE data nor click data\n",
    "modelfit(model_l, X_train_l[logit_cols_5],y_train_l, performCV=True, printFeatureImportance=False, cv_folds=5);"
   ]
  },
  {
   "cell_type": "code",
   "execution_count": null,
   "metadata": {},
   "outputs": [],
   "source": []
  },
  {
   "cell_type": "markdown",
   "metadata": {},
   "source": [
    "## Random Forest"
   ]
  },
  {
   "cell_type": "code",
   "execution_count": 47,
   "metadata": {},
   "outputs": [],
   "source": [
    "model_rf = RandomForestClassifier(criterion = 'gini', n_estimators = 200, max_features = 0.25, \n",
    "                                    oob_score = True, bootstrap = True,min_samples_leaf= 4,\n",
    "                                    min_samples_split= 2, random_state = 42, n_jobs = -1)"
   ]
  },
  {
   "cell_type": "code",
   "execution_count": 48,
   "metadata": {},
   "outputs": [
    {
     "name": "stdout",
     "output_type": "stream",
     "text": [
      "\n",
      "Model Report\n",
      "Recall (Train) : 0.9016\n",
      "AUC Score (Train): 0.970964\n",
      "CV Score : Mean - 0.7656222 | Std - 0.003067165 | Min - 0.7601002 | Max - 0.7695035\n"
     ]
    }
   ],
   "source": [
    "modelfit(model_rf, X_train,y_train, performCV=True, printFeatureImportance=False, cv_folds=5);"
   ]
  },
  {
   "cell_type": "code",
   "execution_count": 49,
   "metadata": {},
   "outputs": [
    {
     "name": "stdout",
     "output_type": "stream",
     "text": [
      "\n",
      "Model Report\n",
      "Recall (Train) : 0.7496\n",
      "AUC Score (Train): 0.876908\n",
      "CV Score : Mean - 0.6521819 | Std - 0.005114573 | Min - 0.6476481 | Max - 0.6607529\n"
     ]
    }
   ],
   "source": [
    "modelfit(model_rf, X_train[logit_cols_5],y_train, performCV=True, printFeatureImportance=False, cv_folds=5);"
   ]
  },
  {
   "cell_type": "code",
   "execution_count": null,
   "metadata": {},
   "outputs": [],
   "source": []
  },
  {
   "cell_type": "code",
   "execution_count": 50,
   "metadata": {},
   "outputs": [],
   "source": [
    "model_rf_2 = RandomForestClassifier(criterion = 'gini', n_estimators = 200, max_features = 0.25, \n",
    "                                    oob_score = True, bootstrap = True,min_samples_leaf= 50,\n",
    "                                    min_samples_split= 220, random_state = 42, n_jobs = -1)"
   ]
  },
  {
   "cell_type": "code",
   "execution_count": 51,
   "metadata": {},
   "outputs": [
    {
     "name": "stdout",
     "output_type": "stream",
     "text": [
      "\n",
      "Model Report\n",
      "Recall (Train) : 0.6528\n",
      "AUC Score (Train): 0.785633\n",
      "CV Score : Mean - 0.7585926 | Std - 0.003659808 | Min - 0.7529921 | Max - 0.7623641\n"
     ]
    }
   ],
   "source": [
    "modelfit(model_rf_2, X_train,y_train, performCV=True, printFeatureImportance=False, cv_folds=5);"
   ]
  },
  {
   "cell_type": "code",
   "execution_count": null,
   "metadata": {},
   "outputs": [],
   "source": []
  },
  {
   "cell_type": "code",
   "execution_count": 52,
   "metadata": {},
   "outputs": [],
   "source": [
    "model_rf_3 = RandomForestClassifier(criterion = 'gini', n_estimators = 500, max_features = 0.25, \n",
    "                                    oob_score = True, bootstrap = True,min_samples_leaf= 4,\n",
    "                                    min_samples_split= 2, random_state = 42, n_jobs = -1)"
   ]
  },
  {
   "cell_type": "code",
   "execution_count": 53,
   "metadata": {},
   "outputs": [
    {
     "name": "stdout",
     "output_type": "stream",
     "text": [
      "\n",
      "Model Report\n",
      "Recall (Train) : 0.9046\n",
      "AUC Score (Train): 0.971575\n",
      "CV Score : Mean - 0.766645 | Std - 0.003248356 | Min - 0.7609081 | Max - 0.7709334\n"
     ]
    }
   ],
   "source": [
    "modelfit(model_rf_3, X_train,y_train, performCV=True, printFeatureImportance=False, cv_folds=5);"
   ]
  },
  {
   "cell_type": "markdown",
   "metadata": {},
   "source": [
    "### Grid Search 1"
   ]
  },
  {
   "cell_type": "code",
   "execution_count": null,
   "metadata": {},
   "outputs": [],
   "source": [
    "np.sqrt(len(X_train.columns))"
   ]
  },
  {
   "cell_type": "code",
   "execution_count": null,
   "metadata": {},
   "outputs": [],
   "source": [
    "rf_model_params = {\n",
    "    'n_estimators': [100,200,500], # how many estimators is helpful?\n",
    "    'max_features': ['sqrt', 0.25,.50,None], # how many features? \n",
    "#     'min_samples_split': [5, 10, 50],        \n",
    "#     'min_samples_leaf': [5, 10, 50],\n",
    "#    'max_depth': [3, None],\n",
    "    'bootstrap': [True],    \n",
    "    'random_state': [42]}"
   ]
  },
  {
   "cell_type": "code",
   "execution_count": null,
   "metadata": {},
   "outputs": [],
   "source": [
    "rf_model = RandomForestClassifier()\n"
   ]
  },
  {
   "cell_type": "code",
   "execution_count": null,
   "metadata": {},
   "outputs": [],
   "source": [
    "clf = GridSearchCV(rf_model, rf_model_params, cv=3,n_jobs = -1 , verbose = True)\n"
   ]
  },
  {
   "cell_type": "code",
   "execution_count": null,
   "metadata": {},
   "outputs": [],
   "source": [
    "model = clf.fit(X_train, y_train)"
   ]
  },
  {
   "cell_type": "code",
   "execution_count": null,
   "metadata": {},
   "outputs": [],
   "source": [
    "pprint(model.best_estimator_.get_params())"
   ]
  },
  {
   "cell_type": "code",
   "execution_count": null,
   "metadata": {},
   "outputs": [],
   "source": []
  },
  {
   "cell_type": "code",
   "execution_count": 54,
   "metadata": {},
   "outputs": [],
   "source": [
    "model_rf_4 = RandomForestClassifier(criterion = 'gini', n_estimators = 500, max_features = 0.5, \n",
    "                                    oob_score = True, bootstrap = True,min_samples_leaf= 1,\n",
    "                                    min_samples_split= 2, random_state = 42, n_jobs = -1)"
   ]
  },
  {
   "cell_type": "code",
   "execution_count": 55,
   "metadata": {},
   "outputs": [
    {
     "name": "stdout",
     "output_type": "stream",
     "text": [
      "\n",
      "Model Report\n",
      "Recall (Train) : 0.9994\n",
      "AUC Score (Train): 1.000000\n",
      "CV Score : Mean - 0.7556419 | Std - 0.002666478 | Min - 0.7512996 | Max - 0.7596329\n"
     ]
    }
   ],
   "source": [
    "modelfit(model_rf_4, X_train,y_train, performCV=True, printFeatureImportance=False, cv_folds=5);"
   ]
  },
  {
   "cell_type": "markdown",
   "metadata": {},
   "source": [
    "### Grid Search 2"
   ]
  },
  {
   "cell_type": "code",
   "execution_count": null,
   "metadata": {},
   "outputs": [],
   "source": [
    "rf_model_params = {\n",
    "    'n_estimators': [500,600, 700], # how many estimators is helpful?\n",
    "    'max_features': [0.25,.50], # how many features? \n",
    "    'min_samples_split': [5, 10, 50],        \n",
    "    'min_samples_leaf': [5, 10, 50],\n",
    "   'max_depth': [3, None],\n",
    "    'bootstrap': [True],    \n",
    "    'random_state': [42]}"
   ]
  },
  {
   "cell_type": "code",
   "execution_count": null,
   "metadata": {},
   "outputs": [],
   "source": [
    "clf = GridSearchCV(rf_model, rf_model_params, cv=3,n_jobs = -1 , verbose = True)\n"
   ]
  },
  {
   "cell_type": "code",
   "execution_count": null,
   "metadata": {},
   "outputs": [],
   "source": [
    "model = clf.fit(X_train, y_train)"
   ]
  },
  {
   "cell_type": "code",
   "execution_count": null,
   "metadata": {},
   "outputs": [],
   "source": [
    "pprint(model.best_estimator_.get_params())"
   ]
  },
  {
   "cell_type": "code",
   "execution_count": 56,
   "metadata": {},
   "outputs": [],
   "source": [
    "model_rf_5 = RandomForestClassifier(criterion = 'gini', n_estimators = 500, max_features = 0.25, \n",
    "                                    bootstrap = True,min_samples_leaf= 5,\n",
    "                                    min_samples_split= 50, random_state = 42, n_jobs = -1)"
   ]
  },
  {
   "cell_type": "code",
   "execution_count": 57,
   "metadata": {},
   "outputs": [
    {
     "name": "stdout",
     "output_type": "stream",
     "text": [
      "\n",
      "Model Report\n",
      "Recall (Train) : 0.7481\n",
      "AUC Score (Train): 0.876831\n",
      "CV Score : Mean - 0.7687839 | Std - 0.003981757 | Min - 0.7622472 | Max - 0.7731377\n"
     ]
    }
   ],
   "source": [
    "modelfit(model_rf_5, X_train,y_train, performCV=True, printFeatureImportance=False, cv_folds=5);"
   ]
  },
  {
   "cell_type": "code",
   "execution_count": null,
   "metadata": {},
   "outputs": [],
   "source": []
  },
  {
   "cell_type": "code",
   "execution_count": 60,
   "metadata": {},
   "outputs": [],
   "source": [
    "model_rf_6 = RandomForestClassifier(criterion = 'gini', n_estimators = 1000, max_features = 0.25, \n",
    "                                    bootstrap = True,min_samples_leaf= 10,\n",
    "                                    min_samples_split= 50, random_state = 42, n_jobs = -1)"
   ]
  },
  {
   "cell_type": "code",
   "execution_count": 61,
   "metadata": {},
   "outputs": [
    {
     "name": "stdout",
     "output_type": "stream",
     "text": [
      "\n",
      "Model Report\n",
      "Recall (Train) : 0.7297\n",
      "AUC Score (Train): 0.860009\n",
      "CV Score : Mean - 0.7681987 | Std - 0.003857275 | Min - 0.7619155 | Max - 0.7724481\n"
     ]
    }
   ],
   "source": [
    "modelfit(model_rf_6, X_train,y_train, performCV=True, printFeatureImportance=False, cv_folds=5);"
   ]
  },
  {
   "cell_type": "code",
   "execution_count": null,
   "metadata": {},
   "outputs": [],
   "source": []
  },
  {
   "cell_type": "markdown",
   "metadata": {},
   "source": [
    "## Gradient Boost"
   ]
  },
  {
   "cell_type": "code",
   "execution_count": 62,
   "metadata": {},
   "outputs": [],
   "source": [
    "model_gb = GradientBoostingClassifier(n_estimators = 200, learning_rate = 0.1, random_state = 42)"
   ]
  },
  {
   "cell_type": "code",
   "execution_count": 63,
   "metadata": {},
   "outputs": [
    {
     "name": "stdout",
     "output_type": "stream",
     "text": [
      "\n",
      "Model Report\n",
      "Recall (Train) : 0.6898\n",
      "AUC Score (Train): 0.805262\n",
      "CV Score : Mean - 0.7752534 | Std - 0.002236932 | Min - 0.7717958 | Max - 0.7780934\n"
     ]
    }
   ],
   "source": [
    "modelfit(model_gb, X_train,y_train, performCV=True, printFeatureImportance=False, cv_folds=5);"
   ]
  },
  {
   "cell_type": "code",
   "execution_count": null,
   "metadata": {},
   "outputs": [],
   "source": []
  },
  {
   "cell_type": "code",
   "execution_count": 64,
   "metadata": {},
   "outputs": [],
   "source": [
    "model_gb_2 = GradientBoostingClassifier(n_estimators = 200, learning_rate = 0.1\n",
    "                                      ,min_samples_split = 220\n",
    "                                      ,min_samples_leaf = 50\n",
    "                                      ,max_depth = 6\n",
    "                                      ,max_features = 'sqrt'\n",
    "                                      ,subsample = 0.8\n",
    "                                      , random_state = 42\n",
    "                                     )"
   ]
  },
  {
   "cell_type": "code",
   "execution_count": 65,
   "metadata": {},
   "outputs": [
    {
     "name": "stdout",
     "output_type": "stream",
     "text": [
      "\n",
      "Model Report\n",
      "Recall (Train) : 0.718\n",
      "AUC Score (Train): 0.831860\n",
      "CV Score : Mean - 0.7768162 | Std - 0.004703998 | Min - 0.7700476 | Max - 0.7831705\n"
     ]
    }
   ],
   "source": [
    "modelfit(model_gb_2, X_train,y_train, performCV=True, printFeatureImportance=False, cv_folds=5);"
   ]
  },
  {
   "cell_type": "code",
   "execution_count": null,
   "metadata": {},
   "outputs": [],
   "source": []
  },
  {
   "cell_type": "markdown",
   "metadata": {},
   "source": [
    "### Grid Search 1"
   ]
  },
  {
   "cell_type": "code",
   "execution_count": null,
   "metadata": {},
   "outputs": [],
   "source": [
    "gb_model_params = {\n",
    "    'n_estimators': [200,400,600], # how many estimators is helpful?\n",
    "    'learning_rate': [0.1, 0.05, 0.02],\n",
    "    'max_features': ['sqrt', 0.25,.50], # how many features? \n",
    "\n",
    "#     'max_features': ['sqrt', 0.25,.50,None], # how many features? \n",
    "#     'min_samples_split': [1,5, 10, 50],        \n",
    "#     'min_samples_leaf': [1,5, 10, 50],\n",
    "#    'max_depth': [3, 6, None],    \n",
    "    'random_state': [42]}"
   ]
  },
  {
   "cell_type": "code",
   "execution_count": null,
   "metadata": {},
   "outputs": [],
   "source": [
    "gb_model = GradientBoostingClassifier()\n"
   ]
  },
  {
   "cell_type": "code",
   "execution_count": null,
   "metadata": {},
   "outputs": [],
   "source": [
    "clf = GridSearchCV(gb_model, gb_model_params, cv=3,n_jobs = -1 , verbose = True)\n"
   ]
  },
  {
   "cell_type": "code",
   "execution_count": null,
   "metadata": {},
   "outputs": [],
   "source": [
    "model = clf.fit(X_train, y_train)"
   ]
  },
  {
   "cell_type": "code",
   "execution_count": null,
   "metadata": {},
   "outputs": [],
   "source": [
    "pprint(model.best_estimator_.get_params())"
   ]
  },
  {
   "cell_type": "code",
   "execution_count": null,
   "metadata": {},
   "outputs": [],
   "source": []
  },
  {
   "cell_type": "code",
   "execution_count": 66,
   "metadata": {},
   "outputs": [],
   "source": [
    "model_gb_3 = GradientBoostingClassifier(n_estimators = 400, learning_rate = 0.1\n",
    "                                      ,min_samples_split = 2\n",
    "                                      ,min_samples_leaf = 1\n",
    "                                      ,max_depth = 3\n",
    "                                      ,max_features = 'sqrt'\n",
    "                                      ,subsample = 1\n",
    "                                      , random_state = 42\n",
    "                                     )"
   ]
  },
  {
   "cell_type": "code",
   "execution_count": 67,
   "metadata": {},
   "outputs": [
    {
     "name": "stdout",
     "output_type": "stream",
     "text": [
      "\n",
      "Model Report\n",
      "Recall (Train) : 0.6967\n",
      "AUC Score (Train): 0.811685\n",
      "CV Score : Mean - 0.7767878 | Std - 0.001504218 | Min - 0.7748002 | Max - 0.7793014\n"
     ]
    }
   ],
   "source": [
    "modelfit(model_gb_3, X_train,y_train, performCV=True, printFeatureImportance=False, cv_folds=5);"
   ]
  },
  {
   "cell_type": "code",
   "execution_count": null,
   "metadata": {},
   "outputs": [],
   "source": []
  },
  {
   "cell_type": "markdown",
   "metadata": {},
   "source": [
    "### Grid Search 2"
   ]
  },
  {
   "cell_type": "code",
   "execution_count": null,
   "metadata": {},
   "outputs": [],
   "source": [
    "gb_model_params = {\n",
    "    'n_estimators': [400], # how many estimators is helpful?\n",
    "    'learning_rate': [0.1, .2],\n",
    "    'max_features': ['sqrt'], # how many features? \n",
    "\n",
    "\n",
    "    'min_samples_split': [5, 10, 50,100],        \n",
    "    'min_samples_leaf': [5, 10, 50,100],\n",
    "    'max_depth': [3, 6, 9, None],    \n",
    "    'random_state': [42]}"
   ]
  },
  {
   "cell_type": "code",
   "execution_count": null,
   "metadata": {},
   "outputs": [],
   "source": [
    "clf = GridSearchCV(gb_model, gb_model_params, cv=3,n_jobs = -1 , verbose = True)\n"
   ]
  },
  {
   "cell_type": "code",
   "execution_count": null,
   "metadata": {},
   "outputs": [],
   "source": [
    "model = clf.fit(X_train, y_train)"
   ]
  },
  {
   "cell_type": "code",
   "execution_count": null,
   "metadata": {},
   "outputs": [],
   "source": [
    "pprint(model.best_estimator_.get_params())"
   ]
  },
  {
   "cell_type": "code",
   "execution_count": 68,
   "metadata": {},
   "outputs": [],
   "source": [
    "model_gb_4 = GradientBoostingClassifier(n_estimators = 400, learning_rate = 0.2\n",
    "                                      ,min_samples_split = 5\n",
    "                                      ,min_samples_leaf = 100\n",
    "                                      ,max_depth = 3\n",
    "                                      ,max_features = 'sqrt'\n",
    "                                      ,subsample = 1\n",
    "                                      , random_state = 42\n",
    "                                     )"
   ]
  },
  {
   "cell_type": "code",
   "execution_count": 69,
   "metadata": {},
   "outputs": [
    {
     "name": "stdout",
     "output_type": "stream",
     "text": [
      "\n",
      "Model Report\n",
      "Recall (Train) : 0.7058\n",
      "AUC Score (Train): 0.815624\n",
      "CV Score : Mean - 0.7772973 | Std - 0.001933914 | Min - 0.7744788 | Max - 0.779916\n"
     ]
    }
   ],
   "source": [
    "modelfit(model_gb_4, X_train,y_train, performCV=True, printFeatureImportance=False, cv_folds=5);"
   ]
  },
  {
   "cell_type": "code",
   "execution_count": 70,
   "metadata": {},
   "outputs": [
    {
     "name": "stdout",
     "output_type": "stream",
     "text": [
      "\n",
      "Model Report\n",
      "Recall (Train) : 0.5989\n",
      "AUC Score (Train): 0.698424\n",
      "CV Score : Mean - 0.6611199 | Std - 0.003567253 | Min - 0.6548049 | Max - 0.6654699\n"
     ]
    }
   ],
   "source": [
    "modelfit(model_gb_4, X_train[logit_cols_4],y_train, performCV=True, printFeatureImportance=False, cv_folds=5);"
   ]
  },
  {
   "cell_type": "code",
   "execution_count": 71,
   "metadata": {},
   "outputs": [],
   "source": [
    "model_gb_5 = GradientBoostingClassifier(n_estimators = 500, learning_rate = 0.15\n",
    "                                      ,min_samples_split = 5\n",
    "                                      ,min_samples_leaf = 50\n",
    "                                      ,max_depth = 4\n",
    "                                      ,max_features = 'sqrt'\n",
    "                                      ,subsample = 1\n",
    "                                      , random_state = 42\n",
    "                                     )"
   ]
  },
  {
   "cell_type": "code",
   "execution_count": 72,
   "metadata": {},
   "outputs": [
    {
     "name": "stdout",
     "output_type": "stream",
     "text": [
      "\n",
      "Model Report\n",
      "Recall (Train) : 0.7322\n",
      "AUC Score (Train): 0.844271\n",
      "CV Score : Mean - 0.7750712 | Std - 0.001458705 | Min - 0.7736504 | Max - 0.7771046\n"
     ]
    }
   ],
   "source": [
    "modelfit(model_gb_5, X_train,y_train, performCV=True, printFeatureImportance=False, cv_folds=5);"
   ]
  },
  {
   "cell_type": "markdown",
   "metadata": {},
   "source": [
    "### Get Scores of Optimized Models"
   ]
  },
  {
   "cell_type": "code",
   "execution_count": 73,
   "metadata": {},
   "outputs": [
    {
     "name": "stderr",
     "output_type": "stream",
     "text": [
      "/Users/jaimeadybuncio/opt/anaconda3/lib/python3.7/site-packages/sklearn/linear_model/logistic.py:432: FutureWarning: Default solver will be changed to 'lbfgs' in 0.22. Specify a solver to silence this warning.\n",
      "  FutureWarning)\n"
     ]
    },
    {
     "data": {
      "image/png": "[encoded data removed]",
      "text/plain": [
       "<Figure size 432x288 with 1 Axes>"
      ]
     },
     "metadata": {},
     "output_type": "display_data"
    },
    {
     "data": {
      "text/plain": [
       "'Train Accuracy: 0.68. Test Accuracy: 0.68. Precision: 0.68. Recall: 0.65. AUC: 0.74'"
      ]
     },
     "execution_count": 73,
     "metadata": {},
     "output_type": "execute_result"
    }
   ],
   "source": [
    "get_scores(LogisticRegression, X_train_l, X_test_l, y_train_l, y_test_l, color = 'orange')"
   ]
  },
  {
   "cell_type": "code",
   "execution_count": 75,
   "metadata": {},
   "outputs": [
    {
     "data": {
      "image/png": "[encoded data removed]",
      "text/plain": [
       "<Figure size 432x288 with 1 Axes>"
      ]
     },
     "metadata": {},
     "output_type": "display_data"
    },
    {
     "data": {
      "text/plain": [
       "'Train Accuracy: 0.79. Test Accuracy: 0.69. OOB: 0.70. Precision: 0.70. Recall: 0.63. AUC: 0.76'"
      ]
     },
     "execution_count": 75,
     "metadata": {},
     "output_type": "execute_result"
    }
   ],
   "source": [
    "get_scores(RandomForestClassifier, X_train, X_test, y_train, y_test, color = 'red', criterion = 'gini', n_estimators = 500, max_features = 0.25, \n",
    "                                    bootstrap = True,min_samples_leaf= 5, oob_score = True,\n",
    "                                    min_samples_split= 50, random_state = 42, n_jobs = -1)"
   ]
  },
  {
   "cell_type": "code",
   "execution_count": 76,
   "metadata": {},
   "outputs": [
    {
     "data": {
      "image/png": "[encoded data removed]",
      "text/plain": [
       "<Figure size 432x288 with 1 Axes>"
      ]
     },
     "metadata": {},
     "output_type": "display_data"
    },
    {
     "data": {
      "text/plain": [
       "'Train Accuracy: 0.73. Test Accuracy: 0.71. Precision: 0.71. Recall: 0.68. AUC: 0.77'"
      ]
     },
     "execution_count": 76,
     "metadata": {},
     "output_type": "execute_result"
    }
   ],
   "source": [
    "get_scores(GradientBoostingClassifier, X_train, X_test, y_train, y_test, color = 'navy', n_estimators = 400, learning_rate = 0.2\n",
    "                                      ,min_samples_split = 5\n",
    "                                      ,min_samples_leaf = 100\n",
    "                                      ,max_depth = 3\n",
    "                                      ,max_features = 'sqrt'\n",
    "                                      ,subsample = 1\n",
    "                                      , random_state = 42)"
   ]
  },
  {
   "cell_type": "code",
   "execution_count": 77,
   "metadata": {},
   "outputs": [
    {
     "data": {
      "image/png": "[encoded data removed]",
      "text/plain": [
       "<Figure size 432x288 with 1 Axes>"
      ]
     },
     "metadata": {},
     "output_type": "display_data"
    }
   ],
   "source": [
    "feature_importance(RandomForestClassifier, X_train, X_test, y_train, y_test, color = 'red', criterion = 'gini', n_estimators = 500, max_features = 0.25, \n",
    "                                    bootstrap = True,min_samples_leaf= 5, oob_score = True,\n",
    "                                    min_samples_split= 50, random_state = 42, n_jobs = -1)"
   ]
  },
  {
   "cell_type": "code",
   "execution_count": 79,
   "metadata": {},
   "outputs": [
    {
     "data": {
      "image/png": "[encoded data removed]",
      "text/plain": [
       "<Figure size 432x288 with 1 Axes>"
      ]
     },
     "metadata": {},
     "output_type": "display_data"
    }
   ],
   "source": [
    "feature_importance(GradientBoostingClassifier, X_train, X_test, y_train, y_test, color = 'navy', n_estimators = 400, learning_rate = 0.2\n",
    "                                      ,min_samples_split = 5\n",
    "                                      ,min_samples_leaf = 100\n",
    "                                      ,max_depth = 3\n",
    "                                      ,max_features = 'sqrt'\n",
    "                                      ,subsample = 1\n",
    "                                      , random_state = 42)"
   ]
  },
  {
   "cell_type": "code",
   "execution_count": null,
   "metadata": {},
   "outputs": [],
   "source": []
  },
  {
   "cell_type": "markdown",
   "metadata": {},
   "source": [
    "### Try AdaBoost"
   ]
  },
  {
   "cell_type": "code",
   "execution_count": 110,
   "metadata": {},
   "outputs": [],
   "source": [
    "model_ab = AdaBoostClassifier(n_estimators = 400, learning_rate = 0.2\n",
    "                           \n",
    "                                    , random_state = 42\n",
    "                                     )"
   ]
  },
  {
   "cell_type": "code",
   "execution_count": 111,
   "metadata": {},
   "outputs": [
    {
     "name": "stdout",
     "output_type": "stream",
     "text": [
      "\n",
      "Model Report\n",
      "Recall (Train) : 0.6716\n",
      "AUC Score (Train): 0.778214\n",
      "CV Score : Mean - 0.7682453 | Std - 0.002641595 | Min - 0.7646309 | Max - 0.7713766\n"
     ]
    }
   ],
   "source": [
    "modelfit(model_ab, X_train,y_train, performCV=True, printFeatureImportance=False, cv_folds=5);"
   ]
  },
  {
   "cell_type": "code",
   "execution_count": null,
   "metadata": {},
   "outputs": [],
   "source": []
  },
  {
   "cell_type": "code",
   "execution_count": 112,
   "metadata": {},
   "outputs": [],
   "source": [
    "model_ab_2 = AdaBoostClassifier(n_estimators = 1000, learning_rate = 0.05\n",
    "                           \n",
    "                                    , random_state = 42\n",
    "                                     )"
   ]
  },
  {
   "cell_type": "code",
   "execution_count": 113,
   "metadata": {},
   "outputs": [
    {
     "name": "stdout",
     "output_type": "stream",
     "text": [
      "\n",
      "Model Report\n",
      "Recall (Train) : 0.6617\n",
      "AUC Score (Train): 0.771916\n",
      "CV Score : Mean - 0.7648128 | Std - 0.003071266 | Min - 0.7600637 | Max - 0.7676957\n"
     ]
    }
   ],
   "source": [
    "modelfit(model_ab_2, X_train,y_train, performCV=True, printFeatureImportance=False, cv_folds=5);"
   ]
  },
  {
   "cell_type": "code",
   "execution_count": null,
   "metadata": {},
   "outputs": [],
   "source": []
  },
  {
   "cell_type": "markdown",
   "metadata": {},
   "source": [
    "## Plot Models together"
   ]
  },
  {
   "cell_type": "code",
   "execution_count": 123,
   "metadata": {},
   "outputs": [],
   "source": [
    "y_probas = model_l.predict_proba(X_test_l)\n",
    "fpr_lr, tpr_lr, thresholds = roc_curve(y_test_l, y_probas[:,1]) #take probas of positive class\n",
    "roc_auc_lr = auc(fpr_lr, tpr_lr)"
   ]
  },
  {
   "cell_type": "code",
   "execution_count": 124,
   "metadata": {},
   "outputs": [],
   "source": [
    "y_probas = model_rf_5.predict_proba(X_test)\n",
    "fpr_rf, tpr_rf, thresholds = roc_curve(y_test, y_probas[:,1]) #take probas of positive class\n",
    "roc_auc_rf = auc(fpr_rf, tpr_rf)"
   ]
  },
  {
   "cell_type": "code",
   "execution_count": 137,
   "metadata": {},
   "outputs": [],
   "source": [
    "y_probas = model_gb_4.predict_proba(X_test)\n",
    "fpr_gb, tpr_gb, thresholds = roc_curve(y_test, y_probas[:,1]) #take probas of positive class\n",
    "roc_auc_gb = auc(fpr_gb, tpr_gb)"
   ]
  },
  {
   "cell_type": "code",
   "execution_count": 126,
   "metadata": {},
   "outputs": [],
   "source": [
    "y_probas = model_ab.predict_proba(X_test)\n",
    "fpr_ab, tpr_ab, thresholds = roc_curve(y_test, y_probas[:,1]) #take probas of positive class\n",
    "roc_auc_ab = auc(fpr_ab, tpr_ab)"
   ]
  },
  {
   "cell_type": "code",
   "execution_count": 133,
   "metadata": {},
   "outputs": [],
   "source": [
    "y_probas = model_gb_4.predict_proba(X_test[logit_cols_4])\n",
    "fpr_gb_2, tpr_gb_2, thresholds = roc_curve(y_test, y_probas[:,1]) #take probas of positive class\n",
    "roc_auc_gb_2 = auc(fpr_gb_2, tpr_gb_2)"
   ]
  },
  {
   "cell_type": "code",
   "execution_count": 148,
   "metadata": {},
   "outputs": [
    {
     "data": {
      "image/png": "[encoded data removed]",
      "text/plain": [
       "<Figure size 1080x576 with 1 Axes>"
      ]
     },
     "metadata": {},
     "output_type": "display_data"
    }
   ],
   "source": [
    "lw = 2\n",
    "plt.subplots(figsize=(15,8))\n",
    "plt.plot(fpr_gb_2, tpr_gb_2, color='lightblue',\n",
    "         lw=lw, label='Gradient Boost w/o Click Cols (area = %0.2f)' % roc_auc_gb_2)\n",
    "\n",
    "plt.plot(fpr_lr, tpr_lr, color='yellow',\n",
    "         lw=lw, label='Logistic Regression (area = %0.2f)' % roc_auc_lr)\n",
    "plt.plot(fpr_ab, tpr_ab, color='darkorange',\n",
    "         lw=lw, label='AdaBoost (area = %0.2f)' % roc_auc_ab)\n",
    "plt.plot(fpr_rf, tpr_rf, color='darkred',\n",
    "         lw=lw, label='Random Forest (area = %0.2f)' % roc_auc_rf)\n",
    "plt.plot(fpr_gb, tpr_gb, color='darkblue',\n",
    "         lw=lw, label='Gradient Boost (area = %0.2f)' % roc_auc_gb)\n",
    "\n",
    "\n",
    "plt.plot([0, 1], [0, 1], color='navy', lw=lw, linestyle='--')\n",
    "plt.xlim([0.0, 1.0])\n",
    "plt.ylim([0.0, 1.05])\n",
    "plt.xlabel('False Positive Rate')\n",
    "plt.ylabel('True Positive Rate')\n",
    "plt.title('ROC-AUC')\n",
    "plt.legend(loc=\"lower right\")\n",
    "plt.show()"
   ]
  },
  {
   "cell_type": "code",
   "execution_count": null,
   "metadata": {},
   "outputs": [],
   "source": []
  },
  {
   "cell_type": "markdown",
   "metadata": {},
   "source": [
    "### Find Optimal Threshold for best model"
   ]
  },
  {
   "cell_type": "code",
   "execution_count": null,
   "metadata": {},
   "outputs": [],
   "source": [
    "model_gb_4 = GradientBoostingClassifier(n_estimators = 400, learning_rate = 0.2\n",
    "                                      ,min_samples_split = 5\n",
    "                                      ,min_samples_leaf = 100\n",
    "                                      ,max_depth = 3\n",
    "                                      ,max_features = 'sqrt'\n",
    "                                      ,subsample = 1\n",
    "                                      , random_state = 42\n",
    "                                     )"
   ]
  },
  {
   "cell_type": "code",
   "execution_count": null,
   "metadata": {},
   "outputs": [],
   "source": [
    "model_gb_4.fit(X_train, y_train)"
   ]
  },
  {
   "cell_type": "code",
   "execution_count": null,
   "metadata": {},
   "outputs": [],
   "source": [
    "y_probas = model_gb_4.predict_proba(X_test)\n",
    "fpr, tpr, thresholds = roc_curve(y_test, y_probas[:,1]) #take probas of positive class"
   ]
  },
  {
   "cell_type": "code",
   "execution_count": null,
   "metadata": {},
   "outputs": [],
   "source": []
  },
  {
   "cell_type": "code",
   "execution_count": 90,
   "metadata": {},
   "outputs": [
    {
     "data": {
      "text/plain": [
       "array([0.00000000e+00, 2.74423710e-04, 7.57409440e-02, ...,\n",
       "       9.99725576e-01, 1.00000000e+00, 1.00000000e+00])"
      ]
     },
     "execution_count": 90,
     "metadata": {},
     "output_type": "execute_result"
    }
   ],
   "source": [
    "tpr"
   ]
  },
  {
   "cell_type": "code",
   "execution_count": 92,
   "metadata": {},
   "outputs": [
    {
     "data": {
      "text/plain": [
       "(array([1851, 1852, 1853, ..., 2901, 2902, 2903]),)"
      ]
     },
     "execution_count": 92,
     "metadata": {},
     "output_type": "execute_result"
    }
   ],
   "source": [
    "np.where(tpr>=.80)"
   ]
  },
  {
   "cell_type": "code",
   "execution_count": 93,
   "metadata": {},
   "outputs": [
    {
     "data": {
      "text/plain": [
       "0.3918839011389137"
      ]
     },
     "execution_count": 93,
     "metadata": {},
     "output_type": "execute_result"
    }
   ],
   "source": [
    "thresholds[1851]"
   ]
  },
  {
   "cell_type": "code",
   "execution_count": 95,
   "metadata": {},
   "outputs": [
    {
     "data": {
      "text/plain": [
       "0.4192959582790091"
      ]
     },
     "execution_count": 95,
     "metadata": {},
     "output_type": "execute_result"
    }
   ],
   "source": [
    "fpr[1851]"
   ]
  },
  {
   "cell_type": "code",
   "execution_count": 96,
   "metadata": {},
   "outputs": [
    {
     "data": {
      "text/plain": [
       "0.8007683863885839"
      ]
     },
     "execution_count": 96,
     "metadata": {},
     "output_type": "execute_result"
    }
   ],
   "source": [
    "tpr[1851]"
   ]
  },
  {
   "cell_type": "code",
   "execution_count": 99,
   "metadata": {},
   "outputs": [
    {
     "data": {
      "text/plain": [
       "(array([2349, 2350, 2351, 2352, 2353, 2354, 2355, 2356, 2357, 2358, 2359,\n",
       "        2360, 2361, 2362, 2363, 2364, 2365, 2366, 2367, 2368, 2369, 2370,\n",
       "        2371, 2372, 2373, 2374, 2375, 2376, 2377, 2378, 2379, 2380, 2381,\n",
       "        2382, 2383, 2384, 2385, 2386, 2387, 2388, 2389, 2390, 2391, 2392,\n",
       "        2393, 2394, 2395, 2396, 2397, 2398, 2399, 2400, 2401, 2402, 2403,\n",
       "        2404, 2405, 2406, 2407, 2408, 2409, 2410, 2411, 2412, 2413, 2414,\n",
       "        2415, 2416, 2417, 2418, 2419, 2420, 2421, 2422, 2423, 2424, 2425,\n",
       "        2426, 2427, 2428, 2429, 2430, 2431, 2432, 2433, 2434, 2435, 2436,\n",
       "        2437, 2438, 2439, 2440, 2441, 2442, 2443, 2444, 2445, 2446, 2447,\n",
       "        2448, 2449, 2450, 2451, 2452, 2453, 2454, 2455, 2456, 2457, 2458,\n",
       "        2459, 2460, 2461, 2462, 2463, 2464, 2465, 2466, 2467, 2468, 2469,\n",
       "        2470, 2471, 2472, 2473, 2474, 2475, 2476, 2477, 2478, 2479, 2480,\n",
       "        2481, 2482, 2483, 2484, 2485, 2486, 2487, 2488, 2489, 2490, 2491,\n",
       "        2492, 2493, 2494, 2495, 2496, 2497, 2498, 2499, 2500, 2501, 2502,\n",
       "        2503, 2504, 2505, 2506, 2507, 2508, 2509, 2510, 2511, 2512, 2513,\n",
       "        2514, 2515, 2516, 2517, 2518, 2519, 2520, 2521, 2522, 2523, 2524,\n",
       "        2525, 2526, 2527, 2528, 2529, 2530, 2531, 2532, 2533, 2534, 2535,\n",
       "        2536, 2537, 2538, 2539, 2540, 2541, 2542, 2543, 2544, 2545, 2546,\n",
       "        2547, 2548, 2549, 2550, 2551, 2552, 2553, 2554, 2555, 2556, 2557,\n",
       "        2558, 2559, 2560, 2561, 2562, 2563, 2564, 2565, 2566, 2567, 2568,\n",
       "        2569, 2570, 2571, 2572, 2573, 2574, 2575, 2576, 2577, 2578, 2579,\n",
       "        2580, 2581, 2582, 2583, 2584, 2585, 2586, 2587, 2588, 2589, 2590,\n",
       "        2591, 2592, 2593, 2594, 2595, 2596, 2597, 2598, 2599, 2600, 2601,\n",
       "        2602, 2603, 2604, 2605, 2606, 2607, 2608, 2609, 2610, 2611, 2612,\n",
       "        2613, 2614, 2615, 2616, 2617, 2618, 2619, 2620, 2621, 2622, 2623,\n",
       "        2624, 2625, 2626, 2627, 2628, 2629, 2630, 2631, 2632, 2633, 2634,\n",
       "        2635, 2636, 2637, 2638, 2639, 2640, 2641, 2642, 2643, 2644, 2645,\n",
       "        2646, 2647, 2648, 2649, 2650, 2651, 2652, 2653, 2654, 2655, 2656,\n",
       "        2657, 2658, 2659, 2660, 2661, 2662, 2663, 2664, 2665, 2666, 2667,\n",
       "        2668, 2669, 2670, 2671, 2672, 2673, 2674, 2675, 2676, 2677, 2678,\n",
       "        2679, 2680, 2681, 2682, 2683, 2684, 2685, 2686, 2687, 2688, 2689,\n",
       "        2690, 2691, 2692, 2693, 2694, 2695, 2696, 2697, 2698, 2699, 2700,\n",
       "        2701, 2702, 2703, 2704, 2705, 2706, 2707, 2708, 2709, 2710, 2711,\n",
       "        2712, 2713, 2714, 2715, 2716, 2717, 2718, 2719, 2720, 2721, 2722,\n",
       "        2723, 2724, 2725, 2726, 2727, 2728, 2729, 2730, 2731, 2732, 2733,\n",
       "        2734, 2735, 2736, 2737, 2738, 2739, 2740, 2741, 2742, 2743, 2744,\n",
       "        2745, 2746, 2747, 2748, 2749, 2750, 2751, 2752, 2753, 2754, 2755,\n",
       "        2756, 2757, 2758, 2759, 2760, 2761, 2762, 2763, 2764, 2765, 2766,\n",
       "        2767, 2768, 2769, 2770, 2771, 2772, 2773, 2774, 2775, 2776, 2777,\n",
       "        2778, 2779, 2780, 2781, 2782, 2783, 2784, 2785, 2786, 2787, 2788,\n",
       "        2789, 2790, 2791, 2792, 2793, 2794, 2795, 2796, 2797, 2798, 2799,\n",
       "        2800, 2801, 2802, 2803, 2804, 2805, 2806, 2807, 2808, 2809, 2810,\n",
       "        2811, 2812, 2813, 2814, 2815, 2816, 2817, 2818, 2819, 2820, 2821,\n",
       "        2822, 2823, 2824, 2825, 2826, 2827, 2828, 2829, 2830, 2831, 2832,\n",
       "        2833, 2834, 2835, 2836, 2837, 2838, 2839, 2840, 2841, 2842, 2843,\n",
       "        2844, 2845, 2846, 2847, 2848, 2849, 2850, 2851, 2852, 2853, 2854,\n",
       "        2855, 2856, 2857, 2858, 2859, 2860, 2861, 2862, 2863, 2864, 2865,\n",
       "        2866, 2867, 2868, 2869, 2870, 2871, 2872, 2873, 2874, 2875, 2876,\n",
       "        2877, 2878, 2879, 2880, 2881, 2882, 2883, 2884, 2885, 2886, 2887,\n",
       "        2888, 2889, 2890, 2891, 2892, 2893, 2894, 2895, 2896, 2897, 2898,\n",
       "        2899, 2900, 2901, 2902, 2903]),)"
      ]
     },
     "execution_count": 99,
     "metadata": {},
     "output_type": "execute_result"
    }
   ],
   "source": [
    "np.where(tpr>=.90)"
   ]
  },
  {
   "cell_type": "code",
   "execution_count": 100,
   "metadata": {},
   "outputs": [
    {
     "data": {
      "text/plain": [
       "0.27949511057057635"
      ]
     },
     "execution_count": 100,
     "metadata": {},
     "output_type": "execute_result"
    }
   ],
   "source": [
    "thresholds[2349]"
   ]
  },
  {
   "cell_type": "code",
   "execution_count": 101,
   "metadata": {},
   "outputs": [
    {
     "data": {
      "text/plain": [
       "(0.9006586169045006, 0.6086049543676663)"
      ]
     },
     "execution_count": 101,
     "metadata": {},
     "output_type": "execute_result"
    }
   ],
   "source": [
    "tpr[2349], fpr[2349]"
   ]
  },
  {
   "cell_type": "code",
   "execution_count": 102,
   "metadata": {},
   "outputs": [
    {
     "data": {
      "text/plain": [
       "(array([2092, 2093, 2094, 2095, 2096, 2097, 2098, 2099, 2100, 2101, 2102,\n",
       "        2103, 2104, 2105, 2106, 2107, 2108, 2109, 2110, 2111, 2112, 2113,\n",
       "        2114, 2115, 2116, 2117, 2118, 2119, 2120, 2121, 2122, 2123, 2124,\n",
       "        2125, 2126, 2127, 2128, 2129, 2130, 2131, 2132, 2133, 2134, 2135,\n",
       "        2136, 2137, 2138, 2139, 2140, 2141, 2142, 2143, 2144, 2145, 2146,\n",
       "        2147, 2148, 2149, 2150, 2151, 2152, 2153, 2154, 2155, 2156, 2157,\n",
       "        2158, 2159, 2160, 2161, 2162, 2163, 2164, 2165, 2166, 2167, 2168,\n",
       "        2169, 2170, 2171, 2172, 2173, 2174, 2175, 2176, 2177, 2178, 2179,\n",
       "        2180, 2181, 2182, 2183, 2184, 2185, 2186, 2187, 2188, 2189, 2190,\n",
       "        2191, 2192, 2193, 2194, 2195, 2196, 2197, 2198, 2199, 2200, 2201,\n",
       "        2202, 2203, 2204, 2205, 2206, 2207, 2208, 2209, 2210, 2211, 2212,\n",
       "        2213, 2214, 2215, 2216, 2217, 2218, 2219, 2220, 2221, 2222, 2223,\n",
       "        2224, 2225, 2226, 2227, 2228, 2229, 2230, 2231, 2232, 2233, 2234,\n",
       "        2235, 2236, 2237, 2238, 2239, 2240, 2241, 2242, 2243, 2244, 2245,\n",
       "        2246, 2247, 2248, 2249, 2250, 2251, 2252, 2253, 2254, 2255, 2256,\n",
       "        2257, 2258, 2259, 2260, 2261, 2262, 2263, 2264, 2265, 2266, 2267,\n",
       "        2268, 2269, 2270, 2271, 2272, 2273, 2274, 2275, 2276, 2277, 2278,\n",
       "        2279, 2280, 2281, 2282, 2283, 2284, 2285, 2286, 2287, 2288, 2289,\n",
       "        2290, 2291, 2292, 2293, 2294, 2295, 2296, 2297, 2298, 2299, 2300,\n",
       "        2301, 2302, 2303, 2304, 2305, 2306, 2307, 2308, 2309, 2310, 2311,\n",
       "        2312, 2313, 2314, 2315, 2316, 2317, 2318, 2319, 2320, 2321, 2322,\n",
       "        2323, 2324, 2325, 2326, 2327, 2328, 2329, 2330, 2331, 2332, 2333,\n",
       "        2334, 2335, 2336, 2337, 2338, 2339, 2340, 2341, 2342, 2343, 2344,\n",
       "        2345, 2346, 2347, 2348, 2349, 2350, 2351, 2352, 2353, 2354, 2355,\n",
       "        2356, 2357, 2358, 2359, 2360, 2361, 2362, 2363, 2364, 2365, 2366,\n",
       "        2367, 2368, 2369, 2370, 2371, 2372, 2373, 2374, 2375, 2376, 2377,\n",
       "        2378, 2379, 2380, 2381, 2382, 2383, 2384, 2385, 2386, 2387, 2388,\n",
       "        2389, 2390, 2391, 2392, 2393, 2394, 2395, 2396, 2397, 2398, 2399,\n",
       "        2400, 2401, 2402, 2403, 2404, 2405, 2406, 2407, 2408, 2409, 2410,\n",
       "        2411, 2412, 2413, 2414, 2415, 2416, 2417, 2418, 2419, 2420, 2421,\n",
       "        2422, 2423, 2424, 2425, 2426, 2427, 2428, 2429, 2430, 2431, 2432,\n",
       "        2433, 2434, 2435, 2436, 2437, 2438, 2439, 2440, 2441, 2442, 2443,\n",
       "        2444, 2445, 2446, 2447, 2448, 2449, 2450, 2451, 2452, 2453, 2454,\n",
       "        2455, 2456, 2457, 2458, 2459, 2460, 2461, 2462, 2463, 2464, 2465,\n",
       "        2466, 2467, 2468, 2469, 2470, 2471, 2472, 2473, 2474, 2475, 2476,\n",
       "        2477, 2478, 2479, 2480, 2481, 2482, 2483, 2484, 2485, 2486, 2487,\n",
       "        2488, 2489, 2490, 2491, 2492, 2493, 2494, 2495, 2496, 2497, 2498,\n",
       "        2499, 2500, 2501, 2502, 2503, 2504, 2505, 2506, 2507, 2508, 2509,\n",
       "        2510, 2511, 2512, 2513, 2514, 2515, 2516, 2517, 2518, 2519, 2520,\n",
       "        2521, 2522, 2523, 2524, 2525, 2526, 2527, 2528, 2529, 2530, 2531,\n",
       "        2532, 2533, 2534, 2535, 2536, 2537, 2538, 2539, 2540, 2541, 2542,\n",
       "        2543, 2544, 2545, 2546, 2547, 2548, 2549, 2550, 2551, 2552, 2553,\n",
       "        2554, 2555, 2556, 2557, 2558, 2559, 2560, 2561, 2562, 2563, 2564,\n",
       "        2565, 2566, 2567, 2568, 2569, 2570, 2571, 2572, 2573, 2574, 2575,\n",
       "        2576, 2577, 2578, 2579, 2580, 2581, 2582, 2583, 2584, 2585, 2586,\n",
       "        2587, 2588, 2589, 2590, 2591, 2592, 2593, 2594, 2595, 2596, 2597,\n",
       "        2598, 2599, 2600, 2601, 2602, 2603, 2604, 2605, 2606, 2607, 2608,\n",
       "        2609, 2610, 2611, 2612, 2613, 2614, 2615, 2616, 2617, 2618, 2619,\n",
       "        2620, 2621, 2622, 2623, 2624, 2625, 2626, 2627, 2628, 2629, 2630,\n",
       "        2631, 2632, 2633, 2634, 2635, 2636, 2637, 2638, 2639, 2640, 2641,\n",
       "        2642, 2643, 2644, 2645, 2646, 2647, 2648, 2649, 2650, 2651, 2652,\n",
       "        2653, 2654, 2655, 2656, 2657, 2658, 2659, 2660, 2661, 2662, 2663,\n",
       "        2664, 2665, 2666, 2667, 2668, 2669, 2670, 2671, 2672, 2673, 2674,\n",
       "        2675, 2676, 2677, 2678, 2679, 2680, 2681, 2682, 2683, 2684, 2685,\n",
       "        2686, 2687, 2688, 2689, 2690, 2691, 2692, 2693, 2694, 2695, 2696,\n",
       "        2697, 2698, 2699, 2700, 2701, 2702, 2703, 2704, 2705, 2706, 2707,\n",
       "        2708, 2709, 2710, 2711, 2712, 2713, 2714, 2715, 2716, 2717, 2718,\n",
       "        2719, 2720, 2721, 2722, 2723, 2724, 2725, 2726, 2727, 2728, 2729,\n",
       "        2730, 2731, 2732, 2733, 2734, 2735, 2736, 2737, 2738, 2739, 2740,\n",
       "        2741, 2742, 2743, 2744, 2745, 2746, 2747, 2748, 2749, 2750, 2751,\n",
       "        2752, 2753, 2754, 2755, 2756, 2757, 2758, 2759, 2760, 2761, 2762,\n",
       "        2763, 2764, 2765, 2766, 2767, 2768, 2769, 2770, 2771, 2772, 2773,\n",
       "        2774, 2775, 2776, 2777, 2778, 2779, 2780, 2781, 2782, 2783, 2784,\n",
       "        2785, 2786, 2787, 2788, 2789, 2790, 2791, 2792, 2793, 2794, 2795,\n",
       "        2796, 2797, 2798, 2799, 2800, 2801, 2802, 2803, 2804, 2805, 2806,\n",
       "        2807, 2808, 2809, 2810, 2811, 2812, 2813, 2814, 2815, 2816, 2817,\n",
       "        2818, 2819, 2820, 2821, 2822, 2823, 2824, 2825, 2826, 2827, 2828,\n",
       "        2829, 2830, 2831, 2832, 2833, 2834, 2835, 2836, 2837, 2838, 2839,\n",
       "        2840, 2841, 2842, 2843, 2844, 2845, 2846, 2847, 2848, 2849, 2850,\n",
       "        2851, 2852, 2853, 2854, 2855, 2856, 2857, 2858, 2859, 2860, 2861,\n",
       "        2862, 2863, 2864, 2865, 2866, 2867, 2868, 2869, 2870, 2871, 2872,\n",
       "        2873, 2874, 2875, 2876, 2877, 2878, 2879, 2880, 2881, 2882, 2883,\n",
       "        2884, 2885, 2886, 2887, 2888, 2889, 2890, 2891, 2892, 2893, 2894,\n",
       "        2895, 2896, 2897, 2898, 2899, 2900, 2901, 2902, 2903]),)"
      ]
     },
     "execution_count": 102,
     "metadata": {},
     "output_type": "execute_result"
    }
   ],
   "source": [
    "np.where(fpr>=.50)"
   ]
  },
  {
   "cell_type": "code",
   "execution_count": 104,
   "metadata": {},
   "outputs": [
    {
     "data": {
      "text/plain": [
       "(0.343430776956431, 0.8509879253567508, 0.5001303780964798)"
      ]
     },
     "execution_count": 104,
     "metadata": {},
     "output_type": "execute_result"
    }
   ],
   "source": [
    "thresholds[2092],tpr[2092], fpr[2092]"
   ]
  },
  {
   "cell_type": "code",
   "execution_count": null,
   "metadata": {},
   "outputs": [],
   "source": []
  }
 ],
 "metadata": {
  "kernelspec": {
   "display_name": "Python 3",
   "language": "python",
   "name": "python3"
  },
  "language_info": {
   "codemirror_mode": {
    "name": "ipython",
    "version": 3
   },
   "file_extension": ".py",
   "mimetype": "text/x-python",
   "name": "python",
   "nbconvert_exporter": "python",
   "pygments_lexer": "ipython3",
   "version": "3.7.4"
  }
 },
 "nbformat": 4,
 "nbformat_minor": 2
}
